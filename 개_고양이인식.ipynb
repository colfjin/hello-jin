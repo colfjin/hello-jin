{
 "cells": [
  {
   "cell_type": "markdown",
   "id": "tough-photography",
   "metadata": {},
   "source": [
    "데이터 구성\n",
    "\n",
    "- 총 25000(개 12500,고양이 12500)개로 구성된 이미지 셋\n",
    "- 칼라이미지, 이미지의 크기는 다름\n",
    "- train,test,validation으로 분리된 파일을 압축"
   ]
  },
  {
   "cell_type": "markdown",
   "id": "controversial-league",
   "metadata": {},
   "source": [
    "압축을 풀어서 해당 폴더에 저장"
   ]
  },
  {
   "cell_type": "code",
   "execution_count": 1,
   "id": "decimal-remainder",
   "metadata": {},
   "outputs": [],
   "source": [
    "import os, os.path, shutil,zipfile"
   ]
  },
  {
   "cell_type": "code",
   "execution_count": 2,
   "id": "frank-bermuda",
   "metadata": {},
   "outputs": [],
   "source": [
    "# 압축 파일명\n",
    "local_zip= \"./data/dogs-vs-cats.zip\"\n",
    "#압축을 풀 파일을 읽어온다\n",
    "zip_ref=zipfile.ZipFile(local_zip,\"r\")\n",
    "#압축을 푼다\n",
    "zip_ref.extractall(\"./data\")\n",
    "zip_ref.close()"
   ]
  },
  {
   "cell_type": "code",
   "execution_count": 3,
   "id": "documentary-briefs",
   "metadata": {},
   "outputs": [],
   "source": [
    "# 압축 파일명\n",
    "local_zip= \"./data/train.zip\"\n",
    "#압축을 풀 파일을 읽어온다\n",
    "zip_ref=zipfile.ZipFile(local_zip,\"r\")\n",
    "#압축을 푼다\n",
    "zip_ref.extractall(\"./data\")\n",
    "zip_ref.close()"
   ]
  },
  {
   "cell_type": "code",
   "execution_count": 4,
   "id": "amino-pension",
   "metadata": {},
   "outputs": [],
   "source": [
    "# 압축 파일명\n",
    "local_zip= \"./data/test1.zip\"\n",
    "#압축을 풀 파일을 읽어온다\n",
    "zip_ref=zipfile.ZipFile(local_zip,\"r\")\n",
    "#압축을 푼다\n",
    "zip_ref.extractall(\"./data\")\n",
    "zip_ref.close()"
   ]
  },
  {
   "cell_type": "markdown",
   "id": "delayed-playing",
   "metadata": {},
   "source": [
    "학습에 사용할 일부 데이터를 새로운 폴더를 생성해서 복사해보자\n",
    "\n",
    "- /data/dogs_and_cats_small : 일부 데이터가 들어갈 메인 폴더\n",
    "- /data/dogs_and_cats_small/train : 훈련 데이터가 들어갈 폴더\n",
    "- /data/dogs_and_cats_small/train/dogs : 훈련 개 데이터가 들어갈 폴더\n",
    "- /data/dogs_and_cats_small/train/cats : 훈련 고양이 데이터가 들어갈 폴더\n",
    "- /data/dogs_and_cats_small/test : 테스트 데이터가 들어갈 폴더\n",
    "- /data/dogs_and_cats_small/test/dogs : 테스트 개 데이터가 들어갈 폴더\n",
    "- /data/dogs_and_cats_small/test/cats : 테스트 고양이 데이터가 들어갈 폴더\n",
    "- /data/dogs_and_cats_small/validation : 검증 데이터가 들어갈 폴더\n",
    "- /data/dogs_and_cats_small/validation/dogs : 검증 개 데이터가 들어갈 폴더\n",
    "- /data/dogs_and_cats_small/validation/cats : 검증 고양이 데이터가 들어갈 폴더"
   ]
  },
  {
   "cell_type": "code",
   "execution_count": 2,
   "id": "cubic-dallas",
   "metadata": {},
   "outputs": [],
   "source": [
    "# 각 폴더를 생성\n",
    "# 원 훈련데이터가 들어있는 폴더\n",
    "original_dataset_dir=\"./data/train\"\n",
    "\n",
    "# 일부 데이터가 들어갈 폴더 생성\n",
    "base_dir=\"./data/dogs_and_cats_small\"\n",
    "\n",
    "if not os.path.exists(base_dir):\n",
    "    os.mkdir(base_dir)\n",
    "# ./data/dogs_and_cats_small/train\n",
    "# 이어지는 폴더를 연결해준다\n",
    "train_dir=os.path.join(base_dir,\"train\")\n",
    "\n",
    "if not os.path.exists(train_dir):\n",
    "    os.mkdir(train_dir)\n",
    "\n",
    "train_dogs_dir=os.path.join(train_dir,\"dogs\")\n",
    "\n",
    "if not os.path.exists(train_dogs_dir):\n",
    "    os.mkdir(train_dogs_dir)\n",
    "    \n",
    "train_cats_dir=os.path.join(train_dir,\"cats\")\n",
    "\n",
    "if not os.path.exists(train_cats_dir):\n",
    "    os.mkdir(train_cats_dir)"
   ]
  },
  {
   "cell_type": "code",
   "execution_count": 3,
   "id": "compressed-people",
   "metadata": {},
   "outputs": [],
   "source": [
    "test_dir=os.path.join(base_dir,\"test\")\n",
    "\n",
    "if not os.path.exists(test_dir):\n",
    "    os.mkdir(test_dir)\n",
    "\n",
    "test_dogs_dir=os.path.join(test_dir,\"dogs\")\n",
    "\n",
    "if not os.path.exists(test_dogs_dir):\n",
    "    os.mkdir(test_dogs_dir)\n",
    "    \n",
    "test_cats_dir=os.path.join(test_dir,\"cats\")\n",
    "\n",
    "if not os.path.exists(test_cats_dir):\n",
    "    os.mkdir(test_cats_dir)"
   ]
  },
  {
   "cell_type": "code",
   "execution_count": 4,
   "id": "indirect-marijuana",
   "metadata": {},
   "outputs": [],
   "source": [
    "validation_dir=os.path.join(base_dir,\"validation\")\n",
    "\n",
    "if not os.path.exists(validation_dir):\n",
    "    os.mkdir(validation_dir)\n",
    "\n",
    "validation_dogs_dir=os.path.join(validation_dir,\"dogs\")\n",
    "\n",
    "if not os.path.exists(validation_dogs_dir):\n",
    "    os.mkdir(validation_dogs_dir)\n",
    "    \n",
    "validation_cats_dir=os.path.join(validation_dir,\"cats\")\n",
    "\n",
    "if not os.path.exists(validation_cats_dir):\n",
    "    os.mkdir(validation_cats_dir)"
   ]
  },
  {
   "cell_type": "markdown",
   "id": "single-plymouth",
   "metadata": {},
   "source": [
    "생성된 폴더로 각각 이미지들을 복사\n",
    "- 훈련 고양이 이미지 폴더 : 1000개\n",
    "- 훈련 개 이미지 폴더 : 1000개\n",
    "- 테스트 고양이 이미지 폴더 : 500개\n",
    "- 테스트 개 이미지 폴더 : 500개\n",
    "- 검증 고양이 이미지 폴더 : 500개\n",
    "- 검증 개 이미지 폴더 : 500개"
   ]
  },
  {
   "cell_type": "code",
   "execution_count": 8,
   "id": "arbitrary-shopper",
   "metadata": {},
   "outputs": [],
   "source": [
    "# 처음부터 1000개의 고양이 이미지 파일을 train_cats_dir폴더로 복사\n",
    "fname=[\"cat.{}.jpg\".format(i) for i in range(1000)]\n",
    "\n",
    "for fname in fname:\n",
    "    #원래 이미지가 있는 폴더와 파일명\n",
    "    src=os.path.join(original_dataset_dir,fname)\n",
    "    #복사할 폴더와 파일명\n",
    "    dst=os.path.join(train_cats_dir,fname)\n",
    "    \n",
    "    shutil.copyfile(src,dst)"
   ]
  },
  {
   "cell_type": "code",
   "execution_count": 9,
   "id": "otherwise-shipping",
   "metadata": {},
   "outputs": [],
   "source": [
    "# 처음부터 1000개의 고양이 이미지 파일을 train_cats_dir폴더로 복사\n",
    "fname=[\"dog.{}.jpg\".format(i) for i in range(1000)]\n",
    "\n",
    "for fname in fname:\n",
    "    #원래 이미지가 있는 폴더와 파일명\n",
    "    src=os.path.join(original_dataset_dir,fname)\n",
    "    #복사할 폴더와 파일명\n",
    "    dst=os.path.join(train_dogs_dir,fname)\n",
    "    \n",
    "    shutil.copyfile(src,dst)"
   ]
  },
  {
   "cell_type": "code",
   "execution_count": 10,
   "id": "packed-reporter",
   "metadata": {},
   "outputs": [],
   "source": [
    "# 500개의 고양이 이미지 파일을 test_cats_dir폴더로 복사\n",
    "fname=[\"cat.{}.jpg\".format(i) for i in range(1000,1500)]\n",
    "\n",
    "for fname in fname:\n",
    "    #원래 이미지가 있는 폴더와 파일명\n",
    "    src=os.path.join(original_dataset_dir,fname)\n",
    "    #복사할 폴더와 파일명\n",
    "    dst=os.path.join(test_cats_dir,fname)\n",
    "    \n",
    "    shutil.copyfile(src,dst)"
   ]
  },
  {
   "cell_type": "code",
   "execution_count": 11,
   "id": "floating-bargain",
   "metadata": {},
   "outputs": [],
   "source": [
    "# 500개의 개 이미지 파일을 test_dogs_dir폴더로 복사\n",
    "\n",
    "fname=[\"dog.{}.jpg\".format(i) for i in range(1000,1500)]\n",
    "\n",
    "for fname in fname:\n",
    "    #원래 이미지가 있는 폴더와 파일명\n",
    "    src=os.path.join(original_dataset_dir,fname)\n",
    "    #복사할 폴더와 파일명\n",
    "    dst=os.path.join(test_dogs_dir,fname)\n",
    "    \n",
    "    shutil.copyfile(src,dst)"
   ]
  },
  {
   "cell_type": "code",
   "execution_count": 12,
   "id": "configured-bridge",
   "metadata": {},
   "outputs": [],
   "source": [
    "validation_dataset_dir=\"./data/test1\"\n",
    "# 검증용 이미지 파일을 validation_cats_dir폴더로 복사\n",
    "fname=[\"{}.jpg\".format(i) for i in range(1,501)]\n",
    "\n",
    "for fname in fname:\n",
    "    #원래 이미지가 있는 폴더와 파일명\n",
    "    src=os.path.join(validation_dataset_dir,fname)\n",
    "    #복사할 폴더와 파일명\n",
    "    dst=os.path.join(validation_cats_dir,fname)\n",
    "    \n",
    "    shutil.copyfile(src,dst)"
   ]
  },
  {
   "cell_type": "code",
   "execution_count": 13,
   "id": "classified-minutes",
   "metadata": {},
   "outputs": [],
   "source": [
    "# 검증용 이미지 파일을 validation_dogs_dir폴더로 복사\n",
    "fname=[\"{}.jpg\".format(i) for i in range(501,1001)]\n",
    "\n",
    "for fname in fname:\n",
    "    #원래 이미지가 있는 폴더와 파일명\n",
    "    src=os.path.join(validation_dataset_dir,fname)\n",
    "    #복사할 폴더와 파일명\n",
    "    dst=os.path.join(validation_dogs_dir,fname)\n",
    "    \n",
    "    shutil.copyfile(src,dst)"
   ]
  },
  {
   "cell_type": "code",
   "execution_count": 14,
   "id": "chicken-collins",
   "metadata": {},
   "outputs": [
    {
     "name": "stdout",
     "output_type": "stream",
     "text": [
      "훈련 개 데이터 수 : 1000\n",
      "훈련 고양이 데이터 수 : 1000\n",
      "테스트 개 데이터 수 : 500\n",
      "테스트 고양이 데이터 수 : 500\n",
      "검증 개 데이터 수 : 500\n",
      "검증 고양이 데이터 수 : 500\n"
     ]
    }
   ],
   "source": [
    "# 복사한 파일 수 확인\n",
    "#listdir() : 해당 폴더에 있는 파일을 가져온다\n",
    "print(\"훈련 개 데이터 수 : {}\".format(len(os.listdir(train_dogs_dir))))\n",
    "print(\"훈련 고양이 데이터 수 : {}\".format(len(os.listdir(train_cats_dir))))\n",
    "print(\"테스트 개 데이터 수 : {}\".format(len(os.listdir(test_dogs_dir))))\n",
    "print(\"테스트 고양이 데이터 수 : {}\".format(len(os.listdir(test_cats_dir))))\n",
    "print(\"검증 개 데이터 수 : {}\".format(len(os.listdir(validation_dogs_dir))))\n",
    "print(\"검증 고양이 데이터 수 : {}\".format(len(os.listdir(validation_cats_dir))))"
   ]
  },
  {
   "cell_type": "markdown",
   "id": "electrical-cabin",
   "metadata": {},
   "source": [
    "이미지 전처리\n",
    "\n",
    "- 이미지를 같은 크기로 만들어 주어야 한다\n",
    "- 0-255 범위의 픽셀값들을 0-1사이 범위의 값으로 변환 -> 분산 감소\n",
    "- 라벨링\n",
    "\n",
    "- ImageDataGenerator()함수를 사용해서 처리\n",
    "    - 이미지 전처리\n",
    "    - 증식\n",
    "    - 이미지를 일부 개수만큼만 반복해서 처리(batch 처리)"
   ]
  },
  {
   "cell_type": "code",
   "execution_count": 23,
   "id": "appropriate-remedy",
   "metadata": {},
   "outputs": [
    {
     "name": "stdout",
     "output_type": "stream",
     "text": [
      "Found 2000 images belonging to 2 classes.\n",
      "Found 1000 images belonging to 2 classes.\n"
     ]
    }
   ],
   "source": [
    "from tensorflow.keras.preprocessing.image import ImageDataGenerator\n",
    "\n",
    "# 픽셀 값을 0-1 사이로 변환\n",
    "train_gen=ImageDataGenerator(rescale=1./255)\n",
    "test_gen=ImageDataGenerator(rescale=1./255)\n",
    "\n",
    "# flow_from_directory() : 디렉토리로부터 이미지를 가져옴\n",
    "# flow_from_directory(폴더명,이미지크기,한번에 변환할 이미지수,라벨링 모드)\n",
    "train_generator=train_gen.flow_from_directory(train_dir,\n",
    "                                              target_size=(150,150),\n",
    "                                             batch_size=20,\n",
    "                                            #지금은 이중분류이므로 binary\n",
    "                                            #다중분류 : categorical\n",
    "                                            #라벨 번호는 0부터 시작\n",
    "                                            #폴더명의 알파벳 순으로 할당\n",
    "                                             class_mode=\"binary\")\n",
    "\n",
    "test_generator=test_gen.flow_from_directory(test_dir,\n",
    "                                              target_size=(150,150),\n",
    "                                             batch_size=20,\n",
    "                                            class_mode=\"binary\")"
   ]
  },
  {
   "cell_type": "code",
   "execution_count": 24,
   "id": "handy-willow",
   "metadata": {},
   "outputs": [
    {
     "name": "stdout",
     "output_type": "stream",
     "text": [
      "{'cats': 0, 'dogs': 1}\n",
      "{'cats': 0, 'dogs': 1}\n"
     ]
    }
   ],
   "source": [
    "#라벨링 결과 확인\n",
    "print(train_generator.class_indices)\n",
    "print(test_generator.class_indices)"
   ]
  },
  {
   "cell_type": "markdown",
   "id": "combined-flight",
   "metadata": {},
   "source": [
    "초기화를 위한 seed 설정"
   ]
  },
  {
   "cell_type": "code",
   "execution_count": 5,
   "id": "treated-milton",
   "metadata": {},
   "outputs": [],
   "source": [
    "import numpy as np\n",
    "import tensorflow as tf\n",
    "\n",
    "seed=0\n",
    "np.random.seed(seed)\n",
    "tf.random.set_seed(seed)"
   ]
  },
  {
   "cell_type": "markdown",
   "id": "parental-monroe",
   "metadata": {},
   "source": [
    "CNN을 입력층으로 한 신경망 설계"
   ]
  },
  {
   "cell_type": "code",
   "execution_count": 25,
   "id": "shared-armstrong",
   "metadata": {},
   "outputs": [
    {
     "name": "stdout",
     "output_type": "stream",
     "text": [
      "Model: \"sequential_2\"\n",
      "_________________________________________________________________\n",
      "Layer (type)                 Output Shape              Param #   \n",
      "=================================================================\n",
      "conv2d (Conv2D)              (None, 150, 150, 32)      896       \n",
      "_________________________________________________________________\n",
      "max_pooling2d (MaxPooling2D) (None, 75, 75, 32)        0         \n",
      "_________________________________________________________________\n",
      "flatten_2 (Flatten)          (None, 180000)            0         \n",
      "_________________________________________________________________\n",
      "dense_4 (Dense)              (None, 512)               92160512  \n",
      "_________________________________________________________________\n",
      "dense_5 (Dense)              (None, 1)                 513       \n",
      "=================================================================\n",
      "Total params: 92,161,921\n",
      "Trainable params: 92,161,921\n",
      "Non-trainable params: 0\n",
      "_________________________________________________________________\n"
     ]
    }
   ],
   "source": [
    "from tensorflow.keras.models import Sequential\n",
    "from tensorflow.keras.layers import Dense,Dropout\n",
    "from tensorflow.keras.layers import Conv2D,MaxPooling2D,Flatten\n",
    "\n",
    "model=Sequential()\n",
    "\n",
    "# 입력층 (CNN층)\n",
    "model.add(Conv2D(filters=32,\n",
    "                kernel_size=(3,3),\n",
    "                input_shape=(150,150,3),\n",
    "                padding=\"same\",\n",
    "                activation=\"relu\"))\n",
    "model.add(MaxPooling2D(pool_size=(2,2)))\n",
    "model.add(Flatten())\n",
    "\n",
    "# 은닉층\n",
    "model.add(Dense(units=512,activation=\"relu\"))\n",
    "#model.add(Dropout(0.2))\n",
    "\n",
    "# 출력층\n",
    "model.add(Dense(units=1,activation=\"sigmoid\"))\n",
    "\n",
    "model.summary()"
   ]
  },
  {
   "cell_type": "code",
   "execution_count": 26,
   "id": "drawn-arthritis",
   "metadata": {},
   "outputs": [],
   "source": [
    "model.compile(loss=\"binary_crossentropy\",\n",
    "                 optimizer=\"adam\",\n",
    "                 metrics=[\"acc\"])"
   ]
  },
  {
   "cell_type": "code",
   "execution_count": 41,
   "id": "general-startup",
   "metadata": {
    "scrolled": true
   },
   "outputs": [
    {
     "name": "stdout",
     "output_type": "stream",
     "text": [
      "Epoch 1/10\n",
      "WARNING:tensorflow:AutoGraph could not transform <function Model.make_train_function.<locals>.train_function at 0x000002E6E9289950> and will run it as-is.\n",
      "Please report this to the TensorFlow team. When filing the bug, set the verbosity to 10 (on Linux, `export AUTOGRAPH_VERBOSITY=10`) and attach the full output.\n",
      "Cause: 'arguments' object has no attribute 'posonlyargs'\n",
      "To silence this warning, decorate the function with @tf.autograph.experimental.do_not_convert\n",
      "WARNING: AutoGraph could not transform <function Model.make_train_function.<locals>.train_function at 0x000002E6E9289950> and will run it as-is.\n",
      "Please report this to the TensorFlow team. When filing the bug, set the verbosity to 10 (on Linux, `export AUTOGRAPH_VERBOSITY=10`) and attach the full output.\n",
      "Cause: 'arguments' object has no attribute 'posonlyargs'\n",
      "To silence this warning, decorate the function with @tf.autograph.experimental.do_not_convert\n",
      "100/100 [==============================] - ETA: 0s - loss: 1.7916 - acc: 0.5520WARNING:tensorflow:AutoGraph could not transform <function Model.make_test_function.<locals>.test_function at 0x000002E6F11FEEA0> and will run it as-is.\n",
      "Please report this to the TensorFlow team. When filing the bug, set the verbosity to 10 (on Linux, `export AUTOGRAPH_VERBOSITY=10`) and attach the full output.\n",
      "Cause: 'arguments' object has no attribute 'posonlyargs'\n",
      "To silence this warning, decorate the function with @tf.autograph.experimental.do_not_convert\n",
      "WARNING: AutoGraph could not transform <function Model.make_test_function.<locals>.test_function at 0x000002E6F11FEEA0> and will run it as-is.\n",
      "Please report this to the TensorFlow team. When filing the bug, set the verbosity to 10 (on Linux, `export AUTOGRAPH_VERBOSITY=10`) and attach the full output.\n",
      "Cause: 'arguments' object has no attribute 'posonlyargs'\n",
      "To silence this warning, decorate the function with @tf.autograph.experimental.do_not_convert\n",
      "100/100 [==============================] - 13s 129ms/step - loss: 1.7916 - acc: 0.5520 - val_loss: 0.6391 - val_acc: 0.6250\n",
      "Epoch 2/10\n",
      "100/100 [==============================] - 13s 129ms/step - loss: 0.6651 - acc: 0.6090 - val_loss: 0.6022 - val_acc: 0.6590\n",
      "Epoch 3/10\n",
      "100/100 [==============================] - 13s 128ms/step - loss: 0.6330 - acc: 0.6380 - val_loss: 0.6327 - val_acc: 0.6280\n",
      "Epoch 4/10\n",
      "100/100 [==============================] - 13s 128ms/step - loss: 0.6325 - acc: 0.6560 - val_loss: 0.6145 - val_acc: 0.6650\n",
      "Epoch 5/10\n",
      "100/100 [==============================] - 13s 128ms/step - loss: 0.6268 - acc: 0.6515 - val_loss: 0.6017 - val_acc: 0.6790\n",
      "Epoch 6/10\n",
      "100/100 [==============================] - 13s 129ms/step - loss: 0.6023 - acc: 0.6810 - val_loss: 0.6035 - val_acc: 0.6700\n",
      "Epoch 7/10\n",
      "100/100 [==============================] - 13s 128ms/step - loss: 0.5966 - acc: 0.6750 - val_loss: 0.5918 - val_acc: 0.6810\n",
      "Epoch 8/10\n",
      "100/100 [==============================] - 13s 130ms/step - loss: 0.5790 - acc: 0.6985 - val_loss: 0.6042 - val_acc: 0.6940\n",
      "Epoch 9/10\n",
      "100/100 [==============================] - 13s 129ms/step - loss: 0.5766 - acc: 0.6915 - val_loss: 0.6808 - val_acc: 0.6640\n",
      "Epoch 10/10\n",
      "100/100 [==============================] - 13s 129ms/step - loss: 0.6070 - acc: 0.6755 - val_loss: 0.5893 - val_acc: 0.7040\n"
     ]
    }
   ],
   "source": [
    "h=model.fit_generator(generator=train_generator,\n",
    "                      #위에서 batch_size를 20으로 설정\n",
    "                      #전체 데이터(2000)를 다 읽어오려면 몇 번 돌아가야하는지 설정\n",
    "                     #2000/20=100 이 값을 steps_per_epoch에 입력\n",
    "                      steps_per_epoch=100,\n",
    "                     epochs=10,\n",
    "                     validation_data=test_generator,\n",
    "                      #전체 데이터(1000) ->1000/20=50\n",
    "                     validation_steps=50)"
   ]
  },
  {
   "cell_type": "code",
   "execution_count": 42,
   "id": "annual-reminder",
   "metadata": {},
   "outputs": [
    {
     "data": {
      "text/plain": [
       "<matplotlib.legend.Legend at 0x2e6f96fb668>"
      ]
     },
     "execution_count": 42,
     "metadata": {},
     "output_type": "execute_result"
    },
    {
     "data": {
      "image/png": "[encoded data removed]",
      "text/plain": [
       "<Figure size 432x288 with 1 Axes>"
      ]
     },
     "metadata": {
      "needs_background": "light"
     },
     "output_type": "display_data"
    }
   ],
   "source": [
    "import matplotlib.pyplot as plt\n",
    "\n",
    "acc=h.history[\"acc\"]\n",
    "val_acc=h.history[\"val_acc\"]\n",
    "\n",
    "epochs=np.arange(len(acc))\n",
    "\n",
    "plt.plot(epochs,acc,c=\"red\",label=\"Train\")\n",
    "plt.plot(epochs,val_acc,c=\"pink\",label=\"Test\")\n",
    "plt.legend()"
   ]
  },
  {
   "cell_type": "markdown",
   "id": "official-action",
   "metadata": {},
   "source": [
    "### 증식을 이용해서 적은 데이터 개수를 늘려서 과대적합을 피해보자\n",
    "\n",
    "- data augmentation : 이미지 데이터를 회전,이동,확대/축소,뒤집기 등을 이용해서 데이터를 늘리는 작업\n",
    "- ImageDataGenerator() 함수를 이용해서 수행\n",
    "- 증식은 훈련데이터만 해야 함"
   ]
  },
  {
   "cell_type": "code",
   "execution_count": 27,
   "id": "speaking-dallas",
   "metadata": {},
   "outputs": [],
   "source": [
    "from tensorflow.keras.preprocessing.image import ImageDataGenerator\n",
    "# 증식 설정\n",
    "train_dataGen=ImageDataGenerator(rescale=1./255,\n",
    "                          rotation_range=20,\n",
    "                          width_shift_range=0.1,\n",
    "                          height_shift_range=0.1,\n",
    "                          shear_range=0.1,\n",
    "                          zoom_range=0.1,\n",
    "                          horizontal_flip=True,\n",
    "                          fill_mode=\"nearest\")\n",
    "test_dataGen=ImageDataGenerator(rescale=1./255)"
   ]
  },
  {
   "cell_type": "code",
   "execution_count": 28,
   "id": "smaller-locator",
   "metadata": {},
   "outputs": [
    {
     "name": "stdout",
     "output_type": "stream",
     "text": [
      "Found 2000 images belonging to 2 classes.\n",
      "Found 1000 images belonging to 2 classes.\n"
     ]
    }
   ],
   "source": [
    "train_generator=train_dataGen.flow_from_directory(train_dir,\n",
    "                                                 target_size=(150,150),\n",
    "                                                 batch_size=20,\n",
    "                                                 class_mode=\"binary\")\n",
    "test_generator=test_dataGen.flow_from_directory(test_dir,\n",
    "                                                 target_size=(150,150),\n",
    "                                                 batch_size=20,\n",
    "                                                 class_mode=\"binary\")"
   ]
  },
  {
   "cell_type": "code",
   "execution_count": 8,
   "id": "seven-level",
   "metadata": {},
   "outputs": [
    {
     "name": "stdout",
     "output_type": "stream",
     "text": [
      "{'cats': 0, 'dogs': 1}\n",
      "{'cats': 0, 'dogs': 1}\n"
     ]
    }
   ],
   "source": [
    "#라벨링 결과 확인\n",
    "print(train_generator.class_indices)\n",
    "print(test_generator.class_indices)"
   ]
  },
  {
   "cell_type": "code",
   "execution_count": 29,
   "id": "grand-johnson",
   "metadata": {},
   "outputs": [
    {
     "name": "stdout",
     "output_type": "stream",
     "text": [
      "Model: \"sequential_3\"\n",
      "_________________________________________________________________\n",
      "Layer (type)                 Output Shape              Param #   \n",
      "=================================================================\n",
      "conv2d_1 (Conv2D)            (None, 150, 150, 32)      896       \n",
      "_________________________________________________________________\n",
      "max_pooling2d_1 (MaxPooling2 (None, 75, 75, 32)        0         \n",
      "_________________________________________________________________\n",
      "flatten_3 (Flatten)          (None, 180000)            0         \n",
      "_________________________________________________________________\n",
      "dense_6 (Dense)              (None, 512)               92160512  \n",
      "_________________________________________________________________\n",
      "dense_7 (Dense)              (None, 1)                 513       \n",
      "=================================================================\n",
      "Total params: 92,161,921\n",
      "Trainable params: 92,161,921\n",
      "Non-trainable params: 0\n",
      "_________________________________________________________________\n"
     ]
    }
   ],
   "source": [
    "from tensorflow.keras.models import Sequential\n",
    "from tensorflow.keras.layers import Dense,Dropout\n",
    "from tensorflow.keras.layers import Conv2D,MaxPooling2D,Flatten\n",
    "\n",
    "model=Sequential()\n",
    "\n",
    "# 입력층 (CNN층)\n",
    "model.add(Conv2D(filters=32,\n",
    "                kernel_size=(3,3),\n",
    "                input_shape=(150,150,3),\n",
    "                padding=\"same\",\n",
    "                activation=\"relu\"))\n",
    "model.add(MaxPooling2D(pool_size=(2,2)))\n",
    "model.add(Flatten())\n",
    "\n",
    "# 은닉층\n",
    "model.add(Dense(units=512,activation=\"relu\"))\n",
    "#model.add(Dropout(0.2))\n",
    "\n",
    "# 출력층\n",
    "model.add(Dense(units=1,activation=\"sigmoid\"))\n",
    "\n",
    "model.summary()"
   ]
  },
  {
   "cell_type": "code",
   "execution_count": 30,
   "id": "recent-finder",
   "metadata": {},
   "outputs": [],
   "source": [
    "model.compile(loss=\"binary_crossentropy\",\n",
    "                 optimizer=\"adam\",\n",
    "                 metrics=[\"acc\"])"
   ]
  },
  {
   "cell_type": "code",
   "execution_count": 11,
   "id": "promising-expense",
   "metadata": {
    "scrolled": true
   },
   "outputs": [
    {
     "name": "stdout",
     "output_type": "stream",
     "text": [
      "WARNING:tensorflow:From <ipython-input-11-278b7a7aef2c>:9: Model.fit_generator (from tensorflow.python.keras.engine.training) is deprecated and will be removed in a future version.\n",
      "Instructions for updating:\n",
      "Please use Model.fit, which supports generators.\n",
      "Epoch 1/10\n",
      "WARNING:tensorflow:AutoGraph could not transform <function Model.make_train_function.<locals>.train_function at 0x000002E014AA27B8> and will run it as-is.\n",
      "Please report this to the TensorFlow team. When filing the bug, set the verbosity to 10 (on Linux, `export AUTOGRAPH_VERBOSITY=10`) and attach the full output.\n",
      "Cause: 'arguments' object has no attribute 'posonlyargs'\n",
      "To silence this warning, decorate the function with @tf.autograph.experimental.do_not_convert\n",
      "WARNING: AutoGraph could not transform <function Model.make_train_function.<locals>.train_function at 0x000002E014AA27B8> and will run it as-is.\n",
      "Please report this to the TensorFlow team. When filing the bug, set the verbosity to 10 (on Linux, `export AUTOGRAPH_VERBOSITY=10`) and attach the full output.\n",
      "Cause: 'arguments' object has no attribute 'posonlyargs'\n",
      "To silence this warning, decorate the function with @tf.autograph.experimental.do_not_convert\n",
      "  1/100 [..............................] - ETA: 0s - loss: 0.6977 - acc: 0.6000WARNING:tensorflow:Callbacks method `on_train_batch_end` is slow compared to the batch time (batch time: 0.0070s vs `on_train_batch_end` time: 0.0160s). Check your callbacks.\n",
      "100/100 [==============================] - ETA: 0s - loss: 2.1680 - acc: 0.5740WARNING:tensorflow:AutoGraph could not transform <function Model.make_test_function.<locals>.test_function at 0x000002E0151FAF28> and will run it as-is.\n",
      "Please report this to the TensorFlow team. When filing the bug, set the verbosity to 10 (on Linux, `export AUTOGRAPH_VERBOSITY=10`) and attach the full output.\n",
      "Cause: 'arguments' object has no attribute 'posonlyargs'\n",
      "To silence this warning, decorate the function with @tf.autograph.experimental.do_not_convert\n",
      "WARNING: AutoGraph could not transform <function Model.make_test_function.<locals>.test_function at 0x000002E0151FAF28> and will run it as-is.\n",
      "Please report this to the TensorFlow team. When filing the bug, set the verbosity to 10 (on Linux, `export AUTOGRAPH_VERBOSITY=10`) and attach the full output.\n",
      "Cause: 'arguments' object has no attribute 'posonlyargs'\n",
      "To silence this warning, decorate the function with @tf.autograph.experimental.do_not_convert\n",
      "100/100 [==============================] - 25s 254ms/step - loss: 2.1680 - acc: 0.5740 - val_loss: 0.6513 - val_acc: 0.6260\n",
      "Epoch 2/10\n",
      "100/100 [==============================] - 13s 131ms/step - loss: 0.6570 - acc: 0.6060 - val_loss: 0.6372 - val_acc: 0.6450\n",
      "Epoch 3/10\n",
      "100/100 [==============================] - 13s 132ms/step - loss: 0.6286 - acc: 0.6455 - val_loss: 0.5920 - val_acc: 0.6850\n",
      "Epoch 4/10\n",
      "100/100 [==============================] - 13s 131ms/step - loss: 0.6172 - acc: 0.6690 - val_loss: 0.5932 - val_acc: 0.6920\n",
      "Epoch 5/10\n",
      "100/100 [==============================] - 13s 130ms/step - loss: 0.5980 - acc: 0.6930 - val_loss: 0.6288 - val_acc: 0.6750\n",
      "Epoch 6/10\n",
      "100/100 [==============================] - 13s 130ms/step - loss: 0.6128 - acc: 0.6665 - val_loss: 0.6409 - val_acc: 0.6650\n",
      "Epoch 7/10\n",
      "100/100 [==============================] - 13s 130ms/step - loss: 0.5806 - acc: 0.6975 - val_loss: 0.5587 - val_acc: 0.7240\n",
      "Epoch 8/10\n",
      "100/100 [==============================] - 13s 130ms/step - loss: 0.5700 - acc: 0.7085 - val_loss: 0.5713 - val_acc: 0.7120\n",
      "Epoch 9/10\n",
      "100/100 [==============================] - 13s 133ms/step - loss: 0.5561 - acc: 0.7095 - val_loss: 0.6780 - val_acc: 0.6730\n",
      "Epoch 10/10\n",
      "100/100 [==============================] - 13s 132ms/step - loss: 0.5461 - acc: 0.7370 - val_loss: 0.5716 - val_acc: 0.6940\n"
     ]
    }
   ],
   "source": [
    "h=model.fit_generator(generator=train_generator,\n",
    "                      #위에서 batch_size를 20으로 설정\n",
    "                      #전체 데이터(2000)를 다 읽어오려면 몇 번 돌아가야하는지 설정\n",
    "                     #2000/20=100 이 값을 steps_per_epoch에 입력\n",
    "                      steps_per_epoch=100,\n",
    "                     epochs=10,\n",
    "                     validation_data=test_generator,\n",
    "                      #전체 데이터(1000) ->1000/20=50\n",
    "                     validation_steps=50)"
   ]
  },
  {
   "cell_type": "code",
   "execution_count": 12,
   "id": "metallic-fight",
   "metadata": {},
   "outputs": [
    {
     "data": {
      "text/plain": [
       "<matplotlib.legend.Legend at 0x2e01daa04e0>"
      ]
     },
     "execution_count": 12,
     "metadata": {},
     "output_type": "execute_result"
    },
    {
     "data": {
      "image/png": "[encoded data removed]",
      "text/plain": [
       "<Figure size 432x288 with 1 Axes>"
      ]
     },
     "metadata": {
      "needs_background": "light"
     },
     "output_type": "display_data"
    }
   ],
   "source": [
    "import matplotlib.pyplot as plt\n",
    "\n",
    "acc=h.history[\"acc\"]\n",
    "val_acc=h.history[\"val_acc\"]\n",
    "\n",
    "epochs=np.arange(len(acc))\n",
    "\n",
    "plt.plot(epochs,acc,c=\"red\",label=\"Train\")\n",
    "plt.plot(epochs,val_acc,c=\"pink\",label=\"Test\")\n",
    "plt.legend()"
   ]
  },
  {
   "cell_type": "code",
   "execution_count": 31,
   "id": "regulated-advocate",
   "metadata": {},
   "outputs": [],
   "source": [
    "model2 = Sequential()\n",
    "model2.add(Conv2D(32, (3, 3), activation=\"relu\", input_shape=(150, 150, 3)))\n",
    "model2.add(MaxPooling2D((2, 2)))\n",
    "model2.add(Conv2D(64, (3, 3), activation=\"relu\"))\n",
    "model2.add(MaxPooling2D((2, 2)))\n",
    "model2.add(Conv2D(128, (3, 3), activation=\"relu\"))\n",
    "model2.add(MaxPooling2D((2, 2)))\n",
    "model2.add(Conv2D(128, (3, 3), activation=\"relu\"))\n",
    "model2.add(MaxPooling2D((2, 2)))\n",
    "model2.add(Flatten())\n",
    "model2.add(Dropout(0.5))\n",
    "model2.add(Dense(512, activation=\"relu\"))\n",
    "model2.add(Dense(1, activation=\"sigmoid\"))\n",
    "model2.compile(loss=\"binary_crossentropy\",\n",
    "                 optimizer=\"adam\",\n",
    "                 metrics=[\"acc\"])"
   ]
  },
  {
   "cell_type": "code",
   "execution_count": 14,
   "id": "promotional-significance",
   "metadata": {},
   "outputs": [
    {
     "name": "stdout",
     "output_type": "stream",
     "text": [
      "Epoch 1/10\n",
      "WARNING:tensorflow:AutoGraph could not transform <function Model.make_train_function.<locals>.train_function at 0x000002E01DB6C730> and will run it as-is.\n",
      "Please report this to the TensorFlow team. When filing the bug, set the verbosity to 10 (on Linux, `export AUTOGRAPH_VERBOSITY=10`) and attach the full output.\n",
      "Cause: 'arguments' object has no attribute 'posonlyargs'\n",
      "To silence this warning, decorate the function with @tf.autograph.experimental.do_not_convert\n",
      "WARNING: AutoGraph could not transform <function Model.make_train_function.<locals>.train_function at 0x000002E01DB6C730> and will run it as-is.\n",
      "Please report this to the TensorFlow team. When filing the bug, set the verbosity to 10 (on Linux, `export AUTOGRAPH_VERBOSITY=10`) and attach the full output.\n",
      "Cause: 'arguments' object has no attribute 'posonlyargs'\n",
      "To silence this warning, decorate the function with @tf.autograph.experimental.do_not_convert\n",
      "100/100 [==============================] - ETA: 0s - loss: 0.6937 - acc: 0.5125WARNING:tensorflow:AutoGraph could not transform <function Model.make_test_function.<locals>.test_function at 0x000002E00E607488> and will run it as-is.\n",
      "Please report this to the TensorFlow team. When filing the bug, set the verbosity to 10 (on Linux, `export AUTOGRAPH_VERBOSITY=10`) and attach the full output.\n",
      "Cause: 'arguments' object has no attribute 'posonlyargs'\n",
      "To silence this warning, decorate the function with @tf.autograph.experimental.do_not_convert\n",
      "WARNING: AutoGraph could not transform <function Model.make_test_function.<locals>.test_function at 0x000002E00E607488> and will run it as-is.\n",
      "Please report this to the TensorFlow team. When filing the bug, set the verbosity to 10 (on Linux, `export AUTOGRAPH_VERBOSITY=10`) and attach the full output.\n",
      "Cause: 'arguments' object has no attribute 'posonlyargs'\n",
      "To silence this warning, decorate the function with @tf.autograph.experimental.do_not_convert\n",
      "100/100 [==============================] - 14s 136ms/step - loss: 0.6937 - acc: 0.5125 - val_loss: 0.6855 - val_acc: 0.5710\n",
      "Epoch 2/10\n",
      "100/100 [==============================] - 13s 132ms/step - loss: 0.6837 - acc: 0.5405 - val_loss: 0.6814 - val_acc: 0.5640\n",
      "Epoch 3/10\n",
      "100/100 [==============================] - 13s 131ms/step - loss: 0.6795 - acc: 0.5585 - val_loss: 0.6881 - val_acc: 0.5340\n",
      "Epoch 4/10\n",
      "100/100 [==============================] - 13s 132ms/step - loss: 0.6906 - acc: 0.5295 - val_loss: 0.6666 - val_acc: 0.5980\n",
      "Epoch 5/10\n",
      "100/100 [==============================] - 13s 132ms/step - loss: 0.6546 - acc: 0.6090 - val_loss: 0.6610 - val_acc: 0.6190\n",
      "Epoch 6/10\n",
      "100/100 [==============================] - 13s 132ms/step - loss: 0.6483 - acc: 0.6160 - val_loss: 0.6264 - val_acc: 0.6430\n",
      "Epoch 7/10\n",
      "100/100 [==============================] - 13s 133ms/step - loss: 0.6314 - acc: 0.6405 - val_loss: 0.6605 - val_acc: 0.6250\n",
      "Epoch 8/10\n",
      "100/100 [==============================] - 13s 132ms/step - loss: 0.6519 - acc: 0.6180 - val_loss: 0.6727 - val_acc: 0.6650\n",
      "Epoch 9/10\n",
      "100/100 [==============================] - 13s 132ms/step - loss: 0.6070 - acc: 0.6635 - val_loss: 0.5857 - val_acc: 0.6750\n",
      "Epoch 10/10\n",
      "100/100 [==============================] - 13s 133ms/step - loss: 0.6099 - acc: 0.6540 - val_loss: 0.5993 - val_acc: 0.6950\n"
     ]
    }
   ],
   "source": [
    "h=model2.fit_generator(generator=train_generator,\n",
    "                      #위에서 batch_size를 20으로 설정\n",
    "                      #전체 데이터(2000)를 다 읽어오려면 몇 번 돌아가야하는지 설정\n",
    "                     #2000/20=100 이 값을 steps_per_epoch에 입력\n",
    "                      steps_per_epoch=100,\n",
    "                     epochs=10,\n",
    "                     validation_data=test_generator,\n",
    "                      #전체 데이터(1000) ->1000/20=50\n",
    "                     validation_steps=50)"
   ]
  },
  {
   "cell_type": "code",
   "execution_count": 15,
   "id": "freelance-armor",
   "metadata": {},
   "outputs": [
    {
     "data": {
      "text/plain": [
       "<matplotlib.legend.Legend at 0x2e01ed28b70>"
      ]
     },
     "execution_count": 15,
     "metadata": {},
     "output_type": "execute_result"
    },
    {
     "data": {
      "image/png": "[encoded data removed]",
      "text/plain": [
       "<Figure size 432x288 with 1 Axes>"
      ]
     },
     "metadata": {
      "needs_background": "light"
     },
     "output_type": "display_data"
    }
   ],
   "source": [
    "acc=h.history[\"acc\"]\n",
    "val_acc=h.history[\"val_acc\"]\n",
    "\n",
    "epochs=np.arange(len(acc))\n",
    "\n",
    "plt.plot(epochs,acc,c=\"red\",label=\"Train\")\n",
    "plt.plot(epochs,val_acc,c=\"pink\",label=\"Test\")\n",
    "plt.legend()"
   ]
  },
  {
   "cell_type": "markdown",
   "id": "vocal-nitrogen",
   "metadata": {},
   "source": [
    "전이학습(transfer learning) : 기존의 잘 만들어진 모델을 가져다가 쓰는 것\n",
    "\n",
    "- 특성추출 : 기존의 모델을 특성추출기로만 사용\n",
    "- 미세조정 : 기존의 모델의 끝 층(dense층에 가까운 층)까지 파라미터를 업데이트 하도록 하는 것(우리 모델과 기존 모델의 유사성을 높이는 것)"
   ]
  },
  {
   "cell_type": "code",
   "execution_count": 46,
   "id": "everyday-carol",
   "metadata": {},
   "outputs": [],
   "source": [
    "# VGG16 모델을 전이학습\n",
    "from tensorflow.keras.applications import VGG16\n",
    "\n",
    "# weights : imagenet에 있는 가중치를 사용하겠다\n",
    "# include_top : 분류기(Dense층)도 사용할 것인지 여부 -> 분류기는 우리 것 사용\n",
    "# input_shape : 우리 모델의 입력 데이터 크기\n",
    "conv_base=VGG16(weights=\"imagenet\",\n",
    "               include_top=False,\n",
    "               input_shape=(150,150,3))"
   ]
  },
  {
   "cell_type": "code",
   "execution_count": 47,
   "id": "biblical-drain",
   "metadata": {},
   "outputs": [
    {
     "name": "stdout",
     "output_type": "stream",
     "text": [
      "Model: \"vgg16\"\n",
      "_________________________________________________________________\n",
      "Layer (type)                 Output Shape              Param #   \n",
      "=================================================================\n",
      "input_2 (InputLayer)         [(None, 150, 150, 3)]     0         \n",
      "_________________________________________________________________\n",
      "block1_conv1 (Conv2D)        (None, 150, 150, 64)      1792      \n",
      "_________________________________________________________________\n",
      "block1_conv2 (Conv2D)        (None, 150, 150, 64)      36928     \n",
      "_________________________________________________________________\n",
      "block1_pool (MaxPooling2D)   (None, 75, 75, 64)        0         \n",
      "_________________________________________________________________\n",
      "block2_conv1 (Conv2D)        (None, 75, 75, 128)       73856     \n",
      "_________________________________________________________________\n",
      "block2_conv2 (Conv2D)        (None, 75, 75, 128)       147584    \n",
      "_________________________________________________________________\n",
      "block2_pool (MaxPooling2D)   (None, 37, 37, 128)       0         \n",
      "_________________________________________________________________\n",
      "block3_conv1 (Conv2D)        (None, 37, 37, 256)       295168    \n",
      "_________________________________________________________________\n",
      "block3_conv2 (Conv2D)        (None, 37, 37, 256)       590080    \n",
      "_________________________________________________________________\n",
      "block3_conv3 (Conv2D)        (None, 37, 37, 256)       590080    \n",
      "_________________________________________________________________\n",
      "block3_pool (MaxPooling2D)   (None, 18, 18, 256)       0         \n",
      "_________________________________________________________________\n",
      "block4_conv1 (Conv2D)        (None, 18, 18, 512)       1180160   \n",
      "_________________________________________________________________\n",
      "block4_conv2 (Conv2D)        (None, 18, 18, 512)       2359808   \n",
      "_________________________________________________________________\n",
      "block4_conv3 (Conv2D)        (None, 18, 18, 512)       2359808   \n",
      "_________________________________________________________________\n",
      "block4_pool (MaxPooling2D)   (None, 9, 9, 512)         0         \n",
      "_________________________________________________________________\n",
      "block5_conv1 (Conv2D)        (None, 9, 9, 512)         2359808   \n",
      "_________________________________________________________________\n",
      "block5_conv2 (Conv2D)        (None, 9, 9, 512)         2359808   \n",
      "_________________________________________________________________\n",
      "block5_conv3 (Conv2D)        (None, 9, 9, 512)         2359808   \n",
      "_________________________________________________________________\n",
      "block5_pool (MaxPooling2D)   (None, 4, 4, 512)         0         \n",
      "=================================================================\n",
      "Total params: 14,714,688\n",
      "Trainable params: 14,714,688\n",
      "Non-trainable params: 0\n",
      "_________________________________________________________________\n"
     ]
    }
   ],
   "source": [
    "conv_base.summary()"
   ]
  },
  {
   "cell_type": "markdown",
   "id": "boolean-newsletter",
   "metadata": {},
   "source": [
    "VGG16와 우리의 분류기 모델을 연동해보자"
   ]
  },
  {
   "cell_type": "code",
   "execution_count": 48,
   "id": "integral-summit",
   "metadata": {},
   "outputs": [],
   "source": [
    "import os\n",
    "import numpy as np\n",
    "from tensorflow.keras.preprocessing.image import ImageDataGenerator\n",
    "\n",
    "base_dir = \"./data/dogs_and_cats_small/\"\n",
    "\n",
    "train_dir=os.path.join(base_dir,\"train\")\n",
    "test_dir=os.path.join(base_dir,\"test\")\n",
    "validation_dir=os.path.join(base_dir,\"validation\")\n",
    "\n",
    "dataGen =ImageDataGenerator(rescale=1./255)\n",
    "batch_size=20\n",
    "\n",
    "# VGG16 특성추출기로 데이터를 보내서 특성을 추출하는 함수\n",
    "# extract_features(데이터 폴더의 경로, 데이터의 개수)\n",
    "def extract_features(directory,sample_count) :\n",
    "    # VGG16에 데이터를 보내서 받은 특성과 라벨을 저장하기 위한 변수 설정\n",
    "    features = np.zeros(shape=(sample_count,4,4,512))\n",
    "    #제너레이터에서 생성된 라벨값을 저장\n",
    "    labels=np.zeros(shape=(sample_count))\n",
    "    \n",
    "    #VGG16으로 넘기기 위한 데이터를 제너레이터로 생성\n",
    "    generator=dataGen.flow_from_directory(directory,\n",
    "                                         target_size=(150,150),\n",
    "                                         batch_size=batch_size,\n",
    "                                         class_mode=\"binary\")\n",
    "    \n",
    "    i=0 #VGG16를 호출한 횟수\n",
    "    #제너레이터로부터 데이터와 라벨을 가져온다\n",
    "    for inputs_batch, labels_batch in generator :\n",
    "        #VGG16으로 데이터를 보내서 특성맵을 받아온다\n",
    "        features_batch=conv_base.predict(inputs_batch)\n",
    "        # features 리스트에 batch_size 개수만큼씩 VGG16에서 넘어온 특성을 추가\n",
    "        features[i*batch_size: (i+1)*batch_size]=features_batch\n",
    "        # labels 리스트에 batch_size 개수만큼씩 generator에서 넘어온 label을 추가\n",
    "        labels[i*batch_size: (i+1)*batch_size]=labels_batch\n",
    "        \n",
    "        i=i+1\n",
    "        \n",
    "        #처리한 데이터 갯수가 전체 데이터 갯수(sample_count)보다 크면\n",
    "        if i*batch_size>=sample_count:\n",
    "            break\n",
    "            \n",
    "    return features,labels"
   ]
  },
  {
   "cell_type": "code",
   "execution_count": 49,
   "id": "impressed-purpose",
   "metadata": {
    "scrolled": false
   },
   "outputs": [
    {
     "name": "stdout",
     "output_type": "stream",
     "text": [
      "Found 2000 images belonging to 2 classes.\n",
      "WARNING:tensorflow:AutoGraph could not transform <function Model.make_predict_function.<locals>.predict_function at 0x000002E6FB3DD268> and will run it as-is.\n",
      "Please report this to the TensorFlow team. When filing the bug, set the verbosity to 10 (on Linux, `export AUTOGRAPH_VERBOSITY=10`) and attach the full output.\n",
      "Cause: 'arguments' object has no attribute 'posonlyargs'\n",
      "To silence this warning, decorate the function with @tf.autograph.experimental.do_not_convert\n",
      "WARNING: AutoGraph could not transform <function Model.make_predict_function.<locals>.predict_function at 0x000002E6FB3DD268> and will run it as-is.\n",
      "Please report this to the TensorFlow team. When filing the bug, set the verbosity to 10 (on Linux, `export AUTOGRAPH_VERBOSITY=10`) and attach the full output.\n",
      "Cause: 'arguments' object has no attribute 'posonlyargs'\n",
      "To silence this warning, decorate the function with @tf.autograph.experimental.do_not_convert\n",
      "Found 1000 images belonging to 2 classes.\n",
      "Found 1000 images belonging to 2 classes.\n"
     ]
    }
   ],
   "source": [
    "#훈련,테스트,검증 데이터의 특성을 추출\n",
    "train_features,train_labels=extract_features(train_dir,2000)\n",
    "test_features,test_labels=extract_features(test_dir,1000)\n",
    "validation_features,validation_labels=extract_features(validation_dir,1000)"
   ]
  },
  {
   "cell_type": "markdown",
   "id": "cognitive-ozone",
   "metadata": {},
   "source": [
    "우리가 만든 분류기에 VGG16에서 추출된 특성을 넣어주자"
   ]
  },
  {
   "cell_type": "code",
   "execution_count": 50,
   "id": "charming-hypothetical",
   "metadata": {},
   "outputs": [],
   "source": [
    "# 특성맵 데이터를 1차원으로 변환\n",
    "train_features=np.reshape(train_features,(2000,4*4*512))\n",
    "test_features=np.reshape(test_features,(1000,4*4*512))\n",
    "validation_features=np.reshape(validation_features,(1000,4*4*512))"
   ]
  },
  {
   "cell_type": "markdown",
   "id": "painful-dress",
   "metadata": {},
   "source": [
    "우리가 설계한 신경망 층에 특성 맵을 적용"
   ]
  },
  {
   "cell_type": "code",
   "execution_count": 51,
   "id": "dirty-expert",
   "metadata": {},
   "outputs": [
    {
     "name": "stdout",
     "output_type": "stream",
     "text": [
      "Model: \"sequential_6\"\n",
      "_________________________________________________________________\n",
      "Layer (type)                 Output Shape              Param #   \n",
      "=================================================================\n",
      "dense_12 (Dense)             (None, 512)               4194816   \n",
      "_________________________________________________________________\n",
      "dropout_4 (Dropout)          (None, 512)               0         \n",
      "_________________________________________________________________\n",
      "dense_13 (Dense)             (None, 1)                 513       \n",
      "=================================================================\n",
      "Total params: 4,195,329\n",
      "Trainable params: 4,195,329\n",
      "Non-trainable params: 0\n",
      "_________________________________________________________________\n"
     ]
    }
   ],
   "source": [
    "from tensorflow.keras.models import Sequential\n",
    "from tensorflow.keras.layers import Dense,Dropout\n",
    "\n",
    "model3=Sequential()\n",
    "\n",
    "# 은닉층\n",
    "model3.add(Dense(units=512,\n",
    "                 input_dim=4*4*512,\n",
    "                 activation=\"relu\"))\n",
    "model3.add(Dropout(0.5))\n",
    "\n",
    "# 출력층\n",
    "model3.add(Dense(units=1,activation=\"sigmoid\"))\n",
    "\n",
    "model3.summary()"
   ]
  },
  {
   "cell_type": "code",
   "execution_count": 52,
   "id": "wrapped-buyer",
   "metadata": {},
   "outputs": [],
   "source": [
    "model3.compile(loss=\"binary_crossentropy\",\n",
    "                 optimizer=\"adam\",\n",
    "                 metrics=[\"acc\"])"
   ]
  },
  {
   "cell_type": "code",
   "execution_count": 25,
   "id": "circular-suffering",
   "metadata": {
    "scrolled": true
   },
   "outputs": [
    {
     "name": "stdout",
     "output_type": "stream",
     "text": [
      "Epoch 1/30\n",
      "WARNING:tensorflow:AutoGraph could not transform <function Model.make_train_function.<locals>.train_function at 0x000002E267480378> and will run it as-is.\n",
      "Please report this to the TensorFlow team. When filing the bug, set the verbosity to 10 (on Linux, `export AUTOGRAPH_VERBOSITY=10`) and attach the full output.\n",
      "Cause: 'arguments' object has no attribute 'posonlyargs'\n",
      "To silence this warning, decorate the function with @tf.autograph.experimental.do_not_convert\n",
      "WARNING: AutoGraph could not transform <function Model.make_train_function.<locals>.train_function at 0x000002E267480378> and will run it as-is.\n",
      "Please report this to the TensorFlow team. When filing the bug, set the verbosity to 10 (on Linux, `export AUTOGRAPH_VERBOSITY=10`) and attach the full output.\n",
      "Cause: 'arguments' object has no attribute 'posonlyargs'\n",
      "To silence this warning, decorate the function with @tf.autograph.experimental.do_not_convert\n",
      " 95/100 [===========================>..] - ETA: 0s - loss: 0.6128 - acc: 0.7705WARNING:tensorflow:AutoGraph could not transform <function Model.make_test_function.<locals>.test_function at 0x000002E267A86268> and will run it as-is.\n",
      "Please report this to the TensorFlow team. When filing the bug, set the verbosity to 10 (on Linux, `export AUTOGRAPH_VERBOSITY=10`) and attach the full output.\n",
      "Cause: 'arguments' object has no attribute 'posonlyargs'\n",
      "To silence this warning, decorate the function with @tf.autograph.experimental.do_not_convert\n",
      "WARNING: AutoGraph could not transform <function Model.make_test_function.<locals>.test_function at 0x000002E267A86268> and will run it as-is.\n",
      "Please report this to the TensorFlow team. When filing the bug, set the verbosity to 10 (on Linux, `export AUTOGRAPH_VERBOSITY=10`) and attach the full output.\n",
      "Cause: 'arguments' object has no attribute 'posonlyargs'\n",
      "To silence this warning, decorate the function with @tf.autograph.experimental.do_not_convert\n",
      "100/100 [==============================] - 0s 4ms/step - loss: 0.5993 - acc: 0.7725 - val_loss: 0.2642 - val_acc: 0.8880\n",
      "Epoch 2/30\n",
      "100/100 [==============================] - 0s 3ms/step - loss: 0.2642 - acc: 0.8970 - val_loss: 0.3041 - val_acc: 0.8620\n",
      "Epoch 3/30\n",
      "100/100 [==============================] - 0s 3ms/step - loss: 0.2014 - acc: 0.9215 - val_loss: 0.2342 - val_acc: 0.9050\n",
      "Epoch 4/30\n",
      "100/100 [==============================] - 0s 3ms/step - loss: 0.1728 - acc: 0.9355 - val_loss: 0.2348 - val_acc: 0.9030\n",
      "Epoch 5/30\n",
      "100/100 [==============================] - 0s 3ms/step - loss: 0.1423 - acc: 0.9405 - val_loss: 0.2767 - val_acc: 0.8850\n",
      "Epoch 6/30\n",
      "100/100 [==============================] - 0s 3ms/step - loss: 0.1148 - acc: 0.9520 - val_loss: 0.2484 - val_acc: 0.9010\n",
      "Epoch 7/30\n",
      "100/100 [==============================] - 0s 3ms/step - loss: 0.0909 - acc: 0.9635 - val_loss: 0.2452 - val_acc: 0.9070\n",
      "Epoch 8/30\n",
      "100/100 [==============================] - 0s 3ms/step - loss: 0.0682 - acc: 0.9760 - val_loss: 0.2680 - val_acc: 0.9070\n",
      "Epoch 9/30\n",
      "100/100 [==============================] - 0s 3ms/step - loss: 0.0618 - acc: 0.9780 - val_loss: 0.2729 - val_acc: 0.9010\n",
      "Epoch 10/30\n",
      "100/100 [==============================] - 0s 3ms/step - loss: 0.0569 - acc: 0.9780 - val_loss: 0.2884 - val_acc: 0.8990\n",
      "Epoch 11/30\n",
      "100/100 [==============================] - 0s 3ms/step - loss: 0.0487 - acc: 0.9845 - val_loss: 0.3137 - val_acc: 0.9040\n",
      "Epoch 12/30\n",
      "100/100 [==============================] - 0s 3ms/step - loss: 0.0345 - acc: 0.9890 - val_loss: 0.3320 - val_acc: 0.8980\n",
      "Epoch 13/30\n",
      "100/100 [==============================] - 0s 3ms/step - loss: 0.0374 - acc: 0.9885 - val_loss: 0.3129 - val_acc: 0.9040\n",
      "Epoch 14/30\n",
      "100/100 [==============================] - 0s 3ms/step - loss: 0.0329 - acc: 0.9910 - val_loss: 0.3477 - val_acc: 0.9000\n",
      "Epoch 15/30\n",
      "100/100 [==============================] - 0s 3ms/step - loss: 0.0239 - acc: 0.9910 - val_loss: 0.3742 - val_acc: 0.8980\n",
      "Epoch 16/30\n",
      "100/100 [==============================] - 0s 3ms/step - loss: 0.0238 - acc: 0.9920 - val_loss: 0.3643 - val_acc: 0.9020\n",
      "Epoch 17/30\n",
      "100/100 [==============================] - 0s 3ms/step - loss: 0.0198 - acc: 0.9950 - val_loss: 0.4450 - val_acc: 0.8990\n",
      "Epoch 18/30\n",
      "100/100 [==============================] - 0s 3ms/step - loss: 0.0172 - acc: 0.9950 - val_loss: 0.5597 - val_acc: 0.8670\n",
      "Epoch 19/30\n",
      "100/100 [==============================] - 0s 3ms/step - loss: 0.0553 - acc: 0.9770 - val_loss: 0.3628 - val_acc: 0.9020\n",
      "Epoch 20/30\n",
      "100/100 [==============================] - 0s 3ms/step - loss: 0.0274 - acc: 0.9900 - val_loss: 0.3813 - val_acc: 0.8990\n",
      "Epoch 21/30\n",
      "100/100 [==============================] - 0s 3ms/step - loss: 0.0292 - acc: 0.9900 - val_loss: 0.3784 - val_acc: 0.8880\n",
      "Epoch 22/30\n",
      "100/100 [==============================] - 0s 3ms/step - loss: 0.0238 - acc: 0.9900 - val_loss: 0.3908 - val_acc: 0.9000\n",
      "Epoch 23/30\n",
      "100/100 [==============================] - 0s 3ms/step - loss: 0.0305 - acc: 0.9890 - val_loss: 0.3985 - val_acc: 0.9040\n",
      "Epoch 24/30\n",
      "100/100 [==============================] - 0s 3ms/step - loss: 0.0119 - acc: 0.9965 - val_loss: 0.4241 - val_acc: 0.9040\n",
      "Epoch 25/30\n",
      "100/100 [==============================] - 0s 3ms/step - loss: 0.0218 - acc: 0.9920 - val_loss: 0.4472 - val_acc: 0.8860\n",
      "Epoch 26/30\n",
      "100/100 [==============================] - 0s 3ms/step - loss: 0.0128 - acc: 0.9955 - val_loss: 0.4511 - val_acc: 0.9060\n",
      "Epoch 27/30\n",
      "100/100 [==============================] - 0s 3ms/step - loss: 0.0136 - acc: 0.9940 - val_loss: 0.4595 - val_acc: 0.8870\n",
      "Epoch 28/30\n",
      "100/100 [==============================] - 0s 3ms/step - loss: 0.0297 - acc: 0.9895 - val_loss: 0.4401 - val_acc: 0.8920\n",
      "Epoch 29/30\n",
      "100/100 [==============================] - 0s 3ms/step - loss: 0.0202 - acc: 0.9925 - val_loss: 0.5100 - val_acc: 0.8850\n",
      "Epoch 30/30\n",
      "100/100 [==============================] - 0s 3ms/step - loss: 0.0238 - acc: 0.9935 - val_loss: 0.4578 - val_acc: 0.8950\n"
     ]
    }
   ],
   "source": [
    "h3=model3.fit(train_features,train_labels,\n",
    "                      batch_size=20,\n",
    "                     epochs=30,\n",
    "                     validation_data=(test_features,test_labels))"
   ]
  },
  {
   "cell_type": "code",
   "execution_count": 27,
   "id": "thick-punishment",
   "metadata": {},
   "outputs": [
    {
     "data": {
      "text/plain": [
       "<matplotlib.legend.Legend at 0x2e268c857b8>"
      ]
     },
     "execution_count": 27,
     "metadata": {},
     "output_type": "execute_result"
    },
    {
     "data": {
      "image/png": "[encoded data removed]",
      "text/plain": [
       "<Figure size 432x288 with 1 Axes>"
      ]
     },
     "metadata": {
      "needs_background": "light"
     },
     "output_type": "display_data"
    }
   ],
   "source": [
    "acc=h3.history[\"acc\"]\n",
    "val_acc=h3.history[\"val_acc\"]\n",
    "\n",
    "epochs=np.arange(len(acc))\n",
    "\n",
    "plt.plot(epochs,acc,c=\"red\",label=\"Train\")\n",
    "plt.plot(epochs,val_acc,c=\"pink\",label=\"Test\")\n",
    "plt.legend()"
   ]
  },
  {
   "cell_type": "markdown",
   "id": "fifteen-interference",
   "metadata": {},
   "source": [
    "증식을 사용한 특성추출 사용"
   ]
  },
  {
   "cell_type": "code",
   "execution_count": 53,
   "id": "ceramic-temple",
   "metadata": {},
   "outputs": [
    {
     "name": "stdout",
     "output_type": "stream",
     "text": [
      "Model: \"sequential_7\"\n",
      "_________________________________________________________________\n",
      "Layer (type)                 Output Shape              Param #   \n",
      "=================================================================\n",
      "vgg16 (Functional)           (None, 4, 4, 512)         14714688  \n",
      "_________________________________________________________________\n",
      "flatten_6 (Flatten)          (None, 8192)              0         \n",
      "_________________________________________________________________\n",
      "dense_14 (Dense)             (None, 512)               4194816   \n",
      "_________________________________________________________________\n",
      "dropout_5 (Dropout)          (None, 512)               0         \n",
      "_________________________________________________________________\n",
      "dense_15 (Dense)             (None, 1)                 513       \n",
      "=================================================================\n",
      "Total params: 18,910,017\n",
      "Trainable params: 18,910,017\n",
      "Non-trainable params: 0\n",
      "_________________________________________________________________\n"
     ]
    }
   ],
   "source": [
    "from tensorflow.keras.models import Sequential\n",
    "from tensorflow.keras.layers import Dense,Dropout,Flatten\n",
    "\n",
    "model4=Sequential()\n",
    "\n",
    "# 우리가 만든 모델에 VGG16을 끼워넣기\n",
    "model4.add(conv_base)\n",
    "\n",
    "model4.add(Flatten())\n",
    "\n",
    "model4.add(Dense(512,activation=\"relu\"))\n",
    "model4.add(Dropout(0.2))\n",
    "model4.add(Dense(1,activation=\"sigmoid\"))\n",
    "\n",
    "model4.summary()"
   ]
  },
  {
   "cell_type": "markdown",
   "id": "hungry-bench",
   "metadata": {},
   "source": [
    "동결 : 기존의 모델을 우리 모델에 그대로 삽입을 하면 오차역전파시에 기존 모델의 파라미터 값도 갱신이 되어 많은 데이터로 학습된 기존의 모델의 장점이 사라져버림 -> 기존 모델의 파라미터가 갱신이 되지 않도록 막는것"
   ]
  },
  {
   "cell_type": "code",
   "execution_count": 54,
   "id": "prerequisite-chick",
   "metadata": {},
   "outputs": [
    {
     "name": "stdout",
     "output_type": "stream",
     "text": [
      "30\n"
     ]
    }
   ],
   "source": [
    "#동결 되기 전의 훈련되는 VGG16의 가중치의 수\n",
    "print(len(model4.trainable_weights))"
   ]
  },
  {
   "cell_type": "code",
   "execution_count": 55,
   "id": "overhead-companion",
   "metadata": {},
   "outputs": [],
   "source": [
    "# VGG16의 전체 층에 대해 동결\n",
    "conv_base.trainable=False"
   ]
  },
  {
   "cell_type": "code",
   "execution_count": 56,
   "id": "formal-saver",
   "metadata": {},
   "outputs": [
    {
     "name": "stdout",
     "output_type": "stream",
     "text": [
      "4\n"
     ]
    }
   ],
   "source": [
    "#동결 후의 훈련되는 VGG16의 가중치의 수\n",
    "print(len(model4.trainable_weights))"
   ]
  },
  {
   "cell_type": "code",
   "execution_count": 57,
   "id": "hungry-karma",
   "metadata": {},
   "outputs": [
    {
     "name": "stdout",
     "output_type": "stream",
     "text": [
      "Found 2000 images belonging to 2 classes.\n",
      "Found 1000 images belonging to 2 classes.\n"
     ]
    }
   ],
   "source": [
    "from tensorflow.keras.preprocessing.image import ImageDataGenerator\n",
    "\n",
    "# 증식 설정\n",
    "train_dataGen=ImageDataGenerator(rescale=1./255,\n",
    "                          rotation_range=20,\n",
    "                          width_shift_range=0.1,\n",
    "                          height_shift_range=0.1,\n",
    "                          shear_range=0.1,\n",
    "                          zoom_range=0.1,\n",
    "                          horizontal_flip=True,\n",
    "                          fill_mode=\"nearest\")\n",
    "\n",
    "test_dataGen=ImageDataGenerator(rescale=1./255)\n",
    "\n",
    "train_generator=train_dataGen.flow_from_directory(train_dir,\n",
    "                                                 target_size=(150,150),\n",
    "                                                 batch_size=20,\n",
    "                                                 class_mode=\"binary\")\n",
    "test_generator=test_dataGen.flow_from_directory(test_dir,\n",
    "                                                 target_size=(150,150),\n",
    "                                                 batch_size=20,\n",
    "                                                 class_mode=\"binary\")"
   ]
  },
  {
   "cell_type": "code",
   "execution_count": 58,
   "id": "convertible-final",
   "metadata": {},
   "outputs": [],
   "source": [
    "model4.compile(loss=\"binary_crossentropy\",\n",
    "                 optimizer=\"adam\",\n",
    "                 metrics=[\"acc\"])"
   ]
  },
  {
   "cell_type": "code",
   "execution_count": 35,
   "id": "median-understanding",
   "metadata": {
    "scrolled": true
   },
   "outputs": [
    {
     "name": "stdout",
     "output_type": "stream",
     "text": [
      "Epoch 1/20\n",
      "100/100 [==============================] - ETA: 0s - loss: 0.3233 - acc: 0.8590WARNING:tensorflow:AutoGraph could not transform <function Model.make_test_function.<locals>.test_function at 0x000002E268D34620> and will run it as-is.\n",
      "Please report this to the TensorFlow team. When filing the bug, set the verbosity to 10 (on Linux, `export AUTOGRAPH_VERBOSITY=10`) and attach the full output.\n",
      "Cause: 'arguments' object has no attribute 'posonlyargs'\n",
      "To silence this warning, decorate the function with @tf.autograph.experimental.do_not_convert\n",
      "WARNING: AutoGraph could not transform <function Model.make_test_function.<locals>.test_function at 0x000002E268D34620> and will run it as-is.\n",
      "Please report this to the TensorFlow team. When filing the bug, set the verbosity to 10 (on Linux, `export AUTOGRAPH_VERBOSITY=10`) and attach the full output.\n",
      "Cause: 'arguments' object has no attribute 'posonlyargs'\n",
      "To silence this warning, decorate the function with @tf.autograph.experimental.do_not_convert\n",
      "100/100 [==============================] - 14s 135ms/step - loss: 0.3233 - acc: 0.8590 - val_loss: 0.2546 - val_acc: 0.8940\n",
      "Epoch 2/20\n",
      "100/100 [==============================] - 13s 132ms/step - loss: 0.2732 - acc: 0.8820 - val_loss: 0.2544 - val_acc: 0.8920\n",
      "Epoch 3/20\n",
      "100/100 [==============================] - 13s 133ms/step - loss: 0.2875 - acc: 0.8760 - val_loss: 0.3181 - val_acc: 0.8530\n",
      "Epoch 4/20\n",
      "100/100 [==============================] - 13s 135ms/step - loss: 0.2449 - acc: 0.8960 - val_loss: 0.2890 - val_acc: 0.8830\n",
      "Epoch 5/20\n",
      "100/100 [==============================] - 14s 136ms/step - loss: 0.2473 - acc: 0.8975 - val_loss: 0.2615 - val_acc: 0.8930\n",
      "Epoch 6/20\n",
      "100/100 [==============================] - 13s 133ms/step - loss: 0.2161 - acc: 0.9120 - val_loss: 0.2441 - val_acc: 0.9080\n",
      "Epoch 7/20\n",
      "100/100 [==============================] - 14s 135ms/step - loss: 0.2423 - acc: 0.9035 - val_loss: 0.2503 - val_acc: 0.9060\n",
      "Epoch 8/20\n",
      "100/100 [==============================] - 13s 133ms/step - loss: 0.2254 - acc: 0.9035 - val_loss: 0.2411 - val_acc: 0.8970\n",
      "Epoch 9/20\n",
      "100/100 [==============================] - 13s 131ms/step - loss: 0.1978 - acc: 0.9185 - val_loss: 0.2505 - val_acc: 0.9090\n",
      "Epoch 10/20\n",
      "100/100 [==============================] - 13s 131ms/step - loss: 0.2006 - acc: 0.9140 - val_loss: 0.2765 - val_acc: 0.9000\n",
      "Epoch 11/20\n",
      "100/100 [==============================] - 13s 132ms/step - loss: 0.1878 - acc: 0.9180 - val_loss: 0.3298 - val_acc: 0.8720\n",
      "Epoch 12/20\n",
      "100/100 [==============================] - 13s 131ms/step - loss: 0.2187 - acc: 0.9040 - val_loss: 0.2683 - val_acc: 0.8890\n",
      "Epoch 13/20\n",
      "100/100 [==============================] - 13s 132ms/step - loss: 0.1671 - acc: 0.9315 - val_loss: 0.2649 - val_acc: 0.9060\n",
      "Epoch 14/20\n",
      "100/100 [==============================] - 13s 132ms/step - loss: 0.1682 - acc: 0.9315 - val_loss: 0.2495 - val_acc: 0.9030\n",
      "Epoch 15/20\n",
      "100/100 [==============================] - 14s 135ms/step - loss: 0.1732 - acc: 0.9275 - val_loss: 0.2732 - val_acc: 0.8980\n",
      "Epoch 16/20\n",
      "100/100 [==============================] - 13s 134ms/step - loss: 0.1732 - acc: 0.9315 - val_loss: 0.2669 - val_acc: 0.8920\n",
      "Epoch 17/20\n",
      "100/100 [==============================] - 14s 135ms/step - loss: 0.1617 - acc: 0.9310 - val_loss: 0.2937 - val_acc: 0.8900\n",
      "Epoch 18/20\n",
      "100/100 [==============================] - 13s 132ms/step - loss: 0.1564 - acc: 0.9360 - val_loss: 0.3009 - val_acc: 0.8940\n",
      "Epoch 19/20\n",
      "100/100 [==============================] - 13s 132ms/step - loss: 0.1594 - acc: 0.9310 - val_loss: 0.2830 - val_acc: 0.9080\n",
      "Epoch 20/20\n",
      "100/100 [==============================] - 13s 134ms/step - loss: 0.1422 - acc: 0.9450 - val_loss: 0.2727 - val_acc: 0.9060\n"
     ]
    }
   ],
   "source": [
    "h4=model4.fit_generator(generator=train_generator,\n",
    "                      steps_per_epoch=100,\n",
    "                     epochs=20,\n",
    "                     validation_data=test_generator,\n",
    "                     validation_steps=50)"
   ]
  },
  {
   "cell_type": "code",
   "execution_count": 36,
   "id": "organized-knowing",
   "metadata": {},
   "outputs": [
    {
     "data": {
      "text/plain": [
       "<matplotlib.legend.Legend at 0x2e269a6cba8>"
      ]
     },
     "execution_count": 36,
     "metadata": {},
     "output_type": "execute_result"
    },
    {
     "data": {
      "image/png": "[encoded data removed]",
      "text/plain": [
       "<Figure size 432x288 with 1 Axes>"
      ]
     },
     "metadata": {
      "needs_background": "light"
     },
     "output_type": "display_data"
    }
   ],
   "source": [
    "acc=h4.history[\"acc\"]\n",
    "val_acc=h4.history[\"val_acc\"]\n",
    "\n",
    "epochs=np.arange(len(acc))\n",
    "\n",
    "plt.plot(epochs,acc,c=\"red\",label=\"Train\")\n",
    "plt.plot(epochs,val_acc,c=\"pink\",label=\"Test\")\n",
    "plt.legend()"
   ]
  },
  {
   "cell_type": "markdown",
   "id": "southern-venue",
   "metadata": {},
   "source": [
    "미세조정\n",
    "- 기존의 모델과 우리 모델이 잘 연결되도록 기존 모델의 아래층까지 학습이 가능하도록 만들어 주는 것"
   ]
  },
  {
   "cell_type": "code",
   "execution_count": 59,
   "id": "abstract-eclipse",
   "metadata": {},
   "outputs": [],
   "source": [
    "# block5_conv1 층까지만 학습이 되도록 미세 조정\n",
    "#학습이 되는 층 : block5_conv1,block5_conv2,block5_conv3,block5_pool\n",
    "\n",
    "#VGG16 모델 전체가 학습이 되도록 설정\n",
    "conv_base.trainable=True\n",
    "\n",
    "set_trainable=False\n",
    "\n",
    "#VGG16의 신경망층을 한 층을 가져온다\n",
    "for layer in conv_base.layers:\n",
    "    #가져온 층의 이름 block5_conv1이라면\n",
    "    if layer.name==\"block5_conv1\":\n",
    "        set_trainable=True\n",
    "        \n",
    "    if set_trainable==True:\n",
    "        layer.trainable=True\n",
    "    else :\n",
    "        layer.trainable=False"
   ]
  },
  {
   "cell_type": "code",
   "execution_count": 60,
   "id": "scientific-satin",
   "metadata": {
    "scrolled": true
   },
   "outputs": [
    {
     "name": "stdout",
     "output_type": "stream",
     "text": [
      "Epoch 1/20\n",
      "WARNING:tensorflow:AutoGraph could not transform <function Model.make_train_function.<locals>.train_function at 0x000002E50BA3E400> and will run it as-is.\n",
      "Please report this to the TensorFlow team. When filing the bug, set the verbosity to 10 (on Linux, `export AUTOGRAPH_VERBOSITY=10`) and attach the full output.\n",
      "Cause: 'arguments' object has no attribute 'posonlyargs'\n",
      "To silence this warning, decorate the function with @tf.autograph.experimental.do_not_convert\n",
      "WARNING: AutoGraph could not transform <function Model.make_train_function.<locals>.train_function at 0x000002E50BA3E400> and will run it as-is.\n",
      "Please report this to the TensorFlow team. When filing the bug, set the verbosity to 10 (on Linux, `export AUTOGRAPH_VERBOSITY=10`) and attach the full output.\n",
      "Cause: 'arguments' object has no attribute 'posonlyargs'\n",
      "To silence this warning, decorate the function with @tf.autograph.experimental.do_not_convert\n",
      "100/100 [==============================] - ETA: 0s - loss: 0.5394 - acc: 0.7895WARNING:tensorflow:AutoGraph could not transform <function Model.make_test_function.<locals>.test_function at 0x000002E6FB44F400> and will run it as-is.\n",
      "Please report this to the TensorFlow team. When filing the bug, set the verbosity to 10 (on Linux, `export AUTOGRAPH_VERBOSITY=10`) and attach the full output.\n",
      "Cause: 'arguments' object has no attribute 'posonlyargs'\n",
      "To silence this warning, decorate the function with @tf.autograph.experimental.do_not_convert\n",
      "WARNING: AutoGraph could not transform <function Model.make_test_function.<locals>.test_function at 0x000002E6FB44F400> and will run it as-is.\n",
      "Please report this to the TensorFlow team. When filing the bug, set the verbosity to 10 (on Linux, `export AUTOGRAPH_VERBOSITY=10`) and attach the full output.\n",
      "Cause: 'arguments' object has no attribute 'posonlyargs'\n",
      "To silence this warning, decorate the function with @tf.autograph.experimental.do_not_convert\n",
      "100/100 [==============================] - 13s 132ms/step - loss: 0.5394 - acc: 0.7895 - val_loss: 0.2646 - val_acc: 0.8940\n",
      "Epoch 2/20\n",
      "100/100 [==============================] - 13s 133ms/step - loss: 0.3005 - acc: 0.8750 - val_loss: 0.2483 - val_acc: 0.9040\n",
      "Epoch 3/20\n",
      "100/100 [==============================] - 13s 135ms/step - loss: 0.2789 - acc: 0.8750 - val_loss: 0.2520 - val_acc: 0.9030\n",
      "Epoch 4/20\n",
      "100/100 [==============================] - 13s 132ms/step - loss: 0.2740 - acc: 0.8755 - val_loss: 0.2972 - val_acc: 0.8800\n",
      "Epoch 5/20\n",
      "100/100 [==============================] - 13s 134ms/step - loss: 0.2581 - acc: 0.8895 - val_loss: 0.2849 - val_acc: 0.8850\n",
      "Epoch 6/20\n",
      "100/100 [==============================] - 13s 131ms/step - loss: 0.2456 - acc: 0.8935 - val_loss: 0.2483 - val_acc: 0.8990\n",
      "Epoch 7/20\n",
      "100/100 [==============================] - 13s 131ms/step - loss: 0.2115 - acc: 0.9070 - val_loss: 0.2462 - val_acc: 0.9040\n",
      "Epoch 8/20\n",
      "100/100 [==============================] - 13s 132ms/step - loss: 0.2177 - acc: 0.9050 - val_loss: 0.2950 - val_acc: 0.8850\n",
      "Epoch 9/20\n",
      "100/100 [==============================] - 13s 134ms/step - loss: 0.2093 - acc: 0.9120 - val_loss: 0.2497 - val_acc: 0.8990\n",
      "Epoch 10/20\n",
      "100/100 [==============================] - 14s 136ms/step - loss: 0.2123 - acc: 0.9110 - val_loss: 0.2523 - val_acc: 0.9050\n",
      "Epoch 11/20\n",
      "100/100 [==============================] - 13s 134ms/step - loss: 0.1917 - acc: 0.9150 - val_loss: 0.2504 - val_acc: 0.8950\n",
      "Epoch 12/20\n",
      "100/100 [==============================] - 14s 136ms/step - loss: 0.1914 - acc: 0.9205 - val_loss: 0.2658 - val_acc: 0.8990\n",
      "Epoch 13/20\n",
      "100/100 [==============================] - 14s 135ms/step - loss: 0.1873 - acc: 0.9150 - val_loss: 0.2491 - val_acc: 0.9100\n",
      "Epoch 14/20\n",
      "100/100 [==============================] - 13s 132ms/step - loss: 0.1676 - acc: 0.9310 - val_loss: 0.2526 - val_acc: 0.8940\n",
      "Epoch 15/20\n",
      "100/100 [==============================] - 13s 134ms/step - loss: 0.1706 - acc: 0.9270 - val_loss: 0.2654 - val_acc: 0.8950\n",
      "Epoch 16/20\n",
      "100/100 [==============================] - 13s 131ms/step - loss: 0.1733 - acc: 0.9280 - val_loss: 0.2771 - val_acc: 0.8970\n",
      "Epoch 17/20\n",
      "100/100 [==============================] - 13s 134ms/step - loss: 0.1716 - acc: 0.9270 - val_loss: 0.2974 - val_acc: 0.8890\n",
      "Epoch 18/20\n",
      "100/100 [==============================] - 13s 135ms/step - loss: 0.1358 - acc: 0.9450 - val_loss: 0.2585 - val_acc: 0.9040\n",
      "Epoch 19/20\n",
      "100/100 [==============================] - 13s 134ms/step - loss: 0.1471 - acc: 0.9430 - val_loss: 0.2714 - val_acc: 0.9100\n",
      "Epoch 20/20\n",
      "100/100 [==============================] - 13s 133ms/step - loss: 0.1534 - acc: 0.9390 - val_loss: 0.3141 - val_acc: 0.8870\n"
     ]
    }
   ],
   "source": [
    "h4=model4.fit_generator(generator=train_generator,\n",
    "                      steps_per_epoch=100,\n",
    "                     epochs=20,\n",
    "                     validation_data=test_generator,\n",
    "                     validation_steps=50)"
   ]
  },
  {
   "cell_type": "code",
   "execution_count": 61,
   "id": "municipal-integral",
   "metadata": {},
   "outputs": [
    {
     "data": {
      "text/plain": [
       "<matplotlib.legend.Legend at 0x2e50b220dd8>"
      ]
     },
     "execution_count": 61,
     "metadata": {},
     "output_type": "execute_result"
    },
    {
     "data": {
      "image/png": "[encoded data removed]",
      "text/plain": [
       "<Figure size 432x288 with 1 Axes>"
      ]
     },
     "metadata": {
      "needs_background": "light"
     },
     "output_type": "display_data"
    }
   ],
   "source": [
    "import matplotlib.pyplot as plt\n",
    "acc=h4.history[\"acc\"]\n",
    "val_acc=h4.history[\"val_acc\"]\n",
    "\n",
    "epochs=np.arange(len(acc))\n",
    "\n",
    "plt.plot(epochs,acc,c=\"red\",label=\"Train\")\n",
    "plt.plot(epochs,val_acc,c=\"pink\",label=\"Test\")\n",
    "plt.legend()"
   ]
  },
  {
   "cell_type": "code",
   "execution_count": null,
   "id": "bizarre-implement",
   "metadata": {},
   "outputs": [],
   "source": []
  }
 ],
 "metadata": {
  "kernelspec": {
   "display_name": "Python 3",
   "language": "python",
   "name": "python3"
  },
  "language_info": {
   "codemirror_mode": {
    "name": "ipython",
    "version": 3
   },
   "file_extension": ".py",
   "mimetype": "text/x-python",
   "name": "python",
   "nbconvert_exporter": "python",
   "pygments_lexer": "ipython3",
   "version": "3.6.12"
  }
 },
 "nbformat": 4,
 "nbformat_minor": 5
}
