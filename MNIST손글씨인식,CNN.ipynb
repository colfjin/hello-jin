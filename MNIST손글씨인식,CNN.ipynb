{
 "cells": [
  {
   "cell_type": "markdown",
   "metadata": {},
   "source": [
    "### 손글씨 숫자 이미지 데이터(MNIST)를 이용해서 숫자를 인식"
   ]
  },
  {
   "cell_type": "markdown",
   "metadata": {},
   "source": [
    "(1) 문제정의\n",
    "- keras를 이용해서 손글씨 숫자 이미지 인식 신경망을 설계하고 학습"
   ]
  },
  {
   "cell_type": "code",
   "execution_count": null,
   "metadata": {},
   "outputs": [],
   "source": []
  },
  {
   "cell_type": "code",
   "execution_count": 1,
   "metadata": {},
   "outputs": [
    {
     "name": "stdout",
     "output_type": "stream",
     "text": [
      "Requirement already satisfied: astunparse==1.6.3 in c:\\users\\smt063\\anaconda3\\envs\\deep\\lib\\site-packages (1.6.3)\n",
      "Requirement already satisfied: six<2.0,>=1.6.1 in c:\\users\\smt063\\anaconda3\\envs\\deep\\lib\\site-packages (from astunparse==1.6.3) (1.15.0)\n",
      "Requirement already satisfied: wheel<1.0,>=0.23.0 in c:\\users\\smt063\\anaconda3\\envs\\deep\\lib\\site-packages (from astunparse==1.6.3) (0.36.2)\n"
     ]
    }
   ],
   "source": [
    "!pip install \"astunparse==1.6.3\""
   ]
  },
  {
   "cell_type": "markdown",
   "metadata": {},
   "source": [
    "(2) 데이터 수집"
   ]
  },
  {
   "cell_type": "code",
   "execution_count": 2,
   "metadata": {},
   "outputs": [],
   "source": [
    "from tensorflow.keras.datasets import mnist"
   ]
  },
  {
   "cell_type": "code",
   "execution_count": 3,
   "metadata": {},
   "outputs": [],
   "source": [
    "(train_images, train_labels),(test_images, test_labels)=mnist.load_data()"
   ]
  },
  {
   "cell_type": "markdown",
   "metadata": {},
   "source": [
    "(3) 데이터 전처리\n",
    "(4) 데이터 탐색/시각화"
   ]
  },
  {
   "cell_type": "code",
   "execution_count": 4,
   "metadata": {},
   "outputs": [
    {
     "data": {
      "text/plain": [
       "((60000, 28, 28), (60000,))"
      ]
     },
     "execution_count": 4,
     "metadata": {},
     "output_type": "execute_result"
    }
   ],
   "source": [
    "#데이터 크기\n",
    "train_images.shape,train_labels.shape\n",
    "#특성의 수 : 28*28=784개의 특성"
   ]
  },
  {
   "cell_type": "code",
   "execution_count": 5,
   "metadata": {},
   "outputs": [
    {
     "data": {
      "text/plain": [
       "((10000, 28, 28), (10000,))"
      ]
     },
     "execution_count": 5,
     "metadata": {},
     "output_type": "execute_result"
    }
   ],
   "source": [
    "test_images.shape,test_labels.shape"
   ]
  },
  {
   "cell_type": "code",
   "execution_count": 6,
   "metadata": {},
   "outputs": [
    {
     "data": {
      "text/plain": [
       "<matplotlib.image.AxesImage at 0x159100e0160>"
      ]
     },
     "execution_count": 6,
     "metadata": {},
     "output_type": "execute_result"
    },
    {
     "data": {
      "image/png": "[encoded data removed]",
      "text/plain": [
       "<Figure size 432x288 with 1 Axes>"
      ]
     },
     "metadata": {
      "needs_background": "light"
     },
     "output_type": "display_data"
    }
   ],
   "source": [
    "#이미지 데이터 시각화\n",
    "import matplotlib.pyplot as plt\n",
    "\n",
    "digit=train_images[9]\n",
    "\n",
    "#cmap=plt.cm.binary: 색상을 흑백으로 출력\n",
    "plt.imshow(digit, cmap=plt.cm.binary)"
   ]
  },
  {
   "cell_type": "code",
   "execution_count": 7,
   "metadata": {},
   "outputs": [
    {
     "data": {
      "text/plain": [
       "((60000, 784), (10000, 784))"
      ]
     },
     "execution_count": 7,
     "metadata": {},
     "output_type": "execute_result"
    }
   ],
   "source": [
    "#이미지를 사용하려면 2차원 이미지 데이터를 1차원으로 변환\n",
    "train_images=train_images.reshape((60000,28*28))\n",
    "test_images=test_images.reshape((10000,28*28))\n",
    "\n",
    "train_images.shape,test_images.shape"
   ]
  },
  {
   "cell_type": "code",
   "execution_count": 8,
   "metadata": {
    "scrolled": true
   },
   "outputs": [
    {
     "data": {
      "text/plain": [
       "array([  0,   0,   0,   0,   0,   0,   0,   0,   0,   0,   0,   0,   0,\n",
       "         0,   0,   0,   0,   0,   0,   0,   0,   0,   0,   0,   0,   0,\n",
       "         0,   0,   0,   0,   0,   0,   0,   0,   0,   0,   0,   0,   0,\n",
       "         0,   0,   0,   0,   0,   0,   0,   0,   0,   0,   0,   0,   0,\n",
       "         0,   0,   0,   0,   0,   0,   0,   0,   0,   0,   0,   0,   0,\n",
       "         0,   0,   0,   0,   0,   0,   0,   0,   0,   0,   0,   0,   0,\n",
       "         0,   0,   0,   0,   0,   0,   0,   0,   0,   0,   0,   0,   0,\n",
       "         0,   0,   0,   0,   0,   0,   0,   0,   0,   0,   0,   0,   0,\n",
       "         0,   0,   0,   0,   0,   0,   0,   0,   0,   0,   0,   0,   0,\n",
       "         0,   0,   0,   0,   0,   0,   0,   0,   0,   0,   0,   0,   0,\n",
       "         0,   0,   0,   0, 189, 190,   0,   0,   0,   0,   0,   0,   0,\n",
       "         0,   0,   0,   0,   0,   0,   0,   0,   0,   0,   0,   0,   0,\n",
       "         0,   0,   0,   0,   0, 143, 247, 153,   0,   0,   0,   0,   0,\n",
       "         0,   0,   0,   0,   0,   0,   0,   0,   0,   0,   0,   0,   0,\n",
       "         0,   0,   0,   0,   0,   0, 136, 247, 242,  86,   0,   0,   0,\n",
       "         0,   0,   0,   0,   0,   0,   0,   0,   0,   0,   0,   0,   0,\n",
       "         0,   0,   0,   0,   0,   0,   0,   0, 192, 252, 187,   0,   0,\n",
       "         0,   0,   0,   0,   0,   0,   0,   0,   0,   0,   0,   0,   0,\n",
       "         0,   0,  62, 185,  18,   0,   0,   0,   0,  89, 236, 217,  47,\n",
       "         0,   0,   0,   0,   0,   0,   0,   0,   0,   0,   0,   0,   0,\n",
       "         0,   0,   0,   0, 216, 253,  60,   0,   0,   0,   0, 212, 255,\n",
       "        81,   0,   0,   0,   0,   0,   0,   0,   0,   0,   0,   0,   0,\n",
       "         0,   0,   0,   0,   0,   0, 206, 252,  68,   0,   0,   0,  48,\n",
       "       242, 253,  89,   0,   0,   0,   0,   0,   0,   0,   0,   0,   0,\n",
       "         0,   0,   0,   0,   0,   0,   0, 131, 251, 212,  21,   0,   0,\n",
       "        11, 167, 252, 197,   5,   0,   0,   0,   0,   0,   0,   0,   0,\n",
       "         0,   0,   0,   0,   0,   0,   0,   0,  29, 232, 247,  63,   0,\n",
       "         0,   0, 153, 252, 226,   0,   0,   0,   0,   0,   0,   0,   0,\n",
       "         0,   0,   0,   0,   0,   0,   0,   0,   0,  45, 219, 252, 143,\n",
       "         0,   0,   0, 116, 249, 252, 103,   0,   0,   0,   0,   0,   0,\n",
       "         0,   0,   0,   0,   0,   0,   0,   0,   0,   4,  96, 253, 255,\n",
       "       253, 200, 122,   7,  25, 201, 250, 158,   0,   0,   0,   0,   0,\n",
       "         0,   0,   0,   0,   0,   0,   0,   0,   0,   0,   0,  92, 252,\n",
       "       252, 253, 217, 252, 252, 200, 227, 252, 231,   0,   0,   0,   0,\n",
       "         0,   0,   0,   0,   0,   0,   0,   0,   0,   0,   0,   0,  87,\n",
       "       251, 247, 231,  65,  48, 189, 252, 252, 253, 252, 251, 227,  35,\n",
       "         0,   0,   0,   0,   0,   0,   0,   0,   0,   0,   0,   0,   0,\n",
       "         0, 190, 221,  98,   0,   0,   0,  42, 196, 252, 253, 252, 252,\n",
       "       162,   0,   0,   0,   0,   0,   0,   0,   0,   0,   0,   0,   0,\n",
       "         0,   0,   0, 111,  29,   0,   0,   0,   0,  62, 239, 252,  86,\n",
       "        42,  42,  14,   0,   0,   0,   0,   0,   0,   0,   0,   0,   0,\n",
       "         0,   0,   0,   0,   0,   0,   0,   0,   0,   0,  15, 148, 253,\n",
       "       218,   0,   0,   0,   0,   0,   0,   0,   0,   0,   0,   0,   0,\n",
       "         0,   0,   0,   0,   0,   0,   0,   0,   0,   0,   0,   0, 121,\n",
       "       252, 231,  28,   0,   0,   0,   0,   0,   0,   0,   0,   0,   0,\n",
       "         0,   0,   0,   0,   0,   0,   0,   0,   0,   0,   0,   0,   0,\n",
       "        31, 221, 251, 129,   0,   0,   0,   0,   0,   0,   0,   0,   0,\n",
       "         0,   0,   0,   0,   0,   0,   0,   0,   0,   0,   0,   0,   0,\n",
       "         0,   0, 218, 252, 160,   0,   0,   0,   0,   0,   0,   0,   0,\n",
       "         0,   0,   0,   0,   0,   0,   0,   0,   0,   0,   0,   0,   0,\n",
       "         0,   0,   0,   0, 122, 252,  82,   0,   0,   0,   0,   0,   0,\n",
       "         0,   0,   0,   0,   0,   0,   0,   0,   0,   0,   0,   0,   0,\n",
       "         0,   0,   0,   0,   0,   0,   0,   0,   0,   0,   0,   0,   0,\n",
       "         0,   0,   0,   0,   0,   0,   0,   0,   0,   0,   0,   0,   0,\n",
       "         0,   0,   0,   0,   0,   0,   0,   0,   0,   0,   0,   0,   0,\n",
       "         0,   0,   0,   0,   0,   0,   0,   0,   0,   0,   0,   0,   0,\n",
       "         0,   0,   0,   0,   0,   0,   0,   0,   0,   0,   0,   0,   0,\n",
       "         0,   0,   0,   0,   0,   0,   0,   0,   0,   0,   0,   0,   0,\n",
       "         0,   0,   0,   0,   0,   0,   0,   0,   0,   0,   0,   0,   0,\n",
       "         0,   0,   0,   0,   0,   0,   0,   0,   0,   0,   0,   0,   0,\n",
       "         0,   0,   0,   0], dtype=uint8)"
      ]
     },
     "execution_count": 8,
     "metadata": {},
     "output_type": "execute_result"
    }
   ],
   "source": [
    "train_images[9]"
   ]
  },
  {
   "cell_type": "code",
   "execution_count": 9,
   "metadata": {},
   "outputs": [],
   "source": [
    "#이미지의 픽셀값은 0-255로 구성 \n",
    "#기계는 0과 1사이값으로 된 숫자로 변환해주는 것이 좋음(가장 큰 값으로 나눔)\n",
    "train_images=train_images.astype(\"float32\")/255\n",
    "test_images=test_images.astype(\"float32\")/255"
   ]
  },
  {
   "cell_type": "code",
   "execution_count": 10,
   "metadata": {},
   "outputs": [
    {
     "data": {
      "text/plain": [
       "array([0.        , 0.        , 0.        , 0.        , 0.        ,\n",
       "       0.        , 0.        , 0.        , 0.        , 0.        ,\n",
       "       0.        , 0.        , 0.        , 0.        , 0.        ,\n",
       "       0.        , 0.        , 0.        , 0.        , 0.        ,\n",
       "       0.        , 0.        , 0.        , 0.        , 0.        ,\n",
       "       0.        , 0.        , 0.        , 0.        , 0.        ,\n",
       "       0.        , 0.        , 0.        , 0.        , 0.        ,\n",
       "       0.        , 0.        , 0.        , 0.        , 0.        ,\n",
       "       0.        , 0.        , 0.        , 0.        , 0.        ,\n",
       "       0.        , 0.        , 0.        , 0.        , 0.        ,\n",
       "       0.        , 0.        , 0.        , 0.        , 0.        ,\n",
       "       0.        , 0.        , 0.        , 0.        , 0.        ,\n",
       "       0.        , 0.        , 0.        , 0.        , 0.        ,\n",
       "       0.        , 0.        , 0.        , 0.        , 0.        ,\n",
       "       0.        , 0.        , 0.        , 0.        , 0.        ,\n",
       "       0.        , 0.        , 0.        , 0.        , 0.        ,\n",
       "       0.        , 0.        , 0.        , 0.        , 0.        ,\n",
       "       0.        , 0.        , 0.        , 0.        , 0.        ,\n",
       "       0.        , 0.        , 0.        , 0.        , 0.        ,\n",
       "       0.        , 0.        , 0.        , 0.        , 0.        ,\n",
       "       0.        , 0.        , 0.        , 0.        , 0.        ,\n",
       "       0.        , 0.        , 0.        , 0.        , 0.        ,\n",
       "       0.        , 0.        , 0.        , 0.        , 0.        ,\n",
       "       0.        , 0.        , 0.        , 0.        , 0.        ,\n",
       "       0.        , 0.        , 0.        , 0.        , 0.        ,\n",
       "       0.        , 0.        , 0.        , 0.        , 0.        ,\n",
       "       0.        , 0.        , 0.        , 0.        , 0.7411765 ,\n",
       "       0.74509805, 0.        , 0.        , 0.        , 0.        ,\n",
       "       0.        , 0.        , 0.        , 0.        , 0.        ,\n",
       "       0.        , 0.        , 0.        , 0.        , 0.        ,\n",
       "       0.        , 0.        , 0.        , 0.        , 0.        ,\n",
       "       0.        , 0.        , 0.        , 0.        , 0.        ,\n",
       "       0.        , 0.56078434, 0.96862745, 0.6       , 0.        ,\n",
       "       0.        , 0.        , 0.        , 0.        , 0.        ,\n",
       "       0.        , 0.        , 0.        , 0.        , 0.        ,\n",
       "       0.        , 0.        , 0.        , 0.        , 0.        ,\n",
       "       0.        , 0.        , 0.        , 0.        , 0.        ,\n",
       "       0.        , 0.        , 0.        , 0.53333336, 0.96862745,\n",
       "       0.9490196 , 0.3372549 , 0.        , 0.        , 0.        ,\n",
       "       0.        , 0.        , 0.        , 0.        , 0.        ,\n",
       "       0.        , 0.        , 0.        , 0.        , 0.        ,\n",
       "       0.        , 0.        , 0.        , 0.        , 0.        ,\n",
       "       0.        , 0.        , 0.        , 0.        , 0.        ,\n",
       "       0.        , 0.7529412 , 0.9882353 , 0.73333335, 0.        ,\n",
       "       0.        , 0.        , 0.        , 0.        , 0.        ,\n",
       "       0.        , 0.        , 0.        , 0.        , 0.        ,\n",
       "       0.        , 0.        , 0.        , 0.        , 0.        ,\n",
       "       0.        , 0.24313726, 0.7254902 , 0.07058824, 0.        ,\n",
       "       0.        , 0.        , 0.        , 0.34901962, 0.9254902 ,\n",
       "       0.8509804 , 0.18431373, 0.        , 0.        , 0.        ,\n",
       "       0.        , 0.        , 0.        , 0.        , 0.        ,\n",
       "       0.        , 0.        , 0.        , 0.        , 0.        ,\n",
       "       0.        , 0.        , 0.        , 0.        , 0.84705883,\n",
       "       0.99215686, 0.23529412, 0.        , 0.        , 0.        ,\n",
       "       0.        , 0.83137256, 1.        , 0.31764707, 0.        ,\n",
       "       0.        , 0.        , 0.        , 0.        , 0.        ,\n",
       "       0.        , 0.        , 0.        , 0.        , 0.        ,\n",
       "       0.        , 0.        , 0.        , 0.        , 0.        ,\n",
       "       0.        , 0.        , 0.80784315, 0.9882353 , 0.26666668,\n",
       "       0.        , 0.        , 0.        , 0.1882353 , 0.9490196 ,\n",
       "       0.99215686, 0.34901962, 0.        , 0.        , 0.        ,\n",
       "       0.        , 0.        , 0.        , 0.        , 0.        ,\n",
       "       0.        , 0.        , 0.        , 0.        , 0.        ,\n",
       "       0.        , 0.        , 0.        , 0.        , 0.5137255 ,\n",
       "       0.9843137 , 0.83137256, 0.08235294, 0.        , 0.        ,\n",
       "       0.04313726, 0.654902  , 0.9882353 , 0.77254903, 0.01960784,\n",
       "       0.        , 0.        , 0.        , 0.        , 0.        ,\n",
       "       0.        , 0.        , 0.        , 0.        , 0.        ,\n",
       "       0.        , 0.        , 0.        , 0.        , 0.        ,\n",
       "       0.        , 0.11372549, 0.9098039 , 0.96862745, 0.24705882,\n",
       "       0.        , 0.        , 0.        , 0.6       , 0.9882353 ,\n",
       "       0.8862745 , 0.        , 0.        , 0.        , 0.        ,\n",
       "       0.        , 0.        , 0.        , 0.        , 0.        ,\n",
       "       0.        , 0.        , 0.        , 0.        , 0.        ,\n",
       "       0.        , 0.        , 0.        , 0.1764706 , 0.85882354,\n",
       "       0.9882353 , 0.56078434, 0.        , 0.        , 0.        ,\n",
       "       0.45490196, 0.9764706 , 0.9882353 , 0.40392157, 0.        ,\n",
       "       0.        , 0.        , 0.        , 0.        , 0.        ,\n",
       "       0.        , 0.        , 0.        , 0.        , 0.        ,\n",
       "       0.        , 0.        , 0.        , 0.        , 0.01568628,\n",
       "       0.3764706 , 0.99215686, 1.        , 0.99215686, 0.78431374,\n",
       "       0.47843137, 0.02745098, 0.09803922, 0.7882353 , 0.98039216,\n",
       "       0.61960787, 0.        , 0.        , 0.        , 0.        ,\n",
       "       0.        , 0.        , 0.        , 0.        , 0.        ,\n",
       "       0.        , 0.        , 0.        , 0.        , 0.        ,\n",
       "       0.        , 0.        , 0.36078432, 0.9882353 , 0.9882353 ,\n",
       "       0.99215686, 0.8509804 , 0.9882353 , 0.9882353 , 0.78431374,\n",
       "       0.8901961 , 0.9882353 , 0.90588236, 0.        , 0.        ,\n",
       "       0.        , 0.        , 0.        , 0.        , 0.        ,\n",
       "       0.        , 0.        , 0.        , 0.        , 0.        ,\n",
       "       0.        , 0.        , 0.        , 0.        , 0.34117648,\n",
       "       0.9843137 , 0.96862745, 0.90588236, 0.25490198, 0.1882353 ,\n",
       "       0.7411765 , 0.9882353 , 0.9882353 , 0.99215686, 0.9882353 ,\n",
       "       0.9843137 , 0.8901961 , 0.13725491, 0.        , 0.        ,\n",
       "       0.        , 0.        , 0.        , 0.        , 0.        ,\n",
       "       0.        , 0.        , 0.        , 0.        , 0.        ,\n",
       "       0.        , 0.        , 0.74509805, 0.8666667 , 0.38431373,\n",
       "       0.        , 0.        , 0.        , 0.16470589, 0.76862746,\n",
       "       0.9882353 , 0.99215686, 0.9882353 , 0.9882353 , 0.63529414,\n",
       "       0.        , 0.        , 0.        , 0.        , 0.        ,\n",
       "       0.        , 0.        , 0.        , 0.        , 0.        ,\n",
       "       0.        , 0.        , 0.        , 0.        , 0.        ,\n",
       "       0.43529412, 0.11372549, 0.        , 0.        , 0.        ,\n",
       "       0.        , 0.24313726, 0.9372549 , 0.9882353 , 0.3372549 ,\n",
       "       0.16470589, 0.16470589, 0.05490196, 0.        , 0.        ,\n",
       "       0.        , 0.        , 0.        , 0.        , 0.        ,\n",
       "       0.        , 0.        , 0.        , 0.        , 0.        ,\n",
       "       0.        , 0.        , 0.        , 0.        , 0.        ,\n",
       "       0.        , 0.        , 0.        , 0.05882353, 0.5803922 ,\n",
       "       0.99215686, 0.85490197, 0.        , 0.        , 0.        ,\n",
       "       0.        , 0.        , 0.        , 0.        , 0.        ,\n",
       "       0.        , 0.        , 0.        , 0.        , 0.        ,\n",
       "       0.        , 0.        , 0.        , 0.        , 0.        ,\n",
       "       0.        , 0.        , 0.        , 0.        , 0.        ,\n",
       "       0.        , 0.4745098 , 0.9882353 , 0.90588236, 0.10980392,\n",
       "       0.        , 0.        , 0.        , 0.        , 0.        ,\n",
       "       0.        , 0.        , 0.        , 0.        , 0.        ,\n",
       "       0.        , 0.        , 0.        , 0.        , 0.        ,\n",
       "       0.        , 0.        , 0.        , 0.        , 0.        ,\n",
       "       0.        , 0.        , 0.        , 0.12156863, 0.8666667 ,\n",
       "       0.9843137 , 0.5058824 , 0.        , 0.        , 0.        ,\n",
       "       0.        , 0.        , 0.        , 0.        , 0.        ,\n",
       "       0.        , 0.        , 0.        , 0.        , 0.        ,\n",
       "       0.        , 0.        , 0.        , 0.        , 0.        ,\n",
       "       0.        , 0.        , 0.        , 0.        , 0.        ,\n",
       "       0.        , 0.85490197, 0.9882353 , 0.627451  , 0.        ,\n",
       "       0.        , 0.        , 0.        , 0.        , 0.        ,\n",
       "       0.        , 0.        , 0.        , 0.        , 0.        ,\n",
       "       0.        , 0.        , 0.        , 0.        , 0.        ,\n",
       "       0.        , 0.        , 0.        , 0.        , 0.        ,\n",
       "       0.        , 0.        , 0.        , 0.        , 0.47843137,\n",
       "       0.9882353 , 0.32156864, 0.        , 0.        , 0.        ,\n",
       "       0.        , 0.        , 0.        , 0.        , 0.        ,\n",
       "       0.        , 0.        , 0.        , 0.        , 0.        ,\n",
       "       0.        , 0.        , 0.        , 0.        , 0.        ,\n",
       "       0.        , 0.        , 0.        , 0.        , 0.        ,\n",
       "       0.        , 0.        , 0.        , 0.        , 0.        ,\n",
       "       0.        , 0.        , 0.        , 0.        , 0.        ,\n",
       "       0.        , 0.        , 0.        , 0.        , 0.        ,\n",
       "       0.        , 0.        , 0.        , 0.        , 0.        ,\n",
       "       0.        , 0.        , 0.        , 0.        , 0.        ,\n",
       "       0.        , 0.        , 0.        , 0.        , 0.        ,\n",
       "       0.        , 0.        , 0.        , 0.        , 0.        ,\n",
       "       0.        , 0.        , 0.        , 0.        , 0.        ,\n",
       "       0.        , 0.        , 0.        , 0.        , 0.        ,\n",
       "       0.        , 0.        , 0.        , 0.        , 0.        ,\n",
       "       0.        , 0.        , 0.        , 0.        , 0.        ,\n",
       "       0.        , 0.        , 0.        , 0.        , 0.        ,\n",
       "       0.        , 0.        , 0.        , 0.        , 0.        ,\n",
       "       0.        , 0.        , 0.        , 0.        , 0.        ,\n",
       "       0.        , 0.        , 0.        , 0.        , 0.        ,\n",
       "       0.        , 0.        , 0.        , 0.        , 0.        ,\n",
       "       0.        , 0.        , 0.        , 0.        , 0.        ,\n",
       "       0.        , 0.        , 0.        , 0.        , 0.        ,\n",
       "       0.        , 0.        , 0.        , 0.        , 0.        ,\n",
       "       0.        , 0.        , 0.        , 0.        , 0.        ,\n",
       "       0.        , 0.        , 0.        , 0.        ], dtype=float32)"
      ]
     },
     "execution_count": 10,
     "metadata": {},
     "output_type": "execute_result"
    }
   ],
   "source": [
    "train_images[9]"
   ]
  },
  {
   "cell_type": "code",
   "execution_count": 11,
   "metadata": {},
   "outputs": [
    {
     "data": {
      "text/plain": [
       "((60000,), (10000,))"
      ]
     },
     "execution_count": 11,
     "metadata": {},
     "output_type": "execute_result"
    }
   ],
   "source": [
    "train_labels.shape,test_labels.shape"
   ]
  },
  {
   "cell_type": "code",
   "execution_count": 12,
   "metadata": {},
   "outputs": [
    {
     "data": {
      "text/plain": [
       "((60000, 10), (10000, 10))"
      ]
     },
     "execution_count": 12,
     "metadata": {},
     "output_type": "execute_result"
    }
   ],
   "source": [
    "import pandas as pd\n",
    "#다중분류(10개)\n",
    "# 라벨을 원핫 인코딩\n",
    "train_labels_en=pd.get_dummies(train_labels)\n",
    "test_labels_en=pd.get_dummies(test_labels)\n",
    "train_labels_en.shape,test_labels_en.shape"
   ]
  },
  {
   "cell_type": "markdown",
   "metadata": {},
   "source": [
    "(5) 신경망 설계"
   ]
  },
  {
   "cell_type": "code",
   "execution_count": 13,
   "metadata": {},
   "outputs": [],
   "source": [
    "#초기화를 위한 seed 설정\n",
    "import numpy as np\n",
    "import tensorflow as tf\n",
    "\n",
    "seed=0\n",
    "np.random.seed(seed)\n",
    "tf.random.set_seed(seed)"
   ]
  },
  {
   "cell_type": "code",
   "execution_count": 14,
   "metadata": {
    "scrolled": true
   },
   "outputs": [],
   "source": [
    "#신경망 설계\n",
    "from tensorflow.keras.models import Sequential\n",
    "from tensorflow.keras.layers import Dense\n",
    "\n",
    "model=Sequential()\n",
    "#입력층\n",
    "model.add(Dense(1568,input_dim=784,activation=\"relu\"))\n",
    "#은닉층\n",
    "model.add(Dense(3136,activation=\"relu\"))\n",
    "#출력층\n",
    "model.add(Dense(10,activation=\"softmax\"))\n",
    "model.compile(loss=\"categorical_crossentropy\",\n",
    "             optimizer=\"adam\",\n",
    "             metrics=[\"acc\"])\n"
   ]
  },
  {
   "cell_type": "code",
   "execution_count": 15,
   "metadata": {},
   "outputs": [
    {
     "name": "stdout",
     "output_type": "stream",
     "text": [
      "Epoch 1/5\n",
      "WARNING:tensorflow:AutoGraph could not transform <function Model.make_train_function.<locals>.train_function at 0x000001590F5B0A60> and will run it as-is.\n",
      "Please report this to the TensorFlow team. When filing the bug, set the verbosity to 10 (on Linux, `export AUTOGRAPH_VERBOSITY=10`) and attach the full output.\n",
      "Cause: 'arguments' object has no attribute 'posonlyargs'\n",
      "To silence this warning, decorate the function with @tf.autograph.experimental.do_not_convert\n",
      "WARNING: AutoGraph could not transform <function Model.make_train_function.<locals>.train_function at 0x000001590F5B0A60> and will run it as-is.\n",
      "Please report this to the TensorFlow team. When filing the bug, set the verbosity to 10 (on Linux, `export AUTOGRAPH_VERBOSITY=10`) and attach the full output.\n",
      "Cause: 'arguments' object has no attribute 'posonlyargs'\n",
      "To silence this warning, decorate the function with @tf.autograph.experimental.do_not_convert\n",
      "469/469 [==============================] - 2s 3ms/step - loss: 0.1742 - acc: 0.9463\n",
      "Epoch 2/5\n",
      "469/469 [==============================] - 2s 3ms/step - loss: 0.0699 - acc: 0.9781\n",
      "Epoch 3/5\n",
      "469/469 [==============================] - 2s 3ms/step - loss: 0.0514 - acc: 0.9838\n",
      "Epoch 4/5\n",
      "469/469 [==============================] - 2s 3ms/step - loss: 0.0356 - acc: 0.9888\n",
      "Epoch 5/5\n",
      "469/469 [==============================] - 2s 3ms/step - loss: 0.0301 - acc: 0.9902\n"
     ]
    },
    {
     "data": {
      "text/plain": [
       "<tensorflow.python.keras.callbacks.History at 0x1590f5f1ba8>"
      ]
     },
     "execution_count": 15,
     "metadata": {},
     "output_type": "execute_result"
    }
   ],
   "source": [
    "model.fit(train_images,train_labels_en,epochs=5,batch_size=128)"
   ]
  },
  {
   "cell_type": "code",
   "execution_count": 16,
   "metadata": {},
   "outputs": [
    {
     "name": "stdout",
     "output_type": "stream",
     "text": [
      "WARNING:tensorflow:AutoGraph could not transform <function Model.make_test_function.<locals>.test_function at 0x00000159125E2D08> and will run it as-is.\n",
      "Please report this to the TensorFlow team. When filing the bug, set the verbosity to 10 (on Linux, `export AUTOGRAPH_VERBOSITY=10`) and attach the full output.\n",
      "Cause: 'arguments' object has no attribute 'posonlyargs'\n",
      "To silence this warning, decorate the function with @tf.autograph.experimental.do_not_convert\n",
      "WARNING: AutoGraph could not transform <function Model.make_test_function.<locals>.test_function at 0x00000159125E2D08> and will run it as-is.\n",
      "Please report this to the TensorFlow team. When filing the bug, set the verbosity to 10 (on Linux, `export AUTOGRAPH_VERBOSITY=10`) and attach the full output.\n",
      "Cause: 'arguments' object has no attribute 'posonlyargs'\n",
      "To silence this warning, decorate the function with @tf.autograph.experimental.do_not_convert\n",
      "313/313 [==============================] - 0s 1ms/step - loss: 0.0753 - acc: 0.9793\n"
     ]
    },
    {
     "data": {
      "text/plain": [
       "[0.07534349709749222, 0.9793000221252441]"
      ]
     },
     "execution_count": 16,
     "metadata": {},
     "output_type": "execute_result"
    }
   ],
   "source": [
    "model.evaluate(test_images,test_labels_en)"
   ]
  },
  {
   "cell_type": "code",
   "execution_count": 17,
   "metadata": {},
   "outputs": [],
   "source": [
    "model2=Sequential()\n",
    "#입력층\n",
    "model2.add(Dense(1568,input_dim=784,activation=\"relu\"))\n",
    "#은닉층\n",
    "model2.add(Dense(3136,activation=\"relu\"))\n",
    "#출력층\n",
    "model2.add(Dense(10,activation=\"softmax\"))\n",
    "model2.compile(loss=\"categorical_crossentropy\",\n",
    "             optimizer=\"rmsprop\",\n",
    "             metrics=[\"acc\"])"
   ]
  },
  {
   "cell_type": "code",
   "execution_count": 18,
   "metadata": {},
   "outputs": [
    {
     "name": "stdout",
     "output_type": "stream",
     "text": [
      "Epoch 1/5\n",
      "WARNING:tensorflow:AutoGraph could not transform <function Model.make_train_function.<locals>.train_function at 0x0000015912817EA0> and will run it as-is.\n",
      "Please report this to the TensorFlow team. When filing the bug, set the verbosity to 10 (on Linux, `export AUTOGRAPH_VERBOSITY=10`) and attach the full output.\n",
      "Cause: 'arguments' object has no attribute 'posonlyargs'\n",
      "To silence this warning, decorate the function with @tf.autograph.experimental.do_not_convert\n",
      "WARNING: AutoGraph could not transform <function Model.make_train_function.<locals>.train_function at 0x0000015912817EA0> and will run it as-is.\n",
      "Please report this to the TensorFlow team. When filing the bug, set the verbosity to 10 (on Linux, `export AUTOGRAPH_VERBOSITY=10`) and attach the full output.\n",
      "Cause: 'arguments' object has no attribute 'posonlyargs'\n",
      "To silence this warning, decorate the function with @tf.autograph.experimental.do_not_convert\n",
      "469/469 [==============================] - 2s 4ms/step - loss: 0.2228 - acc: 0.9336\n",
      "Epoch 2/5\n",
      "469/469 [==============================] - 2s 4ms/step - loss: 0.0905 - acc: 0.9742\n",
      "Epoch 3/5\n",
      "469/469 [==============================] - 2s 4ms/step - loss: 0.0644 - acc: 0.9819\n",
      "Epoch 4/5\n",
      "469/469 [==============================] - 2s 4ms/step - loss: 0.0516 - acc: 0.9862\n",
      "Epoch 5/5\n",
      "469/469 [==============================] - 2s 4ms/step - loss: 0.0435 - acc: 0.9884\n"
     ]
    },
    {
     "data": {
      "text/plain": [
       "<tensorflow.python.keras.callbacks.History at 0x15912830320>"
      ]
     },
     "execution_count": 18,
     "metadata": {},
     "output_type": "execute_result"
    }
   ],
   "source": [
    "model2.fit(train_images,train_labels_en,epochs=5,batch_size=128)"
   ]
  },
  {
   "cell_type": "code",
   "execution_count": 19,
   "metadata": {},
   "outputs": [
    {
     "name": "stdout",
     "output_type": "stream",
     "text": [
      "WARNING:tensorflow:AutoGraph could not transform <function Model.make_test_function.<locals>.test_function at 0x000001590F1A8400> and will run it as-is.\n",
      "Please report this to the TensorFlow team. When filing the bug, set the verbosity to 10 (on Linux, `export AUTOGRAPH_VERBOSITY=10`) and attach the full output.\n",
      "Cause: 'arguments' object has no attribute 'posonlyargs'\n",
      "To silence this warning, decorate the function with @tf.autograph.experimental.do_not_convert\n",
      "WARNING: AutoGraph could not transform <function Model.make_test_function.<locals>.test_function at 0x000001590F1A8400> and will run it as-is.\n",
      "Please report this to the TensorFlow team. When filing the bug, set the verbosity to 10 (on Linux, `export AUTOGRAPH_VERBOSITY=10`) and attach the full output.\n",
      "Cause: 'arguments' object has no attribute 'posonlyargs'\n",
      "To silence this warning, decorate the function with @tf.autograph.experimental.do_not_convert\n",
      "313/313 [==============================] - 0s 1ms/step - loss: 0.1109 - acc: 0.9784\n"
     ]
    },
    {
     "data": {
      "text/plain": [
       "[0.11093610525131226, 0.9783999919891357]"
      ]
     },
     "execution_count": 19,
     "metadata": {},
     "output_type": "execute_result"
    }
   ],
   "source": [
    "model2.evaluate(test_images,test_labels_en)"
   ]
  },
  {
   "cell_type": "markdown",
   "metadata": {},
   "source": [
    "(7) 평가 / 예측"
   ]
  },
  {
   "cell_type": "code",
   "execution_count": 20,
   "metadata": {},
   "outputs": [
    {
     "name": "stdout",
     "output_type": "stream",
     "text": [
      "1875/1875 [==============================] - 3s 1ms/step - loss: 0.0207 - acc: 0.9934\n",
      "훈련 정확도 :  [0.0207159873098135, 0.993399977684021]\n",
      "313/313 [==============================] - 0s 1ms/step - loss: 0.0753 - acc: 0.9793\n",
      "테스트 정확도 :  [0.07534349709749222, 0.9793000221252441]\n"
     ]
    }
   ],
   "source": [
    "print(\"훈련 정확도 : \",model.evaluate(train_images, train_labels_en))\n",
    "print(\"테스트 정확도 : \",model.evaluate(test_images, test_labels_en))"
   ]
  },
  {
   "cell_type": "code",
   "execution_count": 21,
   "metadata": {},
   "outputs": [
    {
     "name": "stdout",
     "output_type": "stream",
     "text": [
      "WARNING:tensorflow:AutoGraph could not transform <function Model.make_predict_function.<locals>.predict_function at 0x000001593278BC80> and will run it as-is.\n",
      "Please report this to the TensorFlow team. When filing the bug, set the verbosity to 10 (on Linux, `export AUTOGRAPH_VERBOSITY=10`) and attach the full output.\n",
      "Cause: 'arguments' object has no attribute 'posonlyargs'\n",
      "To silence this warning, decorate the function with @tf.autograph.experimental.do_not_convert\n",
      "WARNING: AutoGraph could not transform <function Model.make_predict_function.<locals>.predict_function at 0x000001593278BC80> and will run it as-is.\n",
      "Please report this to the TensorFlow team. When filing the bug, set the verbosity to 10 (on Linux, `export AUTOGRAPH_VERBOSITY=10`) and attach the full output.\n",
      "Cause: 'arguments' object has no attribute 'posonlyargs'\n",
      "To silence this warning, decorate the function with @tf.autograph.experimental.do_not_convert\n",
      "[[2.3646590e-08 9.9997354e-01 2.4100278e-05 8.7955571e-10 4.0801785e-07\n",
      "  2.7294948e-07 4.9190919e-07 7.9191278e-07 4.1319336e-07 7.8111402e-09]]\n"
     ]
    }
   ],
   "source": [
    "pred=model.predict(test_images[2:3]) #1\n",
    "print(pred)"
   ]
  },
  {
   "cell_type": "code",
   "execution_count": 22,
   "metadata": {},
   "outputs": [
    {
     "data": {
      "text/plain": [
       "<matplotlib.image.AxesImage at 0x15939592d68>"
      ]
     },
     "execution_count": 22,
     "metadata": {},
     "output_type": "execute_result"
    },
    {
     "data": {
      "image/png": "[encoded data removed]",
      "text/plain": [
       "<Figure size 432x288 with 1 Axes>"
      ]
     },
     "metadata": {
      "needs_background": "light"
     },
     "output_type": "display_data"
    }
   ],
   "source": [
    "digit=test_images[2].reshape(28,28)\n",
    "\n",
    "#cmap=plt.cm.binary: 색상을 흑백으로 출력\n",
    "plt.imshow(digit, cmap=plt.cm.binary)"
   ]
  },
  {
   "cell_type": "code",
   "execution_count": 23,
   "metadata": {},
   "outputs": [],
   "source": [
    "import PIL.Image as pimg\n",
    "import numpy as np"
   ]
  },
  {
   "cell_type": "code",
   "execution_count": 24,
   "metadata": {},
   "outputs": [
    {
     "data": {
      "text/plain": [
       "<matplotlib.image.AxesImage at 0x159327a72b0>"
      ]
     },
     "execution_count": 24,
     "metadata": {},
     "output_type": "execute_result"
    },
    {
     "data": {
      "image/png": "[encoded data removed]",
      "text/plain": [
       "<Figure size 432x288 with 1 Axes>"
      ]
     },
     "metadata": {
      "needs_background": "light"
     },
     "output_type": "display_data"
    }
   ],
   "source": [
    "img=pimg.open(\"./data/3.jpg\").convert(\"L\")#흑백으로 바꾸기\n",
    "plt.imshow(img,cmap=\"gray\")"
   ]
  },
  {
   "cell_type": "code",
   "execution_count": 25,
   "metadata": {},
   "outputs": [
    {
     "data": {
      "text/plain": [
       "<matplotlib.image.AxesImage at 0x15939608a90>"
      ]
     },
     "execution_count": 25,
     "metadata": {},
     "output_type": "execute_result"
    },
    {
     "data": {
      "image/png": "[encoded data removed]",
      "text/plain": [
       "<Figure size 432x288 with 1 Axes>"
      ]
     },
     "metadata": {
      "needs_background": "light"
     },
     "output_type": "display_data"
    }
   ],
   "source": [
    "img2=pimg.open(\"./data/6.jpg\").convert(\"L\")#흑백으로 바꾸기\n",
    "plt.imshow(img2,cmap=\"gray\")"
   ]
  },
  {
   "cell_type": "code",
   "execution_count": 26,
   "metadata": {},
   "outputs": [
    {
     "data": {
      "text/plain": [
       "(28, 28)"
      ]
     },
     "execution_count": 26,
     "metadata": {},
     "output_type": "execute_result"
    }
   ],
   "source": [
    "#이미지 타입을 numpy 배열로 변환\n",
    "num=np.array(img)\n",
    "num.shape"
   ]
  },
  {
   "cell_type": "code",
   "execution_count": 27,
   "metadata": {},
   "outputs": [
    {
     "data": {
      "text/plain": [
       "(28, 28)"
      ]
     },
     "execution_count": 27,
     "metadata": {},
     "output_type": "execute_result"
    }
   ],
   "source": [
    "num2=np.array(img2)\n",
    "num2.shape"
   ]
  },
  {
   "cell_type": "code",
   "execution_count": 28,
   "metadata": {
    "scrolled": true
   },
   "outputs": [
    {
     "data": {
      "text/plain": [
       "array([[255, 255, 255, 255, 255, 255, 255, 255, 255, 255, 255, 252, 255,\n",
       "        254, 255, 254, 255, 255, 255, 255, 252, 254, 255, 255, 255, 255,\n",
       "        255, 255],\n",
       "       [255, 255, 255, 255, 255, 255, 255, 255, 255, 255, 252, 255, 251,\n",
       "        253, 161,  32,   1,  28, 151, 251, 255, 255, 252, 255, 255, 255,\n",
       "        255, 255],\n",
       "       [255, 255, 255, 255, 255, 255, 255, 255, 255, 252, 255, 158,  32,\n",
       "          6,   0,   0,   0,   5,   0, 140, 254, 253, 255, 254, 255, 255,\n",
       "        255, 255],\n",
       "       [255, 255, 255, 255, 255, 255, 255, 255, 255, 255, 128,   0,   1,\n",
       "          0,   0,   2,   0,   0,   0,   6, 255, 255, 253, 255, 255, 255,\n",
       "        255, 255],\n",
       "       [255, 255, 255, 255, 255, 255, 255, 255, 255, 124,   0,   2,   2,\n",
       "          0,   4,  88, 240,   0,   3,   0, 254, 255, 255, 253, 255, 255,\n",
       "        255, 255],\n",
       "       [255, 255, 255, 255, 255, 255, 255, 255, 151,   3,   3,   0,  72,\n",
       "        247, 253, 255, 255,   0,   0,   1, 255, 252, 254, 255, 255, 255,\n",
       "        255, 255],\n",
       "       [255, 255, 255, 255, 255, 255, 255, 255,  33,   0,   0,  71, 247,\n",
       "        255, 252, 255, 252,  15,   1,   0, 134, 253, 255, 255, 255, 255,\n",
       "        255, 255],\n",
       "       [255, 255, 255, 255, 255, 255, 255, 255, 127,   1,  83, 246, 255,\n",
       "        255, 255, 254, 255, 109,   0,   1,   8, 254, 255, 254, 255, 255,\n",
       "        255, 255],\n",
       "       [255, 255, 255, 255, 255, 255, 255, 255, 254, 233, 253, 254, 255,\n",
       "        255, 255, 253, 253, 249,   0,   1,   0, 255, 253, 255, 255, 255,\n",
       "        255, 255],\n",
       "       [255, 255, 255, 255, 255, 255, 255, 255, 252, 255, 255, 255, 254,\n",
       "        254, 255, 255, 255, 254,   0,   0,   2, 252, 255, 253, 255, 255,\n",
       "        255, 255],\n",
       "       [255, 255, 255, 255, 255, 255, 255, 255, 255, 255, 250, 255, 252,\n",
       "        255, 255, 254, 252, 254,   3,   1,   2, 255, 253, 255, 255, 255,\n",
       "        255, 255],\n",
       "       [255, 255, 255, 255, 255, 255, 255, 255, 255, 251, 255, 255, 255,\n",
       "        255, 255, 254, 255, 233,   0,   0,   0, 254, 255, 255, 255, 255,\n",
       "        255, 255],\n",
       "       [255, 255, 255, 255, 255, 255, 255, 255, 255, 252, 255, 254, 253,\n",
       "        255, 255, 255, 254, 107,   6,   1,  46, 255, 255, 252, 255, 255,\n",
       "        255, 255],\n",
       "       [255, 255, 255, 255, 255, 255, 255, 255, 252, 255, 249, 255, 255,\n",
       "        254, 253, 255, 232,   8,   0,   0, 180, 255, 250, 255, 255, 255,\n",
       "        255, 255],\n",
       "       [255, 255, 255, 255, 255, 255, 255, 255, 254, 253, 255, 158,  34,\n",
       "          1,   2,  31,  61,   3,   1,  46, 254, 253, 255, 253, 255, 255,\n",
       "        255, 255],\n",
       "       [255, 255, 255, 255, 255, 255, 255, 255, 255, 255, 127,   0,   0,\n",
       "          0,   0,   1,   3,   0,   1, 176, 254, 255, 255, 255, 255, 255,\n",
       "        255, 255],\n",
       "       [253, 255, 255, 255, 251, 255, 253, 255, 183,  31,   0,   0,   1,\n",
       "          0,   0,   1,   0,   2,  48, 255, 254, 252, 255, 255, 255, 255,\n",
       "        255, 255],\n",
       "       [255, 253, 252, 251, 255, 255, 255, 254,  22,   3,   1,   0,   0,\n",
       "          0,   3,   0,   0,   0,   7, 255, 255, 255, 255, 254, 255, 255,\n",
       "        255, 255],\n",
       "       [255, 255, 255, 255, 255, 252, 251, 255,  13,   0,   0,   0,   3,\n",
       "          0,  34, 160,   0,   0,   2, 255, 255, 255, 255, 251, 255, 255,\n",
       "        255, 255],\n",
       "       [251, 255, 255, 249, 254, 255, 255, 255, 133,   4,   0,   3,  87,\n",
       "        245, 254, 252,   1,   2,   0, 255, 254, 252, 255, 255, 255, 255,\n",
       "        255, 255],\n",
       "       [255, 255, 253, 255, 253, 253, 255, 254, 255, 253, 253, 253, 253,\n",
       "        255, 255, 255,   0,   0,   5, 253, 255, 255, 254, 255, 255, 255,\n",
       "        255, 255],\n",
       "       [254, 255, 252, 255, 255, 252, 255, 254, 253, 255, 255, 255, 253,\n",
       "        255, 254, 182,   0,   0,   0, 252, 255, 255, 255, 250, 255, 255,\n",
       "        255, 255],\n",
       "       [253, 254, 255, 181,  32,  37, 101, 190, 255, 254, 254, 249, 255,\n",
       "        255, 177,  20,   2,   1,   0, 255, 252, 253, 255, 255, 255, 255,\n",
       "        255, 255],\n",
       "       [255, 253, 254,  37,   0,   0,   0,   1,   0,   2,   2,   0,   1,\n",
       "          0,   3,   0,   0,   2, 102, 255, 255, 255, 250, 255, 255, 255,\n",
       "        255, 255],\n",
       "       [255, 254, 255, 134,   4,   0,   4,   0,   0,   0,   0,   0,   0,\n",
       "          0,   0,   0,   0, 108, 251, 255, 255, 255, 254, 254, 255, 255,\n",
       "        255, 255],\n",
       "       [255, 252, 255, 255, 251, 208, 112,  31,   1,   1,   1,   1,   1,\n",
       "          1,   1,   1, 107, 251, 255, 253, 251, 255, 254, 255, 255, 255,\n",
       "        255, 255],\n",
       "       [254, 255, 251, 254, 255, 254, 255, 255, 254, 254, 254, 254, 254,\n",
       "        254, 254, 254, 253, 252, 255, 255, 255, 255, 254, 253, 255, 255,\n",
       "        255, 255],\n",
       "       [255, 253, 255, 255, 253, 255, 255, 251, 255, 255, 255, 255, 255,\n",
       "        255, 255, 255, 255, 254, 253, 255, 254, 253, 255, 255, 255, 255,\n",
       "        255, 255]], dtype=uint8)"
      ]
     },
     "execution_count": 28,
     "metadata": {},
     "output_type": "execute_result"
    }
   ],
   "source": [
    "# 검정색이 0이므로 숫자부분이 0으로 표현\n",
    "# 기존데이터에는 숫자부분이 흰색(255)로 되어있음\n",
    "# 숫자부분을 0에서 255로 변환 필요\n",
    "num"
   ]
  },
  {
   "cell_type": "code",
   "execution_count": 29,
   "metadata": {
    "scrolled": true
   },
   "outputs": [
    {
     "data": {
      "text/plain": [
       "array([[  0,   0,   0,   0,   0,   0,   0,   0,   0,   0,   0,   3,   0,\n",
       "          1,   0,   1,   0,   0,   0,   0,   3,   1,   0,   0,   0,   0,\n",
       "          0,   0],\n",
       "       [  0,   0,   0,   0,   0,   0,   0,   0,   0,   0,   3,   0,   4,\n",
       "          2,  94, 223, 254, 227, 104,   4,   0,   0,   3,   0,   0,   0,\n",
       "          0,   0],\n",
       "       [  0,   0,   0,   0,   0,   0,   0,   0,   0,   3,   0,  97, 223,\n",
       "        249, 255, 255, 255, 250, 255, 115,   1,   2,   0,   1,   0,   0,\n",
       "          0,   0],\n",
       "       [  0,   0,   0,   0,   0,   0,   0,   0,   0,   0, 127, 255, 254,\n",
       "        255, 255, 253, 255, 255, 255, 249,   0,   0,   2,   0,   0,   0,\n",
       "          0,   0],\n",
       "       [  0,   0,   0,   0,   0,   0,   0,   0,   0, 131, 255, 253, 253,\n",
       "        255, 251, 167,  15, 255, 252, 255,   1,   0,   0,   2,   0,   0,\n",
       "          0,   0],\n",
       "       [  0,   0,   0,   0,   0,   0,   0,   0, 104, 252, 252, 255, 183,\n",
       "          8,   2,   0,   0, 255, 255, 254,   0,   3,   1,   0,   0,   0,\n",
       "          0,   0],\n",
       "       [  0,   0,   0,   0,   0,   0,   0,   0, 222, 255, 255, 184,   8,\n",
       "          0,   3,   0,   3, 240, 254, 255, 121,   2,   0,   0,   0,   0,\n",
       "          0,   0],\n",
       "       [  0,   0,   0,   0,   0,   0,   0,   0, 128, 254, 172,   9,   0,\n",
       "          0,   0,   1,   0, 146, 255, 254, 247,   1,   0,   1,   0,   0,\n",
       "          0,   0],\n",
       "       [  0,   0,   0,   0,   0,   0,   0,   0,   1,  22,   2,   1,   0,\n",
       "          0,   0,   2,   2,   6, 255, 254, 255,   0,   2,   0,   0,   0,\n",
       "          0,   0],\n",
       "       [  0,   0,   0,   0,   0,   0,   0,   0,   3,   0,   0,   0,   1,\n",
       "          1,   0,   0,   0,   1, 255, 255, 253,   3,   0,   2,   0,   0,\n",
       "          0,   0],\n",
       "       [  0,   0,   0,   0,   0,   0,   0,   0,   0,   0,   5,   0,   3,\n",
       "          0,   0,   1,   3,   1, 252, 254, 253,   0,   2,   0,   0,   0,\n",
       "          0,   0],\n",
       "       [  0,   0,   0,   0,   0,   0,   0,   0,   0,   4,   0,   0,   0,\n",
       "          0,   0,   1,   0,  22, 255, 255, 255,   1,   0,   0,   0,   0,\n",
       "          0,   0],\n",
       "       [  0,   0,   0,   0,   0,   0,   0,   0,   0,   3,   0,   1,   2,\n",
       "          0,   0,   0,   1, 148, 249, 254, 209,   0,   0,   3,   0,   0,\n",
       "          0,   0],\n",
       "       [  0,   0,   0,   0,   0,   0,   0,   0,   3,   0,   6,   0,   0,\n",
       "          1,   2,   0,  23, 247, 255, 255,  75,   0,   5,   0,   0,   0,\n",
       "          0,   0],\n",
       "       [  0,   0,   0,   0,   0,   0,   0,   0,   1,   2,   0,  97, 221,\n",
       "        254, 253, 224, 194, 252, 254, 209,   1,   2,   0,   2,   0,   0,\n",
       "          0,   0],\n",
       "       [  0,   0,   0,   0,   0,   0,   0,   0,   0,   0, 128, 255, 255,\n",
       "        255, 255, 254, 252, 255, 254,  79,   1,   0,   0,   0,   0,   0,\n",
       "          0,   0],\n",
       "       [  2,   0,   0,   0,   4,   0,   2,   0,  72, 224, 255, 255, 254,\n",
       "        255, 255, 254, 255, 253, 207,   0,   1,   3,   0,   0,   0,   0,\n",
       "          0,   0],\n",
       "       [  0,   2,   3,   4,   0,   0,   0,   1, 233, 252, 254, 255, 255,\n",
       "        255, 252, 255, 255, 255, 248,   0,   0,   0,   0,   1,   0,   0,\n",
       "          0,   0],\n",
       "       [  0,   0,   0,   0,   0,   3,   4,   0, 242, 255, 255, 255, 252,\n",
       "        255, 221,  95, 255, 255, 253,   0,   0,   0,   0,   4,   0,   0,\n",
       "          0,   0],\n",
       "       [  4,   0,   0,   6,   1,   0,   0,   0, 122, 251, 255, 252, 168,\n",
       "         10,   1,   3, 254, 253, 255,   0,   1,   3,   0,   0,   0,   0,\n",
       "          0,   0],\n",
       "       [  0,   0,   2,   0,   2,   2,   0,   1,   0,   2,   2,   2,   2,\n",
       "          0,   0,   0, 255, 255, 250,   2,   0,   0,   1,   0,   0,   0,\n",
       "          0,   0],\n",
       "       [  1,   0,   3,   0,   0,   3,   0,   1,   2,   0,   0,   0,   2,\n",
       "          0,   1,  73, 255, 255, 255,   3,   0,   0,   0,   5,   0,   0,\n",
       "          0,   0],\n",
       "       [  2,   1,   0,  74, 223, 218, 154,  65,   0,   1,   1,   6,   0,\n",
       "          0,  78, 235, 253, 254, 255,   0,   3,   2,   0,   0,   0,   0,\n",
       "          0,   0],\n",
       "       [  0,   2,   1, 218, 255, 255, 255, 254, 255, 253, 253, 255, 254,\n",
       "        255, 252, 255, 255, 253, 153,   0,   0,   0,   5,   0,   0,   0,\n",
       "          0,   0],\n",
       "       [  0,   1,   0, 121, 251, 255, 251, 255, 255, 255, 255, 255, 255,\n",
       "        255, 255, 255, 255, 147,   4,   0,   0,   0,   1,   1,   0,   0,\n",
       "          0,   0],\n",
       "       [  0,   3,   0,   0,   4,  47, 143, 224, 254, 254, 254, 254, 254,\n",
       "        254, 254, 254, 148,   4,   0,   2,   4,   0,   1,   0,   0,   0,\n",
       "          0,   0],\n",
       "       [  1,   0,   4,   1,   0,   1,   0,   0,   1,   1,   1,   1,   1,\n",
       "          1,   1,   1,   2,   3,   0,   0,   0,   0,   1,   2,   0,   0,\n",
       "          0,   0],\n",
       "       [  0,   2,   0,   0,   2,   0,   0,   4,   0,   0,   0,   0,   0,\n",
       "          0,   0,   0,   0,   1,   2,   0,   1,   2,   0,   0,   0,   0,\n",
       "          0,   0]], dtype=uint8)"
      ]
     },
     "execution_count": 29,
     "metadata": {},
     "output_type": "execute_result"
    }
   ],
   "source": [
    "num=255-num\n",
    "num"
   ]
  },
  {
   "cell_type": "code",
   "execution_count": 30,
   "metadata": {},
   "outputs": [],
   "source": [
    "num2=255-num2"
   ]
  },
  {
   "cell_type": "code",
   "execution_count": 31,
   "metadata": {},
   "outputs": [],
   "source": [
    "# 작성한 숫자데이터 훈련했던 데이터와 동일하게 변환(크기:1차원, 값범위 :0~1)\n",
    "test_num=num.reshape(1,28*28)\n",
    "test_num2=num2.reshape(1,28*28)\n",
    "test_num=test_num.astype(\"float32\")/255\n",
    "test_num2=test_num2.astype(\"float32\")/255"
   ]
  },
  {
   "cell_type": "code",
   "execution_count": 32,
   "metadata": {},
   "outputs": [
    {
     "data": {
      "text/plain": [
       "(1, 784)"
      ]
     },
     "execution_count": 32,
     "metadata": {},
     "output_type": "execute_result"
    }
   ],
   "source": [
    "test_num.shape"
   ]
  },
  {
   "cell_type": "code",
   "execution_count": 33,
   "metadata": {},
   "outputs": [
    {
     "data": {
      "text/plain": [
       "array([[2.6296534e-19, 1.0146954e-13, 3.8192763e-08, 1.0000000e+00,\n",
       "        3.8440494e-24, 1.6774550e-13, 2.5812011e-20, 6.5964734e-12,\n",
       "        4.7946141e-08, 5.9510993e-17]], dtype=float32)"
      ]
     },
     "execution_count": 33,
     "metadata": {},
     "output_type": "execute_result"
    }
   ],
   "source": [
    "pred=model.predict(test_num)\n",
    "pred"
   ]
  },
  {
   "cell_type": "code",
   "execution_count": 34,
   "metadata": {},
   "outputs": [
    {
     "data": {
      "text/plain": [
       "array([[2.0115242e-07, 4.0832583e-06, 1.2867973e-07, 3.7152984e-07,\n",
       "        4.1860079e-07, 2.3025563e-01, 7.5755543e-01, 6.7900726e-07,\n",
       "        1.2140083e-02, 4.2924468e-05]], dtype=float32)"
      ]
     },
     "execution_count": 34,
     "metadata": {},
     "output_type": "execute_result"
    }
   ],
   "source": [
    "pred2=model.predict(test_num2)\n",
    "pred2"
   ]
  },
  {
   "cell_type": "code",
   "execution_count": 35,
   "metadata": {},
   "outputs": [],
   "source": [
    "import tensorflow as tf"
   ]
  },
  {
   "cell_type": "markdown",
   "metadata": {},
   "source": [
    "CNN을 이용해서 손글씨 숫자 인식하기"
   ]
  },
  {
   "cell_type": "code",
   "execution_count": 37,
   "metadata": {},
   "outputs": [],
   "source": [
    "import numpy as np\n",
    "import tensorflow as tf\n",
    "seed=0\n",
    "np.random.seed(seed)\n",
    "tf.random.set_seed(seed)"
   ]
  },
  {
   "cell_type": "code",
   "execution_count": 38,
   "metadata": {},
   "outputs": [],
   "source": [
    "from tensorflow.keras.datasets import mnist\n",
    "(X_train,y_train),(X_test,y_test)=mnist.load_data()"
   ]
  },
  {
   "cell_type": "code",
   "execution_count": 39,
   "metadata": {},
   "outputs": [
    {
     "data": {
      "text/plain": [
       "60000"
      ]
     },
     "execution_count": 39,
     "metadata": {},
     "output_type": "execute_result"
    }
   ],
   "source": [
    "X_train.shape[0]"
   ]
  },
  {
   "cell_type": "code",
   "execution_count": 40,
   "metadata": {},
   "outputs": [],
   "source": [
    "#훈련데이터 1000개, 테스트데이터 300개\n",
    "X_train=X_train[:1000,:]\n",
    "y_train=y_train[:1000,]\n",
    "X_test=X_test[:300,:]\n",
    "y_test=y_test[:300,]"
   ]
  },
  {
   "cell_type": "code",
   "execution_count": 41,
   "metadata": {},
   "outputs": [
    {
     "data": {
      "text/plain": [
       "(1000, 300)"
      ]
     },
     "execution_count": 41,
     "metadata": {},
     "output_type": "execute_result"
    }
   ],
   "source": [
    "X_train.shape[0],X_test.shape[0]"
   ]
  },
  {
   "cell_type": "code",
   "execution_count": 42,
   "metadata": {},
   "outputs": [
    {
     "data": {
      "text/plain": [
       "((1000, 10), (300, 10))"
      ]
     },
     "execution_count": 42,
     "metadata": {},
     "output_type": "execute_result"
    }
   ],
   "source": [
    "import pandas as pd\n",
    "\n",
    "#2차원 데이터에 색상 차원을 추가(흑백 1차원,칼라 3차원)\n",
    "X_train=X_train.reshape(X_train.shape[0],28,28,1)\n",
    "X_test=X_test.reshape(X_test.shape[0],28,28,1)\n",
    "\n",
    "#0-255범위의 픽셀값을 0~1사이 범위로 변경\n",
    "X_train=X_train.astype(\"float32\")/255\n",
    "X_test=X_test.astype(\"float32\")/255\n",
    "\n",
    "#다중분류이므로 원핫 인코딩\n",
    "y_train = pd.get_dummies(y_train)\n",
    "y_test = pd.get_dummies(y_test)\n",
    "\n",
    "y_train.shape,y_test.shape"
   ]
  },
  {
   "cell_type": "markdown",
   "metadata": {},
   "source": [
    "입력층에 CNN을 추가해서 학습모델 설계"
   ]
  },
  {
   "cell_type": "code",
   "execution_count": 47,
   "metadata": {},
   "outputs": [
    {
     "name": "stdout",
     "output_type": "stream",
     "text": [
      "Model: \"sequential_3\"\n",
      "_________________________________________________________________\n",
      "Layer (type)                 Output Shape              Param #   \n",
      "=================================================================\n",
      "conv2d_1 (Conv2D)            (None, 26, 26, 32)        320       \n",
      "_________________________________________________________________\n",
      "max_pooling2d_1 (MaxPooling2 (None, 13, 13, 32)        0         \n",
      "_________________________________________________________________\n",
      "flatten_1 (Flatten)          (None, 5408)              0         \n",
      "_________________________________________________________________\n",
      "dense_8 (Dense)              (None, 128)               692352    \n",
      "_________________________________________________________________\n",
      "dense_9 (Dense)              (None, 10)                1290      \n",
      "=================================================================\n",
      "Total params: 693,962\n",
      "Trainable params: 693,962\n",
      "Non-trainable params: 0\n",
      "_________________________________________________________________\n"
     ]
    }
   ],
   "source": [
    "from tensorflow.keras.models import Sequential\n",
    "from tensorflow.keras.layers import Dense,Dropout\n",
    "from tensorflow.keras.layers import Conv2D,MaxPooling2D,Flatten\n",
    "\n",
    "cnn_model=Sequential()\n",
    "\n",
    "#입력층(CNN층)\n",
    "#filters : 필터의 수, 출력의 수 (출력되는 이미지의 개수)\n",
    "#kernel_size : 필터의 크기 (3,3) (5,5) (7,7)\n",
    "#input_shape : 입력데이터의 크기(2차원 이상인 경우에 사용)\n",
    "#padding : converlution 연산때문에 작아지는 이미지 크기를 유지할 것인지 여부\n",
    "#          (same-항상 같은 크기로 이미지를 유지,\n",
    "#           valid-컨벌루션으로 줄어든 상태를 그대로 유지)\n",
    "cnn_model.add(Conv2D(filters=32,\n",
    "                    kernel_size=(3,3),\n",
    "                    input_shape=(28,28,1),\n",
    "                    padding=\"valid\",\n",
    "                    activation=\"relu\"))\n",
    "cnn_model.add(MaxPooling2D(pool_size=(2,2)))\n",
    "#pool_size : 이미지를 얼마나 줄일 것인지를 설정\n",
    "\n",
    "#은닉층 넣기 전에 이전 데이터들을 1차원으로 변환\n",
    "cnn_model.add(Flatten())\n",
    "#은닉층\n",
    "cnn_model.add(Dense(units=128,activation=\"relu\"))\n",
    "#출력층\n",
    "cnn_model.add(Dense(units=10,activation=\"softmax\"))\n",
    "\n",
    "cnn_model.summary()"
   ]
  },
  {
   "cell_type": "code",
   "execution_count": 48,
   "metadata": {},
   "outputs": [],
   "source": [
    "cnn_model.compile(loss=\"categorical_crossentropy\",\n",
    "                 optimizer=\"adam\",\n",
    "                 metrics=[\"acc\"])"
   ]
  },
  {
   "cell_type": "code",
   "execution_count": 50,
   "metadata": {
    "scrolled": true
   },
   "outputs": [
    {
     "name": "stdout",
     "output_type": "stream",
     "text": [
      "Epoch 1/10\n",
      "WARNING:tensorflow:AutoGraph could not transform <function Model.make_train_function.<locals>.train_function at 0x0000015B0DE016A8> and will run it as-is.\n",
      "Please report this to the TensorFlow team. When filing the bug, set the verbosity to 10 (on Linux, `export AUTOGRAPH_VERBOSITY=10`) and attach the full output.\n",
      "Cause: 'arguments' object has no attribute 'posonlyargs'\n",
      "To silence this warning, decorate the function with @tf.autograph.experimental.do_not_convert\n",
      "WARNING: AutoGraph could not transform <function Model.make_train_function.<locals>.train_function at 0x0000015B0DE016A8> and will run it as-is.\n",
      "Please report this to the TensorFlow team. When filing the bug, set the verbosity to 10 (on Linux, `export AUTOGRAPH_VERBOSITY=10`) and attach the full output.\n",
      "Cause: 'arguments' object has no attribute 'posonlyargs'\n",
      "To silence this warning, decorate the function with @tf.autograph.experimental.do_not_convert\n",
      "37/50 [=====================>........] - ETA: 0s - loss: 1.1683 - acc: 0.6622WARNING:tensorflow:AutoGraph could not transform <function Model.make_test_function.<locals>.test_function at 0x000001592EC96620> and will run it as-is.\n",
      "Please report this to the TensorFlow team. When filing the bug, set the verbosity to 10 (on Linux, `export AUTOGRAPH_VERBOSITY=10`) and attach the full output.\n",
      "Cause: 'arguments' object has no attribute 'posonlyargs'\n",
      "To silence this warning, decorate the function with @tf.autograph.experimental.do_not_convert\n",
      "WARNING: AutoGraph could not transform <function Model.make_test_function.<locals>.test_function at 0x000001592EC96620> and will run it as-is.\n",
      "Please report this to the TensorFlow team. When filing the bug, set the verbosity to 10 (on Linux, `export AUTOGRAPH_VERBOSITY=10`) and attach the full output.\n",
      "Cause: 'arguments' object has no attribute 'posonlyargs'\n",
      "To silence this warning, decorate the function with @tf.autograph.experimental.do_not_convert\n",
      "50/50 [==============================] - 0s 4ms/step - loss: 1.0114 - acc: 0.7070 - val_loss: 0.5253 - val_acc: 0.8300\n",
      "Epoch 2/10\n",
      "50/50 [==============================] - 0s 2ms/step - loss: 0.3487 - acc: 0.9000 - val_loss: 0.3739 - val_acc: 0.9000\n",
      "Epoch 3/10\n",
      "50/50 [==============================] - 0s 2ms/step - loss: 0.2179 - acc: 0.9360 - val_loss: 0.3887 - val_acc: 0.8567\n",
      "Epoch 4/10\n",
      "50/50 [==============================] - 0s 2ms/step - loss: 0.1592 - acc: 0.9530 - val_loss: 0.2991 - val_acc: 0.9100\n",
      "Epoch 5/10\n",
      "50/50 [==============================] - 0s 2ms/step - loss: 0.0892 - acc: 0.9810 - val_loss: 0.2862 - val_acc: 0.9067\n",
      "Epoch 6/10\n",
      "50/50 [==============================] - 0s 2ms/step - loss: 0.0644 - acc: 0.9860 - val_loss: 0.2890 - val_acc: 0.9033\n",
      "Epoch 7/10\n",
      "50/50 [==============================] - 0s 2ms/step - loss: 0.0314 - acc: 0.9990 - val_loss: 0.2334 - val_acc: 0.9233\n",
      "Epoch 8/10\n",
      "50/50 [==============================] - 0s 2ms/step - loss: 0.0196 - acc: 0.9980 - val_loss: 0.2434 - val_acc: 0.9267\n",
      "Epoch 9/10\n",
      "50/50 [==============================] - 0s 2ms/step - loss: 0.0132 - acc: 1.0000 - val_loss: 0.2438 - val_acc: 0.9233\n",
      "Epoch 10/10\n",
      "50/50 [==============================] - 0s 2ms/step - loss: 0.0075 - acc: 1.0000 - val_loss: 0.2447 - val_acc: 0.9233\n"
     ]
    },
    {
     "data": {
      "text/plain": [
       "<tensorflow.python.keras.callbacks.History at 0x1592ec00780>"
      ]
     },
     "execution_count": 50,
     "metadata": {},
     "output_type": "execute_result"
    }
   ],
   "source": [
    "cnn_model.fit(X_train,y_train,epochs=10,batch_size=20,\n",
    "             validation_data=(X_test,y_test))"
   ]
  },
  {
   "cell_type": "code",
   "execution_count": 61,
   "metadata": {},
   "outputs": [
    {
     "name": "stdout",
     "output_type": "stream",
     "text": [
      "Model: \"sequential_6\"\n",
      "_________________________________________________________________\n",
      "Layer (type)                 Output Shape              Param #   \n",
      "=================================================================\n",
      "conv2d_4 (Conv2D)            (None, 26, 26, 32)        320       \n",
      "_________________________________________________________________\n",
      "max_pooling2d_4 (MaxPooling2 (None, 13, 13, 32)        0         \n",
      "_________________________________________________________________\n",
      "flatten_4 (Flatten)          (None, 5408)              0         \n",
      "_________________________________________________________________\n",
      "dense_15 (Dense)             (None, 128)               692352    \n",
      "_________________________________________________________________\n",
      "dropout (Dropout)            (None, 128)               0         \n",
      "_________________________________________________________________\n",
      "dense_16 (Dense)             (None, 256)               33024     \n",
      "_________________________________________________________________\n",
      "dense_17 (Dense)             (None, 10)                2570      \n",
      "=================================================================\n",
      "Total params: 728,266\n",
      "Trainable params: 728,266\n",
      "Non-trainable params: 0\n",
      "_________________________________________________________________\n"
     ]
    }
   ],
   "source": [
    "cnn_model2=Sequential()\n",
    "\n",
    "#입력층(CNN층)\n",
    "#filters : 필터의 수, 출력의 수 (출력되는 이미지의 개수)\n",
    "#kernel_size : 필터의 크기 (3,3) (5,5) (7,7)\n",
    "#input_shape : 입력데이터의 크기(2차원 이상인 경우에 사용)\n",
    "#padding : converlution 연산때문에 작아지는 이미지 크기를 유지할 것인지 여부\n",
    "#          (same-항상 같은 크기로 이미지를 유지,\n",
    "#           valid-컨벌루션으로 줄어든 상태를 그대로 유지)\n",
    "cnn_model2.add(Conv2D(filters=32,\n",
    "                    kernel_size=(3,3),\n",
    "                    input_shape=(28,28,1),\n",
    "                    padding=\"valid\",\n",
    "                    activation=\"relu\"))\n",
    "cnn_model2.add(MaxPooling2D(pool_size=(2,2)))\n",
    "#pool_size : 이미지를 얼마나 줄일 것인지를 설정\n",
    "\n",
    "#은닉층 넣기 전에 이전 데이터들을 1차원으로 변환\n",
    "cnn_model2.add(Flatten())\n",
    "#은닉층\n",
    "cnn_model2.add(Dense(units=128,activation=\"relu\"))\n",
    "cnn_model2.add(Dropout(0.2))\n",
    "cnn_model2.add(Dense(units=256,activation=\"relu\"))\n",
    "#출력층\n",
    "cnn_model2.add(Dense(units=10,activation=\"softmax\"))\n",
    "\n",
    "cnn_model2.summary()"
   ]
  },
  {
   "cell_type": "code",
   "execution_count": 62,
   "metadata": {},
   "outputs": [],
   "source": [
    "cnn_model2.compile(loss=\"categorical_crossentropy\",\n",
    "                 optimizer=\"adam\",\n",
    "                 metrics=[\"acc\"])"
   ]
  },
  {
   "cell_type": "code",
   "execution_count": 63,
   "metadata": {
    "scrolled": true
   },
   "outputs": [
    {
     "name": "stdout",
     "output_type": "stream",
     "text": [
      "Epoch 1/10\n",
      "WARNING:tensorflow:AutoGraph could not transform <function Model.make_train_function.<locals>.train_function at 0x00000159301A51E0> and will run it as-is.\n",
      "Please report this to the TensorFlow team. When filing the bug, set the verbosity to 10 (on Linux, `export AUTOGRAPH_VERBOSITY=10`) and attach the full output.\n",
      "Cause: 'arguments' object has no attribute 'posonlyargs'\n",
      "To silence this warning, decorate the function with @tf.autograph.experimental.do_not_convert\n",
      "WARNING: AutoGraph could not transform <function Model.make_train_function.<locals>.train_function at 0x00000159301A51E0> and will run it as-is.\n",
      "Please report this to the TensorFlow team. When filing the bug, set the verbosity to 10 (on Linux, `export AUTOGRAPH_VERBOSITY=10`) and attach the full output.\n",
      "Cause: 'arguments' object has no attribute 'posonlyargs'\n",
      "To silence this warning, decorate the function with @tf.autograph.experimental.do_not_convert\n",
      "33/50 [==================>...........] - ETA: 0s - loss: 1.5047 - acc: 0.5470WARNING:tensorflow:AutoGraph could not transform <function Model.make_test_function.<locals>.test_function at 0x000001593083FEA0> and will run it as-is.\n",
      "Please report this to the TensorFlow team. When filing the bug, set the verbosity to 10 (on Linux, `export AUTOGRAPH_VERBOSITY=10`) and attach the full output.\n",
      "Cause: 'arguments' object has no attribute 'posonlyargs'\n",
      "To silence this warning, decorate the function with @tf.autograph.experimental.do_not_convert\n",
      "WARNING: AutoGraph could not transform <function Model.make_test_function.<locals>.test_function at 0x000001593083FEA0> and will run it as-is.\n",
      "Please report this to the TensorFlow team. When filing the bug, set the verbosity to 10 (on Linux, `export AUTOGRAPH_VERBOSITY=10`) and attach the full output.\n",
      "Cause: 'arguments' object has no attribute 'posonlyargs'\n",
      "To silence this warning, decorate the function with @tf.autograph.experimental.do_not_convert\n",
      "50/50 [==============================] - 0s 4ms/step - loss: 1.2466 - acc: 0.6250 - val_loss: 0.6477 - val_acc: 0.8000\n",
      "Epoch 2/10\n",
      "50/50 [==============================] - 0s 2ms/step - loss: 0.4644 - acc: 0.8580 - val_loss: 0.4052 - val_acc: 0.8667\n",
      "Epoch 3/10\n",
      "50/50 [==============================] - 0s 2ms/step - loss: 0.3164 - acc: 0.9070 - val_loss: 0.3641 - val_acc: 0.8767\n",
      "Epoch 4/10\n",
      "50/50 [==============================] - 0s 2ms/step - loss: 0.2152 - acc: 0.9410 - val_loss: 0.2739 - val_acc: 0.9167\n",
      "Epoch 5/10\n",
      "50/50 [==============================] - 0s 2ms/step - loss: 0.1624 - acc: 0.9480 - val_loss: 0.2640 - val_acc: 0.9233\n",
      "Epoch 6/10\n",
      "50/50 [==============================] - 0s 2ms/step - loss: 0.1255 - acc: 0.9610 - val_loss: 0.2664 - val_acc: 0.9233\n",
      "Epoch 7/10\n",
      "50/50 [==============================] - 0s 2ms/step - loss: 0.0747 - acc: 0.9770 - val_loss: 0.2725 - val_acc: 0.9100\n",
      "Epoch 8/10\n",
      "50/50 [==============================] - 0s 2ms/step - loss: 0.0666 - acc: 0.9830 - val_loss: 0.2391 - val_acc: 0.9300\n",
      "Epoch 9/10\n",
      "50/50 [==============================] - 0s 2ms/step - loss: 0.0503 - acc: 0.9830 - val_loss: 0.2213 - val_acc: 0.9333\n",
      "Epoch 10/10\n",
      "50/50 [==============================] - 0s 2ms/step - loss: 0.0351 - acc: 0.9920 - val_loss: 0.2337 - val_acc: 0.9267\n"
     ]
    }
   ],
   "source": [
    "h=cnn_model2.fit(X_train,y_train,epochs=10,batch_size=20,\n",
    "             validation_data=(X_test,y_test))"
   ]
  },
  {
   "cell_type": "code",
   "execution_count": 64,
   "metadata": {},
   "outputs": [
    {
     "data": {
      "text/plain": [
       "<matplotlib.legend.Legend at 0x1593044cc88>"
      ]
     },
     "execution_count": 64,
     "metadata": {},
     "output_type": "execute_result"
    },
    {
     "data": {
      "image/png": "[encoded data removed]",
      "text/plain": [
       "<Figure size 432x288 with 1 Axes>"
      ]
     },
     "metadata": {
      "needs_background": "light"
     },
     "output_type": "display_data"
    }
   ],
   "source": [
    "import matplotlib.pyplot as plt\n",
    "\n",
    "acc=h.history[\"acc\"]\n",
    "val_acc=h.history[\"val_acc\"]\n",
    "\n",
    "epochs=np.arange(len(acc))\n",
    "\n",
    "plt.plot(epochs,acc,c=\"red\",label=\"Train\")\n",
    "plt.plot(epochs,val_acc,c=\"pink\",label=\"Test\")\n",
    "plt.legend()"
   ]
  },
  {
   "cell_type": "markdown",
   "metadata": {},
   "source": [
    "베스트 모델을 찾아 저장하고,더이상 학습이 되지 않는다면 중단하는 코드"
   ]
  },
  {
   "cell_type": "code",
   "execution_count": 88,
   "metadata": {},
   "outputs": [],
   "source": [
    "import os\n",
    "from tensorflow.keras.callbacks import ModelCheckpoint, EarlyStopping\n",
    "#모델을 저장할 폴더명\n",
    "MODEL_FOLDER=\"./model/\"\n",
    "#해당 폴더가 없다면 해당 폴더를 생성\n",
    "if not os.path.exists(MODEL_FOLDER):\n",
    "    os.mkdir(MODEL_FOLDER)\n",
    "    \n",
    "#저장할 파일명 설정\n",
    "#{epoch:04d} : 반복수를 4자리로 표시\n",
    "#{acc:.4f} : 정확도를 소수점 4째자리까지 표시\n",
    "modelpath = MODEL_FOLDER+\"cnn-{epoch:04d}-{val_acc:.4f}.hdf5\"\n",
    "\n",
    "#베스트를 찾아서 해당파일명으로 저장\n",
    "#save_best_only : 더 나은 결과값만 저장\n",
    "#ModelCheckpoint(filepath=파일패스,monitor=기준값,save_best_only=True/False)\n",
    "mc=ModelCheckpoint(filepath=modelpath,\n",
    "                  monitor=\"val_acc\",\n",
    "                   #회귀일 경우 monitor=\"loss\"를 사용\n",
    "                  save_best_only=True,\n",
    "                  verbose=1)\n",
    "# EarlyStopping(monitor=기준값, patience=조금 더 기다리는 횟수)\n",
    "# patience=20 : 학습이 더 나아지지 않더라도 20회는 더 반복해줌\n",
    "es = EarlyStopping(monitor=\"val_acc\",patience=20)\n",
    "cnn_model3=Sequential()\n",
    "\n",
    "#입력층(CNN층)\n",
    "#filters : 필터의 수, 출력의 수 (출력되는 이미지의 개수)\n",
    "#kernel_size : 필터의 크기 (3,3) (5,5) (7,7)\n",
    "#input_shape : 입력데이터의 크기(2차원 이상인 경우에 사용)\n",
    "#              (가로,세로,색상->1(흑백),3(칼라))\n",
    "#padding : converlution 연산때문에 작아지는 이미지 크기를 유지할 것인지 여부\n",
    "#          (same-항상 같은 크기로 이미지를 유지,\n",
    "#           valid-컨벌루션으로 줄어든 상태를 그대로 유지)\n",
    "cnn_model3.add(Conv2D(filters=32,\n",
    "                    kernel_size=(3,3),\n",
    "                    input_shape=(28,28,1),\n",
    "                    padding=\"valid\",\n",
    "                    activation=\"relu\"))\n",
    "cnn_model3.add(MaxPooling2D(pool_size=(2,2)))\n",
    "#pool_size : 이미지를 얼마나 줄일 것인지를 설정\n",
    "\n",
    "#은닉층 넣기 전에 이전 데이터들을 1차원으로 변환\n",
    "cnn_model3.add(Flatten())\n",
    "#은닉층\n",
    "cnn_model3.add(Dense(units=128,activation=\"relu\"))\n",
    "cnn_model3.add(Dropout(0.2))\n",
    "cnn_model3.add(Dense(units=256,activation=\"relu\"))\n",
    "cnn_model3.add(Dropout(0.2))\n",
    "cnn_model3.add(Dense(units=128,activation=\"relu\"))\n",
    "#출력층\n",
    "cnn_model3.add(Dense(units=10,activation=\"softmax\"))\n",
    "\n",
    "cnn_model3.compile(loss=\"categorical_crossentropy\",\n",
    "                 optimizer=\"adam\",\n",
    "                 metrics=[\"acc\"])\n"
   ]
  },
  {
   "cell_type": "code",
   "execution_count": 89,
   "metadata": {
    "scrolled": true
   },
   "outputs": [
    {
     "name": "stdout",
     "output_type": "stream",
     "text": [
      "Epoch 1/50\n",
      "WARNING:tensorflow:AutoGraph could not transform <function Model.make_train_function.<locals>.train_function at 0x000001592ED22510> and will run it as-is.\n",
      "Please report this to the TensorFlow team. When filing the bug, set the verbosity to 10 (on Linux, `export AUTOGRAPH_VERBOSITY=10`) and attach the full output.\n",
      "Cause: 'arguments' object has no attribute 'posonlyargs'\n",
      "To silence this warning, decorate the function with @tf.autograph.experimental.do_not_convert\n",
      "WARNING: AutoGraph could not transform <function Model.make_train_function.<locals>.train_function at 0x000001592ED22510> and will run it as-is.\n",
      "Please report this to the TensorFlow team. When filing the bug, set the verbosity to 10 (on Linux, `export AUTOGRAPH_VERBOSITY=10`) and attach the full output.\n",
      "Cause: 'arguments' object has no attribute 'posonlyargs'\n",
      "To silence this warning, decorate the function with @tf.autograph.experimental.do_not_convert\n",
      "25/50 [==============>...............] - ETA: 0s - loss: 1.9275 - acc: 0.3760WARNING:tensorflow:AutoGraph could not transform <function Model.make_test_function.<locals>.test_function at 0x0000015931F10378> and will run it as-is.\n",
      "Please report this to the TensorFlow team. When filing the bug, set the verbosity to 10 (on Linux, `export AUTOGRAPH_VERBOSITY=10`) and attach the full output.\n",
      "Cause: 'arguments' object has no attribute 'posonlyargs'\n",
      "To silence this warning, decorate the function with @tf.autograph.experimental.do_not_convert\n",
      "WARNING: AutoGraph could not transform <function Model.make_test_function.<locals>.test_function at 0x0000015931F10378> and will run it as-is.\n",
      "Please report this to the TensorFlow team. When filing the bug, set the verbosity to 10 (on Linux, `export AUTOGRAPH_VERBOSITY=10`) and attach the full output.\n",
      "Cause: 'arguments' object has no attribute 'posonlyargs'\n",
      "To silence this warning, decorate the function with @tf.autograph.experimental.do_not_convert\n",
      "\n",
      "Epoch 00001: val_acc improved from -inf to 0.72333, saving model to ./model\\cnn-0001-0.7233.hdf5\n",
      "50/50 [==============================] - 0s 5ms/step - loss: 1.4523 - acc: 0.5330 - val_loss: 0.7398 - val_acc: 0.7233\n",
      "Epoch 2/50\n",
      "33/50 [==================>...........] - ETA: 0s - loss: 0.5615 - acc: 0.8227\n",
      "Epoch 00002: val_acc improved from 0.72333 to 0.84000, saving model to ./model\\cnn-0002-0.8400.hdf5\n",
      "50/50 [==============================] - 0s 3ms/step - loss: 0.5458 - acc: 0.8380 - val_loss: 0.4943 - val_acc: 0.8400\n",
      "Epoch 3/50\n",
      "29/50 [================>.............] - ETA: 0s - loss: 0.3840 - acc: 0.8776\n",
      "Epoch 00003: val_acc improved from 0.84000 to 0.85000, saving model to ./model\\cnn-0003-0.8500.hdf5\n",
      "50/50 [==============================] - 0s 3ms/step - loss: 0.3623 - acc: 0.8860 - val_loss: 0.3527 - val_acc: 0.8500\n",
      "Epoch 4/50\n",
      "29/50 [================>.............] - ETA: 0s - loss: 0.2171 - acc: 0.9379\n",
      "Epoch 00004: val_acc improved from 0.85000 to 0.92333, saving model to ./model\\cnn-0004-0.9233.hdf5\n",
      "50/50 [==============================] - 0s 3ms/step - loss: 0.2373 - acc: 0.9310 - val_loss: 0.2752 - val_acc: 0.9233\n",
      "Epoch 5/50\n",
      "33/50 [==================>...........] - ETA: 0s - loss: 0.1571 - acc: 0.9515\n",
      "Epoch 00005: val_acc did not improve from 0.92333\n",
      "50/50 [==============================] - 0s 2ms/step - loss: 0.1936 - acc: 0.9410 - val_loss: 0.2739 - val_acc: 0.9200\n",
      "Epoch 6/50\n",
      "25/50 [==============>...............] - ETA: 0s - loss: 0.1270 - acc: 0.9660\n",
      "Epoch 00006: val_acc did not improve from 0.92333\n",
      "50/50 [==============================] - 0s 3ms/step - loss: 0.1342 - acc: 0.9600 - val_loss: 0.2911 - val_acc: 0.9033\n",
      "Epoch 7/50\n",
      "28/50 [===============>..............] - ETA: 0s - loss: 0.1125 - acc: 0.9589\n",
      "Epoch 00007: val_acc improved from 0.92333 to 0.93667, saving model to ./model\\cnn-0007-0.9367.hdf5\n",
      "50/50 [==============================] - 0s 3ms/step - loss: 0.0967 - acc: 0.9670 - val_loss: 0.1944 - val_acc: 0.9367\n",
      "Epoch 8/50\n",
      "28/50 [===============>..............] - ETA: 0s - loss: 0.0662 - acc: 0.9750\n",
      "Epoch 00008: val_acc improved from 0.93667 to 0.95000, saving model to ./model\\cnn-0008-0.9500.hdf5\n",
      "50/50 [==============================] - 0s 3ms/step - loss: 0.0740 - acc: 0.9730 - val_loss: 0.1862 - val_acc: 0.9500\n",
      "Epoch 9/50\n",
      "28/50 [===============>..............] - ETA: 0s - loss: 0.0448 - acc: 0.9857\n",
      "Epoch 00009: val_acc improved from 0.95000 to 0.96333, saving model to ./model\\cnn-0009-0.9633.hdf5\n",
      "50/50 [==============================] - 0s 3ms/step - loss: 0.0590 - acc: 0.9790 - val_loss: 0.1813 - val_acc: 0.9633\n",
      "Epoch 10/50\n",
      "28/50 [===============>..............] - ETA: 0s - loss: 0.0316 - acc: 0.9893\n",
      "Epoch 00010: val_acc did not improve from 0.96333\n",
      "50/50 [==============================] - 0s 2ms/step - loss: 0.0297 - acc: 0.9910 - val_loss: 0.2168 - val_acc: 0.9367\n",
      "Epoch 11/50\n",
      "24/50 [=============>................] - ETA: 0s - loss: 0.0390 - acc: 0.9875\n",
      "Epoch 00011: val_acc did not improve from 0.96333\n",
      "50/50 [==============================] - 0s 3ms/step - loss: 0.0389 - acc: 0.9900 - val_loss: 0.1963 - val_acc: 0.9467\n",
      "Epoch 12/50\n",
      "28/50 [===============>..............] - ETA: 0s - loss: 0.0402 - acc: 0.9875\n",
      "Epoch 00012: val_acc did not improve from 0.96333\n",
      "50/50 [==============================] - 0s 2ms/step - loss: 0.0373 - acc: 0.9890 - val_loss: 0.2302 - val_acc: 0.9367\n",
      "Epoch 13/50\n",
      "27/50 [===============>..............] - ETA: 0s - loss: 0.0435 - acc: 0.9852\n",
      "Epoch 00013: val_acc did not improve from 0.96333\n",
      "50/50 [==============================] - 0s 2ms/step - loss: 0.0326 - acc: 0.9900 - val_loss: 0.2435 - val_acc: 0.9400\n",
      "Epoch 14/50\n",
      "31/50 [=================>............] - ETA: 0s - loss: 0.0514 - acc: 0.9855\n",
      "Epoch 00014: val_acc did not improve from 0.96333\n",
      "50/50 [==============================] - 0s 2ms/step - loss: 0.0400 - acc: 0.9900 - val_loss: 0.2168 - val_acc: 0.9400\n",
      "Epoch 15/50\n",
      "29/50 [================>.............] - ETA: 0s - loss: 0.0383 - acc: 0.9897\n",
      "Epoch 00015: val_acc did not improve from 0.96333\n",
      "50/50 [==============================] - 0s 2ms/step - loss: 0.0325 - acc: 0.9920 - val_loss: 0.2360 - val_acc: 0.9400\n",
      "Epoch 16/50\n",
      "27/50 [===============>..............] - ETA: 0s - loss: 0.0253 - acc: 0.9944\n",
      "Epoch 00016: val_acc did not improve from 0.96333\n",
      "50/50 [==============================] - 0s 2ms/step - loss: 0.0196 - acc: 0.9960 - val_loss: 0.1904 - val_acc: 0.9367\n",
      "Epoch 17/50\n",
      "28/50 [===============>..............] - ETA: 0s - loss: 0.0068 - acc: 0.9982\n",
      "Epoch 00017: val_acc did not improve from 0.96333\n",
      "50/50 [==============================] - 0s 2ms/step - loss: 0.0142 - acc: 0.9950 - val_loss: 0.2689 - val_acc: 0.9333\n",
      "Epoch 18/50\n",
      "28/50 [===============>..............] - ETA: 0s - loss: 0.0211 - acc: 0.9964\n",
      "Epoch 00018: val_acc did not improve from 0.96333\n",
      "50/50 [==============================] - 0s 2ms/step - loss: 0.0153 - acc: 0.9980 - val_loss: 0.2238 - val_acc: 0.9500\n",
      "Epoch 19/50\n",
      "28/50 [===============>..............] - ETA: 0s - loss: 0.0212 - acc: 0.9946    \n",
      "Epoch 00019: val_acc did not improve from 0.96333\n",
      "50/50 [==============================] - 0s 2ms/step - loss: 0.0211 - acc: 0.9930 - val_loss: 0.2011 - val_acc: 0.9533\n",
      "Epoch 20/50\n",
      "28/50 [===============>..............] - ETA: 0s - loss: 0.0250 - acc: 0.9911\n",
      "Epoch 00020: val_acc did not improve from 0.96333\n",
      "50/50 [==============================] - 0s 2ms/step - loss: 0.0251 - acc: 0.9900 - val_loss: 0.3009 - val_acc: 0.9267\n",
      "Epoch 21/50\n",
      "27/50 [===============>..............] - ETA: 0s - loss: 0.0185 - acc: 0.9944    \n",
      "Epoch 00021: val_acc did not improve from 0.96333\n",
      "50/50 [==============================] - 0s 2ms/step - loss: 0.0128 - acc: 0.9960 - val_loss: 0.1898 - val_acc: 0.9533\n",
      "Epoch 22/50\n",
      "31/50 [=================>............] - ETA: 0s - loss: 0.0086 - acc: 0.9968    \n",
      "Epoch 00022: val_acc did not improve from 0.96333\n",
      "50/50 [==============================] - 0s 2ms/step - loss: 0.0119 - acc: 0.9950 - val_loss: 0.2550 - val_acc: 0.9433\n",
      "Epoch 23/50\n",
      "30/50 [=================>............] - ETA: 0s - loss: 0.0091 - acc: 0.9967\n",
      "Epoch 00023: val_acc did not improve from 0.96333\n",
      "50/50 [==============================] - 0s 2ms/step - loss: 0.0079 - acc: 0.9970 - val_loss: 0.2780 - val_acc: 0.9367\n",
      "Epoch 24/50\n",
      "31/50 [=================>............] - ETA: 0s - loss: 0.0080 - acc: 0.9984\n",
      "Epoch 00024: val_acc did not improve from 0.96333\n",
      "50/50 [==============================] - 0s 2ms/step - loss: 0.0131 - acc: 0.9960 - val_loss: 0.3269 - val_acc: 0.9267\n",
      "Epoch 25/50\n",
      "29/50 [================>.............] - ETA: 0s - loss: 0.0096 - acc: 0.9948\n",
      "Epoch 00025: val_acc did not improve from 0.96333\n",
      "50/50 [==============================] - 0s 2ms/step - loss: 0.0113 - acc: 0.9940 - val_loss: 0.2748 - val_acc: 0.9333\n",
      "Epoch 26/50\n",
      "30/50 [=================>............] - ETA: 0s - loss: 0.0085 - acc: 0.9983\n",
      "Epoch 00026: val_acc did not improve from 0.96333\n",
      "50/50 [==============================] - 0s 2ms/step - loss: 0.0094 - acc: 0.9970 - val_loss: 0.3007 - val_acc: 0.9167\n",
      "Epoch 27/50\n",
      "28/50 [===============>..............] - ETA: 0s - loss: 0.0192 - acc: 0.9929    \n",
      "Epoch 00027: val_acc did not improve from 0.96333\n",
      "50/50 [==============================] - 0s 2ms/step - loss: 0.0179 - acc: 0.9930 - val_loss: 0.3566 - val_acc: 0.9100\n",
      "Epoch 28/50\n",
      "32/50 [==================>...........] - ETA: 0s - loss: 0.0193 - acc: 0.9937\n",
      "Epoch 00028: val_acc did not improve from 0.96333\n",
      "50/50 [==============================] - 0s 2ms/step - loss: 0.0442 - acc: 0.9890 - val_loss: 0.3087 - val_acc: 0.9033\n",
      "Epoch 29/50\n",
      "28/50 [===============>..............] - ETA: 0s - loss: 0.0379 - acc: 0.9857\n",
      "Epoch 00029: val_acc did not improve from 0.96333\n",
      "50/50 [==============================] - 0s 2ms/step - loss: 0.0313 - acc: 0.9880 - val_loss: 0.2365 - val_acc: 0.9400\n"
     ]
    }
   ],
   "source": [
    "h=cnn_model3.fit(X_train,y_train,epochs=50,batch_size=20,\n",
    "             validation_data=(X_test,y_test),\n",
    "                    callbacks=[mc,es])"
   ]
  },
  {
   "cell_type": "code",
   "execution_count": 90,
   "metadata": {},
   "outputs": [
    {
     "data": {
      "text/plain": [
       "<matplotlib.legend.Legend at 0x15931b0d898>"
      ]
     },
     "execution_count": 90,
     "metadata": {},
     "output_type": "execute_result"
    },
    {
     "data": {
      "image/png": "[encoded data removed]",
      "text/plain": [
       "<Figure size 432x288 with 1 Axes>"
      ]
     },
     "metadata": {
      "needs_background": "light"
     },
     "output_type": "display_data"
    }
   ],
   "source": [
    "import matplotlib.pyplot as plt\n",
    "\n",
    "acc=h.history[\"acc\"]\n",
    "val_acc=h.history[\"val_acc\"]\n",
    "\n",
    "epochs=np.arange(len(acc))\n",
    "\n",
    "plt.plot(epochs,acc,c=\"red\",label=\"Train\")\n",
    "plt.plot(epochs,val_acc,c=\"pink\",label=\"Test\")\n",
    "plt.legend()"
   ]
  },
  {
   "cell_type": "code",
   "execution_count": null,
   "metadata": {},
   "outputs": [],
   "source": []
  }
 ],
 "metadata": {
  "kernelspec": {
   "display_name": "Python 3",
   "language": "python",
   "name": "python3"
  },
  "language_info": {
   "codemirror_mode": {
    "name": "ipython",
    "version": 3
   },
   "file_extension": ".py",
   "mimetype": "text/x-python",
   "name": "python",
   "nbconvert_exporter": "python",
   "pygments_lexer": "ipython3",
   "version": "3.6.12"
  }
 },
 "nbformat": 4,
 "nbformat_minor": 4
}
