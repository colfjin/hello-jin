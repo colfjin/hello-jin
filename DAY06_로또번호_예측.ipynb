{
 "cells": [
  {
   "cell_type": "markdown",
   "metadata": {},
   "source": [
    "데이터셋\n",
    "\n",
    "- 로또번호 당첨데이터 (869까지)\n",
    "- 기상청 날씨 데이터( 2002년 12월 -2019년 7월)"
   ]
  },
  {
   "cell_type": "code",
   "execution_count": 1,
   "metadata": {},
   "outputs": [],
   "source": [
    "import pandas as pd\n",
    " \n",
    "lotto = pd.read_csv(\"lotto_869.csv\", encoding =\"euc-kr\")\n",
    "lotto = lotto.set_index(\"추첨일\")\n",
    "weather = pd.read_csv(\"weater_seoul_200212_20190727.csv\", encoding = \"euc-kr\")\n",
    "weather = weather.set_index(\"일시\")"
   ]
  },
  {
   "cell_type": "code",
   "execution_count": 2,
   "metadata": {},
   "outputs": [
    {
     "data": {
      "text/html": [
       "<div>\n",
       "<style scoped>\n",
       "    .dataframe tbody tr th:only-of-type {\n",
       "        vertical-align: middle;\n",
       "    }\n",
       "\n",
       "    .dataframe tbody tr th {\n",
       "        vertical-align: top;\n",
       "    }\n",
       "\n",
       "    .dataframe thead th {\n",
       "        text-align: right;\n",
       "    }\n",
       "</style>\n",
       "<table border=\"1\" class=\"dataframe\">\n",
       "  <thead>\n",
       "    <tr style=\"text-align: right;\">\n",
       "      <th></th>\n",
       "      <th>지점</th>\n",
       "      <th>평균기온</th>\n",
       "      <th>최저기온</th>\n",
       "      <th>최고기온</th>\n",
       "      <th>평균 풍속</th>\n",
       "      <th>평균 상대습도</th>\n",
       "      <th>평균 현지기압</th>\n",
       "      <th>합계 일조 시간</th>\n",
       "      <th>평균 전운량</th>\n",
       "      <th>평균 지면온도</th>\n",
       "    </tr>\n",
       "    <tr>\n",
       "      <th>일시</th>\n",
       "      <th></th>\n",
       "      <th></th>\n",
       "      <th></th>\n",
       "      <th></th>\n",
       "      <th></th>\n",
       "      <th></th>\n",
       "      <th></th>\n",
       "      <th></th>\n",
       "      <th></th>\n",
       "      <th></th>\n",
       "    </tr>\n",
       "  </thead>\n",
       "  <tbody>\n",
       "    <tr>\n",
       "      <th>2002-12-01</th>\n",
       "      <td>108</td>\n",
       "      <td>4.8</td>\n",
       "      <td>-0.7</td>\n",
       "      <td>9.9</td>\n",
       "      <td>1.2</td>\n",
       "      <td>60.1</td>\n",
       "      <td>1012.5</td>\n",
       "      <td>4.6</td>\n",
       "      <td>2.9</td>\n",
       "      <td>1.7</td>\n",
       "    </tr>\n",
       "    <tr>\n",
       "      <th>2002-12-02</th>\n",
       "      <td>108</td>\n",
       "      <td>6.9</td>\n",
       "      <td>3.3</td>\n",
       "      <td>12.1</td>\n",
       "      <td>1.3</td>\n",
       "      <td>63.6</td>\n",
       "      <td>1015.7</td>\n",
       "      <td>3.7</td>\n",
       "      <td>2.0</td>\n",
       "      <td>3.1</td>\n",
       "    </tr>\n",
       "    <tr>\n",
       "      <th>2002-12-03</th>\n",
       "      <td>108</td>\n",
       "      <td>7.7</td>\n",
       "      <td>2.8</td>\n",
       "      <td>11.0</td>\n",
       "      <td>2.0</td>\n",
       "      <td>52.4</td>\n",
       "      <td>1011.6</td>\n",
       "      <td>0.3</td>\n",
       "      <td>7.1</td>\n",
       "      <td>2.8</td>\n",
       "    </tr>\n",
       "    <tr>\n",
       "      <th>2002-12-04</th>\n",
       "      <td>108</td>\n",
       "      <td>11.3</td>\n",
       "      <td>8.0</td>\n",
       "      <td>15.9</td>\n",
       "      <td>1.8</td>\n",
       "      <td>50.4</td>\n",
       "      <td>1005.5</td>\n",
       "      <td>5.2</td>\n",
       "      <td>4.9</td>\n",
       "      <td>7.0</td>\n",
       "    </tr>\n",
       "    <tr>\n",
       "      <th>2002-12-05</th>\n",
       "      <td>108</td>\n",
       "      <td>7.3</td>\n",
       "      <td>4.2</td>\n",
       "      <td>10.5</td>\n",
       "      <td>2.7</td>\n",
       "      <td>67.9</td>\n",
       "      <td>1010.4</td>\n",
       "      <td>0.0</td>\n",
       "      <td>8.1</td>\n",
       "      <td>6.2</td>\n",
       "    </tr>\n",
       "  </tbody>\n",
       "</table>\n",
       "</div>"
      ],
      "text/plain": [
       "             지점  평균기온  최저기온  최고기온  평균 풍속  평균 상대습도  평균 현지기압  합계 일조 시간  평균 전운량  \\\n",
       "일시                                                                             \n",
       "2002-12-01  108   4.8  -0.7   9.9    1.2     60.1   1012.5       4.6     2.9   \n",
       "2002-12-02  108   6.9   3.3  12.1    1.3     63.6   1015.7       3.7     2.0   \n",
       "2002-12-03  108   7.7   2.8  11.0    2.0     52.4   1011.6       0.3     7.1   \n",
       "2002-12-04  108  11.3   8.0  15.9    1.8     50.4   1005.5       5.2     4.9   \n",
       "2002-12-05  108   7.3   4.2  10.5    2.7     67.9   1010.4       0.0     8.1   \n",
       "\n",
       "            평균 지면온도  \n",
       "일시                   \n",
       "2002-12-01      1.7  \n",
       "2002-12-02      3.1  \n",
       "2002-12-03      2.8  \n",
       "2002-12-04      7.0  \n",
       "2002-12-05      6.2  "
      ]
     },
     "execution_count": 2,
     "metadata": {},
     "output_type": "execute_result"
    }
   ],
   "source": [
    "# 로또 데이터 확인\n",
    "\n",
    "weather.head(5)"
   ]
  },
  {
   "cell_type": "markdown",
   "metadata": {},
   "source": [
    "필요한 컬럼만 추출"
   ]
  },
  {
   "cell_type": "code",
   "execution_count": 3,
   "metadata": {},
   "outputs": [],
   "source": [
    "lotto = lotto.loc[:, [\"No_1\", \"No_2\",\"No_3\",\"No_4\",\"No_5\",\"No_6\",\"No_Bonus\"]]"
   ]
  },
  {
   "cell_type": "code",
   "execution_count": 4,
   "metadata": {},
   "outputs": [],
   "source": [
    "weather = weather.loc[:, [\"평균기온\", \"평균 상대습도\", \"평균 현지기압\"]]"
   ]
  },
  {
   "cell_type": "code",
   "execution_count": 5,
   "metadata": {
    "scrolled": true
   },
   "outputs": [
    {
     "data": {
      "text/html": [
       "<div>\n",
       "<style scoped>\n",
       "    .dataframe tbody tr th:only-of-type {\n",
       "        vertical-align: middle;\n",
       "    }\n",
       "\n",
       "    .dataframe tbody tr th {\n",
       "        vertical-align: top;\n",
       "    }\n",
       "\n",
       "    .dataframe thead th {\n",
       "        text-align: right;\n",
       "    }\n",
       "</style>\n",
       "<table border=\"1\" class=\"dataframe\">\n",
       "  <thead>\n",
       "    <tr style=\"text-align: right;\">\n",
       "      <th></th>\n",
       "      <th>No_1</th>\n",
       "      <th>No_2</th>\n",
       "      <th>No_3</th>\n",
       "      <th>No_4</th>\n",
       "      <th>No_5</th>\n",
       "      <th>No_6</th>\n",
       "      <th>No_Bonus</th>\n",
       "    </tr>\n",
       "    <tr>\n",
       "      <th>추첨일</th>\n",
       "      <th></th>\n",
       "      <th></th>\n",
       "      <th></th>\n",
       "      <th></th>\n",
       "      <th></th>\n",
       "      <th></th>\n",
       "      <th></th>\n",
       "    </tr>\n",
       "  </thead>\n",
       "  <tbody>\n",
       "    <tr>\n",
       "      <th>2019-07-27</th>\n",
       "      <td>2</td>\n",
       "      <td>6</td>\n",
       "      <td>20</td>\n",
       "      <td>27</td>\n",
       "      <td>37</td>\n",
       "      <td>39</td>\n",
       "      <td>4</td>\n",
       "    </tr>\n",
       "    <tr>\n",
       "      <th>2019-07-20</th>\n",
       "      <td>12</td>\n",
       "      <td>17</td>\n",
       "      <td>28</td>\n",
       "      <td>41</td>\n",
       "      <td>43</td>\n",
       "      <td>44</td>\n",
       "      <td>25</td>\n",
       "    </tr>\n",
       "    <tr>\n",
       "      <th>2019-07-13</th>\n",
       "      <td>14</td>\n",
       "      <td>17</td>\n",
       "      <td>19</td>\n",
       "      <td>22</td>\n",
       "      <td>24</td>\n",
       "      <td>40</td>\n",
       "      <td>41</td>\n",
       "    </tr>\n",
       "    <tr>\n",
       "      <th>2019-07-06</th>\n",
       "      <td>9</td>\n",
       "      <td>15</td>\n",
       "      <td>29</td>\n",
       "      <td>34</td>\n",
       "      <td>37</td>\n",
       "      <td>39</td>\n",
       "      <td>12</td>\n",
       "    </tr>\n",
       "    <tr>\n",
       "      <th>2019-06-29</th>\n",
       "      <td>3</td>\n",
       "      <td>15</td>\n",
       "      <td>22</td>\n",
       "      <td>32</td>\n",
       "      <td>33</td>\n",
       "      <td>45</td>\n",
       "      <td>2</td>\n",
       "    </tr>\n",
       "    <tr>\n",
       "      <th>...</th>\n",
       "      <td>...</td>\n",
       "      <td>...</td>\n",
       "      <td>...</td>\n",
       "      <td>...</td>\n",
       "      <td>...</td>\n",
       "      <td>...</td>\n",
       "      <td>...</td>\n",
       "    </tr>\n",
       "    <tr>\n",
       "      <th>2003-01-04</th>\n",
       "      <td>16</td>\n",
       "      <td>24</td>\n",
       "      <td>29</td>\n",
       "      <td>40</td>\n",
       "      <td>41</td>\n",
       "      <td>42</td>\n",
       "      <td>3</td>\n",
       "    </tr>\n",
       "    <tr>\n",
       "      <th>2002-12-28</th>\n",
       "      <td>14</td>\n",
       "      <td>27</td>\n",
       "      <td>30</td>\n",
       "      <td>31</td>\n",
       "      <td>40</td>\n",
       "      <td>42</td>\n",
       "      <td>2</td>\n",
       "    </tr>\n",
       "    <tr>\n",
       "      <th>2002-12-21</th>\n",
       "      <td>11</td>\n",
       "      <td>16</td>\n",
       "      <td>19</td>\n",
       "      <td>21</td>\n",
       "      <td>27</td>\n",
       "      <td>31</td>\n",
       "      <td>30</td>\n",
       "    </tr>\n",
       "    <tr>\n",
       "      <th>2002-12-14</th>\n",
       "      <td>9</td>\n",
       "      <td>13</td>\n",
       "      <td>21</td>\n",
       "      <td>25</td>\n",
       "      <td>32</td>\n",
       "      <td>42</td>\n",
       "      <td>2</td>\n",
       "    </tr>\n",
       "    <tr>\n",
       "      <th>2002-12-07</th>\n",
       "      <td>10</td>\n",
       "      <td>23</td>\n",
       "      <td>29</td>\n",
       "      <td>33</td>\n",
       "      <td>37</td>\n",
       "      <td>40</td>\n",
       "      <td>16</td>\n",
       "    </tr>\n",
       "  </tbody>\n",
       "</table>\n",
       "<p>869 rows × 7 columns</p>\n",
       "</div>"
      ],
      "text/plain": [
       "            No_1  No_2  No_3  No_4  No_5  No_6  No_Bonus\n",
       "추첨일                                                     \n",
       "2019-07-27     2     6    20    27    37    39         4\n",
       "2019-07-20    12    17    28    41    43    44        25\n",
       "2019-07-13    14    17    19    22    24    40        41\n",
       "2019-07-06     9    15    29    34    37    39        12\n",
       "2019-06-29     3    15    22    32    33    45         2\n",
       "...          ...   ...   ...   ...   ...   ...       ...\n",
       "2003-01-04    16    24    29    40    41    42         3\n",
       "2002-12-28    14    27    30    31    40    42         2\n",
       "2002-12-21    11    16    19    21    27    31        30\n",
       "2002-12-14     9    13    21    25    32    42         2\n",
       "2002-12-07    10    23    29    33    37    40        16\n",
       "\n",
       "[869 rows x 7 columns]"
      ]
     },
     "execution_count": 5,
     "metadata": {},
     "output_type": "execute_result"
    }
   ],
   "source": [
    "lotto"
   ]
  },
  {
   "cell_type": "code",
   "execution_count": 6,
   "metadata": {},
   "outputs": [
    {
     "data": {
      "text/html": [
       "<div>\n",
       "<style scoped>\n",
       "    .dataframe tbody tr th:only-of-type {\n",
       "        vertical-align: middle;\n",
       "    }\n",
       "\n",
       "    .dataframe tbody tr th {\n",
       "        vertical-align: top;\n",
       "    }\n",
       "\n",
       "    .dataframe thead th {\n",
       "        text-align: right;\n",
       "    }\n",
       "</style>\n",
       "<table border=\"1\" class=\"dataframe\">\n",
       "  <thead>\n",
       "    <tr style=\"text-align: right;\">\n",
       "      <th></th>\n",
       "      <th>No_1</th>\n",
       "      <th>No_2</th>\n",
       "      <th>No_3</th>\n",
       "      <th>No_4</th>\n",
       "      <th>No_5</th>\n",
       "      <th>No_6</th>\n",
       "      <th>No_Bonus</th>\n",
       "      <th>평균기온</th>\n",
       "      <th>평균 상대습도</th>\n",
       "      <th>평균 현지기압</th>\n",
       "    </tr>\n",
       "  </thead>\n",
       "  <tbody>\n",
       "    <tr>\n",
       "      <th>2019-07-27</th>\n",
       "      <td>2</td>\n",
       "      <td>6</td>\n",
       "      <td>20</td>\n",
       "      <td>27</td>\n",
       "      <td>37</td>\n",
       "      <td>39</td>\n",
       "      <td>4</td>\n",
       "      <td>28.4</td>\n",
       "      <td>76.6</td>\n",
       "      <td>995.7</td>\n",
       "    </tr>\n",
       "    <tr>\n",
       "      <th>2019-07-20</th>\n",
       "      <td>12</td>\n",
       "      <td>17</td>\n",
       "      <td>28</td>\n",
       "      <td>41</td>\n",
       "      <td>43</td>\n",
       "      <td>44</td>\n",
       "      <td>25</td>\n",
       "      <td>28.0</td>\n",
       "      <td>66.9</td>\n",
       "      <td>990.8</td>\n",
       "    </tr>\n",
       "    <tr>\n",
       "      <th>2019-07-13</th>\n",
       "      <td>14</td>\n",
       "      <td>17</td>\n",
       "      <td>19</td>\n",
       "      <td>22</td>\n",
       "      <td>24</td>\n",
       "      <td>40</td>\n",
       "      <td>41</td>\n",
       "      <td>24.9</td>\n",
       "      <td>67.3</td>\n",
       "      <td>992.0</td>\n",
       "    </tr>\n",
       "    <tr>\n",
       "      <th>2019-07-06</th>\n",
       "      <td>9</td>\n",
       "      <td>15</td>\n",
       "      <td>29</td>\n",
       "      <td>34</td>\n",
       "      <td>37</td>\n",
       "      <td>39</td>\n",
       "      <td>12</td>\n",
       "      <td>29.7</td>\n",
       "      <td>40.9</td>\n",
       "      <td>994.1</td>\n",
       "    </tr>\n",
       "    <tr>\n",
       "      <th>2019-06-29</th>\n",
       "      <td>3</td>\n",
       "      <td>15</td>\n",
       "      <td>22</td>\n",
       "      <td>32</td>\n",
       "      <td>33</td>\n",
       "      <td>45</td>\n",
       "      <td>2</td>\n",
       "      <td>23.1</td>\n",
       "      <td>72.0</td>\n",
       "      <td>988.3</td>\n",
       "    </tr>\n",
       "  </tbody>\n",
       "</table>\n",
       "</div>"
      ],
      "text/plain": [
       "            No_1  No_2  No_3  No_4  No_5  No_6  No_Bonus  평균기온  평균 상대습도  \\\n",
       "2019-07-27     2     6    20    27    37    39         4  28.4     76.6   \n",
       "2019-07-20    12    17    28    41    43    44        25  28.0     66.9   \n",
       "2019-07-13    14    17    19    22    24    40        41  24.9     67.3   \n",
       "2019-07-06     9    15    29    34    37    39        12  29.7     40.9   \n",
       "2019-06-29     3    15    22    32    33    45         2  23.1     72.0   \n",
       "\n",
       "            평균 현지기압  \n",
       "2019-07-27    995.7  \n",
       "2019-07-20    990.8  \n",
       "2019-07-13    992.0  \n",
       "2019-07-06    994.1  \n",
       "2019-06-29    988.3  "
      ]
     },
     "execution_count": 6,
     "metadata": {},
     "output_type": "execute_result"
    }
   ],
   "source": [
    "lotto_weather = pd.concat([lotto,weather], axis =1, join = \"inner\")\n",
    "\n",
    "lotto_weather.head()"
   ]
  },
  {
   "cell_type": "markdown",
   "metadata": {},
   "source": [
    "## 해당 번호를 1등 번호로 표시"
   ]
  },
  {
   "cell_type": "code",
   "execution_count": 7,
   "metadata": {},
   "outputs": [
    {
     "data": {
      "text/html": [
       "<div>\n",
       "<style scoped>\n",
       "    .dataframe tbody tr th:only-of-type {\n",
       "        vertical-align: middle;\n",
       "    }\n",
       "\n",
       "    .dataframe tbody tr th {\n",
       "        vertical-align: top;\n",
       "    }\n",
       "\n",
       "    .dataframe thead th {\n",
       "        text-align: right;\n",
       "    }\n",
       "</style>\n",
       "<table border=\"1\" class=\"dataframe\">\n",
       "  <thead>\n",
       "    <tr style=\"text-align: right;\">\n",
       "      <th></th>\n",
       "      <th>No_1</th>\n",
       "      <th>No_2</th>\n",
       "      <th>No_3</th>\n",
       "      <th>No_4</th>\n",
       "      <th>No_5</th>\n",
       "      <th>No_6</th>\n",
       "      <th>No_Bonus</th>\n",
       "      <th>평균기온</th>\n",
       "      <th>평균 상대습도</th>\n",
       "      <th>평균 현지기압</th>\n",
       "      <th>등수</th>\n",
       "    </tr>\n",
       "  </thead>\n",
       "  <tbody>\n",
       "    <tr>\n",
       "      <th>2019-07-27</th>\n",
       "      <td>2</td>\n",
       "      <td>6</td>\n",
       "      <td>20</td>\n",
       "      <td>27</td>\n",
       "      <td>37</td>\n",
       "      <td>39</td>\n",
       "      <td>4</td>\n",
       "      <td>28.4</td>\n",
       "      <td>76.6</td>\n",
       "      <td>995.7</td>\n",
       "      <td>1</td>\n",
       "    </tr>\n",
       "    <tr>\n",
       "      <th>2019-07-20</th>\n",
       "      <td>12</td>\n",
       "      <td>17</td>\n",
       "      <td>28</td>\n",
       "      <td>41</td>\n",
       "      <td>43</td>\n",
       "      <td>44</td>\n",
       "      <td>25</td>\n",
       "      <td>28.0</td>\n",
       "      <td>66.9</td>\n",
       "      <td>990.8</td>\n",
       "      <td>1</td>\n",
       "    </tr>\n",
       "    <tr>\n",
       "      <th>2019-07-13</th>\n",
       "      <td>14</td>\n",
       "      <td>17</td>\n",
       "      <td>19</td>\n",
       "      <td>22</td>\n",
       "      <td>24</td>\n",
       "      <td>40</td>\n",
       "      <td>41</td>\n",
       "      <td>24.9</td>\n",
       "      <td>67.3</td>\n",
       "      <td>992.0</td>\n",
       "      <td>1</td>\n",
       "    </tr>\n",
       "    <tr>\n",
       "      <th>2019-07-06</th>\n",
       "      <td>9</td>\n",
       "      <td>15</td>\n",
       "      <td>29</td>\n",
       "      <td>34</td>\n",
       "      <td>37</td>\n",
       "      <td>39</td>\n",
       "      <td>12</td>\n",
       "      <td>29.7</td>\n",
       "      <td>40.9</td>\n",
       "      <td>994.1</td>\n",
       "      <td>1</td>\n",
       "    </tr>\n",
       "    <tr>\n",
       "      <th>2019-06-29</th>\n",
       "      <td>3</td>\n",
       "      <td>15</td>\n",
       "      <td>22</td>\n",
       "      <td>32</td>\n",
       "      <td>33</td>\n",
       "      <td>45</td>\n",
       "      <td>2</td>\n",
       "      <td>23.1</td>\n",
       "      <td>72.0</td>\n",
       "      <td>988.3</td>\n",
       "      <td>1</td>\n",
       "    </tr>\n",
       "  </tbody>\n",
       "</table>\n",
       "</div>"
      ],
      "text/plain": [
       "            No_1  No_2  No_3  No_4  No_5  No_6  No_Bonus  평균기온  평균 상대습도  \\\n",
       "2019-07-27     2     6    20    27    37    39         4  28.4     76.6   \n",
       "2019-07-20    12    17    28    41    43    44        25  28.0     66.9   \n",
       "2019-07-13    14    17    19    22    24    40        41  24.9     67.3   \n",
       "2019-07-06     9    15    29    34    37    39        12  29.7     40.9   \n",
       "2019-06-29     3    15    22    32    33    45         2  23.1     72.0   \n",
       "\n",
       "            평균 현지기압  등수  \n",
       "2019-07-27    995.7   1  \n",
       "2019-07-20    990.8   1  \n",
       "2019-07-13    992.0   1  \n",
       "2019-07-06    994.1   1  \n",
       "2019-06-29    988.3   1  "
      ]
     },
     "execution_count": 7,
     "metadata": {},
     "output_type": "execute_result"
    }
   ],
   "source": [
    "lotto_weather[\"등수\"] = 1\n",
    "\n",
    "lotto_weather.head(5)"
   ]
  },
  {
   "cell_type": "markdown",
   "metadata": {},
   "source": [
    "## 2등 번호와 등수를 추출해서 새로운 행에 추가( 6개의 숫자 중 하나를 보너스번호 변경)"
   ]
  },
  {
   "cell_type": "code",
   "execution_count": 8,
   "metadata": {},
   "outputs": [
    {
     "data": {
      "text/plain": [
       "(869, 11)"
      ]
     },
     "execution_count": 8,
     "metadata": {},
     "output_type": "execute_result"
    }
   ],
   "source": [
    "lotto_weather.shape"
   ]
  },
  {
   "cell_type": "code",
   "execution_count": 9,
   "metadata": {},
   "outputs": [
    {
     "name": "stderr",
     "output_type": "stream",
     "text": [
      "c:\\users\\smt065\\anaconda3\\envs\\tf\\lib\\site-packages\\pandas\\core\\indexing.py:1675: SettingWithCopyWarning: \n",
      "A value is trying to be set on a copy of a slice from a DataFrame.\n",
      "Try using .loc[row_indexer,col_indexer] = value instead\n",
      "\n",
      "See the caveats in the documentation: https://pandas.pydata.org/pandas-docs/stable/user_guide/indexing.html#returning-a-view-versus-a-copy\n",
      "  self._setitem_single_column(ilocs[0], value, pi)\n",
      "c:\\users\\smt065\\anaconda3\\envs\\tf\\lib\\site-packages\\pandas\\core\\indexing.py:1719: SettingWithCopyWarning: \n",
      "A value is trying to be set on a copy of a slice from a DataFrame.\n",
      "Try using .loc[row_indexer,col_indexer] = value instead\n",
      "\n",
      "See the caveats in the documentation: https://pandas.pydata.org/pandas-docs/stable/user_guide/indexing.html#returning-a-view-versus-a-copy\n",
      "  self._setitem_single_column(loc, value, pi)\n"
     ]
    }
   ],
   "source": [
    "lotto_weather3 = lotto_weather.copy()\n",
    "\n",
    "for i in range(len(lotto_weather)):\n",
    "    # 해당 회차에서 각 번호 (6개) 대신에 하나씩 보너스 번호로 변경 - > 2등\n",
    "    \n",
    "    \n",
    "    for j in range(6):\n",
    "        #한 줄씩 읽어서 lotto_weather2 저장\n",
    "        lotto_weather2=lotto_weather.iloc[[i],:]\n",
    "        # 해당 줄에서 각 번호를 하나씩 보너스 번호로 교체\n",
    "        lotto_weather2.iloc[:, j] = lotto_weather2.loc[:, \"No_Bonus\"]\n",
    "        \n",
    "        # 등수 추가        \n",
    "        lotto_weather2.loc[:, \"등수\"] = 2 \n",
    "        \n",
    "        # 추가된 데이터를 total의 행에 추가\n",
    "        \n",
    "        lotto_weather3 = pd.concat([lotto_weather3, lotto_weather2])\n",
    "    "
   ]
  },
  {
   "cell_type": "code",
   "execution_count": 10,
   "metadata": {},
   "outputs": [
    {
     "data": {
      "text/plain": [
       "(6083, 11)"
      ]
     },
     "execution_count": 10,
     "metadata": {},
     "output_type": "execute_result"
    }
   ],
   "source": [
    "lotto_weather3.shape\n"
   ]
  },
  {
   "cell_type": "code",
   "execution_count": 11,
   "metadata": {
    "scrolled": true
   },
   "outputs": [
    {
     "data": {
      "text/html": [
       "<div>\n",
       "<style scoped>\n",
       "    .dataframe tbody tr th:only-of-type {\n",
       "        vertical-align: middle;\n",
       "    }\n",
       "\n",
       "    .dataframe tbody tr th {\n",
       "        vertical-align: top;\n",
       "    }\n",
       "\n",
       "    .dataframe thead th {\n",
       "        text-align: right;\n",
       "    }\n",
       "</style>\n",
       "<table border=\"1\" class=\"dataframe\">\n",
       "  <thead>\n",
       "    <tr style=\"text-align: right;\">\n",
       "      <th></th>\n",
       "      <th>No_1</th>\n",
       "      <th>No_2</th>\n",
       "      <th>No_3</th>\n",
       "      <th>No_4</th>\n",
       "      <th>No_5</th>\n",
       "      <th>No_6</th>\n",
       "      <th>No_Bonus</th>\n",
       "      <th>평균기온</th>\n",
       "      <th>평균 상대습도</th>\n",
       "      <th>평균 현지기압</th>\n",
       "      <th>등수</th>\n",
       "    </tr>\n",
       "  </thead>\n",
       "  <tbody>\n",
       "    <tr>\n",
       "      <th>2002-12-07</th>\n",
       "      <td>16</td>\n",
       "      <td>23</td>\n",
       "      <td>29</td>\n",
       "      <td>33</td>\n",
       "      <td>37</td>\n",
       "      <td>40</td>\n",
       "      <td>16</td>\n",
       "      <td>5.2</td>\n",
       "      <td>63.9</td>\n",
       "      <td>1014.5</td>\n",
       "      <td>2</td>\n",
       "    </tr>\n",
       "    <tr>\n",
       "      <th>2002-12-07</th>\n",
       "      <td>10</td>\n",
       "      <td>16</td>\n",
       "      <td>29</td>\n",
       "      <td>33</td>\n",
       "      <td>37</td>\n",
       "      <td>40</td>\n",
       "      <td>16</td>\n",
       "      <td>5.2</td>\n",
       "      <td>63.9</td>\n",
       "      <td>1014.5</td>\n",
       "      <td>2</td>\n",
       "    </tr>\n",
       "    <tr>\n",
       "      <th>2002-12-07</th>\n",
       "      <td>10</td>\n",
       "      <td>23</td>\n",
       "      <td>16</td>\n",
       "      <td>33</td>\n",
       "      <td>37</td>\n",
       "      <td>40</td>\n",
       "      <td>16</td>\n",
       "      <td>5.2</td>\n",
       "      <td>63.9</td>\n",
       "      <td>1014.5</td>\n",
       "      <td>2</td>\n",
       "    </tr>\n",
       "    <tr>\n",
       "      <th>2002-12-07</th>\n",
       "      <td>10</td>\n",
       "      <td>23</td>\n",
       "      <td>29</td>\n",
       "      <td>16</td>\n",
       "      <td>37</td>\n",
       "      <td>40</td>\n",
       "      <td>16</td>\n",
       "      <td>5.2</td>\n",
       "      <td>63.9</td>\n",
       "      <td>1014.5</td>\n",
       "      <td>2</td>\n",
       "    </tr>\n",
       "    <tr>\n",
       "      <th>2002-12-07</th>\n",
       "      <td>10</td>\n",
       "      <td>23</td>\n",
       "      <td>29</td>\n",
       "      <td>33</td>\n",
       "      <td>16</td>\n",
       "      <td>40</td>\n",
       "      <td>16</td>\n",
       "      <td>5.2</td>\n",
       "      <td>63.9</td>\n",
       "      <td>1014.5</td>\n",
       "      <td>2</td>\n",
       "    </tr>\n",
       "    <tr>\n",
       "      <th>2002-12-07</th>\n",
       "      <td>10</td>\n",
       "      <td>23</td>\n",
       "      <td>29</td>\n",
       "      <td>33</td>\n",
       "      <td>37</td>\n",
       "      <td>16</td>\n",
       "      <td>16</td>\n",
       "      <td>5.2</td>\n",
       "      <td>63.9</td>\n",
       "      <td>1014.5</td>\n",
       "      <td>2</td>\n",
       "    </tr>\n",
       "  </tbody>\n",
       "</table>\n",
       "</div>"
      ],
      "text/plain": [
       "            No_1  No_2  No_3  No_4  No_5  No_6  No_Bonus  평균기온  평균 상대습도  \\\n",
       "2002-12-07    16    23    29    33    37    40        16   5.2     63.9   \n",
       "2002-12-07    10    16    29    33    37    40        16   5.2     63.9   \n",
       "2002-12-07    10    23    16    33    37    40        16   5.2     63.9   \n",
       "2002-12-07    10    23    29    16    37    40        16   5.2     63.9   \n",
       "2002-12-07    10    23    29    33    16    40        16   5.2     63.9   \n",
       "2002-12-07    10    23    29    33    37    16        16   5.2     63.9   \n",
       "\n",
       "            평균 현지기압  등수  \n",
       "2002-12-07   1014.5   2  \n",
       "2002-12-07   1014.5   2  \n",
       "2002-12-07   1014.5   2  \n",
       "2002-12-07   1014.5   2  \n",
       "2002-12-07   1014.5   2  \n",
       "2002-12-07   1014.5   2  "
      ]
     },
     "execution_count": 11,
     "metadata": {},
     "output_type": "execute_result"
    }
   ],
   "source": [
    "lotto_weather3.tail(6)"
   ]
  },
  {
   "cell_type": "markdown",
   "metadata": {},
   "source": [
    "## 3등, 4등, 5등 데이터도 추가\n",
    "\n",
    "- 3등 : 6개 자리수 중에서 1개 틀린 것(5개가 맞은 것)\n",
    "- 4등 : 6개 자리수 중에서 2개 틀린 것(4개가 맞은 것)\n",
    "- 5등 : 6개 자리수 중에서 3개 틀린 것(4개가 맞은 것)"
   ]
  },
  {
   "cell_type": "code",
   "execution_count": 80,
   "metadata": {},
   "outputs": [
    {
     "data": {
      "application/vnd.jupyter.widget-view+json": {
       "model_id": "4c42c0df8c9041c5948be41ca40dde59",
       "version_major": 2,
       "version_minor": 0
      },
      "text/plain": [
       "  0%|          | 0/869 [00:00<?, ?it/s]"
      ]
     },
     "metadata": {},
     "output_type": "display_data"
    },
    {
     "name": "stderr",
     "output_type": "stream",
     "text": [
      "c:\\users\\smt065\\anaconda3\\envs\\tf\\lib\\site-packages\\pandas\\core\\indexing.py:1719: SettingWithCopyWarning: \n",
      "A value is trying to be set on a copy of a slice from a DataFrame.\n",
      "Try using .loc[row_indexer,col_indexer] = value instead\n",
      "\n",
      "See the caveats in the documentation: https://pandas.pydata.org/pandas-docs/stable/user_guide/indexing.html#returning-a-view-versus-a-copy\n",
      "  self._setitem_single_column(loc, value, pi)\n"
     ]
    }
   ],
   "source": [
    "from tqdm.notebook import tqdm as tq\n",
    "import numpy as np\n",
    "\n",
    "lotto_weather5 = lotto_weather3.copy() # 1,2등이 있는 것\n",
    "\n",
    "# 전체 회차만큼 반복\n",
    "for i in tq(range(len(lotto_weather))):\n",
    "    # 3등 : 6개 중에서 5개가 맞고, 한개는 보너스번호가 아닌 나머지 38개 중에서 한개\n",
    "    for j in range(6):\n",
    "        # 1~45번까지의 숫자\n",
    "        lotto_num = np.arange(1,46)\n",
    "        \n",
    "        # 한줄씩 읽어서 lotto_weather2에 저장\n",
    "        lotto_weather2 = lotto_weather.iloc[[i],:]\n",
    "        \n",
    "        # 각 회차에서 번호 7개(6개의 번호 + 보너스 번호)를 뽑아낸다.\n",
    "        list1 = lotto_weather2.iloc[:,0:7].values \n",
    "        \n",
    "        # 1~45번까지의 숫자 중에서 뽑힌 7개의 번호가 아닌 나머지 번호\n",
    "        # np.setdiff1d (a,b) : nparray a에 들어있는 b를 뺀다.\n",
    "        # ex) a : [1,2,3,4,5] b: [1,3] -> np.setdiff1d (a,b) = [2,4,5]\n",
    "        lotto_rest = np.setdiff1d(lotto_num,list1)\n",
    "            \n",
    "        # 해당 줄에서 각 번호를 당첨 안되는 번호로 교체\n",
    "        for k in lotto_rest:\n",
    "            lotto_weather2.iloc[:,j] = k\n",
    "        \n",
    "        # 등수 추가하기\n",
    "            lotto_weather2.loc[:,'등수'] = 3\n",
    "        \n",
    "        # 추가된 데이터를 lotto_weather5에 추가\n",
    "            lotto_weather5 = pd.concat([lotto_weather5, lotto_weather2])"
   ]
  },
  {
   "cell_type": "code",
   "execution_count": 2,
   "metadata": {},
   "outputs": [],
   "source": [
    "import pandas as pd\n",
    "lotto3 = pd.read_csv('lotto3.csv', index_col = 0)"
   ]
  },
  {
   "cell_type": "code",
   "execution_count": 3,
   "metadata": {},
   "outputs": [
    {
     "data": {
      "text/plain": [
       "등수\n",
       "3    198132\n",
       "1       869\n",
       "2        60\n",
       "dtype: int64"
      ]
     },
     "execution_count": 3,
     "metadata": {},
     "output_type": "execute_result"
    }
   ],
   "source": [
    "lotto3.value_counts(\"등수\")"
   ]
  },
  {
   "cell_type": "code",
   "execution_count": null,
   "metadata": {},
   "outputs": [],
   "source": []
  },
  {
   "cell_type": "code",
   "execution_count": 4,
   "metadata": {},
   "outputs": [
    {
     "data": {
      "text/html": [
       "<div>\n",
       "<style scoped>\n",
       "    .dataframe tbody tr th:only-of-type {\n",
       "        vertical-align: middle;\n",
       "    }\n",
       "\n",
       "    .dataframe tbody tr th {\n",
       "        vertical-align: top;\n",
       "    }\n",
       "\n",
       "    .dataframe thead th {\n",
       "        text-align: right;\n",
       "    }\n",
       "</style>\n",
       "<table border=\"1\" class=\"dataframe\">\n",
       "  <thead>\n",
       "    <tr style=\"text-align: right;\">\n",
       "      <th></th>\n",
       "      <th>No_1</th>\n",
       "      <th>No_2</th>\n",
       "      <th>No_3</th>\n",
       "      <th>No_4</th>\n",
       "      <th>No_5</th>\n",
       "      <th>No_6</th>\n",
       "      <th>평균기온</th>\n",
       "      <th>평균 상대습도</th>\n",
       "      <th>평균 현지기압</th>\n",
       "      <th>등수</th>\n",
       "    </tr>\n",
       "  </thead>\n",
       "  <tbody>\n",
       "    <tr>\n",
       "      <th>2019-07-27</th>\n",
       "      <td>2</td>\n",
       "      <td>6</td>\n",
       "      <td>20</td>\n",
       "      <td>27</td>\n",
       "      <td>37</td>\n",
       "      <td>39</td>\n",
       "      <td>28.4</td>\n",
       "      <td>76.6</td>\n",
       "      <td>995.7</td>\n",
       "      <td>1</td>\n",
       "    </tr>\n",
       "    <tr>\n",
       "      <th>2019-07-20</th>\n",
       "      <td>12</td>\n",
       "      <td>17</td>\n",
       "      <td>28</td>\n",
       "      <td>41</td>\n",
       "      <td>43</td>\n",
       "      <td>44</td>\n",
       "      <td>28.0</td>\n",
       "      <td>66.9</td>\n",
       "      <td>990.8</td>\n",
       "      <td>1</td>\n",
       "    </tr>\n",
       "    <tr>\n",
       "      <th>2019-07-13</th>\n",
       "      <td>14</td>\n",
       "      <td>17</td>\n",
       "      <td>19</td>\n",
       "      <td>22</td>\n",
       "      <td>24</td>\n",
       "      <td>40</td>\n",
       "      <td>24.9</td>\n",
       "      <td>67.3</td>\n",
       "      <td>992.0</td>\n",
       "      <td>1</td>\n",
       "    </tr>\n",
       "    <tr>\n",
       "      <th>2019-07-06</th>\n",
       "      <td>9</td>\n",
       "      <td>15</td>\n",
       "      <td>29</td>\n",
       "      <td>34</td>\n",
       "      <td>37</td>\n",
       "      <td>39</td>\n",
       "      <td>29.7</td>\n",
       "      <td>40.9</td>\n",
       "      <td>994.1</td>\n",
       "      <td>1</td>\n",
       "    </tr>\n",
       "    <tr>\n",
       "      <th>2019-06-29</th>\n",
       "      <td>3</td>\n",
       "      <td>15</td>\n",
       "      <td>22</td>\n",
       "      <td>32</td>\n",
       "      <td>33</td>\n",
       "      <td>45</td>\n",
       "      <td>23.1</td>\n",
       "      <td>72.0</td>\n",
       "      <td>988.3</td>\n",
       "      <td>1</td>\n",
       "    </tr>\n",
       "    <tr>\n",
       "      <th>...</th>\n",
       "      <td>...</td>\n",
       "      <td>...</td>\n",
       "      <td>...</td>\n",
       "      <td>...</td>\n",
       "      <td>...</td>\n",
       "      <td>...</td>\n",
       "      <td>...</td>\n",
       "      <td>...</td>\n",
       "      <td>...</td>\n",
       "      <td>...</td>\n",
       "    </tr>\n",
       "    <tr>\n",
       "      <th>2002-12-07</th>\n",
       "      <td>10</td>\n",
       "      <td>23</td>\n",
       "      <td>29</td>\n",
       "      <td>33</td>\n",
       "      <td>37</td>\n",
       "      <td>41</td>\n",
       "      <td>5.2</td>\n",
       "      <td>63.9</td>\n",
       "      <td>1014.5</td>\n",
       "      <td>3</td>\n",
       "    </tr>\n",
       "    <tr>\n",
       "      <th>2002-12-07</th>\n",
       "      <td>10</td>\n",
       "      <td>23</td>\n",
       "      <td>29</td>\n",
       "      <td>33</td>\n",
       "      <td>37</td>\n",
       "      <td>42</td>\n",
       "      <td>5.2</td>\n",
       "      <td>63.9</td>\n",
       "      <td>1014.5</td>\n",
       "      <td>3</td>\n",
       "    </tr>\n",
       "    <tr>\n",
       "      <th>2002-12-07</th>\n",
       "      <td>10</td>\n",
       "      <td>23</td>\n",
       "      <td>29</td>\n",
       "      <td>33</td>\n",
       "      <td>37</td>\n",
       "      <td>43</td>\n",
       "      <td>5.2</td>\n",
       "      <td>63.9</td>\n",
       "      <td>1014.5</td>\n",
       "      <td>3</td>\n",
       "    </tr>\n",
       "    <tr>\n",
       "      <th>2002-12-07</th>\n",
       "      <td>10</td>\n",
       "      <td>23</td>\n",
       "      <td>29</td>\n",
       "      <td>33</td>\n",
       "      <td>37</td>\n",
       "      <td>44</td>\n",
       "      <td>5.2</td>\n",
       "      <td>63.9</td>\n",
       "      <td>1014.5</td>\n",
       "      <td>3</td>\n",
       "    </tr>\n",
       "    <tr>\n",
       "      <th>2002-12-07</th>\n",
       "      <td>10</td>\n",
       "      <td>23</td>\n",
       "      <td>29</td>\n",
       "      <td>33</td>\n",
       "      <td>37</td>\n",
       "      <td>45</td>\n",
       "      <td>5.2</td>\n",
       "      <td>63.9</td>\n",
       "      <td>1014.5</td>\n",
       "      <td>3</td>\n",
       "    </tr>\n",
       "  </tbody>\n",
       "</table>\n",
       "<p>199061 rows × 10 columns</p>\n",
       "</div>"
      ],
      "text/plain": [
       "            No_1  No_2  No_3  No_4  No_5  No_6  평균기온  평균 상대습도  평균 현지기압  등수\n",
       "2019-07-27     2     6    20    27    37    39  28.4     76.6    995.7   1\n",
       "2019-07-20    12    17    28    41    43    44  28.0     66.9    990.8   1\n",
       "2019-07-13    14    17    19    22    24    40  24.9     67.3    992.0   1\n",
       "2019-07-06     9    15    29    34    37    39  29.7     40.9    994.1   1\n",
       "2019-06-29     3    15    22    32    33    45  23.1     72.0    988.3   1\n",
       "...          ...   ...   ...   ...   ...   ...   ...      ...      ...  ..\n",
       "2002-12-07    10    23    29    33    37    41   5.2     63.9   1014.5   3\n",
       "2002-12-07    10    23    29    33    37    42   5.2     63.9   1014.5   3\n",
       "2002-12-07    10    23    29    33    37    43   5.2     63.9   1014.5   3\n",
       "2002-12-07    10    23    29    33    37    44   5.2     63.9   1014.5   3\n",
       "2002-12-07    10    23    29    33    37    45   5.2     63.9   1014.5   3\n",
       "\n",
       "[199061 rows x 10 columns]"
      ]
     },
     "execution_count": 4,
     "metadata": {},
     "output_type": "execute_result"
    }
   ],
   "source": [
    "## 보너스 번호 제거\n",
    "\n",
    "del lotto3[\"No_Bonus\"]\n",
    "\n",
    "lotto3"
   ]
  },
  {
   "cell_type": "code",
   "execution_count": 5,
   "metadata": {},
   "outputs": [],
   "source": [
    "X=lotto3.iloc[:,:-1]\n",
    "y=lotto3.iloc[:,-1]"
   ]
  },
  {
   "cell_type": "code",
   "execution_count": 6,
   "metadata": {},
   "outputs": [],
   "source": [
    "from sklearn.model_selection import train_test_split\n"
   ]
  },
  {
   "cell_type": "code",
   "execution_count": 7,
   "metadata": {},
   "outputs": [
    {
     "data": {
      "text/plain": [
       "((149295, 9), (149295,), (49766, 9), (49766,))"
      ]
     },
     "execution_count": 7,
     "metadata": {},
     "output_type": "execute_result"
    }
   ],
   "source": [
    "X_train,X_test, y_train, y_test = train_test_split(X,y, random_state = 45)\n",
    "X_train.shape, y_train.shape, X_test.shape, y_test.shape"
   ]
  },
  {
   "cell_type": "code",
   "execution_count": 8,
   "metadata": {},
   "outputs": [],
   "source": [
    "y_train_en = pd.get_dummies(y_train)\n",
    "y_test_en = pd.get_dummies(y_test)"
   ]
  },
  {
   "cell_type": "code",
   "execution_count": 9,
   "metadata": {},
   "outputs": [
    {
     "data": {
      "text/plain": [
       "1  2  3\n",
       "0  0  1    148605\n",
       "1  0  0       647\n",
       "0  1  0        43\n",
       "dtype: int64"
      ]
     },
     "execution_count": 9,
     "metadata": {},
     "output_type": "execute_result"
    }
   ],
   "source": [
    "y_train_en.value_counts()"
   ]
  },
  {
   "cell_type": "code",
   "execution_count": 10,
   "metadata": {},
   "outputs": [
    {
     "data": {
      "text/plain": [
       "((149295, 3), (49766, 3))"
      ]
     },
     "execution_count": 10,
     "metadata": {},
     "output_type": "execute_result"
    }
   ],
   "source": [
    "y_train_en.shape, y_test_en.shape"
   ]
  },
  {
   "cell_type": "code",
   "execution_count": 11,
   "metadata": {},
   "outputs": [],
   "source": [
    "import numpy as np\n",
    "import tensorflow as tf\n",
    "\n",
    "seed = 0\n",
    "np.random.seed(seed)\n",
    "tf.random.set_seed(seed)"
   ]
  },
  {
   "cell_type": "code",
   "execution_count": 12,
   "metadata": {},
   "outputs": [],
   "source": [
    "from tensorflow.keras.models import Sequential\n",
    "from tensorflow.keras.layers import Dense, Dropout"
   ]
  },
  {
   "cell_type": "code",
   "execution_count": 21,
   "metadata": {},
   "outputs": [
    {
     "name": "stdout",
     "output_type": "stream",
     "text": [
      "Model: \"sequential_1\"\n",
      "_________________________________________________________________\n",
      "Layer (type)                 Output Shape              Param #   \n",
      "=================================================================\n",
      "dense_7 (Dense)              (None, 27)                270       \n",
      "_________________________________________________________________\n",
      "dense_8 (Dense)              (None, 54)                1512      \n",
      "_________________________________________________________________\n",
      "dense_9 (Dense)              (None, 108)               5940      \n",
      "_________________________________________________________________\n",
      "dense_10 (Dense)             (None, 216)               23544     \n",
      "_________________________________________________________________\n",
      "dense_11 (Dense)             (None, 108)               23436     \n",
      "_________________________________________________________________\n",
      "dense_12 (Dense)             (None, 54)                5886      \n",
      "_________________________________________________________________\n",
      "dense_13 (Dense)             (None, 3)                 165       \n",
      "=================================================================\n",
      "Total params: 60,753\n",
      "Trainable params: 60,753\n",
      "Non-trainable params: 0\n",
      "_________________________________________________________________\n"
     ]
    }
   ],
   "source": [
    "model_lotto = Sequential()\n",
    "\n",
    "# 입력층 \n",
    "model_lotto.add(Dense(27 , input_dim = 9, activation = \"relu\"))\n",
    "\n",
    "# 은닉층\n",
    "\n",
    "model_lotto.add(Dense(54 , activation = \"relu\"))\n",
    "model_lotto.add(Dense(108 , activation = \"relu\"))\n",
    "model_lotto.add(Dense(216 , activation = \"relu\"))\n",
    "model_lotto.add(Dense(108 , activation = \"relu\"))\n",
    "model_lotto.add(Dense(54 , activation = \"relu\"))\n",
    "\n",
    "model_lotto.add(Dense(3, activation = \"softmax\"))\n",
    "\n",
    "model_lotto.summary()"
   ]
  },
  {
   "cell_type": "code",
   "execution_count": 22,
   "metadata": {},
   "outputs": [],
   "source": [
    "model_lotto.compile(loss = \"categorical_crossentropy\",\n",
    "                   optimizer = \"adam\",\n",
    "                   metrics = [\"acc\"])"
   ]
  },
  {
   "cell_type": "code",
   "execution_count": 23,
   "metadata": {
    "scrolled": true
   },
   "outputs": [
    {
     "name": "stdout",
     "output_type": "stream",
     "text": [
      "Epoch 1/30\n",
      "996/996 [==============================] - 4s 4ms/step - loss: 0.5239 - acc: 0.9817 - val_loss: 0.0314 - val_acc: 0.9952\n",
      "Epoch 2/30\n",
      "996/996 [==============================] - 4s 4ms/step - loss: 0.0342 - acc: 0.9952 - val_loss: 0.0323 - val_acc: 0.9952\n",
      "Epoch 3/30\n",
      "996/996 [==============================] - 4s 4ms/step - loss: 0.0328 - acc: 0.9952 - val_loss: 0.0319 - val_acc: 0.9952\n",
      "Epoch 4/30\n",
      "996/996 [==============================] - 4s 4ms/step - loss: 0.0342 - acc: 0.9949 - val_loss: 0.0318 - val_acc: 0.9952\n",
      "Epoch 5/30\n",
      "996/996 [==============================] - 4s 4ms/step - loss: 0.0305 - acc: 0.9955 - val_loss: 0.0313 - val_acc: 0.9952\n",
      "Epoch 6/30\n",
      "996/996 [==============================] - 3s 3ms/step - loss: 0.0319 - acc: 0.9952 - val_loss: 0.0333 - val_acc: 0.9952\n",
      "Epoch 7/30\n",
      "996/996 [==============================] - 3s 3ms/step - loss: 0.0310 - acc: 0.9954 - val_loss: 0.0339 - val_acc: 0.9952\n",
      "Epoch 8/30\n",
      "996/996 [==============================] - 4s 4ms/step - loss: 0.0325 - acc: 0.9952 - val_loss: 0.0315 - val_acc: 0.9952\n",
      "Epoch 9/30\n",
      "996/996 [==============================] - 4s 4ms/step - loss: 0.0307 - acc: 0.9954 - val_loss: 0.0321 - val_acc: 0.9952\n",
      "Epoch 10/30\n",
      "996/996 [==============================] - 4s 4ms/step - loss: 0.0317 - acc: 0.9953 - val_loss: 0.0316 - val_acc: 0.9952\n",
      "Epoch 11/30\n",
      "996/996 [==============================] - 4s 4ms/step - loss: 0.0325 - acc: 0.9952 - val_loss: 0.0311 - val_acc: 0.9952\n",
      "Epoch 12/30\n",
      "996/996 [==============================] - 3s 3ms/step - loss: 0.0308 - acc: 0.9953 - val_loss: 0.0313 - val_acc: 0.9952\n",
      "Epoch 13/30\n",
      "996/996 [==============================] - 4s 4ms/step - loss: 0.0302 - acc: 0.9955 - val_loss: 0.0314 - val_acc: 0.9952\n",
      "Epoch 14/30\n",
      "996/996 [==============================] - 3s 3ms/step - loss: 0.0315 - acc: 0.9953 - val_loss: 0.0328 - val_acc: 0.9952\n",
      "Epoch 15/30\n",
      "996/996 [==============================] - 4s 4ms/step - loss: 0.0312 - acc: 0.9954 - val_loss: 0.0311 - val_acc: 0.9952\n",
      "Epoch 16/30\n",
      "996/996 [==============================] - 4s 4ms/step - loss: 0.0319 - acc: 0.9952 - val_loss: 0.0310 - val_acc: 0.9952\n",
      "Epoch 17/30\n",
      "996/996 [==============================] - 4s 4ms/step - loss: 0.0314 - acc: 0.9952 - val_loss: 0.0311 - val_acc: 0.9952\n",
      "Epoch 18/30\n",
      "996/996 [==============================] - 3s 4ms/step - loss: 0.0300 - acc: 0.9954 - val_loss: 0.0310 - val_acc: 0.9952\n",
      "Epoch 19/30\n",
      "996/996 [==============================] - 4s 4ms/step - loss: 0.0313 - acc: 0.9952 - val_loss: 0.0310 - val_acc: 0.9952\n",
      "Epoch 20/30\n",
      "996/996 [==============================] - 4s 4ms/step - loss: 0.0301 - acc: 0.9954 - val_loss: 0.0318 - val_acc: 0.9952\n",
      "Epoch 21/30\n",
      "996/996 [==============================] - 4s 4ms/step - loss: 0.0306 - acc: 0.9953 - val_loss: 0.0308 - val_acc: 0.9952\n",
      "Epoch 22/30\n",
      "996/996 [==============================] - 4s 4ms/step - loss: 0.0296 - acc: 0.9955 - val_loss: 0.0309 - val_acc: 0.9952\n",
      "Epoch 23/30\n",
      "996/996 [==============================] - 4s 4ms/step - loss: 0.0310 - acc: 0.9953 - val_loss: 0.0320 - val_acc: 0.9952\n",
      "Epoch 24/30\n",
      "996/996 [==============================] - 4s 4ms/step - loss: 0.0304 - acc: 0.9953 - val_loss: 0.0309 - val_acc: 0.9952\n",
      "Epoch 25/30\n",
      "996/996 [==============================] - 4s 4ms/step - loss: 0.0304 - acc: 0.9953 - val_loss: 0.0323 - val_acc: 0.9952\n",
      "Epoch 26/30\n",
      "996/996 [==============================] - 4s 4ms/step - loss: 0.0290 - acc: 0.9955 - val_loss: 0.0306 - val_acc: 0.9952\n",
      "Epoch 27/30\n",
      "996/996 [==============================] - 4s 4ms/step - loss: 0.0303 - acc: 0.9953 - val_loss: 0.0310 - val_acc: 0.9952\n",
      "Epoch 28/30\n",
      "996/996 [==============================] - 3s 3ms/step - loss: 0.0296 - acc: 0.9954 - val_loss: 0.0306 - val_acc: 0.9952\n",
      "Epoch 29/30\n",
      "996/996 [==============================] - 4s 4ms/step - loss: 0.0296 - acc: 0.9954 - val_loss: 0.0306 - val_acc: 0.9952\n",
      "Epoch 30/30\n",
      "996/996 [==============================] - 4s 4ms/step - loss: 0.0290 - acc: 0.9955 - val_loss: 0.0301 - val_acc: 0.9952\n"
     ]
    },
    {
     "data": {
      "text/plain": [
       "<tensorflow.python.keras.callbacks.History at 0x1fa4a788340>"
      ]
     },
     "execution_count": 23,
     "metadata": {},
     "output_type": "execute_result"
    }
   ],
   "source": [
    "model_lotto.fit(X_train, y_train_en, epochs= 30, batch_size = 150,\n",
    "               validation_data = (X_test , y_test_en))"
   ]
  },
  {
   "cell_type": "code",
   "execution_count": 16,
   "metadata": {},
   "outputs": [],
   "source": [
    "import random\n",
    "predic_list=[]\n",
    "ran_num = random.randint(1,46)\n",
    "for i in range(6):\n",
    "    while ran_num in predic_list:\n",
    "        ran_num=random.randint(1,46)\n",
    "    predic_list.append(ran_num)"
   ]
  },
  {
   "cell_type": "code",
   "execution_count": 17,
   "metadata": {},
   "outputs": [],
   "source": [
    "list=np.array([predic_list[0],predic_list[1],predic_list[2],\n",
    "                        predic_list[3],predic_list[4],predic_list[5],\n",
    "               9,92,1021]).reshape(1,9)"
   ]
  },
  {
   "cell_type": "code",
   "execution_count": 18,
   "metadata": {},
   "outputs": [
    {
     "data": {
      "text/plain": [
       "[25, 42, 34, 8, 37, 15]"
      ]
     },
     "execution_count": 18,
     "metadata": {},
     "output_type": "execute_result"
    }
   ],
   "source": [
    "predic_list"
   ]
  },
  {
   "cell_type": "code",
   "execution_count": 19,
   "metadata": {},
   "outputs": [
    {
     "data": {
      "text/plain": [
       "array([[  25,   42,   34,    8,   37,   15,    9,   92, 1021]])"
      ]
     },
     "execution_count": 19,
     "metadata": {},
     "output_type": "execute_result"
    }
   ],
   "source": [
    "list"
   ]
  },
  {
   "cell_type": "code",
   "execution_count": 20,
   "metadata": {},
   "outputs": [
    {
     "data": {
      "text/plain": [
       "array([[3.0761687e-03, 2.3700504e-04, 9.9668688e-01]], dtype=float32)"
      ]
     },
     "execution_count": 20,
     "metadata": {},
     "output_type": "execute_result"
    }
   ],
   "source": [
    "pred=model_lotto.predict(list)\n",
    "pred"
   ]
  },
  {
   "cell_type": "code",
   "execution_count": null,
   "metadata": {},
   "outputs": [],
   "source": []
  },
  {
   "cell_type": "code",
   "execution_count": null,
   "metadata": {},
   "outputs": [],
   "source": []
  }
 ],
 "metadata": {
  "kernelspec": {
   "display_name": "Python 3",
   "language": "python",
   "name": "python3"
  },
  "language_info": {
   "codemirror_mode": {
    "name": "ipython",
    "version": 3
   },
   "file_extension": ".py",
   "mimetype": "text/x-python",
   "name": "python",
   "nbconvert_exporter": "python",
   "pygments_lexer": "ipython3",
   "version": "3.6.12"
  }
 },
 "nbformat": 4,
 "nbformat_minor": 4
}
