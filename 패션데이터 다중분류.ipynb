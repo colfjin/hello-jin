{
 "cells": [
  {
   "cell_type": "markdown",
   "id": "hidden-pantyhose",
   "metadata": {},
   "source": [
    "### 문제 정의\n",
    "\n",
    "- 패션 데이터를 이용해서 다중분류\n",
    "- 전이학습"
   ]
  },
  {
   "cell_type": "markdown",
   "id": "under-inventory",
   "metadata": {},
   "source": [
    "데이터 수집"
   ]
  },
  {
   "cell_type": "code",
   "execution_count": 1,
   "id": "functioning-portuguese",
   "metadata": {},
   "outputs": [
    {
     "data": {
      "text/plain": [
       "((60000, 28, 28), (60000,), (10000, 28, 28), (10000,))"
      ]
     },
     "execution_count": 1,
     "metadata": {},
     "output_type": "execute_result"
    }
   ],
   "source": [
    "from tensorflow.keras.datasets import fashion_mnist\n",
    "\n",
    "(X_train,y_train),(X_test,y_test)= fashion_mnist.load_data()\n",
    "\n",
    "X_train.shape, y_train.shape, X_test.shape,y_test.shape"
   ]
  },
  {
   "cell_type": "code",
   "execution_count": 4,
   "id": "tender-continuity",
   "metadata": {},
   "outputs": [
    {
     "data": {
      "text/plain": [
       "((1000, 28, 28), (1000,), (300, 28, 28), (300,))"
      ]
     },
     "execution_count": 4,
     "metadata": {},
     "output_type": "execute_result"
    }
   ],
   "source": [
    "# 훈련데이터 1000개, 테스트 데이터 300개 샘플링\n",
    "X_train=X_train[:1000,:]\n",
    "y_train=y_train[:1000]\n",
    "X_test=X_test[:300,:]\n",
    "y_test=y_test[:300]\n",
    "X_train.shape,y_train.shape,X_test.shape,y_test.shape"
   ]
  },
  {
   "cell_type": "code",
   "execution_count": 5,
   "id": "atmospheric-amino",
   "metadata": {},
   "outputs": [
    {
     "data": {
      "text/plain": [
       "array([9, 0, 3, 2, 7, 5, 1, 6, 4, 8], dtype=uint8)"
      ]
     },
     "execution_count": 5,
     "metadata": {},
     "output_type": "execute_result"
    }
   ],
   "source": [
    "import pandas as pd\n",
    "pd.Series(y_train).unique()"
   ]
  },
  {
   "cell_type": "code",
   "execution_count": 9,
   "id": "vertical-prevention",
   "metadata": {},
   "outputs": [
    {
     "data": {
      "text/plain": [
       "<matplotlib.image.AxesImage at 0x1cca243b208>"
      ]
     },
     "execution_count": 9,
     "metadata": {},
     "output_type": "execute_result"
    },
    {
     "data": {
      "image/png": "[encoded data removed]",
      "text/plain": [
       "<Figure size 432x288 with 1 Axes>"
      ]
     },
     "metadata": {
      "needs_background": "light"
     },
     "output_type": "display_data"
    }
   ],
   "source": [
    "import matplotlib.pyplot as plt\n",
    "plt.imshow(X_train[377],cmap=\"gray\")"
   ]
  },
  {
   "cell_type": "code",
   "execution_count": 11,
   "id": "historical-arena",
   "metadata": {},
   "outputs": [
    {
     "data": {
      "text/plain": [
       "((1000, 10), (300, 10))"
      ]
     },
     "execution_count": 11,
     "metadata": {},
     "output_type": "execute_result"
    }
   ],
   "source": [
    "y_train_en=pd.get_dummies(y_train)\n",
    "y_test_en=pd.get_dummies(y_test)\n",
    "\n",
    "y_train_en.shape,y_test_en.shape"
   ]
  },
  {
   "cell_type": "markdown",
   "id": "welcome-michigan",
   "metadata": {},
   "source": [
    "이미지 전처리"
   ]
  },
  {
   "cell_type": "code",
   "execution_count": 13,
   "id": "third-edinburgh",
   "metadata": {},
   "outputs": [],
   "source": [
    "#이미지를 (28,28)에서 (244,244) 크기로 변경\n",
    "from PIL import Image\n",
    "import numpy as np\n",
    "\n",
    "train_resize_list=[]\n",
    "\n",
    "for i in range(len(X_train)):\n",
    "    train_resize_img=Image.fromarray(X_train[i]).resize((244,244))\n",
    "    train_resize_list.append(np.array(train_resize_img))"
   ]
  },
  {
   "cell_type": "code",
   "execution_count": 14,
   "id": "union-soviet",
   "metadata": {},
   "outputs": [],
   "source": [
    "test_resize_list=[]\n",
    "\n",
    "for i in range(len(X_test)):\n",
    "    test_resize_img=Image.fromarray(X_test[i]).resize((244,244))\n",
    "    test_resize_list.append(np.array(test_resize_img))"
   ]
  },
  {
   "cell_type": "code",
   "execution_count": 15,
   "id": "occupied-drain",
   "metadata": {},
   "outputs": [
    {
     "data": {
      "text/plain": [
       "((1000, 244, 244), (300, 244, 244))"
      ]
     },
     "execution_count": 15,
     "metadata": {},
     "output_type": "execute_result"
    }
   ],
   "source": [
    "#리스트를 numpy array\n",
    "X_train_resized=np.array(train_resize_list)\n",
    "X_test_resized=np.array(test_resize_list)\n",
    "\n",
    "X_train_resized.shape,X_test_resized.shape"
   ]
  },
  {
   "cell_type": "code",
   "execution_count": 16,
   "id": "personalized-combination",
   "metadata": {},
   "outputs": [
    {
     "data": {
      "text/plain": [
       "((1000, 244, 244, 1), (300, 244, 244, 1))"
      ]
     },
     "execution_count": 16,
     "metadata": {},
     "output_type": "execute_result"
    }
   ],
   "source": [
    "#색상 차원 추가\n",
    "X_train_resized=X_train_resized.reshape(X_train_resized.shape[0],244,244,1)\n",
    "X_test_resized=X_test_resized.reshape(X_test_resized.shape[0],244,244,1)\n",
    "\n",
    "X_train_resized.shape,X_test_resized.shape"
   ]
  },
  {
   "cell_type": "code",
   "execution_count": 17,
   "id": "requested-smooth",
   "metadata": {},
   "outputs": [],
   "source": [
    "import numpy as np\n",
    "import tensorflow as tf\n",
    "seed=0\n",
    "np.random.seed(seed)\n",
    "tf.random.set_seed(seed)\n"
   ]
  },
  {
   "cell_type": "code",
   "execution_count": 37,
   "id": "sophisticated-terrorism",
   "metadata": {},
   "outputs": [
    {
     "name": "stdout",
     "output_type": "stream",
     "text": [
      "Model: \"sequential_4\"\n",
      "_________________________________________________________________\n",
      "Layer (type)                 Output Shape              Param #   \n",
      "=================================================================\n",
      "conv2d_12 (Conv2D)           (None, 242, 242, 32)      320       \n",
      "_________________________________________________________________\n",
      "max_pooling2d_12 (MaxPooling (None, 121, 121, 32)      0         \n",
      "_________________________________________________________________\n",
      "dropout_7 (Dropout)          (None, 121, 121, 32)      0         \n",
      "_________________________________________________________________\n",
      "conv2d_13 (Conv2D)           (None, 119, 119, 64)      18496     \n",
      "_________________________________________________________________\n",
      "max_pooling2d_13 (MaxPooling (None, 59, 59, 64)        0         \n",
      "_________________________________________________________________\n",
      "dropout_8 (Dropout)          (None, 59, 59, 64)        0         \n",
      "_________________________________________________________________\n",
      "conv2d_14 (Conv2D)           (None, 57, 57, 128)       73856     \n",
      "_________________________________________________________________\n",
      "max_pooling2d_14 (MaxPooling (None, 28, 28, 128)       0         \n",
      "_________________________________________________________________\n",
      "dropout_9 (Dropout)          (None, 28, 28, 128)       0         \n",
      "_________________________________________________________________\n",
      "flatten_4 (Flatten)          (None, 100352)            0         \n",
      "_________________________________________________________________\n",
      "dropout_10 (Dropout)         (None, 100352)            0         \n",
      "_________________________________________________________________\n",
      "dense_8 (Dense)              (None, 256)               25690368  \n",
      "_________________________________________________________________\n",
      "dense_9 (Dense)              (None, 10)                2570      \n",
      "=================================================================\n",
      "Total params: 25,785,610\n",
      "Trainable params: 25,785,610\n",
      "Non-trainable params: 0\n",
      "_________________________________________________________________\n"
     ]
    }
   ],
   "source": [
    "from tensorflow.keras.models import Sequential\n",
    "from tensorflow.keras.layers import Dense,Dropout\n",
    "from tensorflow.keras.layers import Conv2D,MaxPooling2D,Flatten\n",
    "\n",
    "model=Sequential()\n",
    "\n",
    "model.add(Conv2D(32,(3,3),input_shape=(244,244,1),\n",
    "                activation=\"relu\"))\n",
    "model.add(MaxPooling2D((2,2)))\n",
    "model.add(Dropout(0.2))\n",
    "\n",
    "model.add(Conv2D(64,(3,3),\n",
    "                activation=\"relu\"))\n",
    "model.add(MaxPooling2D((2,2)))\n",
    "model.add(Dropout(0.2))\n",
    "\n",
    "model.add(Conv2D(128,(3,3),\n",
    "                activation=\"relu\"))\n",
    "model.add(MaxPooling2D((2,2)))\n",
    "model.add(Dropout(0.2))\n",
    "\n",
    "model.add(Flatten())\n",
    "model.add(Dropout(0.2))\n",
    "\n",
    "model.add(Dense(256,activation=\"relu\"))\n",
    "model.add(Dense(10,activation=\"softmax\"))\n",
    "\n",
    "model.summary()"
   ]
  },
  {
   "cell_type": "code",
   "execution_count": 38,
   "id": "historic-extreme",
   "metadata": {},
   "outputs": [],
   "source": [
    "model.compile(loss=\"categorical_crossentropy\",\n",
    "             optimizer=tf.keras.optimizers.Adam(lr=0.0001),\n",
    "             metrics=[\"acc\"])"
   ]
  },
  {
   "cell_type": "code",
   "execution_count": 39,
   "id": "sorted-ranking",
   "metadata": {
    "scrolled": true
   },
   "outputs": [
    {
     "name": "stdout",
     "output_type": "stream",
     "text": [
      "Epoch 1/30\n",
      "WARNING:tensorflow:AutoGraph could not transform <function Model.make_train_function.<locals>.train_function at 0x000001CCBDBFF400> and will run it as-is.\n",
      "Please report this to the TensorFlow team. When filing the bug, set the verbosity to 10 (on Linux, `export AUTOGRAPH_VERBOSITY=10`) and attach the full output.\n",
      "Cause: 'arguments' object has no attribute 'posonlyargs'\n",
      "To silence this warning, decorate the function with @tf.autograph.experimental.do_not_convert\n",
      "WARNING: AutoGraph could not transform <function Model.make_train_function.<locals>.train_function at 0x000001CCBDBFF400> and will run it as-is.\n",
      "Please report this to the TensorFlow team. When filing the bug, set the verbosity to 10 (on Linux, `export AUTOGRAPH_VERBOSITY=10`) and attach the full output.\n",
      "Cause: 'arguments' object has no attribute 'posonlyargs'\n",
      "To silence this warning, decorate the function with @tf.autograph.experimental.do_not_convert\n",
      " 1/50 [..............................] - ETA: 0s - loss: 31.3189 - acc: 0.0500WARNING:tensorflow:Callbacks method `on_train_batch_end` is slow compared to the batch time (batch time: 0.0030s vs `on_train_batch_end` time: 0.0349s). Check your callbacks.\n",
      "49/50 [============================>.] - ETA: 0s - loss: 21.0279 - acc: 0.4714WARNING:tensorflow:AutoGraph could not transform <function Model.make_test_function.<locals>.test_function at 0x000001CCBDD050D0> and will run it as-is.\n",
      "Please report this to the TensorFlow team. When filing the bug, set the verbosity to 10 (on Linux, `export AUTOGRAPH_VERBOSITY=10`) and attach the full output.\n",
      "Cause: 'arguments' object has no attribute 'posonlyargs'\n",
      "To silence this warning, decorate the function with @tf.autograph.experimental.do_not_convert\n",
      "WARNING: AutoGraph could not transform <function Model.make_test_function.<locals>.test_function at 0x000001CCBDD050D0> and will run it as-is.\n",
      "Please report this to the TensorFlow team. When filing the bug, set the verbosity to 10 (on Linux, `export AUTOGRAPH_VERBOSITY=10`) and attach the full output.\n",
      "Cause: 'arguments' object has no attribute 'posonlyargs'\n",
      "To silence this warning, decorate the function with @tf.autograph.experimental.do_not_convert\n",
      "WARNING:tensorflow:Callbacks method `on_test_batch_end` is slow compared to the batch time (batch time: 0.0010s vs `on_test_batch_end` time: 0.0080s). Check your callbacks.\n",
      "\n",
      "Epoch 00001: val_acc improved from -inf to 0.64333, saving model to ./model\\fashion-0001-0.6433.hdf5\n",
      "50/50 [==============================] - 3s 55ms/step - loss: 20.6344 - acc: 0.4740 - val_loss: 0.9545 - val_acc: 0.6433\n",
      "Epoch 2/30\n",
      "49/50 [============================>.] - ETA: 0s - loss: 0.9535 - acc: 0.7245- ETA: 1s - loss: 1\n",
      "Epoch 00002: val_acc improved from 0.64333 to 0.70667, saving model to ./model\\fashion-0002-0.7067.hdf5\n",
      "50/50 [==============================] - 3s 53ms/step - loss: 0.9641 - acc: 0.7210 - val_loss: 0.9358 - val_acc: 0.7067\n",
      "Epoch 3/30\n",
      "49/50 [============================>.] - ETA: 0s - loss: 0.6674 - acc: 0.7633\n",
      "Epoch 00003: val_acc improved from 0.70667 to 0.73667, saving model to ./model\\fashion-0003-0.7367.hdf5\n",
      "50/50 [==============================] - 3s 53ms/step - loss: 0.6619 - acc: 0.7630 - val_loss: 0.8816 - val_acc: 0.7367\n",
      "Epoch 4/30\n",
      "49/50 [============================>.] - ETA: 0s - loss: 0.6006 - acc: 0.7806\n",
      "Epoch 00004: val_acc improved from 0.73667 to 0.75000, saving model to ./model\\fashion-0004-0.7500.hdf5\n",
      "50/50 [==============================] - 3s 53ms/step - loss: 0.5973 - acc: 0.7800 - val_loss: 0.8899 - val_acc: 0.7500\n",
      "Epoch 5/30\n",
      "49/50 [============================>.] - ETA: 0s - loss: 0.5034 - acc: 0.8102- ETA: 0s - loss: 0.5178 - acc: 0\n",
      "Epoch 00005: val_acc improved from 0.75000 to 0.76333, saving model to ./model\\fashion-0005-0.7633.hdf5\n",
      "50/50 [==============================] - 3s 53ms/step - loss: 0.5036 - acc: 0.8090 - val_loss: 0.8299 - val_acc: 0.7633\n",
      "Epoch 6/30\n",
      "49/50 [============================>.] - ETA: 0s - loss: 0.4478 - acc: 0.8367\n",
      "Epoch 00006: val_acc did not improve from 0.76333\n",
      "50/50 [==============================] - 2s 33ms/step - loss: 0.4433 - acc: 0.8390 - val_loss: 0.8054 - val_acc: 0.7500\n",
      "Epoch 7/30\n",
      "49/50 [============================>.] - ETA: 0s - loss: 0.3816 - acc: 0.8510\n",
      "Epoch 00007: val_acc did not improve from 0.76333\n",
      "50/50 [==============================] - 2s 33ms/step - loss: 0.3790 - acc: 0.8510 - val_loss: 0.7785 - val_acc: 0.7633\n",
      "Epoch 8/30\n",
      "49/50 [============================>.] - ETA: 0s - loss: 0.3451 - acc: 0.8745\n",
      "Epoch 00008: val_acc improved from 0.76333 to 0.77667, saving model to ./model\\fashion-0008-0.7767.hdf5\n",
      "50/50 [==============================] - 3s 53ms/step - loss: 0.3415 - acc: 0.8750 - val_loss: 0.7648 - val_acc: 0.7767\n",
      "Epoch 9/30\n",
      "49/50 [============================>.] - ETA: 0s - loss: 0.2898 - acc: 0.8827\n",
      "Epoch 00009: val_acc improved from 0.77667 to 0.79333, saving model to ./model\\fashion-0009-0.7933.hdf5\n",
      "50/50 [==============================] - 3s 53ms/step - loss: 0.2978 - acc: 0.8790 - val_loss: 0.7033 - val_acc: 0.7933\n",
      "Epoch 10/30\n",
      "49/50 [============================>.] - ETA: 0s - loss: 0.2589 - acc: 0.9031\n",
      "Epoch 00010: val_acc did not improve from 0.79333\n",
      "50/50 [==============================] - 2s 33ms/step - loss: 0.2651 - acc: 0.9000 - val_loss: 0.6503 - val_acc: 0.7900\n",
      "Epoch 11/30\n",
      "49/50 [============================>.] - ETA: 0s - loss: 0.2325 - acc: 0.9184\n",
      "Epoch 00011: val_acc did not improve from 0.79333\n",
      "50/50 [==============================] - 2s 33ms/step - loss: 0.2298 - acc: 0.9190 - val_loss: 0.6360 - val_acc: 0.7900\n",
      "Epoch 12/30\n",
      "49/50 [============================>.] - ETA: 0s - loss: 0.1838 - acc: 0.9327\n",
      "Epoch 00012: val_acc did not improve from 0.79333\n",
      "50/50 [==============================] - 2s 33ms/step - loss: 0.1811 - acc: 0.9340 - val_loss: 0.6350 - val_acc: 0.7833\n",
      "Epoch 13/30\n",
      "49/50 [============================>.] - ETA: 0s - loss: 0.1919 - acc: 0.9286\n",
      "Epoch 00013: val_acc did not improve from 0.79333\n",
      "50/50 [==============================] - 2s 33ms/step - loss: 0.1903 - acc: 0.9290 - val_loss: 0.6443 - val_acc: 0.7900\n",
      "Epoch 14/30\n",
      "49/50 [============================>.] - ETA: 0s - loss: 0.1570 - acc: 0.9429\n",
      "Epoch 00014: val_acc did not improve from 0.79333\n",
      "50/50 [==============================] - 2s 34ms/step - loss: 0.1607 - acc: 0.9420 - val_loss: 0.6518 - val_acc: 0.7600\n",
      "Epoch 15/30\n",
      "49/50 [============================>.] - ETA: 0s - loss: 0.1067 - acc: 0.9582\n",
      "Epoch 00015: val_acc did not improve from 0.79333\n",
      "50/50 [==============================] - 2s 35ms/step - loss: 0.1052 - acc: 0.9590 - val_loss: 0.5836 - val_acc: 0.7833\n",
      "Epoch 16/30\n",
      "49/50 [============================>.] - ETA: 0s - loss: 0.1253 - acc: 0.9602\n",
      "Epoch 00016: val_acc did not improve from 0.79333\n",
      "50/50 [==============================] - 2s 34ms/step - loss: 0.1275 - acc: 0.9600 - val_loss: 0.6223 - val_acc: 0.7833\n",
      "Epoch 17/30\n",
      "49/50 [============================>.] - ETA: 0s - loss: 0.1089 - acc: 0.9684\n",
      "Epoch 00017: val_acc improved from 0.79333 to 0.82000, saving model to ./model\\fashion-0017-0.8200.hdf5\n",
      "50/50 [==============================] - 3s 52ms/step - loss: 0.1093 - acc: 0.9680 - val_loss: 0.5846 - val_acc: 0.8200\n",
      "Epoch 18/30\n",
      "49/50 [============================>.] - ETA: 0s - loss: 0.0875 - acc: 0.968 - ETA: 0s - loss: 0.0882 - acc: 0.9673\n",
      "Epoch 00018: val_acc did not improve from 0.82000\n",
      "50/50 [==============================] - 2s 33ms/step - loss: 0.0884 - acc: 0.9680 - val_loss: 0.5870 - val_acc: 0.8133\n",
      "Epoch 19/30\n",
      "49/50 [============================>.] - ETA: 0s - loss: 0.0659 - acc: 0.9806- ETA: 0s - loss: 0.0634 - acc: 0.980\n",
      "Epoch 00019: val_acc improved from 0.82000 to 0.82333, saving model to ./model\\fashion-0019-0.8233.hdf5\n",
      "50/50 [==============================] - 3s 53ms/step - loss: 0.0653 - acc: 0.9810 - val_loss: 0.5903 - val_acc: 0.8233\n",
      "Epoch 20/30\n",
      "49/50 [============================>.] - ETA: 0s - loss: 0.0639 - acc: 0.9755\n",
      "Epoch 00020: val_acc did not improve from 0.82333\n",
      "50/50 [==============================] - 2s 33ms/step - loss: 0.0636 - acc: 0.9760 - val_loss: 0.5912 - val_acc: 0.8067\n",
      "Epoch 21/30\n",
      "49/50 [============================>.] - ETA: 0s - loss: 0.0563 - acc: 0.9847\n",
      "Epoch 00021: val_acc improved from 0.82333 to 0.83333, saving model to ./model\\fashion-0021-0.8333.hdf5\n"
     ]
    },
    {
     "name": "stdout",
     "output_type": "stream",
     "text": [
      "50/50 [==============================] - 3s 53ms/step - loss: 0.0583 - acc: 0.9830 - val_loss: 0.5904 - val_acc: 0.8333\n",
      "Epoch 22/30\n",
      "49/50 [============================>.] - ETA: 0s - loss: 0.0375 - acc: 0.9898\n",
      "Epoch 00022: val_acc did not improve from 0.83333\n",
      "50/50 [==============================] - 2s 33ms/step - loss: 0.0373 - acc: 0.9900 - val_loss: 0.6160 - val_acc: 0.8200\n",
      "Epoch 23/30\n",
      "49/50 [============================>.] - ETA: 0s - loss: 0.0592 - acc: 0.9816\n",
      "Epoch 00023: val_acc did not improve from 0.83333\n",
      "50/50 [==============================] - 2s 33ms/step - loss: 0.0588 - acc: 0.9820 - val_loss: 0.6406 - val_acc: 0.8200\n",
      "Epoch 24/30\n",
      "49/50 [============================>.] - ETA: 0s - loss: 0.0463 - acc: 0.9837\n",
      "Epoch 00024: val_acc did not improve from 0.83333\n",
      "50/50 [==============================] - 2s 33ms/step - loss: 0.0456 - acc: 0.9840 - val_loss: 0.6466 - val_acc: 0.8067\n",
      "Epoch 25/30\n",
      "49/50 [============================>.] - ETA: 0s - loss: 0.0236 - acc: 0.9939\n",
      "Epoch 00025: val_acc did not improve from 0.83333\n",
      "50/50 [==============================] - 2s 34ms/step - loss: 0.0234 - acc: 0.9940 - val_loss: 0.6519 - val_acc: 0.8267\n",
      "Epoch 26/30\n",
      "49/50 [============================>.] - ETA: 0s - loss: 0.0278 - acc: 0.9908\n",
      "Epoch 00026: val_acc did not improve from 0.83333\n",
      "50/50 [==============================] - 2s 34ms/step - loss: 0.0284 - acc: 0.9900 - val_loss: 0.7022 - val_acc: 0.8100\n",
      "Epoch 27/30\n",
      "49/50 [============================>.] - ETA: 0s - loss: 0.0364 - acc: 0.9867\n",
      "Epoch 00027: val_acc did not improve from 0.83333\n",
      "50/50 [==============================] - 2s 33ms/step - loss: 0.0359 - acc: 0.9870 - val_loss: 0.5734 - val_acc: 0.8300\n",
      "Epoch 28/30\n",
      "49/50 [============================>.] - ETA: 0s - loss: 0.0189 - acc: 0.9959\n",
      "Epoch 00028: val_acc did not improve from 0.83333\n",
      "50/50 [==============================] - 2s 34ms/step - loss: 0.0201 - acc: 0.9950 - val_loss: 0.6606 - val_acc: 0.8333\n",
      "Epoch 29/30\n",
      "49/50 [============================>.] - ETA: 0s - loss: 0.0296 - acc: 0.9908\n",
      "Epoch 00029: val_acc did not improve from 0.83333\n",
      "50/50 [==============================] - 2s 33ms/step - loss: 0.0296 - acc: 0.9910 - val_loss: 0.6935 - val_acc: 0.8067\n",
      "Epoch 30/30\n",
      "49/50 [============================>.] - ETA: 0s - loss: 0.0264 - acc: 0.9918\n",
      "Epoch 00030: val_acc did not improve from 0.83333\n",
      "50/50 [==============================] - 2s 33ms/step - loss: 0.0264 - acc: 0.9920 - val_loss: 0.6443 - val_acc: 0.8100\n"
     ]
    }
   ],
   "source": [
    "import os\n",
    "from tensorflow.keras.callbacks import ModelCheckpoint, EarlyStopping\n",
    "#모델을 저장할 폴더명\n",
    "MODEL_FOLDER=\"./model/\"\n",
    "#해당 폴더가 없다면 해당 폴더를 생성\n",
    "if not os.path.exists(MODEL_FOLDER):\n",
    "    os.mkdir(MODEL_FOLDER)\n",
    "    \n",
    "#저장할 파일명 설정\n",
    "#{epoch:04d} : 반복수를 4자리로 표시\n",
    "#{acc:.4f} : 정확도를 소수점 4째자리까지 표시\n",
    "modelpath = MODEL_FOLDER+\"fashion-{epoch:04d}-{val_acc:.4f}.hdf5\"\n",
    "\n",
    "#베스트를 찾아서 해당파일명으로 저장\n",
    "#save_best_only : 더 나은 결과값만 저장\n",
    "#ModelCheckpoint(filepath=파일패스,monitor=기준값,save_best_only=True/False)\n",
    "mc=ModelCheckpoint(filepath=modelpath,\n",
    "                  monitor=\"val_acc\",\n",
    "                   #회귀일 경우 monitor=\"loss\"를 사용\n",
    "                  save_best_only=True,\n",
    "                  verbose=1)\n",
    "# EarlyStopping(monitor=기준값, patience=조금 더 기다리는 횟수)\n",
    "# patience=20 : 학습이 더 나아지지 않더라도 20회는 더 반복해줌\n",
    "es = EarlyStopping(monitor=\"val_acc\",patience=10)\n",
    "\n",
    "#학습\n",
    "h=model.fit(X_train_resized,y_train_en,epochs=30,batch_size=20,\n",
    "                      validation_data=(X_test_resized,y_test_en),\n",
    "                      callbacks=[mc,es])"
   ]
  },
  {
   "cell_type": "code",
   "execution_count": 40,
   "id": "impressive-newark",
   "metadata": {},
   "outputs": [
    {
     "data": {
      "text/plain": [
       "<matplotlib.legend.Legend at 0x1ccbe604dd8>"
      ]
     },
     "execution_count": 40,
     "metadata": {},
     "output_type": "execute_result"
    },
    {
     "data": {
      "image/png": "[encoded data removed]",
      "text/plain": [
       "<Figure size 432x288 with 1 Axes>"
      ]
     },
     "metadata": {
      "needs_background": "light"
     },
     "output_type": "display_data"
    }
   ],
   "source": [
    "import matplotlib.pyplot as plt\n",
    "plt.plot(h.history[\"acc\"],label=\"train\")\n",
    "plt.plot(h.history[\"val_acc\"],label=\"test\")\n",
    "plt.legend()"
   ]
  },
  {
   "cell_type": "code",
   "execution_count": 41,
   "id": "hired-truth",
   "metadata": {},
   "outputs": [
    {
     "name": "stdout",
     "output_type": "stream",
     "text": [
      "WARNING:tensorflow:AutoGraph could not transform <function Model.make_predict_function.<locals>.predict_function at 0x000001CCBDD8B268> and will run it as-is.\n",
      "Please report this to the TensorFlow team. When filing the bug, set the verbosity to 10 (on Linux, `export AUTOGRAPH_VERBOSITY=10`) and attach the full output.\n",
      "Cause: 'arguments' object has no attribute 'posonlyargs'\n",
      "To silence this warning, decorate the function with @tf.autograph.experimental.do_not_convert\n",
      "WARNING: AutoGraph could not transform <function Model.make_predict_function.<locals>.predict_function at 0x000001CCBDD8B268> and will run it as-is.\n",
      "Please report this to the TensorFlow team. When filing the bug, set the verbosity to 10 (on Linux, `export AUTOGRAPH_VERBOSITY=10`) and attach the full output.\n",
      "Cause: 'arguments' object has no attribute 'posonlyargs'\n",
      "To silence this warning, decorate the function with @tf.autograph.experimental.do_not_convert\n",
      "[3.8583741e-07 3.5596418e-08 1.0644843e-06 4.8038332e-06 1.3891222e-05\n",
      " 6.7191402e-04 4.4009780e-06 9.0758409e-03 4.8083917e-04 9.8974681e-01]\n",
      "9\n"
     ]
    }
   ],
   "source": [
    "pred=model.predict(X_test_resized)\n",
    "\n",
    "print(pred[0])\n",
    "print(y_test[0])"
   ]
  },
  {
   "cell_type": "markdown",
   "id": "continuous-scott",
   "metadata": {},
   "source": [
    "Xception을 이용한 전이학습"
   ]
  },
  {
   "cell_type": "code",
   "execution_count": 42,
   "id": "standard-merchandise",
   "metadata": {},
   "outputs": [
    {
     "data": {
      "text/plain": [
       "((1000, 244, 244, 3), (300, 244, 244, 3))"
      ]
     },
     "execution_count": 42,
     "metadata": {},
     "output_type": "execute_result"
    }
   ],
   "source": [
    "# 그레이 이미지 채널을 칼라이미지를 칼라이미지 채널(B,G,R) 변경\n",
    "X_train_resized=np.repeat(X_train_resized,3,axis=3)\n",
    "X_test_resized=np.repeat(X_test_resized,3,axis=3)\n",
    "\n",
    "X_train_resized.shape,X_test_resized.shape"
   ]
  },
  {
   "cell_type": "code",
   "execution_count": 49,
   "id": "collaborative-wound",
   "metadata": {},
   "outputs": [],
   "source": [
    "from tensorflow.keras.applications import Xception\n",
    "\n",
    "conv_xception=Xception(include_top=False,\n",
    "                      weights=\"imagenet\",\n",
    "                      input_shape=(244,244,3))\n",
    "#Xception 모델의 파라미터 갱신을 못하게 함\n",
    "conv_xception.trainable=True"
   ]
  },
  {
   "cell_type": "code",
   "execution_count": 55,
   "id": "sudden-editor",
   "metadata": {},
   "outputs": [
    {
     "name": "stdout",
     "output_type": "stream",
     "text": [
      "Model: \"sequential_7\"\n",
      "_________________________________________________________________\n",
      "Layer (type)                 Output Shape              Param #   \n",
      "=================================================================\n",
      "xception (Functional)        (None, 8, 8, 2048)        20861480  \n",
      "_________________________________________________________________\n",
      "flatten_7 (Flatten)          (None, 131072)            0         \n",
      "_________________________________________________________________\n",
      "dense_14 (Dense)             (None, 256)               33554688  \n",
      "_________________________________________________________________\n",
      "dropout_13 (Dropout)         (None, 256)               0         \n",
      "_________________________________________________________________\n",
      "dense_15 (Dense)             (None, 10)                2570      \n",
      "=================================================================\n",
      "Total params: 54,418,738\n",
      "Trainable params: 54,364,210\n",
      "Non-trainable params: 54,528\n",
      "_________________________________________________________________\n"
     ]
    }
   ],
   "source": [
    "model2=Sequential()\n",
    "\n",
    "model2.add(conv_xception)\n",
    "model2.add(Flatten())\n",
    "\n",
    "model2.add(Dense(256,activation=\"relu\"))\n",
    "model2.add(Dropout(0.2))\n",
    "model2.add(Dense(10,activation=\"softmax\"))\n",
    "\n",
    "model2.summary()"
   ]
  },
  {
   "cell_type": "code",
   "execution_count": 56,
   "id": "silver-aside",
   "metadata": {},
   "outputs": [],
   "source": [
    "model2.compile(loss=\"categorical_crossentropy\",\n",
    "             optimizer=tf.keras.optimizers.Adam(lr=0.0001),\n",
    "             metrics=[\"acc\"])"
   ]
  },
  {
   "cell_type": "code",
   "execution_count": 57,
   "id": "pleased-amazon",
   "metadata": {
    "scrolled": true
   },
   "outputs": [
    {
     "name": "stdout",
     "output_type": "stream",
     "text": [
      "Epoch 1/10\n",
      "WARNING:tensorflow:AutoGraph could not transform <function Model.make_train_function.<locals>.train_function at 0x000001CE908699D8> and will run it as-is.\n",
      "Please report this to the TensorFlow team. When filing the bug, set the verbosity to 10 (on Linux, `export AUTOGRAPH_VERBOSITY=10`) and attach the full output.\n",
      "Cause: 'arguments' object has no attribute 'posonlyargs'\n",
      "To silence this warning, decorate the function with @tf.autograph.experimental.do_not_convert\n",
      "WARNING: AutoGraph could not transform <function Model.make_train_function.<locals>.train_function at 0x000001CE908699D8> and will run it as-is.\n",
      "Please report this to the TensorFlow team. When filing the bug, set the verbosity to 10 (on Linux, `export AUTOGRAPH_VERBOSITY=10`) and attach the full output.\n",
      "Cause: 'arguments' object has no attribute 'posonlyargs'\n",
      "To silence this warning, decorate the function with @tf.autograph.experimental.do_not_convert\n",
      " 2/50 [>.............................] - ETA: 7s - loss: 2.1475 - acc: 0.2250WARNING:tensorflow:Callbacks method `on_train_batch_end` is slow compared to the batch time (batch time: 0.0140s vs `on_train_batch_end` time: 0.2803s). Check your callbacks.\n",
      "50/50 [==============================] - ETA: 0s - loss: 0.2190 - acc: 0.9350WARNING:tensorflow:AutoGraph could not transform <function Model.make_test_function.<locals>.test_function at 0x000001CEB8587598> and will run it as-is.\n",
      "Please report this to the TensorFlow team. When filing the bug, set the verbosity to 10 (on Linux, `export AUTOGRAPH_VERBOSITY=10`) and attach the full output.\n",
      "Cause: 'arguments' object has no attribute 'posonlyargs'\n",
      "To silence this warning, decorate the function with @tf.autograph.experimental.do_not_convert\n",
      "WARNING: AutoGraph could not transform <function Model.make_test_function.<locals>.test_function at 0x000001CEB8587598> and will run it as-is.\n",
      "Please report this to the TensorFlow team. When filing the bug, set the verbosity to 10 (on Linux, `export AUTOGRAPH_VERBOSITY=10`) and attach the full output.\n",
      "Cause: 'arguments' object has no attribute 'posonlyargs'\n",
      "To silence this warning, decorate the function with @tf.autograph.experimental.do_not_convert\n",
      "WARNING:tensorflow:Callbacks method `on_test_batch_end` is slow compared to the batch time (batch time: 0.0060s vs `on_test_batch_end` time: 0.0588s). Check your callbacks.\n",
      "\n",
      "Epoch 00001: val_acc improved from -inf to 0.85333, saving model to ./model\\fashion2-0001-0.8533.hdf5\n",
      "50/50 [==============================] - 18s 361ms/step - loss: 0.2190 - acc: 0.9350 - val_loss: 0.9813 - val_acc: 0.8533\n",
      "Epoch 2/10\n",
      "50/50 [==============================] - ETA: 0s - loss: 0.0737 - acc: 0.9810\n",
      "Epoch 00002: val_acc did not improve from 0.85333\n",
      "50/50 [==============================] - 16s 314ms/step - loss: 0.0737 - acc: 0.9810 - val_loss: 1.2041 - val_acc: 0.8467\n",
      "Epoch 3/10\n",
      "50/50 [==============================] - ETA: 0s - loss: 0.0699 - acc: 0.9790\n",
      "Epoch 00003: val_acc did not improve from 0.85333\n",
      "50/50 [==============================] - 16s 316ms/step - loss: 0.0699 - acc: 0.9790 - val_loss: 1.0455 - val_acc: 0.8367\n",
      "Epoch 4/10\n",
      "50/50 [==============================] - ETA: 0s - loss: 0.0556 - acc: 0.9850\n",
      "Epoch 00004: val_acc improved from 0.85333 to 0.86000, saving model to ./model\\fashion2-0004-0.8600.hdf5\n",
      "50/50 [==============================] - 18s 352ms/step - loss: 0.0556 - acc: 0.9850 - val_loss: 0.7976 - val_acc: 0.8600\n",
      "Epoch 5/10\n",
      "50/50 [==============================] - ETA: 0s - loss: 0.0162 - acc: 0.9970\n",
      "Epoch 00005: val_acc did not improve from 0.86000\n",
      "50/50 [==============================] - 16s 316ms/step - loss: 0.0162 - acc: 0.9970 - val_loss: 1.0054 - val_acc: 0.8567\n",
      "Epoch 6/10\n",
      "50/50 [==============================] - ETA: 0s - loss: 0.0025 - acc: 0.9990\n",
      "Epoch 00006: val_acc improved from 0.86000 to 0.86667, saving model to ./model\\fashion2-0006-0.8667.hdf5\n",
      "50/50 [==============================] - 18s 352ms/step - loss: 0.0025 - acc: 0.9990 - val_loss: 0.9613 - val_acc: 0.8667\n",
      "Epoch 7/10\n",
      "50/50 [==============================] - ETA: 0s - loss: 4.7428e-04 - acc: 1.0000\n",
      "Epoch 00007: val_acc did not improve from 0.86667\n",
      "50/50 [==============================] - 16s 317ms/step - loss: 4.7428e-04 - acc: 1.0000 - val_loss: 0.9773 - val_acc: 0.8667\n",
      "Epoch 8/10\n",
      "50/50 [==============================] - ETA: 0s - loss: 0.0030 - acc: 0.9980\n",
      "Epoch 00008: val_acc did not improve from 0.86667\n",
      "50/50 [==============================] - 16s 317ms/step - loss: 0.0030 - acc: 0.9980 - val_loss: 1.3231 - val_acc: 0.8467\n",
      "Epoch 9/10\n",
      "50/50 [==============================] - ETA: 0s - loss: 0.0163 - acc: 0.9950\n",
      "Epoch 00009: val_acc did not improve from 0.86667\n",
      "50/50 [==============================] - 16s 318ms/step - loss: 0.0163 - acc: 0.9950 - val_loss: 1.1752 - val_acc: 0.8367\n",
      "Epoch 10/10\n",
      "50/50 [==============================] - ETA: 0s - loss: 0.1236 - acc: 0.9710\n",
      "Epoch 00010: val_acc did not improve from 0.86667\n",
      "50/50 [==============================] - 16s 316ms/step - loss: 0.1236 - acc: 0.9710 - val_loss: 1.0613 - val_acc: 0.8633\n"
     ]
    }
   ],
   "source": [
    "import os\n",
    "from tensorflow.keras.callbacks import ModelCheckpoint, EarlyStopping\n",
    "#모델을 저장할 폴더명\n",
    "MODEL_FOLDER=\"./model/\"\n",
    "#해당 폴더가 없다면 해당 폴더를 생성\n",
    "if not os.path.exists(MODEL_FOLDER):\n",
    "    os.mkdir(MODEL_FOLDER)\n",
    "    \n",
    "#저장할 파일명 설정\n",
    "#{epoch:04d} : 반복수를 4자리로 표시\n",
    "#{acc:.4f} : 정확도를 소수점 4째자리까지 표시\n",
    "modelpath = MODEL_FOLDER+\"fashion2-{epoch:04d}-{val_acc:.4f}.hdf5\"\n",
    "\n",
    "#베스트를 찾아서 해당파일명으로 저장\n",
    "#save_best_only : 더 나은 결과값만 저장\n",
    "#ModelCheckpoint(filepath=파일패스,monitor=기준값,save_best_only=True/False)\n",
    "mc=ModelCheckpoint(filepath=modelpath,\n",
    "                  monitor=\"val_acc\",\n",
    "                   #회귀일 경우 monitor=\"loss\"를 사용\n",
    "                  save_best_only=True,\n",
    "                  verbose=1)\n",
    "# EarlyStopping(monitor=기준값, patience=조금 더 기다리는 횟수)\n",
    "# patience=20 : 학습이 더 나아지지 않더라도 20회는 더 반복해줌\n",
    "es = EarlyStopping(monitor=\"val_acc\",patience=10)\n",
    "\n",
    "#학습\n",
    "h2=model2.fit(X_train_resized,y_train_en,epochs=10,batch_size=20,\n",
    "                      validation_data=(X_test_resized,y_test_en),\n",
    "                      callbacks=[mc,es])"
   ]
  },
  {
   "cell_type": "code",
   "execution_count": 58,
   "id": "expected-function",
   "metadata": {},
   "outputs": [
    {
     "data": {
      "text/plain": [
       "<matplotlib.legend.Legend at 0x1ce7f12ca20>"
      ]
     },
     "execution_count": 58,
     "metadata": {},
     "output_type": "execute_result"
    },
    {
     "data": {
      "image/png": "[encoded data removed]",
      "text/plain": [
       "<Figure size 432x288 with 1 Axes>"
      ]
     },
     "metadata": {
      "needs_background": "light"
     },
     "output_type": "display_data"
    }
   ],
   "source": [
    "import matplotlib.pyplot as plt\n",
    "plt.plot(h2.history[\"acc\"],label=\"train\")\n",
    "plt.plot(h2.history[\"val_acc\"],label=\"test\")\n",
    "plt.legend()"
   ]
  },
  {
   "cell_type": "code",
   "execution_count": null,
   "id": "bacterial-ebony",
   "metadata": {},
   "outputs": [],
   "source": []
  }
 ],
 "metadata": {
  "kernelspec": {
   "display_name": "Python 3",
   "language": "python",
   "name": "python3"
  },
  "language_info": {
   "codemirror_mode": {
    "name": "ipython",
    "version": 3
   },
   "file_extension": ".py",
   "mimetype": "text/x-python",
   "name": "python",
   "nbconvert_exporter": "python",
   "pygments_lexer": "ipython3",
   "version": "3.6.12"
  }
 },
 "nbformat": 4,
 "nbformat_minor": 5
}
