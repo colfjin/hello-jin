{
 "cells": [
  {
   "cell_type": "code",
   "execution_count": 1,
   "id": "hazardous-pharmacy",
   "metadata": {},
   "outputs": [],
   "source": [
    "from collections import OrderedDict\n",
    "import numpy as np\n",
    "import cv2\n",
    "import argparse\n",
    "import dlib\n",
    "import imutils\n",
    "import math"
   ]
  },
  {
   "cell_type": "code",
   "execution_count": 2,
   "id": "circular-theory",
   "metadata": {},
   "outputs": [],
   "source": [
    "facial_features_cordinates={}"
   ]
  },
  {
   "cell_type": "code",
   "execution_count": 3,
   "id": "operating-cooler",
   "metadata": {},
   "outputs": [],
   "source": [
    "#define a dictionary that maps the indexes of the facial\n",
    "# landmarks to specific face regions\n",
    "FACIAL_LANDMARKS_INDEXES = OrderedDict([\n",
    "    (\"Mouth\", (48, 68)),\n",
    "    (\"Right_Eyebrow\", (17, 22)),\n",
    "    (\"Left_Eyebrow\", (22, 27)),\n",
    "    (\"Right_Eye\", (36, 42)),\n",
    "    (\"Left_Eye\", (42, 48)),\n",
    "    (\"Nose\", (27, 36)),\n",
    "    (\"Jaw\", (0, 17))\n",
    "])"
   ]
  },
  {
   "cell_type": "code",
   "execution_count": 4,
   "id": "annoying-scene",
   "metadata": {},
   "outputs": [],
   "source": [
    "def shape_to_numpy_array(shape, dtype=\"int\"):\n",
    "    \n",
    "\n",
    "    # initialize the list of (x, y)-coordinates\n",
    "    coordinates = np.zeros((68, 2), dtype=dtype)\n",
    "\n",
    "    # loop over the 68 facial landmarks and convert them\n",
    "    # to a 2-tuple of (x, y)-coordinates\n",
    "    for i in range(0, 68):\n",
    "        coordinates[i] = (shape.part(i).x, shape.part(i).y)\n",
    "\n",
    "    \n",
    "\n",
    "    # return the list of (x, y)-coordinates\n",
    "    return coordinates"
   ]
  },
  {
   "cell_type": "code",
   "execution_count": 5,
   "id": "trained-center",
   "metadata": {},
   "outputs": [],
   "source": [
    "def visualize_facial_landmarks(image, shape, colors=None, alpha=0.75):\n",
    "\n",
    "    \n",
    "\n",
    "    # create two copies of the input image -- one for the\n",
    "    # overlay and one for the final output image\n",
    "    overlay = image.copy()\n",
    "    output = image.copy()\n",
    "\n",
    "    \n",
    "\n",
    "    # if the colors list is None, initialize it with a unique\n",
    "\n",
    "    # color for each facial landmark region\n",
    "    if colors is None:\n",
    "        colors = [(19, 199, 109), (79, 76, 240), (230, 159, 23),\n",
    "                  (168, 100, 168), (158, 163, 32),\n",
    "                  (163, 38, 32), (180, 42, 220)]\n",
    "\n",
    "    \n",
    "\n",
    "    # loop over the facial landmark regions individually\n",
    "    for (i, name) in enumerate(FACIAL_LANDMARKS_INDEXES.keys()):\n",
    "        \n",
    "\n",
    "        # grab the (x, y)-coordinates associated with the\n",
    "        # face landmark\n",
    "        (j, k) = FACIAL_LANDMARKS_INDEXES[name]\n",
    "\n",
    "        \n",
    "\n",
    "        pts = shape[j:k]\n",
    "        facial_features_cordinates[name] = pts\n",
    "\n",
    "        \n",
    "\n",
    "    # apply the transparent overlay\n",
    "    cv2.addWeighted(overlay, alpha, output, 1 - alpha, 0, output)\n",
    "\n",
    "    # return the output image\n",
    "    #print(facial_features_cordinates)\n",
    "    return output"
   ]
  },
  {
   "cell_type": "code",
   "execution_count": 6,
   "id": "dress-youth",
   "metadata": {},
   "outputs": [],
   "source": [
    "# initialize dlib's face detector (HOG-based) and then create\n",
    "# the facial landmark predictor\n",
    "detector = dlib.get_frontal_face_detector()\n",
    "predictor = dlib.shape_predictor('shape_predictor_68_face_landmarks.dat')"
   ]
  },
  {
   "cell_type": "code",
   "execution_count": 7,
   "id": "straight-italian",
   "metadata": {},
   "outputs": [],
   "source": [
    "def __angle_between(p1,p2): #두점 사이의 각도:(getAngle3P계산용) 시계방향으로 계산.P1-(0,0)\n",
    "    ang1=np.arctan2(*p1[::-1])\n",
    "    ang2=np.arctan2(*p2[::-1])\n",
    "    res=np.rad2deg((ang1-ang2)%(2*np.pi))\n",
    "    return res"
   ]
  },
  {
   "cell_type": "code",
   "execution_count": 8,
   "id": "prescription-translator",
   "metadata": {},
   "outputs": [],
   "source": [
    "def getAngle4P(p1, p2, p3, p4, direction=\"CW\"): # 네점 사이의 각도 4-3 / 2-1: 1->2-> .... 4->3 으로 그려지는 각도\n",
    "        pt1 = (p1[0] - p2[0], p1[1] - p2[1])              # 3 <- 4 <- V <-2<-1 으로 그려지는 각도\n",
    "        pt2 = (p3[0] - p4[0], p3[1] - p4[1])        \n",
    "        res = __angle_between(pt1, pt2)\n",
    "        res = (res + 360) % 360\n",
    "        if direction == \"CCW\":    #반시계방향\n",
    "            res = (360 - res) % 360\n",
    "        return res"
   ]
  },
  {
   "cell_type": "code",
   "execution_count": 9,
   "id": "applied-rainbow",
   "metadata": {},
   "outputs": [],
   "source": [
    "def guansang(address):\n",
    "    detector = dlib.get_frontal_face_detector()\n",
    "    predictor = dlib.shape_predictor('shape_predictor_68_face_landmarks.dat')\n",
    "    #이미지 입력(주소 받아서)\n",
    "    image = cv2.imread(address)\n",
    "\n",
    "    image = imutils.resize(image, width=500)\n",
    "    gray = cv2.cvtColor(image, cv2.COLOR_BGR2GRAY)\n",
    "    \n",
    "    rects = detector(gray, 1)\n",
    "    #얼굴에 특징 점 지정작업\n",
    "    for (i, rect) in enumerate(rects):\n",
    "    \n",
    "\n",
    "    # determine the facial landmarks for the face region, then\n",
    "    # convert the landmark (x, y)-coordinates to a NumPy array\n",
    "        shape = predictor(gray, rect)\n",
    "        shape = shape_to_numpy_array(shape)\n",
    "\n",
    "    \n",
    "\n",
    "        output = visualize_facial_landmarks(image, shape)\n",
    "    \n",
    "    #턱밑각 추출 \n",
    "    jaw=facial_features_cordinates[\"Jaw\"]\n",
    "    \n",
    "    point1=jaw[5]\n",
    "    point2=jaw[6]\n",
    "    point3=jaw[10]\n",
    "    point4=jaw[11]\n",
    "    \n",
    "    face_angle=getAngle4P((point1[1],point1[0]),(point2[1],point2[0]),(point4[1],point4[0]),(point3[1],point3[0]),\"CW\")\n",
    "    \n",
    "    jaw_result=(180-face_angle)/2 \n",
    "    \n",
    "    #눈,코 비율\n",
    "    right_Eye=facial_features_cordinates[\"Right_Eye\"]\n",
    "    left_Eye=facial_features_cordinates[\"Left_Eye\"]\n",
    "    nose=facial_features_cordinates[\"Nose\"]\n",
    "    \n",
    "    left_h_rate=(jaw[8][1]-left_Eye[5][1])/(jaw[8][1]-left_Eye[2][1])\n",
    "    left_w_rate=(jaw[8][0]-left_Eye[0][0])/(jaw[8][0]-left_Eye[3][0])\n",
    "    right_h_rate=(jaw[8][1]-right_Eye[5][1])/(jaw[8][1]-right_Eye[2][1])\n",
    "    right_w_rate=(right_Eye[3][0]-jaw[8][0])/(right_Eye[0][0]-jaw[8][0])\n",
    "    nose_h_rate=(jaw[8][1]-nose[6][1])/(jaw[8][1]-nose[0][1])\n",
    "    nose_w_rate=(nose[4][0]-jaw[0][0])/(nose[8][0]-jaw[0][0])\n",
    "    \n",
    "    result=[jaw_result,left_h_rate,left_w_rate,right_h_rate,right_w_rate,nose_h_rate,nose_w_rate]\n",
    "    \n",
    "    return result"
   ]
  },
  {
   "cell_type": "code",
   "execution_count": 10,
   "id": "heavy-ethiopia",
   "metadata": {},
   "outputs": [],
   "source": [
    "j_angle=[]\n",
    "l_h_rate=[]\n",
    "l_w_rate=[]\n",
    "r_h_rate=[]\n",
    "r_w_rate=[]\n",
    "n_h_rate=[]\n",
    "n_w_rate=[]"
   ]
  },
  {
   "cell_type": "code",
   "execution_count": 11,
   "id": "juvenile-frequency",
   "metadata": {},
   "outputs": [
    {
     "data": {
      "text/plain": [
       "[45.774078849489,\n",
       " 0.9428571428571428,\n",
       " 0.4067796610169492,\n",
       " 0.9367816091954023,\n",
       " 0.4782608695652174,\n",
       " 0.5614035087719298,\n",
       " 0.6929133858267716]"
      ]
     },
     "execution_count": 11,
     "metadata": {},
     "output_type": "execute_result"
    }
   ],
   "source": [
    "guansang(\"../data/ones2.jpg\")"
   ]
  },
  {
   "cell_type": "code",
   "execution_count": 12,
   "id": "charged-fitting",
   "metadata": {},
   "outputs": [],
   "source": [
    "fname=[\"./prject_data/face/{}_m.jpg\".format(i) for i in range(1,400)]\n",
    "\n",
    "for fname in fname:\n",
    "    result=guansang(fname)\n",
    "    j_angle.append(result[0])\n",
    "    l_h_rate.append(result[1])\n",
    "    l_w_rate.append(result[2])\n",
    "    r_h_rate.append(result[3])\n",
    "    r_w_rate.append(result[4])\n",
    "    n_h_rate.append(result[5])\n",
    "    n_w_rate.append(result[6])"
   ]
  },
  {
   "cell_type": "code",
   "execution_count": 13,
   "id": "cardiac-hurricane",
   "metadata": {},
   "outputs": [
    {
     "data": {
      "text/plain": [
       "[41.18592516570965,\n",
       " 42.14470343125018,\n",
       " 25.428006792714484,\n",
       " 34.24928283797607,\n",
       " 37.65839012380201,\n",
       " 37.43799634584471,\n",
       " 35.27998258591188,\n",
       " 43.63684450304689,\n",
       " 43.63684450304689,\n",
       " 29.518121733963255,\n",
       " 39.00729294046016,\n",
       " 35.44845455437462,\n",
       " 30.540825978406843,\n",
       " 34.99202019855869,\n",
       " 37.2503623117496,\n",
       " 36.489737194240064,\n",
       " 31.363814727188895,\n",
       " 32.47119229084848,\n",
       " 36.270398682186425,\n",
       " 45.0,\n",
       " 33.14190527431643,\n",
       " 43.49360624790833,\n",
       " 30.1275593515289,\n",
       " 45.0,\n",
       " 25.67009587295496,\n",
       " 39.345033762989885,\n",
       " 35.56550027246931,\n",
       " 27.51578886618063,\n",
       " 39.28940686250036,\n",
       " 35.78252558853899,\n",
       " 32.82945503165374,\n",
       " 42.14470343125018,\n",
       " 31.973252344754542,\n",
       " 29.278596464767816,\n",
       " 29.433448414747232,\n",
       " 38.65980825409011,\n",
       " 31.973252344754542,\n",
       " 38.079652254172174,\n",
       " 42.27368900609375,\n",
       " 36.86989764584402,\n",
       " 30.1275593515289,\n",
       " 34.09929525682409,\n",
       " 34.99202019855869,\n",
       " 29.278596464767816,\n",
       " 42.14470343125018,\n",
       " 36.86989764584402,\n",
       " 20.345667541737555,\n",
       " 33.08062990841415,\n",
       " 47.59721445386742,\n",
       " 39.42855507083033,\n",
       " 34.858720455541686,\n",
       " 32.16406457555499,\n",
       " 36.489737194240064,\n",
       " 31.607502246248913,\n",
       " 43.63684450304689,\n",
       " 26.53794816741916,\n",
       " 35.27998258591188,\n",
       " 32.47119229084848,\n",
       " 43.49360624790833,\n",
       " 34.24928283797607,\n",
       " 27.51578886618063,\n",
       " 36.01231656730397,\n",
       " 36.174937890034926,\n",
       " 25.67009587295496,\n",
       " 40.63830967915851,\n",
       " 33.14190527431643,\n",
       " 37.05236581370934,\n",
       " 43.49360624790833,\n",
       " 39.547488977382784,\n",
       " 31.383820233543474,\n",
       " 41.039630049179465,\n",
       " 34.24928283797607,\n",
       " 29.95412900612763,\n",
       " 34.67054496834626,\n",
       " 38.079652254172174,\n",
       " 37.34359081959684,\n",
       " 31.363814727188895,\n",
       " 41.039630049179465,\n",
       " 39.28940686250036,\n",
       " 23.28827502759185,\n",
       " 36.0273733851036,\n",
       " 43.316769668285104,\n",
       " 38.97460755829522,\n",
       " 45.0,\n",
       " 23.28827502759185,\n",
       " 25.646974094475553,\n",
       " 29.95412900612763,\n",
       " 34.858720455541686,\n",
       " 31.80123993226195,\n",
       " 30.403856603980273,\n",
       " 37.65839012380201,\n",
       " 39.571793325968855,\n",
       " 29.022818531474286,\n",
       " 45.0,\n",
       " 38.48442126866385,\n",
       " 40.63830967915851,\n",
       " 35.27998258591188,\n",
       " 32.648784886114356,\n",
       " 38.079652254172174,\n",
       " 36.86989764584402,\n",
       " 46.5063937520917,\n",
       " 38.48442126866385,\n",
       " 34.858720455541686,\n",
       " 33.69006752597977,\n",
       " 34.77292201301481,\n",
       " 32.648784886114356,\n",
       " 36.13187278003073,\n",
       " 20.52740688548124,\n",
       " 39.80557109226521,\n",
       " 45.0,\n",
       " 36.174937890034926,\n",
       " 34.695153531233984,\n",
       " 39.28940686250036,\n",
       " 35.56550027246931,\n",
       " 29.95412900612763,\n",
       " 35.88029957667442,\n",
       " 36.489737194240064,\n",
       " 34.4581227088097,\n",
       " 34.858720455541686,\n",
       " 27.432903471542204,\n",
       " 20.345667541737555,\n",
       " 38.079652254172174,\n",
       " 36.825914226324386,\n",
       " 37.874983651098205,\n",
       " 35.509696791831146,\n",
       " 42.14470343125018,\n",
       " 33.69006752597977,\n",
       " 38.33773436905463,\n",
       " 35.12199950126771,\n",
       " 25.50450297874727,\n",
       " 39.92114051746063,\n",
       " 37.83864001089822,\n",
       " 41.63353933657021,\n",
       " 27.432903471542204,\n",
       " 29.95412900612763,\n",
       " 36.489737194240064,\n",
       " 32.22001741408809,\n",
       " 38.079652254172174,\n",
       " 29.08627671166346,\n",
       " 28.410744170303644,\n",
       " 35.38466381216938,\n",
       " 31.29621228109079,\n",
       " 40.63830967915851,\n",
       " 39.28940686250036,\n",
       " 34.858720455541686,\n",
       " 25.67009587295496,\n",
       " 33.08062990841415,\n",
       " 28.300755766006375,\n",
       " 36.825914226324386,\n",
       " 36.86989764584402,\n",
       " 33.14190527431643,\n",
       " 37.83864001089822,\n",
       " 40.32351037495337,\n",
       " 30.256437163529256,\n",
       " 39.571793325968855,\n",
       " 33.08062990841415,\n",
       " 38.079652254172174,\n",
       " 31.363814727188895,\n",
       " 34.23869994604644,\n",
       " 32.648784886114356,\n",
       " 45.0,\n",
       " 37.83864001089822,\n",
       " 39.00729294046016,\n",
       " 27.636665320814643,\n",
       " 39.28940686250036,\n",
       " 36.797357371032774,\n",
       " 31.717474411461012,\n",
       " 39.28940686250036,\n",
       " 43.49360624790833,\n",
       " 30.1275593515289,\n",
       " 38.830456360836905,\n",
       " 31.607502246248913,\n",
       " 38.33773436905463,\n",
       " 25.74967313982728,\n",
       " 41.987212495816664,\n",
       " 36.174937890034926,\n",
       " 36.0273733851036,\n",
       " 29.08627671166346,\n",
       " 33.14190527431643,\n",
       " 29.856023504667007,\n",
       " 35.509696791831146,\n",
       " 36.448635515473825,\n",
       " 32.22001741408809,\n",
       " 33.307389471393094,\n",
       " 40.78154793429704,\n",
       " 36.489737194240064,\n",
       " 33.69006752597977,\n",
       " 27.432903471542204,\n",
       " 40.63830967915851,\n",
       " 41.987212495816664,\n",
       " 40.5136866925518,\n",
       " 39.547488977382784,\n",
       " 43.63684450304689,\n",
       " 41.28429601441374,\n",
       " 30.610096847801373,\n",
       " 37.34359081959684,\n",
       " 40.63830967915851,\n",
       " 41.28429601441374,\n",
       " 37.34359081959684,\n",
       " 32.648784886114356,\n",
       " 38.65980825409011,\n",
       " 29.278596464767816,\n",
       " 43.316769668285104,\n",
       " 23.986865541240064,\n",
       " 39.28940686250036,\n",
       " 42.40278554613258,\n",
       " 34.858720455541686,\n",
       " 34.24928283797607,\n",
       " 42.14470343125018,\n",
       " 35.70653666925705,\n",
       " 41.039630049179465,\n",
       " 39.28940686250036,\n",
       " 38.48442126866385,\n",
       " 33.307389471393094,\n",
       " 43.63684450304689,\n",
       " 37.83864001089822,\n",
       " 34.695153531233984,\n",
       " 31.717474411461012,\n",
       " 38.48442126866385,\n",
       " 43.49360624790833,\n",
       " 37.56859202882748,\n",
       " 43.49360624790833,\n",
       " 45.0,\n",
       " 42.27368900609375,\n",
       " 35.509696791831146,\n",
       " 35.44845455437462,\n",
       " 36.86989764584402,\n",
       " 33.731606244703585,\n",
       " 36.489737194240064,\n",
       " 36.489737194240064,\n",
       " 30.67619177159557,\n",
       " 39.42855507083033,\n",
       " 32.03934726854871,\n",
       " 40.85142751508158,\n",
       " 29.88358038369529,\n",
       " 46.5063937520917,\n",
       " 36.0273733851036,\n",
       " 35.509696791831146,\n",
       " 41.039630049179465,\n",
       " 35.509696791831146,\n",
       " 31.717474411461012,\n",
       " 32.73522627210761,\n",
       " 30.67619177159557,\n",
       " 40.63830967915851,\n",
       " 37.34359081959684,\n",
       " 39.571793325968855,\n",
       " 35.27998258591188,\n",
       " 39.547488977382784,\n",
       " 39.00729294046016,\n",
       " 38.97460755829522,\n",
       " 34.24928283797607,\n",
       " 40.5136866925518,\n",
       " 34.24928283797607,\n",
       " 46.5063937520917,\n",
       " 40.33383683268494,\n",
       " 30.63010235415598,\n",
       " 29.278596464767816,\n",
       " 38.97460755829522,\n",
       " 36.489737194240064,\n",
       " 33.48028201004823,\n",
       " 37.981878266036745,\n",
       " 25.74967313982728,\n",
       " 29.278596464767816,\n",
       " 39.00729294046016,\n",
       " 27.587755421521592,\n",
       " 35.70653666925705,\n",
       " 43.65109718334185,\n",
       " 34.23869994604644,\n",
       " 35.27998258591188,\n",
       " 42.14470343125018,\n",
       " 31.363814727188895,\n",
       " 31.973252344754542,\n",
       " 37.65839012380201,\n",
       " 38.48442126866385,\n",
       " 42.40278554613258,\n",
       " 35.94498825004973,\n",
       " 30.1275593515289,\n",
       " 39.42855507083033,\n",
       " 38.079652254172174,\n",
       " 32.648784886114356,\n",
       " 33.93902901405909,\n",
       " 36.94059562617133,\n",
       " 22.61986494804043,\n",
       " 25.74967313982728,\n",
       " 33.69006752597977,\n",
       " 33.69006752597977,\n",
       " 36.0273733851036,\n",
       " 20.74823417760777,\n",
       " 22.740732902919177,\n",
       " 40.63830967915851,\n",
       " 25.74967313982728,\n",
       " 36.448635515473825,\n",
       " 39.15053119559866,\n",
       " 38.65980825409011,\n",
       " 41.82990412704507,\n",
       " 31.607502246248913,\n",
       " 42.40278554613258,\n",
       " 31.607502246248913,\n",
       " 42.40278554613258,\n",
       " 30.256437163529256,\n",
       " 34.802561958975815,\n",
       " 32.16406457555499,\n",
       " 36.13187278003073,\n",
       " 33.81743781567624,\n",
       " 42.14470343125018,\n",
       " 40.14667379533017,\n",
       " 38.687081560546346,\n",
       " 35.27998258591188,\n",
       " 38.37974004240641,\n",
       " 30.256437163529256,\n",
       " 34.858720455541686,\n",
       " 35.78252558853899,\n",
       " 22.092711475120154,\n",
       " 37.65839012380201,\n",
       " 43.49360624790833,\n",
       " 32.47119229084848,\n",
       " 30.256437163529256,\n",
       " 42.27368900609375,\n",
       " 34.4581227088097,\n",
       " 33.731606244703585,\n",
       " 32.61242971558406,\n",
       " 34.24928283797607,\n",
       " 35.78252558853899,\n",
       " 43.75522353900044,\n",
       " 43.49360624790833,\n",
       " 34.24928283797607,\n",
       " 32.47119229084848,\n",
       " 34.858720455541686,\n",
       " 40.78154793429704,\n",
       " 39.28940686250036,\n",
       " 29.744881296942225,\n",
       " 38.26739595259414,\n",
       " 35.15190915046756,\n",
       " 32.648784886114356,\n",
       " 34.23869994604644,\n",
       " 38.687081560546346,\n",
       " 27.51578886618063,\n",
       " 39.00729294046016,\n",
       " 39.42855507083033,\n",
       " 45.0,\n",
       " 37.2503623117496,\n",
       " 41.039630049179465,\n",
       " 34.24928283797607,\n",
       " 36.13187278003073,\n",
       " 31.607502246248913,\n",
       " 40.32351037495337,\n",
       " 28.62316642984021,\n",
       " 32.648784886114356,\n",
       " 40.03951955341418,\n",
       " 43.63684450304689,\n",
       " 34.24928283797607,\n",
       " 45.0,\n",
       " 34.695153531233984,\n",
       " 42.14470343125018,\n",
       " 38.33773436905463,\n",
       " 37.34359081959684,\n",
       " 43.49360624790833,\n",
       " 26.692800117398576,\n",
       " 43.49360624790833,\n",
       " 39.571793325968855,\n",
       " 33.795081314253366,\n",
       " 42.40278554613258,\n",
       " 36.0273733851036,\n",
       " 38.97460755829522,\n",
       " 35.78252558853899,\n",
       " 36.13187278003073,\n",
       " 19.49549702125273,\n",
       " 30.9319697048891,\n",
       " 35.78252558853899,\n",
       " 34.19261052860685,\n",
       " 43.79024539167182,\n",
       " 34.24928283797607,\n",
       " 23.977289912029846,\n",
       " 25.79097232758903,\n",
       " 31.717474411461012,\n",
       " 37.22920239333257,\n",
       " 39.00729294046016,\n",
       " 37.65839012380201,\n",
       " 36.489737194240064,\n",
       " 42.51044707800085,\n",
       " 34.695153531233984,\n",
       " 32.58532670592518,\n",
       " 39.00729294046016,\n",
       " 39.00729294046016,\n",
       " 34.4581227088097,\n",
       " 45.0,\n",
       " 29.278596464767816,\n",
       " 30.67619177159557,\n",
       " 37.56859202882748,\n",
       " 38.97460755829522,\n",
       " 36.0273733851036,\n",
       " 32.22001741408809,\n",
       " 33.795081314253366,\n",
       " 37.34359081959684,\n",
       " 40.63830967915851,\n",
       " 30.67619177159557,\n",
       " 39.00729294046016,\n",
       " 34.23869994604644,\n",
       " 51.13238686394621]"
      ]
     },
     "execution_count": 13,
     "metadata": {},
     "output_type": "execute_result"
    }
   ],
   "source": [
    "j_angle"
   ]
  },
  {
   "cell_type": "code",
   "execution_count": 14,
   "id": "funny-helmet",
   "metadata": {},
   "outputs": [
    {
     "data": {
      "text/plain": [
       "399"
      ]
     },
     "execution_count": 14,
     "metadata": {},
     "output_type": "execute_result"
    }
   ],
   "source": [
    "len(j_angle)"
   ]
  },
  {
   "cell_type": "code",
   "execution_count": 15,
   "id": "invalid-straight",
   "metadata": {},
   "outputs": [],
   "source": [
    "face_data={\"jaw_angle\":j_angle,\"left_height\":l_h_rate,\"left_width\":l_w_rate,\n",
    "        \"right_height\":r_h_rate,\"right_width\":r_w_rate,\"nose_height\":n_h_rate,\n",
    "         \"nose_width\":n_w_rate}"
   ]
  },
  {
   "cell_type": "code",
   "execution_count": 16,
   "id": "efficient-immunology",
   "metadata": {},
   "outputs": [],
   "source": [
    "import pandas as pd\n",
    "face_df=pd.DataFrame(face_data)"
   ]
  },
  {
   "cell_type": "code",
   "execution_count": 17,
   "id": "universal-stone",
   "metadata": {
    "scrolled": true
   },
   "outputs": [
    {
     "data": {
      "text/html": [
       "<div>\n",
       "<style scoped>\n",
       "    .dataframe tbody tr th:only-of-type {\n",
       "        vertical-align: middle;\n",
       "    }\n",
       "\n",
       "    .dataframe tbody tr th {\n",
       "        vertical-align: top;\n",
       "    }\n",
       "\n",
       "    .dataframe thead th {\n",
       "        text-align: right;\n",
       "    }\n",
       "</style>\n",
       "<table border=\"1\" class=\"dataframe\">\n",
       "  <thead>\n",
       "    <tr style=\"text-align: right;\">\n",
       "      <th></th>\n",
       "      <th>jaw_angle</th>\n",
       "      <th>left_height</th>\n",
       "      <th>left_width</th>\n",
       "      <th>right_height</th>\n",
       "      <th>right_width</th>\n",
       "      <th>nose_height</th>\n",
       "      <th>nose_width</th>\n",
       "    </tr>\n",
       "  </thead>\n",
       "  <tbody>\n",
       "    <tr>\n",
       "      <th>0</th>\n",
       "      <td>41.185925</td>\n",
       "      <td>0.945946</td>\n",
       "      <td>0.392857</td>\n",
       "      <td>0.932432</td>\n",
       "      <td>0.466667</td>\n",
       "      <td>0.575342</td>\n",
       "      <td>0.730769</td>\n",
       "    </tr>\n",
       "    <tr>\n",
       "      <th>1</th>\n",
       "      <td>42.144703</td>\n",
       "      <td>0.959596</td>\n",
       "      <td>0.454545</td>\n",
       "      <td>0.959596</td>\n",
       "      <td>0.485714</td>\n",
       "      <td>0.560000</td>\n",
       "      <td>0.671642</td>\n",
       "    </tr>\n",
       "    <tr>\n",
       "      <th>2</th>\n",
       "      <td>25.428007</td>\n",
       "      <td>0.929577</td>\n",
       "      <td>0.423077</td>\n",
       "      <td>0.929577</td>\n",
       "      <td>0.464286</td>\n",
       "      <td>0.605634</td>\n",
       "      <td>0.714286</td>\n",
       "    </tr>\n",
       "    <tr>\n",
       "      <th>3</th>\n",
       "      <td>34.249283</td>\n",
       "      <td>0.931034</td>\n",
       "      <td>0.419355</td>\n",
       "      <td>0.941176</td>\n",
       "      <td>0.470588</td>\n",
       "      <td>0.541176</td>\n",
       "      <td>0.718750</td>\n",
       "    </tr>\n",
       "    <tr>\n",
       "      <th>4</th>\n",
       "      <td>37.658390</td>\n",
       "      <td>0.902174</td>\n",
       "      <td>0.473684</td>\n",
       "      <td>0.913978</td>\n",
       "      <td>0.322581</td>\n",
       "      <td>0.534091</td>\n",
       "      <td>0.661765</td>\n",
       "    </tr>\n",
       "    <tr>\n",
       "      <th>...</th>\n",
       "      <td>...</td>\n",
       "      <td>...</td>\n",
       "      <td>...</td>\n",
       "      <td>...</td>\n",
       "      <td>...</td>\n",
       "      <td>...</td>\n",
       "      <td>...</td>\n",
       "    </tr>\n",
       "    <tr>\n",
       "      <th>394</th>\n",
       "      <td>40.638310</td>\n",
       "      <td>0.959596</td>\n",
       "      <td>0.500000</td>\n",
       "      <td>0.950495</td>\n",
       "      <td>0.437500</td>\n",
       "      <td>0.564356</td>\n",
       "      <td>0.641791</td>\n",
       "    </tr>\n",
       "    <tr>\n",
       "      <th>395</th>\n",
       "      <td>30.676192</td>\n",
       "      <td>0.931373</td>\n",
       "      <td>0.523810</td>\n",
       "      <td>0.941176</td>\n",
       "      <td>0.363636</td>\n",
       "      <td>0.574257</td>\n",
       "      <td>0.671233</td>\n",
       "    </tr>\n",
       "    <tr>\n",
       "      <th>396</th>\n",
       "      <td>39.007293</td>\n",
       "      <td>0.947368</td>\n",
       "      <td>0.513514</td>\n",
       "      <td>0.947917</td>\n",
       "      <td>0.437500</td>\n",
       "      <td>0.572917</td>\n",
       "      <td>0.692308</td>\n",
       "    </tr>\n",
       "    <tr>\n",
       "      <th>397</th>\n",
       "      <td>34.238700</td>\n",
       "      <td>0.941748</td>\n",
       "      <td>0.457143</td>\n",
       "      <td>0.941176</td>\n",
       "      <td>0.428571</td>\n",
       "      <td>0.607843</td>\n",
       "      <td>0.688312</td>\n",
       "    </tr>\n",
       "    <tr>\n",
       "      <th>398</th>\n",
       "      <td>51.132387</td>\n",
       "      <td>0.941176</td>\n",
       "      <td>0.547619</td>\n",
       "      <td>0.942857</td>\n",
       "      <td>0.366667</td>\n",
       "      <td>0.544554</td>\n",
       "      <td>0.671642</td>\n",
       "    </tr>\n",
       "  </tbody>\n",
       "</table>\n",
       "<p>399 rows × 7 columns</p>\n",
       "</div>"
      ],
      "text/plain": [
       "     jaw_angle  left_height  left_width  right_height  right_width  \\\n",
       "0    41.185925     0.945946    0.392857      0.932432     0.466667   \n",
       "1    42.144703     0.959596    0.454545      0.959596     0.485714   \n",
       "2    25.428007     0.929577    0.423077      0.929577     0.464286   \n",
       "3    34.249283     0.931034    0.419355      0.941176     0.470588   \n",
       "4    37.658390     0.902174    0.473684      0.913978     0.322581   \n",
       "..         ...          ...         ...           ...          ...   \n",
       "394  40.638310     0.959596    0.500000      0.950495     0.437500   \n",
       "395  30.676192     0.931373    0.523810      0.941176     0.363636   \n",
       "396  39.007293     0.947368    0.513514      0.947917     0.437500   \n",
       "397  34.238700     0.941748    0.457143      0.941176     0.428571   \n",
       "398  51.132387     0.941176    0.547619      0.942857     0.366667   \n",
       "\n",
       "     nose_height  nose_width  \n",
       "0       0.575342    0.730769  \n",
       "1       0.560000    0.671642  \n",
       "2       0.605634    0.714286  \n",
       "3       0.541176    0.718750  \n",
       "4       0.534091    0.661765  \n",
       "..           ...         ...  \n",
       "394     0.564356    0.641791  \n",
       "395     0.574257    0.671233  \n",
       "396     0.572917    0.692308  \n",
       "397     0.607843    0.688312  \n",
       "398     0.544554    0.671642  \n",
       "\n",
       "[399 rows x 7 columns]"
      ]
     },
     "execution_count": 17,
     "metadata": {},
     "output_type": "execute_result"
    }
   ],
   "source": [
    "face_df"
   ]
  },
  {
   "cell_type": "code",
   "execution_count": 18,
   "id": "great-shoulder",
   "metadata": {},
   "outputs": [],
   "source": [
    "face_df.to_csv(\"face_data.csv\")"
   ]
  },
  {
   "cell_type": "code",
   "execution_count": 19,
   "id": "dependent-death",
   "metadata": {},
   "outputs": [],
   "source": [
    "face_df[\"left_eye\"]=face_df[\"left_height\"]*face_df[\"left_width\"]\n",
    "face_df[\"right_eye\"]=face_df[\"right_height\"]*face_df[\"right_width\"]\n",
    "face_df[\"nose\"]=face_df[\"nose_height\"]*face_df[\"nose_width\"]"
   ]
  },
  {
   "cell_type": "code",
   "execution_count": 20,
   "id": "usual-fifth",
   "metadata": {},
   "outputs": [
    {
     "name": "stdout",
     "output_type": "stream",
     "text": [
      "왼쪽눈 비율의 최대 값: 0.5749271137026238\n",
      "왼쪽눈 비율의 평균 값: 0.41\n",
      "왼쪽눈 비율의 표준편차: 0.05\n",
      "왼쪽눈 비율의 중간 값: 0.41143423661599465\n",
      "왼쪽눈 비율의 제 1 사분위: 0.3804347826086956\n",
      "왼쪽눈 비율의 제 3 사분위: 0.4394907407407408\n"
     ]
    }
   ],
   "source": [
    "print('왼쪽눈 비율의 최대 값: {}'.format(np.max(face_df[\"left_eye\"])))\n",
    "print('왼쪽눈 비율의 평균 값: {:.2f}'.format(np.mean(face_df[\"left_eye\"])))\n",
    "print('왼쪽눈 비율의 표준편차: {:.2f}'.format(np.std(face_df[\"left_eye\"])))\n",
    "print('왼쪽눈 비율의 중간 값: {}'.format(np.median(face_df[\"left_eye\"])))\n",
    "print('왼쪽눈 비율의 제 1 사분위: {}'.format(np.percentile(face_df[\"left_eye\"], 25)))\n",
    "print('왼쪽눈 비율의 제 3 사분위: {}'.format(np.percentile(face_df[\"left_eye\"], 75)))"
   ]
  },
  {
   "cell_type": "code",
   "execution_count": 21,
   "id": "chronic-wrong",
   "metadata": {},
   "outputs": [
    {
     "name": "stdout",
     "output_type": "stream",
     "text": [
      "오른쪽눈 비율의 최대 값: 0.5605640314378179\n",
      "오른쪽눈 비율의 평균 값: 0.42\n",
      "오른쪽눈 비율의 표준편차: 0.05\n",
      "오른쪽눈 비율의 중간 값: 0.4238095238095238\n",
      "오른쪽눈 비율의 제 1 사분위: 0.3975054020682204\n",
      "오른쪽눈 비율의 제 3 사분위: 0.45063550673930786\n"
     ]
    }
   ],
   "source": [
    "print('오른쪽눈 비율의 최대 값: {}'.format(np.max(face_df[\"right_eye\"])))\n",
    "print('오른쪽눈 비율의 평균 값: {:.2f}'.format(np.mean(face_df[\"right_eye\"])))\n",
    "print('오른쪽눈 비율의 표준편차: {:.2f}'.format(np.std(face_df[\"right_eye\"])))\n",
    "print('오른쪽눈 비율의 중간 값: {}'.format(np.median(face_df[\"right_eye\"])))\n",
    "print('오른쪽눈 비율의 제 1 사분위: {}'.format(np.percentile(face_df[\"right_eye\"], 25)))\n",
    "print('오른쪽눈 비율의 제 3 사분위: {}'.format(np.percentile(face_df[\"right_eye\"], 75)))"
   ]
  },
  {
   "cell_type": "code",
   "execution_count": 22,
   "id": "informational-discharge",
   "metadata": {},
   "outputs": [
    {
     "name": "stdout",
     "output_type": "stream",
     "text": [
      "코 비율의 최대 값: 0.47016645326504486\n",
      "코 비율의 평균 값: 0.40\n",
      "코 비율의 표준편차: 0.02\n",
      "코 비율의 중간 값: 0.40012702445220705\n",
      "코 비율의 제 1 사분위: 0.38380308536864305\n",
      "코 비율의 제 3 사분위: 0.4150151153383838\n"
     ]
    }
   ],
   "source": [
    "print('코 비율의 최대 값: {}'.format(np.max(face_df[\"nose\"])))\n",
    "print('코 비율의 평균 값: {:.2f}'.format(np.mean(face_df[\"nose\"])))\n",
    "print('코 비율의 표준편차: {:.2f}'.format(np.std(face_df[\"nose\"])))\n",
    "print('코 비율의 중간 값: {}'.format(np.median(face_df[\"nose\"])))\n",
    "print('코 비율의 제 1 사분위: {}'.format(np.percentile(face_df[\"nose\"], 25)))\n",
    "print('코 비율의 제 3 사분위: {}'.format(np.percentile(face_df[\"nose\"], 75)))"
   ]
  },
  {
   "cell_type": "markdown",
   "id": "stylish-boating",
   "metadata": {},
   "source": [
    "one - 계란형, 둥근형\n",
    "tri - 역삼각형\n",
    "rec - 사각형,마름모형,긴형"
   ]
  },
  {
   "cell_type": "code",
   "execution_count": 23,
   "id": "saving-option",
   "metadata": {},
   "outputs": [
    {
     "data": {
      "text/plain": [
       "19.49549702125273"
      ]
     },
     "execution_count": 23,
     "metadata": {},
     "output_type": "execute_result"
    }
   ],
   "source": [
    "min(face_df[\"jaw_angle\"])"
   ]
  },
  {
   "cell_type": "code",
   "execution_count": 24,
   "id": "incredible-cannon",
   "metadata": {},
   "outputs": [
    {
     "data": {
      "text/html": [
       "<div>\n",
       "<style scoped>\n",
       "    .dataframe tbody tr th:only-of-type {\n",
       "        vertical-align: middle;\n",
       "    }\n",
       "\n",
       "    .dataframe tbody tr th {\n",
       "        vertical-align: top;\n",
       "    }\n",
       "\n",
       "    .dataframe thead th {\n",
       "        text-align: right;\n",
       "    }\n",
       "</style>\n",
       "<table border=\"1\" class=\"dataframe\">\n",
       "  <thead>\n",
       "    <tr style=\"text-align: right;\">\n",
       "      <th></th>\n",
       "      <th>jaw_angle</th>\n",
       "      <th>left_height</th>\n",
       "      <th>left_width</th>\n",
       "      <th>right_height</th>\n",
       "      <th>right_width</th>\n",
       "      <th>nose_height</th>\n",
       "      <th>nose_width</th>\n",
       "      <th>left_eye</th>\n",
       "      <th>right_eye</th>\n",
       "      <th>nose</th>\n",
       "    </tr>\n",
       "  </thead>\n",
       "  <tbody>\n",
       "    <tr>\n",
       "      <th>366</th>\n",
       "      <td>19.495497</td>\n",
       "      <td>0.943925</td>\n",
       "      <td>0.463415</td>\n",
       "      <td>0.93578</td>\n",
       "      <td>0.388889</td>\n",
       "      <td>0.59633</td>\n",
       "      <td>0.666667</td>\n",
       "      <td>0.437429</td>\n",
       "      <td>0.363914</td>\n",
       "      <td>0.397554</td>\n",
       "    </tr>\n",
       "  </tbody>\n",
       "</table>\n",
       "</div>"
      ],
      "text/plain": [
       "     jaw_angle  left_height  left_width  right_height  right_width  \\\n",
       "366  19.495497     0.943925    0.463415       0.93578     0.388889   \n",
       "\n",
       "     nose_height  nose_width  left_eye  right_eye      nose  \n",
       "366      0.59633    0.666667  0.437429   0.363914  0.397554  "
      ]
     },
     "execution_count": 24,
     "metadata": {},
     "output_type": "execute_result"
    }
   ],
   "source": [
    "face_df[face_df[\"jaw_angle\"]==19.49549702125273]"
   ]
  },
  {
   "cell_type": "code",
   "execution_count": 25,
   "id": "willing-honey",
   "metadata": {},
   "outputs": [
    {
     "data": {
      "text/plain": [
       "51.13238686394621"
      ]
     },
     "execution_count": 25,
     "metadata": {},
     "output_type": "execute_result"
    }
   ],
   "source": [
    "max(face_df[\"jaw_angle\"])"
   ]
  },
  {
   "cell_type": "code",
   "execution_count": 26,
   "id": "narrow-ceramic",
   "metadata": {},
   "outputs": [
    {
     "data": {
      "text/html": [
       "<div>\n",
       "<style scoped>\n",
       "    .dataframe tbody tr th:only-of-type {\n",
       "        vertical-align: middle;\n",
       "    }\n",
       "\n",
       "    .dataframe tbody tr th {\n",
       "        vertical-align: top;\n",
       "    }\n",
       "\n",
       "    .dataframe thead th {\n",
       "        text-align: right;\n",
       "    }\n",
       "</style>\n",
       "<table border=\"1\" class=\"dataframe\">\n",
       "  <thead>\n",
       "    <tr style=\"text-align: right;\">\n",
       "      <th></th>\n",
       "      <th>jaw_angle</th>\n",
       "      <th>left_height</th>\n",
       "      <th>left_width</th>\n",
       "      <th>right_height</th>\n",
       "      <th>right_width</th>\n",
       "      <th>nose_height</th>\n",
       "      <th>nose_width</th>\n",
       "      <th>left_eye</th>\n",
       "      <th>right_eye</th>\n",
       "      <th>nose</th>\n",
       "    </tr>\n",
       "  </thead>\n",
       "  <tbody>\n",
       "    <tr>\n",
       "      <th>398</th>\n",
       "      <td>51.132387</td>\n",
       "      <td>0.941176</td>\n",
       "      <td>0.547619</td>\n",
       "      <td>0.942857</td>\n",
       "      <td>0.366667</td>\n",
       "      <td>0.544554</td>\n",
       "      <td>0.671642</td>\n",
       "      <td>0.515406</td>\n",
       "      <td>0.345714</td>\n",
       "      <td>0.365746</td>\n",
       "    </tr>\n",
       "  </tbody>\n",
       "</table>\n",
       "</div>"
      ],
      "text/plain": [
       "     jaw_angle  left_height  left_width  right_height  right_width  \\\n",
       "398  51.132387     0.941176    0.547619      0.942857     0.366667   \n",
       "\n",
       "     nose_height  nose_width  left_eye  right_eye      nose  \n",
       "398     0.544554    0.671642  0.515406   0.345714  0.365746  "
      ]
     },
     "execution_count": 26,
     "metadata": {},
     "output_type": "execute_result"
    }
   ],
   "source": [
    "face_df[face_df[\"jaw_angle\"]==51.13238686394621]"
   ]
  },
  {
   "cell_type": "code",
   "execution_count": 27,
   "id": "adjacent-scholarship",
   "metadata": {},
   "outputs": [
    {
     "data": {
      "text/plain": [
       "34.24928283797607"
      ]
     },
     "execution_count": 27,
     "metadata": {},
     "output_type": "execute_result"
    }
   ],
   "source": [
    "face_df[\"jaw_angle\"][71]"
   ]
  },
  {
   "cell_type": "code",
   "execution_count": 28,
   "id": "informed-browser",
   "metadata": {},
   "outputs": [
    {
     "data": {
      "text/plain": [
       "31.363814727188895"
      ]
     },
     "execution_count": 28,
     "metadata": {},
     "output_type": "execute_result"
    }
   ],
   "source": [
    "face_df[\"jaw_angle\"][76]"
   ]
  },
  {
   "cell_type": "code",
   "execution_count": 29,
   "id": "earned-circulation",
   "metadata": {},
   "outputs": [
    {
     "data": {
      "text/plain": [
       "47.59721445386742"
      ]
     },
     "execution_count": 29,
     "metadata": {},
     "output_type": "execute_result"
    }
   ],
   "source": [
    "face_df[\"jaw_angle\"][48]"
   ]
  },
  {
   "cell_type": "code",
   "execution_count": 30,
   "id": "uniform-projector",
   "metadata": {},
   "outputs": [
    {
     "data": {
      "text/plain": [
       "39.42855507083033"
      ]
     },
     "execution_count": 30,
     "metadata": {},
     "output_type": "execute_result"
    }
   ],
   "source": [
    "face_df[\"jaw_angle\"][49]"
   ]
  },
  {
   "cell_type": "code",
   "execution_count": 31,
   "id": "ultimate-wales",
   "metadata": {},
   "outputs": [
    {
     "data": {
      "text/plain": [
       "34.858720455541686"
      ]
     },
     "execution_count": 31,
     "metadata": {},
     "output_type": "execute_result"
    }
   ],
   "source": [
    "face_df[\"jaw_angle\"][50]"
   ]
  },
  {
   "cell_type": "code",
   "execution_count": 32,
   "id": "willing-tracker",
   "metadata": {},
   "outputs": [
    {
     "data": {
      "text/plain": [
       "26.53794816741916"
      ]
     },
     "execution_count": 32,
     "metadata": {},
     "output_type": "execute_result"
    }
   ],
   "source": [
    "face_df[\"jaw_angle\"][55] #각진느낌"
   ]
  },
  {
   "cell_type": "code",
   "execution_count": 33,
   "id": "diagnostic-oasis",
   "metadata": {},
   "outputs": [
    {
     "data": {
      "text/plain": [
       "35.27998258591188"
      ]
     },
     "execution_count": 33,
     "metadata": {},
     "output_type": "execute_result"
    }
   ],
   "source": [
    "face_df[\"jaw_angle\"][56] #각진느낌"
   ]
  },
  {
   "cell_type": "code",
   "execution_count": 34,
   "id": "cellular-pound",
   "metadata": {},
   "outputs": [
    {
     "data": {
      "text/plain": [
       "43.49360624790833"
      ]
     },
     "execution_count": 34,
     "metadata": {},
     "output_type": "execute_result"
    }
   ],
   "source": [
    "face_df[\"jaw_angle\"][58] #계란형 59번사진"
   ]
  },
  {
   "cell_type": "code",
   "execution_count": 35,
   "id": "brilliant-helicopter",
   "metadata": {},
   "outputs": [
    {
     "data": {
      "text/plain": [
       "27.51578886618063"
      ]
     },
     "execution_count": 35,
     "metadata": {},
     "output_type": "execute_result"
    }
   ],
   "source": [
    "face_df[\"jaw_angle\"][60] #61번사진 각진느낌"
   ]
  },
  {
   "cell_type": "code",
   "execution_count": 36,
   "id": "banner-composer",
   "metadata": {},
   "outputs": [
    {
     "data": {
      "text/plain": [
       "31.607502246248913"
      ]
     },
     "execution_count": 36,
     "metadata": {},
     "output_type": "execute_result"
    }
   ],
   "source": [
    "face_df[\"jaw_angle\"][53]#각진느낌 54번사진"
   ]
  },
  {
   "cell_type": "code",
   "execution_count": 37,
   "id": "wanted-latter",
   "metadata": {},
   "outputs": [
    {
     "data": {
      "text/plain": [
       "36.174937890034926"
      ]
     },
     "execution_count": 37,
     "metadata": {},
     "output_type": "execute_result"
    }
   ],
   "source": [
    "face_df[\"jaw_angle\"][62]"
   ]
  },
  {
   "cell_type": "code",
   "execution_count": 38,
   "id": "committed-species",
   "metadata": {},
   "outputs": [
    {
     "data": {
      "text/plain": [
       "39.28940686250036"
      ]
     },
     "execution_count": 38,
     "metadata": {},
     "output_type": "execute_result"
    }
   ],
   "source": [
    "face_df[\"jaw_angle\"][78] #역삼각형 느낌"
   ]
  },
  {
   "cell_type": "code",
   "execution_count": 39,
   "id": "nuclear-china",
   "metadata": {},
   "outputs": [
    {
     "data": {
      "text/plain": [
       "29.95412900612763"
      ]
     },
     "execution_count": 39,
     "metadata": {},
     "output_type": "execute_result"
    }
   ],
   "source": [
    "face_df[\"jaw_angle\"][86] #각진 느낌 87번사진"
   ]
  },
  {
   "cell_type": "code",
   "execution_count": 40,
   "id": "encouraging-companion",
   "metadata": {},
   "outputs": [
    {
     "data": {
      "text/plain": [
       "34.77292201301481"
      ]
     },
     "execution_count": 40,
     "metadata": {},
     "output_type": "execute_result"
    }
   ],
   "source": [
    "face_df[\"jaw_angle\"][104]"
   ]
  },
  {
   "cell_type": "code",
   "execution_count": 41,
   "id": "structural-fourth",
   "metadata": {},
   "outputs": [
    {
     "data": {
      "text/plain": [
       "45.0"
      ]
     },
     "execution_count": 41,
     "metadata": {},
     "output_type": "execute_result"
    }
   ],
   "source": [
    "face_df[\"jaw_angle\"][109]"
   ]
  },
  {
   "cell_type": "code",
   "execution_count": 42,
   "id": "sound-notion",
   "metadata": {},
   "outputs": [
    {
     "data": {
      "text/plain": [
       "20.345667541737555"
      ]
     },
     "execution_count": 42,
     "metadata": {},
     "output_type": "execute_result"
    }
   ],
   "source": [
    "face_df[\"jaw_angle\"][120] #각진"
   ]
  },
  {
   "cell_type": "code",
   "execution_count": 43,
   "id": "moral-identity",
   "metadata": {},
   "outputs": [
    {
     "data": {
      "text/plain": [
       "27.432903471542204"
      ]
     },
     "execution_count": 43,
     "metadata": {},
     "output_type": "execute_result"
    }
   ],
   "source": [
    "face_df[\"jaw_angle\"][133] #각진"
   ]
  },
  {
   "cell_type": "code",
   "execution_count": 44,
   "id": "packed-speech",
   "metadata": {},
   "outputs": [
    {
     "data": {
      "text/plain": [
       "37.83864001089822"
      ]
     },
     "execution_count": 44,
     "metadata": {},
     "output_type": "execute_result"
    }
   ],
   "source": [
    "face_df[\"jaw_angle\"][151]"
   ]
  },
  {
   "cell_type": "code",
   "execution_count": 45,
   "id": "breeding-finding",
   "metadata": {},
   "outputs": [
    {
     "data": {
      "text/plain": [
       "40.85142751508158"
      ]
     },
     "execution_count": 45,
     "metadata": {},
     "output_type": "execute_result"
    }
   ],
   "source": [
    "face_df[\"jaw_angle\"][233]"
   ]
  },
  {
   "cell_type": "code",
   "execution_count": 46,
   "id": "polished-vienna",
   "metadata": {},
   "outputs": [
    {
     "data": {
      "text/plain": [
       "39.00729294046016"
      ]
     },
     "execution_count": 46,
     "metadata": {},
     "output_type": "execute_result"
    }
   ],
   "source": [
    "face_df[\"jaw_angle\"][248]"
   ]
  },
  {
   "cell_type": "code",
   "execution_count": 47,
   "id": "fifth-malta",
   "metadata": {},
   "outputs": [
    {
     "data": {
      "text/plain": [
       "42.14470343125018"
      ]
     },
     "execution_count": 47,
     "metadata": {},
     "output_type": "execute_result"
    }
   ],
   "source": [
    "face_df[\"jaw_angle\"][269]"
   ]
  },
  {
   "cell_type": "code",
   "execution_count": 48,
   "id": "incorrect-specification",
   "metadata": {},
   "outputs": [
    {
     "data": {
      "text/plain": [
       "45.0"
      ]
     },
     "execution_count": 48,
     "metadata": {},
     "output_type": "execute_result"
    }
   ],
   "source": [
    "face_df[\"jaw_angle\"][339]"
   ]
  },
  {
   "cell_type": "code",
   "execution_count": 49,
   "id": "opposite-florist",
   "metadata": {},
   "outputs": [
    {
     "data": {
      "text/plain": [
       "[40.25254007937491,\n",
       " 0.9365079365079365,\n",
       " 0.4583333333333333,\n",
       " 0.9354838709677419,\n",
       " 0.4117647058823529,\n",
       " 0.5683060109289617,\n",
       " 0.7248322147651006]"
      ]
     },
     "execution_count": 49,
     "metadata": {},
     "output_type": "execute_result"
    }
   ],
   "source": [
    "guansang('../data/triangle.jfif')"
   ]
  },
  {
   "cell_type": "markdown",
   "id": "genetic-springfield",
   "metadata": {},
   "source": [
    "- 43~46 계란형\n",
    "- 46 초과 긴형\n",
    "- 38~43 역삼각형\n",
    "- 38 미만 각진얼굴"
   ]
  },
  {
   "cell_type": "code",
   "execution_count": 50,
   "id": "insured-practitioner",
   "metadata": {},
   "outputs": [
    {
     "data": {
      "text/plain": [
       "46.5063937520917"
      ]
     },
     "execution_count": 50,
     "metadata": {},
     "output_type": "execute_result"
    }
   ],
   "source": [
    "face_df[\"jaw_angle\"][253] #긴형"
   ]
  },
  {
   "cell_type": "code",
   "execution_count": 51,
   "id": "complete-thursday",
   "metadata": {},
   "outputs": [
    {
     "data": {
      "text/plain": [
       "35.94498825004973"
      ]
     },
     "execution_count": 51,
     "metadata": {},
     "output_type": "execute_result"
    }
   ],
   "source": [
    "face_df[\"jaw_angle\"][275]"
   ]
  },
  {
   "cell_type": "code",
   "execution_count": 193,
   "id": "super-confidentiality",
   "metadata": {},
   "outputs": [],
   "source": [
    "def do_guansang(address):\n",
    "    detector = dlib.get_frontal_face_detector()\n",
    "    predictor = dlib.shape_predictor('shape_predictor_68_face_landmarks.dat')\n",
    "    #이미지 입력(주소 받아서)\n",
    "    image = cv2.imread(address)\n",
    "\n",
    "    image = imutils.resize(image, width=500)\n",
    "    gray = cv2.cvtColor(image, cv2.COLOR_BGR2GRAY)\n",
    "    \n",
    "    rects = detector(gray, 1)\n",
    "    #얼굴에 특징 점 지정작업\n",
    "    for (i, rect) in enumerate(rects):\n",
    "    \n",
    "\n",
    "    # determine the facial landmarks for the face region, then\n",
    "    # convert the landmark (x, y)-coordinates to a NumPy array\n",
    "        shape = predictor(gray, rect)\n",
    "        shape = shape_to_numpy_array(shape)\n",
    "\n",
    "    \n",
    "\n",
    "        output = visualize_facial_landmarks(image, shape)\n",
    "    \n",
    "    #턱밑각 추출 \n",
    "    jaw=facial_features_cordinates[\"Jaw\"]\n",
    "    \n",
    "    point1=jaw[5]\n",
    "    point2=jaw[6]\n",
    "    point3=jaw[10]\n",
    "    point4=jaw[11]\n",
    "    \n",
    "    face_angle=getAngle4P((point1[1],point1[0]),(point2[1],point2[0]),(point4[1],point4[0]),(point3[1],point3[0]),\"CW\")\n",
    "    \n",
    "    jaw_angle=(180-face_angle)/2 \n",
    "    \n",
    "    if jaw_angle<38:\n",
    "        jaw_result=\"R\"\n",
    "    elif jaw_angle<43:\n",
    "        jaw_result=\"T\"\n",
    "    elif jaw_angle<46:\n",
    "        jaw_result=\"E\"\n",
    "    else:\n",
    "        jaw_result=\"R\"\n",
    "    \n",
    "    #눈,코 비율\n",
    "    right_Eye=facial_features_cordinates[\"Right_Eye\"]\n",
    "    left_Eye=facial_features_cordinates[\"Left_Eye\"]\n",
    "    nose=facial_features_cordinates[\"Nose\"]\n",
    "    \n",
    "    left_h_rate=(jaw[8][1]-left_Eye[5][1])/(jaw[8][1]-left_Eye[2][1])\n",
    "    left_w_rate=(jaw[8][0]-left_Eye[0][0])/(jaw[8][0]-left_Eye[3][0])\n",
    "    right_h_rate=(jaw[8][1]-right_Eye[5][1])/(jaw[8][1]-right_Eye[2][1])\n",
    "    right_w_rate=(right_Eye[3][0]-jaw[8][0])/(right_Eye[0][0]-jaw[8][0])\n",
    "    nose_h_rate=(jaw[8][1]-nose[6][1])/(jaw[8][1]-nose[0][1])\n",
    "    nose_w_rate=(nose[4][0]-jaw[0][0])/(nose[8][0]-jaw[0][0])\n",
    "    \n",
    "#     print(jaw_angle)\n",
    "#     print(left_h_rate*left_w_rate)\n",
    "#     print(right_h_rate*right_w_rate)\n",
    "#     print(nose_h_rate*nose_w_rate)\n",
    "    \n",
    "    \n",
    "    \n",
    "    if left_h_rate*left_w_rate<0.3804347826086956:\n",
    "        left_rate=\"LA\"\n",
    "    elif left_h_rate*left_w_rate<0.41143423661599465:\n",
    "        left_rate=\"LB\"\n",
    "    elif left_h_rate*left_w_rate<0.4394907407407408:\n",
    "        left_rate=\"LC\"\n",
    "    else :\n",
    "        left_rate=\"LD\"\n",
    "        \n",
    "    if right_h_rate*right_w_rate<0.3975054020682204:\n",
    "        right_rate=\"RA\"\n",
    "    elif right_h_rate*right_w_rate<0.4238095238095238:\n",
    "        right_rate=\"RB\"\n",
    "    elif right_h_rate*right_w_rate<0.45063550673930786:\n",
    "        right_rate=\"RC\"\n",
    "    else :\n",
    "        right_rate=\"RD\"\n",
    "    \n",
    "    if nose_h_rate*nose_w_rate<0.38380308536864305:\n",
    "        nose_rate=\"NA\"\n",
    "    elif nose_h_rate*nose_w_rate<0.40012702445220705:\n",
    "        nose_rate=\"NB\"\n",
    "    elif nose_h_rate*nose_w_rate<0.4150151153383838:\n",
    "        nose_rate=\"NC\"\n",
    "    else:\n",
    "        nose_rate=\"ND\"\n",
    "    \n",
    "    if left_Eye[3][1]>left_Eye[0][1]:\n",
    "        eye_position=\"U\"\n",
    "    else:\n",
    "        eye_position=\"D\"\n",
    "    \n",
    "    result=[jaw_result,left_rate,right_rate,nose_rate,eye_position]\n",
    "    \n",
    "    \n",
    "    return result"
   ]
  },
  {
   "cell_type": "markdown",
   "id": "republican-crazy",
   "metadata": {},
   "source": [
    "- 남T, 여O 매우좋음\n",
    "- 남T, 여R 조금 좋음\n",
    "- 남R, 여O 조금 좋음\n",
    "- 남R, 여T 조금 좋음\n",
    "- 남R, 여R 조금 좋음\n",
    "- 남O, 여R 조금 좋음\n",
    "- 남O, 여T 조금 좋음"
   ]
  },
  {
   "cell_type": "code",
   "execution_count": 105,
   "id": "cosmetic-jacksonville",
   "metadata": {
    "scrolled": true
   },
   "outputs": [],
   "source": [
    "if result[0][0]==\"T\" and result[1][0]==\"O\":\n",
    "    count1=100\n",
    "elif result[0][0]==\"T\" and result[1][0]==\"R\":\n",
    "    count1=50\n",
    "elif result[0][0]==\"R\" and result[1][0]==\"O\":\n",
    "    count1=50\n",
    "elif result[0][0]==\"R\" and result[1][0]==\"T\":\n",
    "    count1=50\n",
    "elif result[0][0]==\"R\" and result[1][0]==\"R\":\n",
    "    count1=50\n",
    "elif result[0][0]==\"O\" and result[1][0]==\"R\":\n",
    "    count1=50\n",
    "elif result[0][0]==\"O\" and result[1][0]==\"T\":\n",
    "    count1=50\n",
    "else:\n",
    "    count1=30"
   ]
  },
  {
   "cell_type": "code",
   "execution_count": 106,
   "id": "complimentary-italic",
   "metadata": {},
   "outputs": [],
   "source": [
    "if result[0][1]==\"LA\" and result[1][1]==\"LA\":\n",
    "    count2=30\n",
    "elif result[0][1]==\"LA\" and result[1][1]==\"LB\":\n",
    "    count2=30\n",
    "elif result[0][1]==\"LA\" and result[1][1]==\"LC\":\n",
    "    count2=30\n",
    "elif result[0][1]==\"LA\" and result[1][1]==\"LD\":\n",
    "    count2=100\n",
    "elif result[0][1]==\"LB\" and result[1][1]==\"LA\":\n",
    "    count2=30\n",
    "elif result[0][1]==\"LB\" and result[1][1]==\"LB\":\n",
    "    count2=30\n",
    "elif result[0][1]==\"LB\" and result[1][1]==\"LC\":\n",
    "    count2=30\n",
    "elif result[0][1]==\"LB\" and result[1][1]==\"LD\":\n",
    "    count2=30\n",
    "elif result[0][1]==\"LC\" and result[1][1]==\"LA\":\n",
    "    count2=30\n",
    "elif result[0][1]==\"LC\" and result[1][1]==\"LB\":\n",
    "    count2=30\n",
    "elif result[0][1]==\"LC\" and result[1][1]==\"LC\":\n",
    "    count2=30\n",
    "elif result[0][1]==\"LC\" and result[1][1]==\"LD\":\n",
    "    count2=30\n",
    "elif result[0][1]==\"LD\" and result[1][1]==\"LA\":\n",
    "    count2=100\n",
    "elif result[0][1]==\"LD\" and result[1][1]==\"LB\":\n",
    "    count2=30\n",
    "elif result[0][1]==\"LD\" and result[1][1]==\"LC\":\n",
    "    count2=30\n",
    "elif result[0][1]==\"LD\" and result[1][1]==\"LD\":\n",
    "    count2=30"
   ]
  },
  {
   "cell_type": "code",
   "execution_count": 103,
   "id": "acoustic-professional",
   "metadata": {},
   "outputs": [],
   "source": [
    "if result[0][2]==\"RA\" and result[1][2]==\"RA\":\n",
    "    count3=30\n",
    "elif result[0][2]==\"RA\" and result[1][2]==\"RB\":\n",
    "    count3=30\n",
    "elif result[0][2]==\"RA\" and result[1][2]==\"RC\":\n",
    "    count3=30\n",
    "elif result[0][2]==\"RA\" and result[1][2]==\"RD\":\n",
    "    count3=100\n",
    "elif result[0][2]==\"RB\" and result[1][2]==\"RA\":\n",
    "    count3=30\n",
    "elif result[0][2]==\"RB\" and result[1][2]==\"RB\":\n",
    "    count3=30\n",
    "elif result[0][2]==\"RB\" and result[1][2]==\"RC\":\n",
    "    count3=30\n",
    "elif result[0][2]==\"RB\" and result[1][2]==\"RD\":\n",
    "    count3=30\n",
    "elif result[0][2]==\"RC\" and result[1][2]==\"RA\":\n",
    "    count3=30\n",
    "elif result[0][2]==\"RC\" and result[1][2]==\"RB\":\n",
    "    count3=30\n",
    "elif result[0][2]==\"RC\" and result[1][2]==\"RC\":\n",
    "    count3=30\n",
    "elif result[0][2]==\"RC\" and result[1][2]==\"RD\":\n",
    "    count3=30\n",
    "elif result[0][2]==\"RD\" and result[1][2]==\"RA\":\n",
    "    count3=100\n",
    "elif result[0][2]==\"RD\" and result[1][2]==\"RB\":\n",
    "    count3=30\n",
    "elif result[0][2]==\"RD\" and result[1][2]==\"RC\":\n",
    "    count3=30\n",
    "elif result[0][2]==\"RD\" and result[1][2]==\"RD\":\n",
    "    count3=30"
   ]
  },
  {
   "cell_type": "code",
   "execution_count": 104,
   "id": "choice-advice",
   "metadata": {},
   "outputs": [],
   "source": [
    "if result[0][3]==\"NA\" and result[1][3]==\"NA\":\n",
    "    count4=30\n",
    "elif result[0][3]==\"NA\" and result[1][3]==\"NB\":\n",
    "    count4=30\n",
    "elif result[0][3]==\"NA\" and result[1][3]==\"NC\":\n",
    "    count4=30\n",
    "elif result[0][3]==\"NA\" and result[1][3]==\"ND\":\n",
    "    count4=100\n",
    "elif result[0][3]==\"NB\" and result[1][3]==\"NA\":\n",
    "    count4=30\n",
    "elif result[0][3]==\"NB\" and result[1][3]==\"NB\":\n",
    "    count4=30\n",
    "elif result[0][3]==\"NB\" and result[1][3]==\"NC\":\n",
    "    count4=30\n",
    "elif result[0][3]==\"NB\" and result[1][3]==\"ND\":\n",
    "    count4=30\n",
    "elif result[0][3]==\"NC\" and result[1][3]==\"NA\":\n",
    "    count4=30\n",
    "elif result[0][3]==\"NC\" and result[1][3]==\"NB\":\n",
    "    count4=30\n",
    "elif result[0][3]==\"NC\" and result[1][3]==\"NC\":\n",
    "    count4=30\n",
    "elif result[0][3]==\"NC\" and result[1][3]==\"ND\":\n",
    "    count4=30\n",
    "elif result[0][3]==\"ND\" and result[1][3]==\"NA\":\n",
    "    count4=100\n",
    "elif result[0][3]==\"ND\" and result[1][3]==\"NB\":\n",
    "    count4=30\n",
    "elif result[0][3]==\"ND\" and result[1][3]==\"NC\":\n",
    "    count4=30\n",
    "elif result[0][3]==\"ND\" and result[1][3]==\"ND\":\n",
    "    count4=30"
   ]
  },
  {
   "cell_type": "code",
   "execution_count": 161,
   "id": "composed-delivery",
   "metadata": {},
   "outputs": [],
   "source": [
    "result=[]"
   ]
  },
  {
   "cell_type": "code",
   "execution_count": 157,
   "id": "distinct-estimate",
   "metadata": {},
   "outputs": [
    {
     "name": "stdout",
     "output_type": "stream",
     "text": [
      "['T', 'LD', 'RA', 'NC']\n",
      "['T', 'LC', 'RA', 'NA']\n"
     ]
    }
   ],
   "source": [
    "result.append(do_guansang(\"wun.jpg\"))\n",
    "result.append(do_guansang(\"sana.jpg\"))\n",
    "for i in range(len(result)):\n",
    "    print(result[i])"
   ]
  },
  {
   "cell_type": "code",
   "execution_count": 143,
   "id": "extensive-maintenance",
   "metadata": {},
   "outputs": [
    {
     "data": {
      "text/plain": [
       "'T'"
      ]
     },
     "execution_count": 143,
     "metadata": {},
     "output_type": "execute_result"
    }
   ],
   "source": [
    "result[0][0]"
   ]
  },
  {
   "cell_type": "code",
   "execution_count": 144,
   "id": "noted-exhaust",
   "metadata": {},
   "outputs": [
    {
     "data": {
      "text/plain": [
       "'LD'"
      ]
     },
     "execution_count": 144,
     "metadata": {},
     "output_type": "execute_result"
    }
   ],
   "source": [
    "result[0][1]"
   ]
  },
  {
   "cell_type": "code",
   "execution_count": 145,
   "id": "wanted-maria",
   "metadata": {},
   "outputs": [
    {
     "data": {
      "text/plain": [
       "'RA'"
      ]
     },
     "execution_count": 145,
     "metadata": {},
     "output_type": "execute_result"
    }
   ],
   "source": [
    "result[0][2]"
   ]
  },
  {
   "cell_type": "code",
   "execution_count": null,
   "id": "quick-treasure",
   "metadata": {},
   "outputs": [],
   "source": []
  },
  {
   "cell_type": "code",
   "execution_count": 159,
   "id": "sharing-stranger",
   "metadata": {},
   "outputs": [
    {
     "name": "stdout",
     "output_type": "stream",
     "text": [
      "['T', 'LC', 'RA', 'NA']\n",
      "['R', 'LA', 'RB', 'NA']\n"
     ]
    }
   ],
   "source": [
    "result.append(do_guansang(\"jisung2.jpg\"))\n",
    "result.append(do_guansang(\"seo.jpg\"))\n",
    "for i in range(len(result)):\n",
    "    print(result[i])"
   ]
  },
  {
   "cell_type": "code",
   "execution_count": 162,
   "id": "progressive-dietary",
   "metadata": {},
   "outputs": [
    {
     "name": "stdout",
     "output_type": "stream",
     "text": [
      "['E', 'LD', 'RA', 'NA']\n",
      "['T', 'LD', 'RA', 'NA']\n"
     ]
    }
   ],
   "source": [
    "result.append(do_guansang(\"s1.png\"))\n",
    "result.append(do_guansang(\"s2.png\"))\n",
    "for i in range(len(result)):\n",
    "    print(result[i])"
   ]
  },
  {
   "cell_type": "code",
   "execution_count": 192,
   "id": "intensive-yacht",
   "metadata": {},
   "outputs": [
    {
     "ename": "NameError",
     "evalue": "name 'count5' is not defined",
     "output_type": "error",
     "traceback": [
      "\u001b[1;31m---------------------------------------------------------------------------\u001b[0m",
      "\u001b[1;31mNameError\u001b[0m                                 Traceback (most recent call last)",
      "\u001b[1;32m<ipython-input-192-927cfb6727ca>\u001b[0m in \u001b[0;36m<module>\u001b[1;34m\u001b[0m\n\u001b[1;32m----> 1\u001b[1;33m \u001b[0mresult_number\u001b[0m\u001b[1;33m=\u001b[0m\u001b[0mcount1\u001b[0m\u001b[1;33m*\u001b[0m\u001b[1;36m0.25\u001b[0m\u001b[1;33m+\u001b[0m\u001b[0mcount2\u001b[0m\u001b[1;33m*\u001b[0m\u001b[1;36m0.125\u001b[0m\u001b[1;33m+\u001b[0m\u001b[0mcount3\u001b[0m\u001b[1;33m*\u001b[0m\u001b[1;36m0.125\u001b[0m\u001b[1;33m+\u001b[0m\u001b[0mcount4\u001b[0m\u001b[1;33m*\u001b[0m\u001b[1;36m0.25\u001b[0m\u001b[1;33m+\u001b[0m\u001b[0mcount5\u001b[0m\u001b[1;33m*\u001b[0m\u001b[1;36m0.25\u001b[0m\u001b[1;33m\u001b[0m\u001b[1;33m\u001b[0m\u001b[0m\n\u001b[0m",
      "\u001b[1;31mNameError\u001b[0m: name 'count5' is not defined"
     ]
    }
   ],
   "source": [
    "result_number=count1*0.25+count2*0.125+count3*0.125+count4*0.25+count5*0.25"
   ]
  },
  {
   "cell_type": "code",
   "execution_count": 163,
   "id": "elementary-maple",
   "metadata": {},
   "outputs": [
    {
     "data": {
      "text/plain": [
       "50"
      ]
     },
     "execution_count": 163,
     "metadata": {},
     "output_type": "execute_result"
    }
   ],
   "source": [
    "count1"
   ]
  },
  {
   "cell_type": "code",
   "execution_count": 138,
   "id": "nominated-posting",
   "metadata": {},
   "outputs": [
    {
     "data": {
      "text/plain": [
       "30"
      ]
     },
     "execution_count": 138,
     "metadata": {},
     "output_type": "execute_result"
    }
   ],
   "source": [
    "count2"
   ]
  },
  {
   "cell_type": "code",
   "execution_count": 139,
   "id": "capable-investigator",
   "metadata": {},
   "outputs": [
    {
     "data": {
      "text/plain": [
       "30"
      ]
     },
     "execution_count": 139,
     "metadata": {},
     "output_type": "execute_result"
    }
   ],
   "source": [
    "count3"
   ]
  },
  {
   "cell_type": "code",
   "execution_count": 140,
   "id": "nuclear-aside",
   "metadata": {},
   "outputs": [
    {
     "data": {
      "text/plain": [
       "30"
      ]
     },
     "execution_count": 140,
     "metadata": {},
     "output_type": "execute_result"
    }
   ],
   "source": [
    "count4"
   ]
  },
  {
   "cell_type": "code",
   "execution_count": 119,
   "id": "funny-northwest",
   "metadata": {
    "scrolled": true
   },
   "outputs": [
    {
     "data": {
      "text/plain": [
       "40.0"
      ]
     },
     "execution_count": 119,
     "metadata": {},
     "output_type": "execute_result"
    }
   ],
   "source": [
    "result_number"
   ]
  },
  {
   "cell_type": "code",
   "execution_count": 78,
   "id": "respiratory-diagram",
   "metadata": {},
   "outputs": [
    {
     "data": {
      "text/plain": [
       "'E'"
      ]
     },
     "execution_count": 78,
     "metadata": {},
     "output_type": "execute_result"
    }
   ],
   "source": [
    "result[0][0]"
   ]
  },
  {
   "cell_type": "code",
   "execution_count": 79,
   "id": "possible-pittsburgh",
   "metadata": {},
   "outputs": [
    {
     "data": {
      "text/plain": [
       "'LB'"
      ]
     },
     "execution_count": 79,
     "metadata": {},
     "output_type": "execute_result"
    }
   ],
   "source": [
    "result[0][1]"
   ]
  },
  {
   "cell_type": "code",
   "execution_count": 80,
   "id": "understanding-worthy",
   "metadata": {},
   "outputs": [
    {
     "data": {
      "text/plain": [
       "'RC'"
      ]
     },
     "execution_count": 80,
     "metadata": {},
     "output_type": "execute_result"
    }
   ],
   "source": [
    "result[0][2]"
   ]
  },
  {
   "cell_type": "code",
   "execution_count": 81,
   "id": "south-calgary",
   "metadata": {},
   "outputs": [
    {
     "data": {
      "text/plain": [
       "[['E', 'LB', 'RC', 'NB'], ['R', 'LA', 'RB', 'NA']]"
      ]
     },
     "execution_count": 81,
     "metadata": {},
     "output_type": "execute_result"
    }
   ],
   "source": [
    "result"
   ]
  },
  {
   "cell_type": "code",
   "execution_count": 165,
   "id": "concerned-debate",
   "metadata": {},
   "outputs": [
    {
     "data": {
      "text/plain": [
       "[['T', 'LD', 'RA', 'NA'], ['R', 'LA', 'RB', 'NA']]"
      ]
     },
     "execution_count": 165,
     "metadata": {},
     "output_type": "execute_result"
    }
   ],
   "source": [
    "matching(\"jisung2.jpg\",\"seo.jpg\")"
   ]
  },
  {
   "cell_type": "code",
   "execution_count": 164,
   "id": "built-montana",
   "metadata": {},
   "outputs": [],
   "source": [
    "def matching(adress1,adress2):\n",
    "    \n",
    "    result=[]\n",
    "    result.append(do_guansang(adress1))\n",
    "    result.append(do_guansang(adress2))\n",
    "    \n",
    "    return result"
   ]
  },
  {
   "cell_type": "code",
   "execution_count": 228,
   "id": "welcome-wedding",
   "metadata": {},
   "outputs": [],
   "source": [
    "def g_count(man_adress1,female_adress2):\n",
    "    result=matching(man_adress1,female_adress2)\n",
    "    \n",
    "    #턱\n",
    "    if result[0][0]==\"T\" and result[1][0]==\"O\":\n",
    "        count1=100\n",
    "    elif result[0][0]==\"T\" and result[1][0]==\"R\":\n",
    "        count1=50\n",
    "    elif result[0][0]==\"R\" and result[1][0]==\"O\":\n",
    "        count1=50\n",
    "    elif result[0][0]==\"R\" and result[1][0]==\"T\":\n",
    "        count1=50\n",
    "    elif result[0][0]==\"R\" and result[1][0]==\"R\":\n",
    "        count1=50\n",
    "    elif result[0][0]==\"O\" and result[1][0]==\"R\":\n",
    "        count1=50\n",
    "    elif result[0][0]==\"O\" and result[1][0]==\"T\":\n",
    "        count1=50\n",
    "    else:\n",
    "        count1=30\n",
    "    \n",
    "    #왼눈 10,40,70,100\n",
    "    if result[0][1]==\"LA\" and result[1][1]==\"LA\":\n",
    "        count2=10\n",
    "    elif result[0][1]==\"LA\" and result[1][1]==\"LB\":\n",
    "        count2=40\n",
    "    elif result[0][1]==\"LA\" and result[1][1]==\"LC\":\n",
    "        count2=70\n",
    "    elif result[0][1]==\"LA\" and result[1][1]==\"LD\":\n",
    "        count2=100\n",
    "    elif result[0][1]==\"LB\" and result[1][1]==\"LA\":\n",
    "        count2=40\n",
    "    elif result[0][1]==\"LB\" and result[1][1]==\"LB\":\n",
    "        count2=10\n",
    "    elif result[0][1]==\"LB\" and result[1][1]==\"LC\":\n",
    "        count2=40\n",
    "    elif result[0][1]==\"LB\" and result[1][1]==\"LD\":\n",
    "        count2=70\n",
    "    elif result[0][1]==\"LC\" and result[1][1]==\"LA\":\n",
    "        count2=70\n",
    "    elif result[0][1]==\"LC\" and result[1][1]==\"LB\":\n",
    "        count2=40\n",
    "    elif result[0][1]==\"LC\" and result[1][1]==\"LC\":\n",
    "        count2=10\n",
    "    elif result[0][1]==\"LC\" and result[1][1]==\"LD\":\n",
    "        count2=40\n",
    "    elif result[0][1]==\"LD\" and result[1][1]==\"LA\":\n",
    "        count2=100\n",
    "    elif result[0][1]==\"LD\" and result[1][1]==\"LB\":\n",
    "        count2=70\n",
    "    elif result[0][1]==\"LD\" and result[1][1]==\"LC\":\n",
    "        count2=40\n",
    "    elif result[0][1]==\"LD\" and result[1][1]==\"LD\":\n",
    "        count2=10\n",
    "    \n",
    "    #오눈\n",
    "    if result[0][2]==\"RA\" and result[1][2]==\"RA\":\n",
    "        count3=10\n",
    "    elif result[0][2]==\"RA\" and result[1][2]==\"RB\":\n",
    "        count3=40\n",
    "    elif result[0][2]==\"RA\" and result[1][2]==\"RC\":\n",
    "        count3=70\n",
    "    elif result[0][2]==\"RA\" and result[1][2]==\"RD\":\n",
    "        count3=100\n",
    "    elif result[0][2]==\"RB\" and result[1][2]==\"RA\":\n",
    "        count3=40\n",
    "    elif result[0][2]==\"RB\" and result[1][2]==\"RB\":\n",
    "        count3=10\n",
    "    elif result[0][2]==\"RB\" and result[1][2]==\"RC\":\n",
    "        count3=40\n",
    "    elif result[0][2]==\"RB\" and result[1][2]==\"RD\":\n",
    "        count3=70\n",
    "    elif result[0][2]==\"RC\" and result[1][2]==\"RA\":\n",
    "        count3=70\n",
    "    elif result[0][2]==\"RC\" and result[1][2]==\"RB\":\n",
    "        count3=40\n",
    "    elif result[0][2]==\"RC\" and result[1][2]==\"RC\":\n",
    "        count3=10\n",
    "    elif result[0][2]==\"RC\" and result[1][2]==\"RD\":\n",
    "        count3=40\n",
    "    elif result[0][2]==\"RD\" and result[1][2]==\"RA\":\n",
    "        count3=100\n",
    "    elif result[0][2]==\"RD\" and result[1][2]==\"RB\":\n",
    "        count3=70\n",
    "    elif result[0][2]==\"RD\" and result[1][2]==\"RC\":\n",
    "        count3=40\n",
    "    elif result[0][2]==\"RD\" and result[1][2]==\"RD\":\n",
    "        count3=10\n",
    "        \n",
    "    #코\n",
    "    if result[0][3]==\"NA\" and result[1][3]==\"NA\":\n",
    "        count4=10\n",
    "    elif result[0][3]==\"NA\" and result[1][3]==\"NB\":\n",
    "        count4=40\n",
    "    elif result[0][3]==\"NA\" and result[1][3]==\"NC\":\n",
    "        count4=70\n",
    "    elif result[0][3]==\"NA\" and result[1][3]==\"ND\":\n",
    "        count4=100\n",
    "    elif result[0][3]==\"NB\" and result[1][3]==\"NA\":\n",
    "        count4=40\n",
    "    elif result[0][3]==\"NB\" and result[1][3]==\"NB\":\n",
    "        count4=10\n",
    "    elif result[0][3]==\"NB\" and result[1][3]==\"NC\":\n",
    "        count4=40\n",
    "    elif result[0][3]==\"NB\" and result[1][3]==\"ND\":\n",
    "        count4=70\n",
    "    elif result[0][3]==\"NC\" and result[1][3]==\"NA\":\n",
    "        count4=70\n",
    "    elif result[0][3]==\"NC\" and result[1][3]==\"NB\":\n",
    "        count4=40\n",
    "    elif result[0][3]==\"NC\" and result[1][3]==\"NC\":\n",
    "        count4=10\n",
    "    elif result[0][3]==\"NC\" and result[1][3]==\"ND\":\n",
    "        count4=40\n",
    "    elif result[0][3]==\"ND\" and result[1][3]==\"NA\":\n",
    "        count4=100\n",
    "    elif result[0][3]==\"ND\" and result[1][3]==\"NB\":\n",
    "        count4=70\n",
    "    elif result[0][3]==\"ND\" and result[1][3]==\"NC\":\n",
    "        count4=40\n",
    "    elif result[0][3]==\"ND\" and result[1][3]==\"ND\":\n",
    "        count4=10\n",
    "    \n",
    "    #눈꼬리\n",
    "    if result[0][4]==\"U\" and result[1][4]==\"D\":\n",
    "        count5=100\n",
    "    elif result[0][4]==\"D\" and result[1][4]==\"U\":\n",
    "        count5=100\n",
    "    else:\n",
    "        count5=10\n",
    "    \n",
    "    #점수합산\n",
    "    before_result=count1*0.4+count2*0.125+count3*0.125+count4*0.25+count5*0.1\n",
    "    result_number=math.log(before_result)*21.71472409516259\n",
    "    \n",
    "    return result_number"
   ]
  },
  {
   "cell_type": "code",
   "execution_count": 195,
   "id": "damaged-grocery",
   "metadata": {},
   "outputs": [
    {
     "data": {
      "text/plain": [
       "57.5"
      ]
     },
     "execution_count": 195,
     "metadata": {},
     "output_type": "execute_result"
    }
   ],
   "source": [
    "g_count(\"jisung2.jpg\",\"seo.jpg\")"
   ]
  },
  {
   "cell_type": "code",
   "execution_count": 196,
   "id": "measured-performer",
   "metadata": {},
   "outputs": [
    {
     "data": {
      "text/plain": [
       "33.75"
      ]
     },
     "execution_count": 196,
     "metadata": {},
     "output_type": "execute_result"
    }
   ],
   "source": [
    "g_count(\"wun.jpg\",\"sana.jpg\")"
   ]
  },
  {
   "cell_type": "code",
   "execution_count": 209,
   "id": "right-adolescent",
   "metadata": {},
   "outputs": [
    {
     "data": {
      "text/plain": [
       "18.0"
      ]
     },
     "execution_count": 209,
     "metadata": {},
     "output_type": "execute_result"
    }
   ],
   "source": [
    "g_count(\"s1.png\",\"s2.png\")"
   ]
  },
  {
   "cell_type": "code",
   "execution_count": 210,
   "id": "verbal-headline",
   "metadata": {},
   "outputs": [
    {
     "data": {
      "text/plain": [
       "56.0"
      ]
     },
     "execution_count": 210,
     "metadata": {},
     "output_type": "execute_result"
    }
   ],
   "source": [
    "g_count(\"choi.png\",\"ha.png\")"
   ]
  },
  {
   "cell_type": "code",
   "execution_count": 211,
   "id": "empirical-lafayette",
   "metadata": {},
   "outputs": [
    {
     "data": {
      "text/plain": [
       "51.75"
      ]
     },
     "execution_count": 211,
     "metadata": {},
     "output_type": "execute_result"
    }
   ],
   "source": [
    "g_count(\"choi2.png\",\"ha.png\")"
   ]
  },
  {
   "cell_type": "code",
   "execution_count": 207,
   "id": "orange-buffalo",
   "metadata": {},
   "outputs": [
    {
     "data": {
      "text/plain": [
       "69.0"
      ]
     },
     "execution_count": 207,
     "metadata": {},
     "output_type": "execute_result"
    }
   ],
   "source": [
    "g_count(\"jisung2.jpg\",\"bo.png\")"
   ]
  },
  {
   "cell_type": "code",
   "execution_count": 233,
   "id": "rising-rebecca",
   "metadata": {},
   "outputs": [
    {
     "data": {
      "text/plain": [
       "2.8903717578961645"
      ]
     },
     "execution_count": 233,
     "metadata": {},
     "output_type": "execute_result"
    }
   ],
   "source": [
    "math.log(18)"
   ]
  },
  {
   "cell_type": "code",
   "execution_count": 234,
   "id": "freelance-fraud",
   "metadata": {},
   "outputs": [
    {
     "data": {
      "text/plain": [
       "4.02535169073515"
      ]
     },
     "execution_count": 234,
     "metadata": {},
     "output_type": "execute_result"
    }
   ],
   "source": [
    "math.log(56)"
   ]
  },
  {
   "cell_type": "code",
   "execution_count": 201,
   "id": "completed-costa",
   "metadata": {},
   "outputs": [
    {
     "data": {
      "text/plain": [
       "52.5"
      ]
     },
     "execution_count": 201,
     "metadata": {},
     "output_type": "execute_result"
    }
   ],
   "source": [
    "g_count(\"wun.jpg\",\"nah.png\")"
   ]
  },
  {
   "cell_type": "code",
   "execution_count": 237,
   "id": "liquid-polyester",
   "metadata": {},
   "outputs": [
    {
     "data": {
      "text/plain": [
       "100.00000000000001"
      ]
     },
     "execution_count": 237,
     "metadata": {},
     "output_type": "execute_result"
    }
   ],
   "source": [
    "math.log(100)*21.71472409516259"
   ]
  },
  {
   "cell_type": "code",
   "execution_count": 224,
   "id": "advance-interstate",
   "metadata": {},
   "outputs": [],
   "source": [
    "a=g_count(\"s1.png\",\"s2.png\")"
   ]
  },
  {
   "cell_type": "code",
   "execution_count": 225,
   "id": "medium-fever",
   "metadata": {},
   "outputs": [
    {
     "data": {
      "text/plain": [
       "18.0"
      ]
     },
     "execution_count": 225,
     "metadata": {},
     "output_type": "execute_result"
    }
   ],
   "source": [
    "a"
   ]
  },
  {
   "cell_type": "code",
   "execution_count": 226,
   "id": "discrete-elder",
   "metadata": {},
   "outputs": [],
   "source": [
    "log=math.log(a)*21.71472409516259"
   ]
  },
  {
   "cell_type": "code",
   "execution_count": 227,
   "id": "solved-momentum",
   "metadata": {},
   "outputs": [
    {
     "data": {
      "text/plain": [
       "62.7636252551653"
      ]
     },
     "execution_count": 227,
     "metadata": {},
     "output_type": "execute_result"
    }
   ],
   "source": [
    "log"
   ]
  },
  {
   "cell_type": "code",
   "execution_count": 218,
   "id": "pharmaceutical-customs",
   "metadata": {},
   "outputs": [],
   "source": [
    "b=g_count(\"jisung2.jpg\",\"bo.png\")"
   ]
  },
  {
   "cell_type": "code",
   "execution_count": 219,
   "id": "hourly-cream",
   "metadata": {},
   "outputs": [],
   "source": [
    "log2=math.log(b)*21.71472409516259"
   ]
  },
  {
   "cell_type": "code",
   "execution_count": 220,
   "id": "latin-frontier",
   "metadata": {},
   "outputs": [
    {
     "data": {
      "text/plain": [
       "80.63919283598678"
      ]
     },
     "execution_count": 220,
     "metadata": {},
     "output_type": "execute_result"
    }
   ],
   "source": [
    "log2"
   ]
  },
  {
   "cell_type": "code",
   "execution_count": 221,
   "id": "joined-situation",
   "metadata": {},
   "outputs": [],
   "source": [
    "c=g_count(\"choi.png\",\"ha.png\")"
   ]
  },
  {
   "cell_type": "code",
   "execution_count": 222,
   "id": "experimental-vision",
   "metadata": {},
   "outputs": [],
   "source": [
    "log3=math.log(c)*21.71472409516259"
   ]
  },
  {
   "cell_type": "code",
   "execution_count": 223,
   "id": "under-frame",
   "metadata": {},
   "outputs": [
    {
     "data": {
      "text/plain": [
       "87.40940135031003"
      ]
     },
     "execution_count": 223,
     "metadata": {},
     "output_type": "execute_result"
    }
   ],
   "source": [
    "log3"
   ]
  },
  {
   "cell_type": "code",
   "execution_count": 229,
   "id": "natural-dancing",
   "metadata": {},
   "outputs": [
    {
     "data": {
      "text/plain": [
       "62.7636252551653"
      ]
     },
     "execution_count": 229,
     "metadata": {},
     "output_type": "execute_result"
    }
   ],
   "source": [
    "g_count(\"s1.png\",\"s2.png\")"
   ]
  },
  {
   "cell_type": "code",
   "execution_count": 230,
   "id": "angry-judgment",
   "metadata": {},
   "outputs": [
    {
     "data": {
      "text/plain": [
       "87.98339223448153"
      ]
     },
     "execution_count": 230,
     "metadata": {},
     "output_type": "execute_result"
    }
   ],
   "source": [
    "g_count(\"jisung2.jpg\",\"bo.png\")"
   ]
  },
  {
   "cell_type": "code",
   "execution_count": 231,
   "id": "designing-shaft",
   "metadata": {},
   "outputs": [
    {
     "data": {
      "text/plain": [
       "87.40940135031003"
      ]
     },
     "execution_count": 231,
     "metadata": {},
     "output_type": "execute_result"
    }
   ],
   "source": [
    "g_count(\"choi.png\",\"ha.png\")"
   ]
  },
  {
   "cell_type": "code",
   "execution_count": 238,
   "id": "recovered-bookmark",
   "metadata": {},
   "outputs": [
    {
     "data": {
      "text/plain": [
       "87.40940135031003"
      ]
     },
     "execution_count": 238,
     "metadata": {},
     "output_type": "execute_result"
    }
   ],
   "source": [
    "g_count(\"hun.jpg\",\"bo.png\")"
   ]
  },
  {
   "cell_type": "code",
   "execution_count": 240,
   "id": "guilty-gabriel",
   "metadata": {},
   "outputs": [
    {
     "data": {
      "text/plain": [
       "84.06206186877937"
      ]
     },
     "execution_count": 240,
     "metadata": {},
     "output_type": "execute_result"
    }
   ],
   "source": [
    "g_count(\"hun.jpg\",\"suzi.png\")"
   ]
  },
  {
   "cell_type": "code",
   "execution_count": 241,
   "id": "opposite-grill",
   "metadata": {},
   "outputs": [
    {
     "data": {
      "text/plain": [
       "87.40940135031003"
      ]
     },
     "execution_count": 241,
     "metadata": {},
     "output_type": "execute_result"
    }
   ],
   "source": [
    "g_count(\"hun.jpg\",\"seo.jpg\")"
   ]
  },
  {
   "cell_type": "code",
   "execution_count": 242,
   "id": "material-maker",
   "metadata": {},
   "outputs": [
    {
     "data": {
      "text/plain": [
       "78.55631385421557"
      ]
     },
     "execution_count": 242,
     "metadata": {},
     "output_type": "execute_result"
    }
   ],
   "source": [
    "g_count(\"junsuck.jpg\",\"suzi.png\")"
   ]
  },
  {
   "cell_type": "code",
   "execution_count": 243,
   "id": "cardiac-ebony",
   "metadata": {},
   "outputs": [
    {
     "data": {
      "text/plain": [
       "82.53965198259654"
      ]
     },
     "execution_count": 243,
     "metadata": {},
     "output_type": "execute_result"
    }
   ],
   "source": [
    "g_count(\"junsuck.jpg\",\"seo.jpg\")"
   ]
  },
  {
   "cell_type": "code",
   "execution_count": 244,
   "id": "desirable-pound",
   "metadata": {},
   "outputs": [
    {
     "data": {
      "text/plain": [
       "85.90431473915459"
      ]
     },
     "execution_count": 244,
     "metadata": {},
     "output_type": "execute_result"
    }
   ],
   "source": [
    "g_count(\"junsuck.jpg\",\"bo.png\")"
   ]
  },
  {
   "cell_type": "code",
   "execution_count": 245,
   "id": "closing-accused",
   "metadata": {},
   "outputs": [
    {
     "data": {
      "text/plain": [
       "88.81689548100877"
      ]
     },
     "execution_count": 245,
     "metadata": {},
     "output_type": "execute_result"
    }
   ],
   "source": [
    "g_count(\"junsuck.jpg\",\"nara.png\")"
   ]
  },
  {
   "cell_type": "code",
   "execution_count": 246,
   "id": "european-ethnic",
   "metadata": {},
   "outputs": [
    {
     "data": {
      "text/plain": [
       "78.55631385421557"
      ]
     },
     "execution_count": 246,
     "metadata": {},
     "output_type": "execute_result"
    }
   ],
   "source": [
    "g_count(\"junsuck.jpg\",\"bin.jfif\")"
   ]
  },
  {
   "cell_type": "code",
   "execution_count": 247,
   "id": "worth-pension",
   "metadata": {},
   "outputs": [
    {
     "data": {
      "text/plain": [
       "78.55631385421557"
      ]
     },
     "execution_count": 247,
     "metadata": {},
     "output_type": "execute_result"
    }
   ],
   "source": [
    "g_count(\"junsuck.jpg\",\"minjung.jfif\")"
   ]
  },
  {
   "cell_type": "code",
   "execution_count": 248,
   "id": "liquid-recovery",
   "metadata": {},
   "outputs": [
    {
     "data": {
      "text/plain": [
       "84.28708693011318"
      ]
     },
     "execution_count": 248,
     "metadata": {},
     "output_type": "execute_result"
    }
   ],
   "source": [
    "g_count(\"junsuck.jpg\",\"gg.PNG\")"
   ]
  },
  {
   "cell_type": "code",
   "execution_count": 249,
   "id": "respected-purse",
   "metadata": {},
   "outputs": [
    {
     "data": {
      "text/plain": [
       "80.63919283598678"
      ]
     },
     "execution_count": 249,
     "metadata": {},
     "output_type": "execute_result"
    }
   ],
   "source": [
    "g_count(\"junsuck.jpg\",\"swift.PNG\")"
   ]
  },
  {
   "cell_type": "code",
   "execution_count": null,
   "id": "lightweight-eight",
   "metadata": {},
   "outputs": [],
   "source": []
  }
 ],
 "metadata": {
  "kernelspec": {
   "display_name": "Python 3",
   "language": "python",
   "name": "python3"
  },
  "language_info": {
   "codemirror_mode": {
    "name": "ipython",
    "version": 3
   },
   "file_extension": ".py",
   "mimetype": "text/x-python",
   "name": "python",
   "nbconvert_exporter": "python",
   "pygments_lexer": "ipython3",
   "version": "3.6.12"
  }
 },
 "nbformat": 4,
 "nbformat_minor": 5
}
