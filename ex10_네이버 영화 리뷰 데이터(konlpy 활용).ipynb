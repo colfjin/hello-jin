{
 "cells": [
  {
   "cell_type": "markdown",
   "metadata": {},
   "source": [
    "### Konlpy 설치"
   ]
  },
  {
   "cell_type": "code",
   "execution_count": 1,
   "metadata": {},
   "outputs": [
    {
     "name": "stdout",
     "output_type": "stream",
     "text": [
      "Python 3.8.5\n"
     ]
    }
   ],
   "source": [
    "!python --version"
   ]
  },
  {
   "cell_type": "code",
   "execution_count": 2,
   "metadata": {},
   "outputs": [
    {
     "name": "stdout",
     "output_type": "stream",
     "text": [
      "Requirement already satisfied: JPype1==1.2.0 from file:///C:/Users/SMT063/%EB%A8%B8%EC%8B%A0%EB%9F%AC%EB%8B%9D%2811%EC%9B%94%29%20%EB%B0%95%EC%84%B1%EC%A7%84/JPype1-1.2.0-cp38-cp38-win_amd64.whl in c:\\users\\smt063\\anaconda3\\lib\\site-packages (1.2.0)\n"
     ]
    }
   ],
   "source": [
    "!pip install JPype1-1.2.0-cp38-cp38-win_amd64.whl"
   ]
  },
  {
   "cell_type": "code",
   "execution_count": 3,
   "metadata": {
    "scrolled": true
   },
   "outputs": [
    {
     "name": "stdout",
     "output_type": "stream",
     "text": [
      "Requirement already satisfied: konlpy in c:\\users\\smt063\\anaconda3\\lib\\site-packages (0.5.2)\n",
      "Requirement already satisfied: tweepy>=3.7.0 in c:\\users\\smt063\\anaconda3\\lib\\site-packages (from konlpy) (3.9.0)\n",
      "Requirement already satisfied: numpy>=1.6 in c:\\users\\smt063\\anaconda3\\lib\\site-packages (from konlpy) (1.19.2)\n",
      "Requirement already satisfied: beautifulsoup4==4.6.0 in c:\\users\\smt063\\anaconda3\\lib\\site-packages (from konlpy) (4.6.0)\n",
      "Requirement already satisfied: lxml>=4.1.0 in c:\\users\\smt063\\anaconda3\\lib\\site-packages (from konlpy) (4.6.1)\n",
      "Requirement already satisfied: colorama in c:\\users\\smt063\\anaconda3\\lib\\site-packages (from konlpy) (0.4.4)\n",
      "Requirement already satisfied: JPype1>=0.7.0 in c:\\users\\smt063\\anaconda3\\lib\\site-packages (from konlpy) (1.2.0)\n",
      "Requirement already satisfied: requests-oauthlib>=0.7.0 in c:\\users\\smt063\\anaconda3\\lib\\site-packages (from tweepy>=3.7.0->konlpy) (1.3.0)\n",
      "Requirement already satisfied: six>=1.10.0 in c:\\users\\smt063\\anaconda3\\lib\\site-packages (from tweepy>=3.7.0->konlpy) (1.15.0)\n",
      "Requirement already satisfied: requests[socks]>=2.11.1 in c:\\users\\smt063\\anaconda3\\lib\\site-packages (from tweepy>=3.7.0->konlpy) (2.24.0)\n",
      "Requirement already satisfied: oauthlib>=3.0.0 in c:\\users\\smt063\\anaconda3\\lib\\site-packages (from requests-oauthlib>=0.7.0->tweepy>=3.7.0->konlpy) (3.1.0)\n",
      "Requirement already satisfied: chardet<4,>=3.0.2 in c:\\users\\smt063\\anaconda3\\lib\\site-packages (from requests[socks]>=2.11.1->tweepy>=3.7.0->konlpy) (3.0.4)\n",
      "Requirement already satisfied: urllib3!=1.25.0,!=1.25.1,<1.26,>=1.21.1 in c:\\users\\smt063\\anaconda3\\lib\\site-packages (from requests[socks]>=2.11.1->tweepy>=3.7.0->konlpy) (1.25.11)\n",
      "Requirement already satisfied: idna<3,>=2.5 in c:\\users\\smt063\\anaconda3\\lib\\site-packages (from requests[socks]>=2.11.1->tweepy>=3.7.0->konlpy) (2.10)\n",
      "Requirement already satisfied: certifi>=2017.4.17 in c:\\users\\smt063\\anaconda3\\lib\\site-packages (from requests[socks]>=2.11.1->tweepy>=3.7.0->konlpy) (2020.6.20)\n",
      "Requirement already satisfied: PySocks!=1.5.7,>=1.5.6; extra == \"socks\" in c:\\users\\smt063\\anaconda3\\lib\\site-packages (from requests[socks]>=2.11.1->tweepy>=3.7.0->konlpy) (1.7.1)\n"
     ]
    }
   ],
   "source": [
    "!pip install konlpy"
   ]
  },
  {
   "cell_type": "code",
   "execution_count": 4,
   "metadata": {},
   "outputs": [],
   "source": [
    "from konlpy.tag import Okt"
   ]
  },
  {
   "cell_type": "code",
   "execution_count": 5,
   "metadata": {},
   "outputs": [],
   "source": [
    "okt=Okt()"
   ]
  },
  {
   "cell_type": "code",
   "execution_count": 6,
   "metadata": {},
   "outputs": [
    {
     "data": {
      "text/plain": [
       "['아버지', '가', '방', '에', '들어가신다', '.']"
      ]
     },
     "execution_count": 6,
     "metadata": {},
     "output_type": "execute_result"
    }
   ],
   "source": [
    "okt.morphs(\"아버지가 방에 들어가신다.\")"
   ]
  },
  {
   "cell_type": "code",
   "execution_count": 7,
   "metadata": {},
   "outputs": [
    {
     "data": {
      "text/plain": [
       "['아버지', '가방', '에', '들어가신다', '.']"
      ]
     },
     "execution_count": 7,
     "metadata": {},
     "output_type": "execute_result"
    }
   ],
   "source": [
    "okt.morphs(\"아버지 가방에 들어가신다.\")"
   ]
  },
  {
   "cell_type": "code",
   "execution_count": 8,
   "metadata": {},
   "outputs": [
    {
     "data": {
      "text/plain": [
       "['아버지', '가', '방', '에', '들어가신다', '.']"
      ]
     },
     "execution_count": 8,
     "metadata": {},
     "output_type": "execute_result"
    }
   ],
   "source": [
    "okt.morphs(\"아버지가 방에 들어가신다.\")"
   ]
  },
  {
   "cell_type": "code",
   "execution_count": 9,
   "metadata": {},
   "outputs": [
    {
     "data": {
      "text/plain": [
       "[('아버지', 'Noun'),\n",
       " ('가', 'Josa'),\n",
       " ('방', 'Noun'),\n",
       " ('에', 'Josa'),\n",
       " ('들어가신다', 'Verb'),\n",
       " ('.', 'Punctuation')]"
      ]
     },
     "execution_count": 9,
     "metadata": {},
     "output_type": "execute_result"
    }
   ],
   "source": [
    "okt.pos(\"아버지가 방에 들어가신다.\")"
   ]
  },
  {
   "cell_type": "code",
   "execution_count": 10,
   "metadata": {},
   "outputs": [
    {
     "data": {
      "text/plain": [
       "[('시베리아', 'Noun'),\n",
       " ('벌판', 'Noun'),\n",
       " ('에서', 'Josa'),\n",
       " ('얼어', 'Verb'),\n",
       " ('죽', 'Noun'),\n",
       " ('을', 'Josa'),\n",
       " ('년', 'Noun'),\n",
       " ('같으니', 'Adjective'),\n",
       " ('옘병', 'Noun'),\n",
       " ('땀병', 'Noun'),\n",
       " ('속병', 'Noun'),\n",
       " ('에', 'Josa'),\n",
       " ('가다', 'Verb'),\n",
       " ('버릴', 'Verb'),\n",
       " ('십장생', 'Noun'),\n",
       " ('아', 'Josa'),\n",
       " ('시베리아', 'Noun'),\n",
       " ('벌판', 'Noun'),\n",
       " ('에서', 'Josa'),\n",
       " ('감귤', 'Noun'),\n",
       " ('이나', 'Josa'),\n",
       " ('까라', 'Verb'),\n",
       " ('그래', 'Adjective'),\n",
       " ('개나리', 'Noun'),\n",
       " ('나', 'Josa'),\n",
       " ('까', 'Verb'),\n",
       " ('라그', 'Noun'),\n",
       " ('래', 'Josa'),\n",
       " ('소', 'Modifier'),\n",
       " ('나리', 'Noun'),\n",
       " ('까라', 'Verb'),\n",
       " ('그래', 'Adjective'),\n",
       " ('니', 'Noun'),\n",
       " ('눈앞', 'Noun'),\n",
       " ('의', 'Josa'),\n",
       " ('내', 'Noun'),\n",
       " ('꼴', 'Noun'),\n",
       " ('이', 'Josa'),\n",
       " ('천진난만하냐', 'Adjective'),\n",
       " ('쌍', 'Noun'),\n",
       " ('화차', 'Noun'),\n",
       " ('야', 'Josa'),\n",
       " ('욕지거리', 'Noun'),\n",
       " ('토나오게', 'Verb'),\n",
       " ('들어', 'Verb'),\n",
       " ('볼', 'Noun'),\n",
       " ('래', 'Josa'),\n",
       " ('에', 'Josa'),\n",
       " ('라이', 'Noun'),\n",
       " ('시베리아', 'Noun'),\n",
       " ('쌍', 'Noun'),\n",
       " ('화차', 'Noun'),\n",
       " ('야', 'Josa'),\n",
       " ('십장생', 'Noun'),\n",
       " ('아', 'Josa'),\n",
       " ('십원', 'Noun'),\n",
       " ('짜리', 'Verb'),\n",
       " ('싸구려', 'Noun'),\n",
       " ('그림', 'Noun'),\n",
       " ('같은', 'Adjective'),\n",
       " ('씨알', 'Noun'),\n",
       " ('새야', 'Verb'),\n",
       " ('사과', 'Noun'),\n",
       " ('씨', 'Suffix'),\n",
       " ('수박', 'Noun'),\n",
       " ('씨', 'Suffix'),\n",
       " ('산딸기', 'Noun'),\n",
       " ('씨', 'Suffix'),\n",
       " ('씨발', 'Noun'),\n",
       " ('라라', 'Noun'),\n",
       " ('20', 'Number'),\n",
       " ('세기', 'Noun'),\n",
       " ('고', 'Modifier'),\n",
       " ('길동', 'Noun'),\n",
       " ('씨', 'Suffix'),\n",
       " ('발가락', 'Noun'),\n",
       " ('은', 'Josa'),\n",
       " ('십팔', 'Noun'),\n",
       " ('개', 'Suffix'),\n",
       " ('다', 'Josa'),\n",
       " ('후레지', 'Noun'),\n",
       " ('아', 'Josa'),\n",
       " ('사발면', 'Noun'),\n",
       " ('다리', 'Noun'),\n",
       " ('몽디', 'Noun'),\n",
       " ('잘라', 'Verb'),\n",
       " ('번', 'Noun'),\n",
       " ('다', 'Adverb'),\n",
       " ('신발', 'Noun'),\n",
       " ('샛길', 'Noun'),\n",
       " ('밤', 'Noun'),\n",
       " ('식빵', 'Noun'),\n",
       " ('에', 'Josa'),\n",
       " ('포도', 'Noun'),\n",
       " ('씨유', 'Noun'),\n",
       " ('바른다', 'Verb'),\n",
       " ('호랑', 'Noun'),\n",
       " ('말코', 'Noun'),\n",
       " ('볼', 'Noun'),\n",
       " ('따구를', 'Verb'),\n",
       " ('허', 'Verb'),\n",
       " ('벌나게', 'Verb'),\n",
       " ('쳐', 'Verb'),\n",
       " ('분다', 'Noun'),\n",
       " ('쌍', 'Noun'),\n",
       " ('화차', 'Noun'),\n",
       " ('를', 'Josa'),\n",
       " ('피똥', 'Noun'),\n",
       " ('싸게', 'Verb'),\n",
       " ('부어', 'Noun'),\n",
       " ('버려', 'Verb'),\n",
       " ('쌍쌍바', 'Noun'),\n",
       " ('똥꼬', 'Noun'),\n",
       " ('에서', 'Josa'),\n",
       " ('콩나물', 'Noun'),\n",
       " ('을', 'Josa'),\n",
       " ('뽑아줄까', 'Verb'),\n",
       " ('옘병', 'Noun'),\n",
       " ('땀병', 'Noun'),\n",
       " ('쌍', 'Noun'),\n",
       " ('화차', 'Noun'),\n",
       " ('야', 'Josa'),\n",
       " ('호랑말코', 'Noun'),\n",
       " ('십장생', 'Noun'),\n",
       " ('아', 'Josa'),\n",
       " ('고', 'Modifier'),\n",
       " ('길동', 'Noun'),\n",
       " ('씨', 'Suffix'),\n",
       " ('볼', 'Noun'),\n",
       " ('따구', 'Verb'),\n",
       " ('후레지', 'Noun'),\n",
       " ('아', 'Josa'),\n",
       " ('쌍쌍바', 'Noun'),\n",
       " ('신발', 'Noun'),\n",
       " ('샛길', 'Noun'),\n",
       " ('내', 'Noun'),\n",
       " ('모습', 'Noun'),\n",
       " ('이', 'Josa'),\n",
       " ('천진난만', 'Noun'),\n",
       " ('십', 'Modifier'),\n",
       " ('팔', 'Modifier'),\n",
       " ('색', 'Noun'),\n",
       " ('펜', 'Noun'),\n",
       " ('씨알', 'Noun'),\n",
       " ('새야', 'Verb'),\n",
       " ('포도', 'Noun'),\n",
       " ('씨유', 'Noun'),\n",
       " ('산딸기', 'Noun'),\n",
       " ('에', 'Josa'),\n",
       " ('라이', 'Noun'),\n",
       " ('귤', 'Noun'),\n",
       " ('까라', 'Verb'),\n",
       " ('그래', 'Adjective'),\n",
       " ('소', 'Modifier'),\n",
       " ('나리', 'Noun'),\n",
       " ('시베리아', 'Noun'),\n",
       " ('똥병', 'Noun'),\n",
       " ('수박', 'Noun'),\n",
       " ('씨', 'Noun'),\n",
       " ('를', 'Josa'),\n",
       " ('허', 'Verb'),\n",
       " ('벌나게', 'Verb'),\n",
       " ('토나오게', 'Verb'),\n",
       " ('잘라', 'Verb'),\n",
       " ('번', 'Noun'),\n",
       " ('다', 'Adverb'),\n",
       " ('사발면', 'Noun'),\n",
       " ('피똥', 'Noun'),\n",
       " ('싸게', 'Verb'),\n",
       " ('뽑아', 'Verb'),\n",
       " ('줄까', 'Verb'),\n",
       " ('씨발', 'Noun'),\n",
       " ('라라', 'Noun'),\n",
       " ('시베리아', 'Noun'),\n",
       " ('벌판', 'Noun'),\n",
       " ('에', 'Josa'),\n",
       " ('얼어', 'Verb'),\n",
       " ('죽', 'Noun'),\n",
       " ('을', 'Josa'),\n",
       " ('년', 'Noun'),\n",
       " ('같으니', 'Adjective'),\n",
       " ('옘병', 'Noun'),\n",
       " ('에', 'Josa'),\n",
       " ('땀병', 'Noun'),\n",
       " ('에', 'Josa'),\n",
       " ('속병', 'Noun'),\n",
       " ('똥병', 'Noun'),\n",
       " ('갈아', 'Adverb'),\n",
       " ('버릴', 'Verb'),\n",
       " ('십장생', 'Noun'),\n",
       " ('아', 'Josa'),\n",
       " ('시베리아', 'Noun'),\n",
       " ('벌판', 'Noun'),\n",
       " ('에서', 'Josa'),\n",
       " ('감귤', 'Noun'),\n",
       " ('이나', 'Josa'),\n",
       " ('까라', 'Verb'),\n",
       " ('그래', 'Adjective'),\n",
       " ('개나리', 'Noun'),\n",
       " ('까라', 'Verb'),\n",
       " ('그래', 'Adjective'),\n",
       " ('니', 'Noun'),\n",
       " ('눈', 'Noun'),\n",
       " ('앞', 'Noun'),\n",
       " ('의', 'Josa'),\n",
       " ('내', 'Noun'),\n",
       " ('모습', 'Noun'),\n",
       " ('이', 'Josa'),\n",
       " ('천진난만', 'Noun'),\n",
       " ('하게', 'Verb'),\n",
       " ('뵈냐', 'Verb'),\n",
       " ('똥병', 'Noun'),\n",
       " ('에', 'Josa'),\n",
       " ('싸구려', 'Noun'),\n",
       " ('에', 'Josa'),\n",
       " ('밤', 'Noun'),\n",
       " ('식빵', 'Noun'),\n",
       " ('에', 'Josa'),\n",
       " ('포도', 'Noun'),\n",
       " ('씨유', 'Noun'),\n",
       " ('에', 'Josa'),\n",
       " ('라이', 'Noun'),\n",
       " ('시베리아', 'Noun'),\n",
       " ('빌어먹을', 'Noun'),\n",
       " ('십장생', 'Noun'),\n",
       " ('아', 'Josa'),\n",
       " ('쌍쌍바', 'Noun'),\n",
       " ('씨알새', 'Noun'),\n",
       " ('에', 'Josa'),\n",
       " ('후레지', 'Noun'),\n",
       " ('아', 'Josa'),\n",
       " ('십팔', 'Noun'),\n",
       " ('색', 'Noun'),\n",
       " ('펜', 'Noun'),\n",
       " ('이', 'Noun'),\n",
       " ('게', 'Josa'),\n",
       " ('어따', 'Exclamation'),\n",
       " ('대고', 'Noun'),\n",
       " ('노다지', 'Noun'),\n",
       " ('에', 'Josa'),\n",
       " ('반말', 'Noun'),\n",
       " ('이야', 'Josa'),\n",
       " ('반말', 'Noun'),\n",
       " ('이', 'Josa'),\n",
       " ('너', 'Noun'),\n",
       " ('민증', 'Noun'),\n",
       " ('까봐', 'Eomi'),\n",
       " ('귤', 'Noun'),\n",
       " ('까라', 'Verb'),\n",
       " ('그래', 'Adjective')]"
      ]
     },
     "execution_count": 10,
     "metadata": {},
     "output_type": "execute_result"
    }
   ],
   "source": [
    "okt.pos(\"시베리아 벌판에서 얼어 죽을 년 같으니옘병 땀병 속병에 가다 버릴 십장생아 시베리아 벌판에서 감귤이나 까라 그래개나리나 까라그래 소나리 까라 그래 니 눈앞의 내 꼴이 천진난만하냐 쌍화차야 욕지거리 토나오게 들어볼래 에라이 시베리아 쌍화차야 십장생아 십원 짜리 싸구려 그림 같은 씨알새야 사과씨 수박씨 산딸기씨 씨발라라 20세기 고길동씨 발가락은 십팔개다 후레지아 사발면 다리 몽디 잘라번다 신발 샛길 밤 식빵에 포도씨유 바른다 호랑 말코 볼따구를 허벌나게 쳐분다 쌍화차를 피똥 싸게 부어버려 쌍쌍바 똥꼬에서 콩나물을 뽑아줄까 옘병 땀병 쌍화차야 호랑말코 십장생아 고길동씨 볼따구 후레지아 쌍쌍바 신발 샛길 내 모습이 천진난만 십팔색 펜 씨알새야 포도씨유 산딸기 에라이 귤 까라 그래 소나리 시베리아 똥병 수박 씨를 허벌나게 토나오게 잘라번다 사발면 피똥 싸게 뽑아 줄까 씨발라라 시베리아 벌판에 얼어 죽을 년 같으니 옘병에 땀병에 속병 똥병 갈아 버릴 십장생아 시베리아 벌판에서 감귤이나 까라 그래 개나리 까라 그래 니 눈 앞의 내 모습이 천진난만 하게 뵈냐 똥병에 싸구려에 밤식빵에 포도씨유 에라이 시베리아 빌어먹을 십장생아 쌍쌍바 씨알새에 후레지아 십팔 색 펜 이게 어따 대고 노다지에 반말이야 반말이 너 민증 까봐 귤까라 그래\")"
   ]
  },
  {
   "cell_type": "code",
   "execution_count": 11,
   "metadata": {},
   "outputs": [],
   "source": [
    "from konlpy.tag import Kkma"
   ]
  },
  {
   "cell_type": "code",
   "execution_count": 12,
   "metadata": {},
   "outputs": [],
   "source": [
    "kkma=Kkma()"
   ]
  },
  {
   "cell_type": "code",
   "execution_count": 13,
   "metadata": {},
   "outputs": [
    {
     "data": {
      "text/plain": [
       "['아버지', '가', '방', '에', '들어가', '시', 'ㄴ다', '.']"
      ]
     },
     "execution_count": 13,
     "metadata": {},
     "output_type": "execute_result"
    }
   ],
   "source": [
    "kkma.morphs(\"아버지가 방에 들어가신다.\")"
   ]
  },
  {
   "cell_type": "code",
   "execution_count": 14,
   "metadata": {},
   "outputs": [
    {
     "data": {
      "text/plain": [
       "[('아버지', 'NNG'),\n",
       " ('가', 'JKS'),\n",
       " ('방', 'NNG'),\n",
       " ('에', 'JKM'),\n",
       " ('들어가', 'VV'),\n",
       " ('시', 'EPH'),\n",
       " ('ㄴ다', 'EFN'),\n",
       " ('.', 'SF')]"
      ]
     },
     "execution_count": 14,
     "metadata": {},
     "output_type": "execute_result"
    }
   ],
   "source": [
    "kkma.pos(\"아버지가 방에 들어가신다.\")"
   ]
  },
  {
   "cell_type": "code",
   "execution_count": 15,
   "metadata": {},
   "outputs": [
    {
     "data": {
      "text/plain": [
       "[('먹', 'VV'),\n",
       " ('었', 'EPT'),\n",
       " ('다', 'EFN'),\n",
       " ('.', 'SF'),\n",
       " ('먹', 'VV'),\n",
       " ('다', 'EFN'),\n",
       " ('.', 'SF'),\n",
       " ('먹', 'VV'),\n",
       " ('는', 'ETD'),\n",
       " ('이쁘', 'VA'),\n",
       " ('ㄴ', 'ETD')]"
      ]
     },
     "execution_count": 15,
     "metadata": {},
     "output_type": "execute_result"
    }
   ],
   "source": [
    "kkma.pos(\"먹었다. 먹다. 먹는 이쁜\")"
   ]
  },
  {
   "cell_type": "markdown",
   "metadata": {},
   "source": [
    "#### Countvectorizer에 연결해서 사용하기"
   ]
  },
  {
   "cell_type": "code",
   "execution_count": 16,
   "metadata": {},
   "outputs": [],
   "source": [
    "from sklearn.feature_extraction.text import CountVectorizer"
   ]
  },
  {
   "cell_type": "code",
   "execution_count": 17,
   "metadata": {},
   "outputs": [],
   "source": [
    "countVec1=CountVectorizer()"
   ]
  },
  {
   "cell_type": "code",
   "execution_count": 18,
   "metadata": {},
   "outputs": [
    {
     "data": {
      "text/plain": [
       "CountVectorizer()"
      ]
     },
     "execution_count": 18,
     "metadata": {},
     "output_type": "execute_result"
    }
   ],
   "source": [
    "countVec1.fit([\"나는 어제 밥을 먹었다.\",\"어제 영화는 너무 재미있었다.\"])"
   ]
  },
  {
   "cell_type": "code",
   "execution_count": 32,
   "metadata": {},
   "outputs": [
    {
     "ename": "TypeError",
     "evalue": "'CountVectorizer' object is not callable",
     "output_type": "error",
     "traceback": [
      "\u001b[1;31m---------------------------------------------------------------------------\u001b[0m",
      "\u001b[1;31mTypeError\u001b[0m                                 Traceback (most recent call last)",
      "\u001b[1;32m<ipython-input-32-83d6ea46373d>\u001b[0m in \u001b[0;36m<module>\u001b[1;34m\u001b[0m\n\u001b[1;32m----> 1\u001b[1;33m \u001b[0mcountVec1\u001b[0m\u001b[1;33m(\u001b[0m\u001b[1;34m\"나는 어제 밥을 먹었다.\"\u001b[0m\u001b[1;33m)\u001b[0m\u001b[1;33m\u001b[0m\u001b[1;33m\u001b[0m\u001b[0m\n\u001b[0m",
      "\u001b[1;31mTypeError\u001b[0m: 'CountVectorizer' object is not callable"
     ]
    }
   ],
   "source": [
    "countVec1(\"나는 어제 밥을 먹었다.\")"
   ]
  },
  {
   "cell_type": "code",
   "execution_count": 19,
   "metadata": {},
   "outputs": [
    {
     "data": {
      "text/plain": [
       "{'나는': 0, '어제': 4, '밥을': 3, '먹었다': 2, '영화는': 5, '너무': 1, '재미있었다': 6}"
      ]
     },
     "execution_count": 19,
     "metadata": {},
     "output_type": "execute_result"
    }
   ],
   "source": [
    "countVec1.vocabulary_"
   ]
  },
  {
   "cell_type": "code",
   "execution_count": 20,
   "metadata": {},
   "outputs": [],
   "source": [
    "def myTokenizer(text) :\n",
    "    #pos함수를 이용해 내가 원하는 것만 고르기 가능\n",
    "    return kkma.nouns(text)"
   ]
  },
  {
   "cell_type": "code",
   "execution_count": 21,
   "metadata": {},
   "outputs": [],
   "source": [
    "countVec2=CountVectorizer(tokenizer=myTokenizer)"
   ]
  },
  {
   "cell_type": "code",
   "execution_count": 22,
   "metadata": {},
   "outputs": [
    {
     "name": "stderr",
     "output_type": "stream",
     "text": [
      "C:\\Users\\SMT063\\anaconda3\\lib\\site-packages\\sklearn\\feature_extraction\\text.py:484: UserWarning: The parameter 'token_pattern' will not be used since 'tokenizer' is not None'\n",
      "  warnings.warn(\"The parameter 'token_pattern' will not be used\"\n"
     ]
    },
    {
     "data": {
      "text/plain": [
       "CountVectorizer(tokenizer=<function myTokenizer at 0x00000180EDAE5F70>)"
      ]
     },
     "execution_count": 22,
     "metadata": {},
     "output_type": "execute_result"
    }
   ],
   "source": [
    "countVec2.fit([\"나는 어제 밥을 먹었다.\",\"어제 영화는 너무 재미있었다.\"])"
   ]
  },
  {
   "cell_type": "code",
   "execution_count": 23,
   "metadata": {},
   "outputs": [
    {
     "data": {
      "text/plain": [
       "{'나': 0, '어제': 2, '밥': 1, '영화': 3}"
      ]
     },
     "execution_count": 23,
     "metadata": {},
     "output_type": "execute_result"
    }
   ],
   "source": [
    "countVec2.vocabulary_"
   ]
  },
  {
   "cell_type": "markdown",
   "metadata": {},
   "source": [
    "#### 네이버 한글 영화 리뷰 데이터 감성분석 실습"
   ]
  },
  {
   "cell_type": "code",
   "execution_count": 24,
   "metadata": {},
   "outputs": [],
   "source": [
    "import pandas as pd"
   ]
  },
  {
   "cell_type": "code",
   "execution_count": 25,
   "metadata": {},
   "outputs": [
    {
     "data": {
      "text/html": [
       "<div>\n",
       "<style scoped>\n",
       "    .dataframe tbody tr th:only-of-type {\n",
       "        vertical-align: middle;\n",
       "    }\n",
       "\n",
       "    .dataframe tbody tr th {\n",
       "        vertical-align: top;\n",
       "    }\n",
       "\n",
       "    .dataframe thead th {\n",
       "        text-align: right;\n",
       "    }\n",
       "</style>\n",
       "<table border=\"1\" class=\"dataframe\">\n",
       "  <thead>\n",
       "    <tr style=\"text-align: right;\">\n",
       "      <th></th>\n",
       "      <th>id</th>\n",
       "      <th>document</th>\n",
       "      <th>label</th>\n",
       "    </tr>\n",
       "  </thead>\n",
       "  <tbody>\n",
       "    <tr>\n",
       "      <th>0</th>\n",
       "      <td>9976970</td>\n",
       "      <td>아 더빙.. 진짜 짜증나네요 목소리</td>\n",
       "      <td>0</td>\n",
       "    </tr>\n",
       "    <tr>\n",
       "      <th>1</th>\n",
       "      <td>3819312</td>\n",
       "      <td>흠...포스터보고 초딩영화줄....오버연기조차 가볍지 않구나</td>\n",
       "      <td>1</td>\n",
       "    </tr>\n",
       "    <tr>\n",
       "      <th>2</th>\n",
       "      <td>10265843</td>\n",
       "      <td>너무재밓었다그래서보는것을추천한다</td>\n",
       "      <td>0</td>\n",
       "    </tr>\n",
       "    <tr>\n",
       "      <th>3</th>\n",
       "      <td>9045019</td>\n",
       "      <td>교도소 이야기구먼 ..솔직히 재미는 없다..평점 조정</td>\n",
       "      <td>0</td>\n",
       "    </tr>\n",
       "    <tr>\n",
       "      <th>4</th>\n",
       "      <td>6483659</td>\n",
       "      <td>사이몬페그의 익살스런 연기가 돋보였던 영화!스파이더맨에서 늙어보이기만 했던 커스틴 ...</td>\n",
       "      <td>1</td>\n",
       "    </tr>\n",
       "  </tbody>\n",
       "</table>\n",
       "</div>"
      ],
      "text/plain": [
       "         id                                           document  label\n",
       "0   9976970                                아 더빙.. 진짜 짜증나네요 목소리      0\n",
       "1   3819312                  흠...포스터보고 초딩영화줄....오버연기조차 가볍지 않구나      1\n",
       "2  10265843                                  너무재밓었다그래서보는것을추천한다      0\n",
       "3   9045019                      교도소 이야기구먼 ..솔직히 재미는 없다..평점 조정      0\n",
       "4   6483659  사이몬페그의 익살스런 연기가 돋보였던 영화!스파이더맨에서 늙어보이기만 했던 커스틴 ...      1"
      ]
     },
     "execution_count": 25,
     "metadata": {},
     "output_type": "execute_result"
    }
   ],
   "source": [
    "text_train=pd.read_csv('./data/ratings_train.txt',delimiter='\\t')\n",
    "text_train.head()"
   ]
  },
  {
   "cell_type": "code",
   "execution_count": 26,
   "metadata": {},
   "outputs": [
    {
     "data": {
      "text/html": [
       "<div>\n",
       "<style scoped>\n",
       "    .dataframe tbody tr th:only-of-type {\n",
       "        vertical-align: middle;\n",
       "    }\n",
       "\n",
       "    .dataframe tbody tr th {\n",
       "        vertical-align: top;\n",
       "    }\n",
       "\n",
       "    .dataframe thead th {\n",
       "        text-align: right;\n",
       "    }\n",
       "</style>\n",
       "<table border=\"1\" class=\"dataframe\">\n",
       "  <thead>\n",
       "    <tr style=\"text-align: right;\">\n",
       "      <th></th>\n",
       "      <th>id</th>\n",
       "      <th>document</th>\n",
       "      <th>label</th>\n",
       "    </tr>\n",
       "  </thead>\n",
       "  <tbody>\n",
       "    <tr>\n",
       "      <th>0</th>\n",
       "      <td>6270596</td>\n",
       "      <td>굳 ㅋ</td>\n",
       "      <td>1</td>\n",
       "    </tr>\n",
       "    <tr>\n",
       "      <th>1</th>\n",
       "      <td>9274899</td>\n",
       "      <td>GDNTOPCLASSINTHECLUB</td>\n",
       "      <td>0</td>\n",
       "    </tr>\n",
       "    <tr>\n",
       "      <th>2</th>\n",
       "      <td>8544678</td>\n",
       "      <td>뭐야 이 평점들은.... 나쁘진 않지만 10점 짜리는 더더욱 아니잖아</td>\n",
       "      <td>0</td>\n",
       "    </tr>\n",
       "    <tr>\n",
       "      <th>3</th>\n",
       "      <td>6825595</td>\n",
       "      <td>지루하지는 않은데 완전 막장임... 돈주고 보기에는....</td>\n",
       "      <td>0</td>\n",
       "    </tr>\n",
       "    <tr>\n",
       "      <th>4</th>\n",
       "      <td>6723715</td>\n",
       "      <td>3D만 아니었어도 별 다섯 개 줬을텐데.. 왜 3D로 나와서 제 심기를 불편하게 하죠??</td>\n",
       "      <td>0</td>\n",
       "    </tr>\n",
       "  </tbody>\n",
       "</table>\n",
       "</div>"
      ],
      "text/plain": [
       "        id                                           document  label\n",
       "0  6270596                                                굳 ㅋ      1\n",
       "1  9274899                               GDNTOPCLASSINTHECLUB      0\n",
       "2  8544678             뭐야 이 평점들은.... 나쁘진 않지만 10점 짜리는 더더욱 아니잖아      0\n",
       "3  6825595                   지루하지는 않은데 완전 막장임... 돈주고 보기에는....      0\n",
       "4  6723715  3D만 아니었어도 별 다섯 개 줬을텐데.. 왜 3D로 나와서 제 심기를 불편하게 하죠??      0"
      ]
     },
     "execution_count": 26,
     "metadata": {},
     "output_type": "execute_result"
    }
   ],
   "source": [
    "text_test=pd.read_csv('./data/ratings_test.txt',delimiter='\\t')\n",
    "text_test.head()"
   ]
  },
  {
   "cell_type": "code",
   "execution_count": 27,
   "metadata": {},
   "outputs": [],
   "source": [
    "from sklearn.pipeline import make_pipeline"
   ]
  },
  {
   "cell_type": "code",
   "execution_count": 28,
   "metadata": {},
   "outputs": [],
   "source": [
    "from sklearn.linear_model import LogisticRegression"
   ]
  },
  {
   "cell_type": "code",
   "execution_count": 29,
   "metadata": {},
   "outputs": [
    {
     "data": {
      "text/plain": [
       "0                                       아 더빙.. 진짜 짜증나네요 목소리\n",
       "1                         흠...포스터보고 초딩영화줄....오버연기조차 가볍지 않구나\n",
       "2                                         너무재밓었다그래서보는것을추천한다\n",
       "3                             교도소 이야기구먼 ..솔직히 재미는 없다..평점 조정\n",
       "4         사이몬페그의 익살스런 연기가 돋보였던 영화!스파이더맨에서 늙어보이기만 했던 커스틴 ...\n",
       "                                ...                        \n",
       "149995                                  인간이 문제지.. 소는 뭔죄인가..\n",
       "149996                                        평점이 너무 낮아서...\n",
       "149997                      이게 뭐요? 한국인은 거들먹거리고 필리핀 혼혈은 착하다?\n",
       "149998                          청춘 영화의 최고봉.방황과 우울했던 날들의 자화상\n",
       "149999                             한국 영화 최초로 수간하는 내용이 담긴 영화\n",
       "Name: document, Length: 150000, dtype: object"
      ]
     },
     "execution_count": 29,
     "metadata": {},
     "output_type": "execute_result"
    }
   ],
   "source": [
    "text_train.loc[:,'document']"
   ]
  },
  {
   "cell_type": "code",
   "execution_count": 30,
   "metadata": {},
   "outputs": [],
   "source": [
    "document_list=[]\n",
    "for i in text_train.index:\n",
    "    document_list.append(text_train['document'][i])"
   ]
  },
  {
   "cell_type": "code",
   "execution_count": 31,
   "metadata": {},
   "outputs": [
    {
     "name": "stderr",
     "output_type": "stream",
     "text": [
      "C:\\Users\\SMT063\\anaconda3\\lib\\site-packages\\sklearn\\feature_extraction\\text.py:484: UserWarning: The parameter 'token_pattern' will not be used since 'tokenizer' is not None'\n",
      "  warnings.warn(\"The parameter 'token_pattern' will not be used\"\n"
     ]
    },
    {
     "ename": "ValueError",
     "evalue": "np.nan is an invalid document, expected byte or unicode string.",
     "output_type": "error",
     "traceback": [
      "\u001b[1;31m---------------------------------------------------------------------------\u001b[0m",
      "\u001b[1;31mValueError\u001b[0m                                Traceback (most recent call last)",
      "\u001b[1;32m<ipython-input-31-599fb02c81fb>\u001b[0m in \u001b[0;36m<module>\u001b[1;34m\u001b[0m\n\u001b[1;32m----> 1\u001b[1;33m \u001b[0mcountVec2\u001b[0m\u001b[1;33m.\u001b[0m\u001b[0mfit\u001b[0m\u001b[1;33m(\u001b[0m\u001b[0mdocument_list\u001b[0m\u001b[1;33m)\u001b[0m\u001b[1;33m\u001b[0m\u001b[1;33m\u001b[0m\u001b[0m\n\u001b[0m",
      "\u001b[1;32m~\\anaconda3\\lib\\site-packages\\sklearn\\feature_extraction\\text.py\u001b[0m in \u001b[0;36mfit\u001b[1;34m(self, raw_documents, y)\u001b[0m\n\u001b[0;32m   1163\u001b[0m         \"\"\"\n\u001b[0;32m   1164\u001b[0m         \u001b[0mself\u001b[0m\u001b[1;33m.\u001b[0m\u001b[0m_warn_for_unused_params\u001b[0m\u001b[1;33m(\u001b[0m\u001b[1;33m)\u001b[0m\u001b[1;33m\u001b[0m\u001b[1;33m\u001b[0m\u001b[0m\n\u001b[1;32m-> 1165\u001b[1;33m         \u001b[0mself\u001b[0m\u001b[1;33m.\u001b[0m\u001b[0mfit_transform\u001b[0m\u001b[1;33m(\u001b[0m\u001b[0mraw_documents\u001b[0m\u001b[1;33m)\u001b[0m\u001b[1;33m\u001b[0m\u001b[1;33m\u001b[0m\u001b[0m\n\u001b[0m\u001b[0;32m   1166\u001b[0m         \u001b[1;32mreturn\u001b[0m \u001b[0mself\u001b[0m\u001b[1;33m\u001b[0m\u001b[1;33m\u001b[0m\u001b[0m\n\u001b[0;32m   1167\u001b[0m \u001b[1;33m\u001b[0m\u001b[0m\n",
      "\u001b[1;32m~\\anaconda3\\lib\\site-packages\\sklearn\\feature_extraction\\text.py\u001b[0m in \u001b[0;36mfit_transform\u001b[1;34m(self, raw_documents, y)\u001b[0m\n\u001b[0;32m   1196\u001b[0m         \u001b[0mmax_features\u001b[0m \u001b[1;33m=\u001b[0m \u001b[0mself\u001b[0m\u001b[1;33m.\u001b[0m\u001b[0mmax_features\u001b[0m\u001b[1;33m\u001b[0m\u001b[1;33m\u001b[0m\u001b[0m\n\u001b[0;32m   1197\u001b[0m \u001b[1;33m\u001b[0m\u001b[0m\n\u001b[1;32m-> 1198\u001b[1;33m         vocabulary, X = self._count_vocab(raw_documents,\n\u001b[0m\u001b[0;32m   1199\u001b[0m                                           self.fixed_vocabulary_)\n\u001b[0;32m   1200\u001b[0m \u001b[1;33m\u001b[0m\u001b[0m\n",
      "\u001b[1;32m~\\anaconda3\\lib\\site-packages\\sklearn\\feature_extraction\\text.py\u001b[0m in \u001b[0;36m_count_vocab\u001b[1;34m(self, raw_documents, fixed_vocab)\u001b[0m\n\u001b[0;32m   1108\u001b[0m         \u001b[1;32mfor\u001b[0m \u001b[0mdoc\u001b[0m \u001b[1;32min\u001b[0m \u001b[0mraw_documents\u001b[0m\u001b[1;33m:\u001b[0m\u001b[1;33m\u001b[0m\u001b[1;33m\u001b[0m\u001b[0m\n\u001b[0;32m   1109\u001b[0m             \u001b[0mfeature_counter\u001b[0m \u001b[1;33m=\u001b[0m \u001b[1;33m{\u001b[0m\u001b[1;33m}\u001b[0m\u001b[1;33m\u001b[0m\u001b[1;33m\u001b[0m\u001b[0m\n\u001b[1;32m-> 1110\u001b[1;33m             \u001b[1;32mfor\u001b[0m \u001b[0mfeature\u001b[0m \u001b[1;32min\u001b[0m \u001b[0manalyze\u001b[0m\u001b[1;33m(\u001b[0m\u001b[0mdoc\u001b[0m\u001b[1;33m)\u001b[0m\u001b[1;33m:\u001b[0m\u001b[1;33m\u001b[0m\u001b[1;33m\u001b[0m\u001b[0m\n\u001b[0m\u001b[0;32m   1111\u001b[0m                 \u001b[1;32mtry\u001b[0m\u001b[1;33m:\u001b[0m\u001b[1;33m\u001b[0m\u001b[1;33m\u001b[0m\u001b[0m\n\u001b[0;32m   1112\u001b[0m                     \u001b[0mfeature_idx\u001b[0m \u001b[1;33m=\u001b[0m \u001b[0mvocabulary\u001b[0m\u001b[1;33m[\u001b[0m\u001b[0mfeature\u001b[0m\u001b[1;33m]\u001b[0m\u001b[1;33m\u001b[0m\u001b[1;33m\u001b[0m\u001b[0m\n",
      "\u001b[1;32m~\\anaconda3\\lib\\site-packages\\sklearn\\feature_extraction\\text.py\u001b[0m in \u001b[0;36m_analyze\u001b[1;34m(doc, analyzer, tokenizer, ngrams, preprocessor, decoder, stop_words)\u001b[0m\n\u001b[0;32m     97\u001b[0m \u001b[1;33m\u001b[0m\u001b[0m\n\u001b[0;32m     98\u001b[0m     \u001b[1;32mif\u001b[0m \u001b[0mdecoder\u001b[0m \u001b[1;32mis\u001b[0m \u001b[1;32mnot\u001b[0m \u001b[1;32mNone\u001b[0m\u001b[1;33m:\u001b[0m\u001b[1;33m\u001b[0m\u001b[1;33m\u001b[0m\u001b[0m\n\u001b[1;32m---> 99\u001b[1;33m         \u001b[0mdoc\u001b[0m \u001b[1;33m=\u001b[0m \u001b[0mdecoder\u001b[0m\u001b[1;33m(\u001b[0m\u001b[0mdoc\u001b[0m\u001b[1;33m)\u001b[0m\u001b[1;33m\u001b[0m\u001b[1;33m\u001b[0m\u001b[0m\n\u001b[0m\u001b[0;32m    100\u001b[0m     \u001b[1;32mif\u001b[0m \u001b[0manalyzer\u001b[0m \u001b[1;32mis\u001b[0m \u001b[1;32mnot\u001b[0m \u001b[1;32mNone\u001b[0m\u001b[1;33m:\u001b[0m\u001b[1;33m\u001b[0m\u001b[1;33m\u001b[0m\u001b[0m\n\u001b[0;32m    101\u001b[0m         \u001b[0mdoc\u001b[0m \u001b[1;33m=\u001b[0m \u001b[0manalyzer\u001b[0m\u001b[1;33m(\u001b[0m\u001b[0mdoc\u001b[0m\u001b[1;33m)\u001b[0m\u001b[1;33m\u001b[0m\u001b[1;33m\u001b[0m\u001b[0m\n",
      "\u001b[1;32m~\\anaconda3\\lib\\site-packages\\sklearn\\feature_extraction\\text.py\u001b[0m in \u001b[0;36mdecode\u001b[1;34m(self, doc)\u001b[0m\n\u001b[0;32m    217\u001b[0m \u001b[1;33m\u001b[0m\u001b[0m\n\u001b[0;32m    218\u001b[0m         \u001b[1;32mif\u001b[0m \u001b[0mdoc\u001b[0m \u001b[1;32mis\u001b[0m \u001b[0mnp\u001b[0m\u001b[1;33m.\u001b[0m\u001b[0mnan\u001b[0m\u001b[1;33m:\u001b[0m\u001b[1;33m\u001b[0m\u001b[1;33m\u001b[0m\u001b[0m\n\u001b[1;32m--> 219\u001b[1;33m             raise ValueError(\"np.nan is an invalid document, expected byte or \"\n\u001b[0m\u001b[0;32m    220\u001b[0m                              \"unicode string.\")\n\u001b[0;32m    221\u001b[0m \u001b[1;33m\u001b[0m\u001b[0m\n",
      "\u001b[1;31mValueError\u001b[0m: np.nan is an invalid document, expected byte or unicode string."
     ]
    }
   ],
   "source": [
    "countVec2.fit(document_list)"
   ]
  },
  {
   "cell_type": "code",
   "execution_count": 33,
   "metadata": {},
   "outputs": [
    {
     "name": "stdout",
     "output_type": "stream",
     "text": [
      "<class 'pandas.core.frame.DataFrame'>\n",
      "RangeIndex: 150000 entries, 0 to 149999\n",
      "Data columns (total 3 columns):\n",
      " #   Column    Non-Null Count   Dtype \n",
      "---  ------    --------------   ----- \n",
      " 0   id        150000 non-null  int64 \n",
      " 1   document  149995 non-null  object\n",
      " 2   label     150000 non-null  int64 \n",
      "dtypes: int64(2), object(1)\n",
      "memory usage: 3.4+ MB\n"
     ]
    }
   ],
   "source": [
    "text_train.info()"
   ]
  },
  {
   "cell_type": "code",
   "execution_count": 34,
   "metadata": {},
   "outputs": [
    {
     "name": "stdout",
     "output_type": "stream",
     "text": [
      "<class 'pandas.core.frame.DataFrame'>\n",
      "RangeIndex: 50000 entries, 0 to 49999\n",
      "Data columns (total 3 columns):\n",
      " #   Column    Non-Null Count  Dtype \n",
      "---  ------    --------------  ----- \n",
      " 0   id        50000 non-null  int64 \n",
      " 1   document  49997 non-null  object\n",
      " 2   label     50000 non-null  int64 \n",
      "dtypes: int64(2), object(1)\n",
      "memory usage: 1.1+ MB\n"
     ]
    }
   ],
   "source": [
    "text_test.info()"
   ]
  },
  {
   "cell_type": "code",
   "execution_count": 35,
   "metadata": {},
   "outputs": [],
   "source": [
    "text_train.dropna(inplace=True)\n",
    "text_test.dropna(inplace=True)"
   ]
  },
  {
   "cell_type": "code",
   "execution_count": 36,
   "metadata": {},
   "outputs": [],
   "source": [
    "X_train=text_train['document']\n",
    "y_train=text_train['label']\n",
    "X_test=text_test['document']\n",
    "y_test=text_test['label']"
   ]
  },
  {
   "cell_type": "code",
   "execution_count": 37,
   "metadata": {},
   "outputs": [],
   "source": [
    "naver_movie_pipe=make_pipeline(CountVectorizer(),LogisticRegression())"
   ]
  },
  {
   "cell_type": "code",
   "execution_count": 38,
   "metadata": {},
   "outputs": [
    {
     "name": "stderr",
     "output_type": "stream",
     "text": [
      "C:\\Users\\SMT063\\anaconda3\\lib\\site-packages\\sklearn\\linear_model\\_logistic.py:762: ConvergenceWarning: lbfgs failed to converge (status=1):\n",
      "STOP: TOTAL NO. of ITERATIONS REACHED LIMIT.\n",
      "\n",
      "Increase the number of iterations (max_iter) or scale the data as shown in:\n",
      "    https://scikit-learn.org/stable/modules/preprocessing.html\n",
      "Please also refer to the documentation for alternative solver options:\n",
      "    https://scikit-learn.org/stable/modules/linear_model.html#logistic-regression\n",
      "  n_iter_i = _check_optimize_result(\n"
     ]
    },
    {
     "data": {
      "text/plain": [
       "Pipeline(steps=[('countvectorizer', CountVectorizer()),\n",
       "                ('logisticregression', LogisticRegression())])"
      ]
     },
     "execution_count": 38,
     "metadata": {},
     "output_type": "execute_result"
    }
   ],
   "source": [
    "naver_movie_pipe.fit(X_train,y_train)"
   ]
  },
  {
   "cell_type": "code",
   "execution_count": 39,
   "metadata": {},
   "outputs": [
    {
     "data": {
      "text/plain": [
       "0.8142688561313679"
      ]
     },
     "execution_count": 39,
     "metadata": {},
     "output_type": "execute_result"
    }
   ],
   "source": [
    "naver_movie_pipe.score(X_test,y_test)"
   ]
  },
  {
   "cell_type": "code",
   "execution_count": 40,
   "metadata": {},
   "outputs": [
    {
     "data": {
      "text/plain": [
       "array([1, 0], dtype=int64)"
      ]
     },
     "execution_count": 40,
     "metadata": {},
     "output_type": "execute_result"
    }
   ],
   "source": [
    "naver_movie_pipe.predict([\"와 이 영화 너무 꿀잼 재밌네.\",\"뭐 이런 걸 돈주고 보냐\"])"
   ]
  },
  {
   "cell_type": "code",
   "execution_count": 41,
   "metadata": {},
   "outputs": [
    {
     "data": {
      "text/plain": [
       "[('countvectorizer', CountVectorizer()),\n",
       " ('logisticregression', LogisticRegression())]"
      ]
     },
     "execution_count": 41,
     "metadata": {},
     "output_type": "execute_result"
    }
   ],
   "source": [
    "naver_movie_pipe.steps"
   ]
  },
  {
   "cell_type": "code",
   "execution_count": 42,
   "metadata": {},
   "outputs": [],
   "source": [
    "logi_model=naver_movie_pipe.steps[1][1]\n",
    "count_model=naver_movie_pipe.steps[0][1]"
   ]
  },
  {
   "cell_type": "code",
   "execution_count": 43,
   "metadata": {
    "scrolled": true
   },
   "outputs": [
    {
     "data": {
      "text/html": [
       "<div>\n",
       "<style scoped>\n",
       "    .dataframe tbody tr th:only-of-type {\n",
       "        vertical-align: middle;\n",
       "    }\n",
       "\n",
       "    .dataframe tbody tr th {\n",
       "        vertical-align: top;\n",
       "    }\n",
       "\n",
       "    .dataframe thead th {\n",
       "        text-align: right;\n",
       "    }\n",
       "</style>\n",
       "<table border=\"1\" class=\"dataframe\">\n",
       "  <thead>\n",
       "    <tr style=\"text-align: right;\">\n",
       "      <th></th>\n",
       "      <th>0</th>\n",
       "      <th>1</th>\n",
       "      <th>2</th>\n",
       "      <th>3</th>\n",
       "      <th>4</th>\n",
       "      <th>5</th>\n",
       "      <th>6</th>\n",
       "      <th>7</th>\n",
       "      <th>8</th>\n",
       "      <th>9</th>\n",
       "      <th>...</th>\n",
       "      <th>293356</th>\n",
       "      <th>293357</th>\n",
       "      <th>293358</th>\n",
       "      <th>293359</th>\n",
       "      <th>293360</th>\n",
       "      <th>293361</th>\n",
       "      <th>293362</th>\n",
       "      <th>293363</th>\n",
       "      <th>293364</th>\n",
       "      <th>293365</th>\n",
       "    </tr>\n",
       "  </thead>\n",
       "  <tbody>\n",
       "    <tr>\n",
       "      <th>0</th>\n",
       "      <td>더빙</td>\n",
       "      <td>진짜</td>\n",
       "      <td>짜증나네요</td>\n",
       "      <td>목소리</td>\n",
       "      <td>포스터보고</td>\n",
       "      <td>초딩영화줄</td>\n",
       "      <td>오버연기조차</td>\n",
       "      <td>가볍지</td>\n",
       "      <td>않구나</td>\n",
       "      <td>너무재밓었다그래서보는것을추천한다</td>\n",
       "      <td>...</td>\n",
       "      <td>높아서ㅋㅋ</td>\n",
       "      <td>carl</td>\n",
       "      <td>세이건으로</td>\n",
       "      <td>디케이드</td>\n",
       "      <td>오즈인데</td>\n",
       "      <td>더블은</td>\n",
       "      <td>뭔죄인가</td>\n",
       "      <td>거들먹거리고</td>\n",
       "      <td>혼혈은</td>\n",
       "      <td>수간하는</td>\n",
       "    </tr>\n",
       "    <tr>\n",
       "      <th>1</th>\n",
       "      <td>71119</td>\n",
       "      <td>246232</td>\n",
       "      <td>248358</td>\n",
       "      <td>99567</td>\n",
       "      <td>273335</td>\n",
       "      <td>255126</td>\n",
       "      <td>190112</td>\n",
       "      <td>16352</td>\n",
       "      <td>167602</td>\n",
       "      <td>57394</td>\n",
       "      <td>...</td>\n",
       "      <td>60705</td>\n",
       "      <td>8822</td>\n",
       "      <td>143023</td>\n",
       "      <td>80079</td>\n",
       "      <td>190555</td>\n",
       "      <td>71115</td>\n",
       "      <td>105744</td>\n",
       "      <td>24486</td>\n",
       "      <td>287413</td>\n",
       "      <td>146244</td>\n",
       "    </tr>\n",
       "  </tbody>\n",
       "</table>\n",
       "<p>2 rows × 293366 columns</p>\n",
       "</div>"
      ],
      "text/plain": [
       "  0       1       2      3       4       5       6      7       8       \\\n",
       "0     더빙      진짜   짜증나네요    목소리   포스터보고   초딩영화줄  오버연기조차    가볍지     않구나   \n",
       "1  71119  246232  248358  99567  273335  255126  190112  16352  167602   \n",
       "\n",
       "              9       ... 293356 293357  293358 293359  293360 293361  293362  \\\n",
       "0  너무재밓었다그래서보는것을추천한다  ...  높아서ㅋㅋ   carl   세이건으로   디케이드    오즈인데    더블은    뭔죄인가   \n",
       "1              57394  ...  60705   8822  143023  80079  190555  71115  105744   \n",
       "\n",
       "   293363  293364  293365  \n",
       "0  거들먹거리고     혼혈은    수간하는  \n",
       "1   24486  287413  146244  \n",
       "\n",
       "[2 rows x 293366 columns]"
      ]
     },
     "execution_count": 43,
     "metadata": {},
     "output_type": "execute_result"
    }
   ],
   "source": [
    "df=pd.DataFrame([count_model.vocabulary_.keys(),\n",
    "                 count_model.vocabulary_.values()])\n",
    "df.head()"
   ]
  },
  {
   "cell_type": "code",
   "execution_count": 44,
   "metadata": {},
   "outputs": [],
   "source": [
    "df=df.T.sort_values(by=1)"
   ]
  },
  {
   "cell_type": "code",
   "execution_count": 45,
   "metadata": {},
   "outputs": [],
   "source": [
    "df['coef']=logi_model.coef_.reshape(-1)"
   ]
  },
  {
   "cell_type": "code",
   "execution_count": 46,
   "metadata": {},
   "outputs": [],
   "source": [
    "df.sort_values(by=\"coef\",inplace=True)"
   ]
  },
  {
   "cell_type": "code",
   "execution_count": 47,
   "metadata": {},
   "outputs": [
    {
     "data": {
      "text/html": [
       "<div>\n",
       "<style scoped>\n",
       "    .dataframe tbody tr th:only-of-type {\n",
       "        vertical-align: middle;\n",
       "    }\n",
       "\n",
       "    .dataframe tbody tr th {\n",
       "        vertical-align: top;\n",
       "    }\n",
       "\n",
       "    .dataframe thead th {\n",
       "        text-align: right;\n",
       "    }\n",
       "</style>\n",
       "<table border=\"1\" class=\"dataframe\">\n",
       "  <thead>\n",
       "    <tr style=\"text-align: right;\">\n",
       "      <th></th>\n",
       "      <th>0</th>\n",
       "      <th>1</th>\n",
       "      <th>coef</th>\n",
       "    </tr>\n",
       "  </thead>\n",
       "  <tbody>\n",
       "    <tr>\n",
       "      <th>1982</th>\n",
       "      <td>최악의</td>\n",
       "      <td>256927</td>\n",
       "      <td>-4.444832</td>\n",
       "    </tr>\n",
       "    <tr>\n",
       "      <th>1115</th>\n",
       "      <td>최악</td>\n",
       "      <td>256888</td>\n",
       "      <td>-3.897022</td>\n",
       "    </tr>\n",
       "    <tr>\n",
       "      <th>3490</th>\n",
       "      <td>쓰레기영화</td>\n",
       "      <td>159352</td>\n",
       "      <td>-3.782295</td>\n",
       "    </tr>\n",
       "    <tr>\n",
       "      <th>554</th>\n",
       "      <td>졸작</td>\n",
       "      <td>235972</td>\n",
       "      <td>-3.576747</td>\n",
       "    </tr>\n",
       "    <tr>\n",
       "      <th>161</th>\n",
       "      <td>재미없다</td>\n",
       "      <td>222651</td>\n",
       "      <td>-3.386241</td>\n",
       "    </tr>\n",
       "  </tbody>\n",
       "</table>\n",
       "</div>"
      ],
      "text/plain": [
       "          0       1      coef\n",
       "1982    최악의  256927 -4.444832\n",
       "1115     최악  256888 -3.897022\n",
       "3490  쓰레기영화  159352 -3.782295\n",
       "554      졸작  235972 -3.576747\n",
       "161    재미없다  222651 -3.386241"
      ]
     },
     "execution_count": 47,
     "metadata": {},
     "output_type": "execute_result"
    }
   ],
   "source": [
    "df.head()"
   ]
  },
  {
   "cell_type": "code",
   "execution_count": 48,
   "metadata": {},
   "outputs": [
    {
     "data": {
      "text/html": [
       "<div>\n",
       "<style scoped>\n",
       "    .dataframe tbody tr th:only-of-type {\n",
       "        vertical-align: middle;\n",
       "    }\n",
       "\n",
       "    .dataframe tbody tr th {\n",
       "        vertical-align: top;\n",
       "    }\n",
       "\n",
       "    .dataframe thead th {\n",
       "        text-align: right;\n",
       "    }\n",
       "</style>\n",
       "<table border=\"1\" class=\"dataframe\">\n",
       "  <thead>\n",
       "    <tr style=\"text-align: right;\">\n",
       "      <th></th>\n",
       "      <th>0</th>\n",
       "      <th>1</th>\n",
       "      <th>coef</th>\n",
       "    </tr>\n",
       "  </thead>\n",
       "  <tbody>\n",
       "    <tr>\n",
       "      <th>921</th>\n",
       "      <td>여운이</td>\n",
       "      <td>180158</td>\n",
       "      <td>2.892270</td>\n",
       "    </tr>\n",
       "    <tr>\n",
       "      <th>220</th>\n",
       "      <td>좋았어요</td>\n",
       "      <td>237604</td>\n",
       "      <td>2.929661</td>\n",
       "    </tr>\n",
       "    <tr>\n",
       "      <th>7643</th>\n",
       "      <td>10점준다</td>\n",
       "      <td>1057</td>\n",
       "      <td>2.975210</td>\n",
       "    </tr>\n",
       "    <tr>\n",
       "      <th>2144</th>\n",
       "      <td>최고다</td>\n",
       "      <td>256234</td>\n",
       "      <td>3.063762</td>\n",
       "    </tr>\n",
       "    <tr>\n",
       "      <th>409</th>\n",
       "      <td>재미있어요</td>\n",
       "      <td>223318</td>\n",
       "      <td>3.293897</td>\n",
       "    </tr>\n",
       "  </tbody>\n",
       "</table>\n",
       "</div>"
      ],
      "text/plain": [
       "          0       1      coef\n",
       "921     여운이  180158  2.892270\n",
       "220    좋았어요  237604  2.929661\n",
       "7643  10점준다    1057  2.975210\n",
       "2144    최고다  256234  3.063762\n",
       "409   재미있어요  223318  3.293897"
      ]
     },
     "execution_count": 48,
     "metadata": {},
     "output_type": "execute_result"
    }
   ],
   "source": [
    "df.tail()"
   ]
  },
  {
   "cell_type": "code",
   "execution_count": 49,
   "metadata": {},
   "outputs": [],
   "source": [
    "pos_neg_top30=pd.concat([\n",
    "    df.head(30)[[0,'coef']],\n",
    "    df.tail(30)[[0,'coef']],\n",
    "])"
   ]
  },
  {
   "cell_type": "code",
   "execution_count": 50,
   "metadata": {},
   "outputs": [],
   "source": [
    "import matplotlib.pyplot as plt\n",
    "from matplotlib import font_manager, rc\n",
    "font_name = font_manager.FontProperties(fname='C:\\Windows\\Fonts\\malgun.ttf').get_name()\n",
    "rc('font', family=font_name)"
   ]
  },
  {
   "cell_type": "code",
   "execution_count": 51,
   "metadata": {},
   "outputs": [
    {
     "data": {
      "text/html": [
       "<div>\n",
       "<style scoped>\n",
       "    .dataframe tbody tr th:only-of-type {\n",
       "        vertical-align: middle;\n",
       "    }\n",
       "\n",
       "    .dataframe tbody tr th {\n",
       "        vertical-align: top;\n",
       "    }\n",
       "\n",
       "    .dataframe thead th {\n",
       "        text-align: right;\n",
       "    }\n",
       "</style>\n",
       "<table border=\"1\" class=\"dataframe\">\n",
       "  <thead>\n",
       "    <tr style=\"text-align: right;\">\n",
       "      <th></th>\n",
       "      <th>0</th>\n",
       "      <th>coef</th>\n",
       "    </tr>\n",
       "  </thead>\n",
       "  <tbody>\n",
       "    <tr>\n",
       "      <th>1982</th>\n",
       "      <td>최악의</td>\n",
       "      <td>-4.444832</td>\n",
       "    </tr>\n",
       "    <tr>\n",
       "      <th>1115</th>\n",
       "      <td>최악</td>\n",
       "      <td>-3.897022</td>\n",
       "    </tr>\n",
       "    <tr>\n",
       "      <th>3490</th>\n",
       "      <td>쓰레기영화</td>\n",
       "      <td>-3.782295</td>\n",
       "    </tr>\n",
       "    <tr>\n",
       "      <th>554</th>\n",
       "      <td>졸작</td>\n",
       "      <td>-3.576747</td>\n",
       "    </tr>\n",
       "    <tr>\n",
       "      <th>161</th>\n",
       "      <td>재미없다</td>\n",
       "      <td>-3.386241</td>\n",
       "    </tr>\n",
       "  </tbody>\n",
       "</table>\n",
       "</div>"
      ],
      "text/plain": [
       "          0      coef\n",
       "1982    최악의 -4.444832\n",
       "1115     최악 -3.897022\n",
       "3490  쓰레기영화 -3.782295\n",
       "554      졸작 -3.576747\n",
       "161    재미없다 -3.386241"
      ]
     },
     "execution_count": 51,
     "metadata": {},
     "output_type": "execute_result"
    }
   ],
   "source": [
    "pos_neg_top30.head()"
   ]
  },
  {
   "cell_type": "code",
   "execution_count": 52,
   "metadata": {},
   "outputs": [
    {
     "name": "stderr",
     "output_type": "stream",
     "text": [
      "C:\\Users\\SMT063\\anaconda3\\lib\\site-packages\\matplotlib\\backends\\backend_agg.py:238: RuntimeWarning: Glyph 8722 missing from current font.\n",
      "  font.set_text(s, 0.0, flags=flags)\n",
      "C:\\Users\\SMT063\\anaconda3\\lib\\site-packages\\matplotlib\\backends\\backend_agg.py:201: RuntimeWarning: Glyph 8722 missing from current font.\n",
      "  font.set_text(s, 0, flags=flags)\n"
     ]
    },
    {
     "data": {
      "image/png": "[encoded data removed]",
      "text/plain": [
       "<Figure size 1440x360 with 1 Axes>"
      ]
     },
     "metadata": {
      "needs_background": "light"
     },
     "output_type": "display_data"
    }
   ],
   "source": [
    "plt.figure(figsize=(20,5))\n",
    "plt.bar(pos_neg_top30[0],pos_neg_top30['coef'])\n",
    "plt.xticks(rotation=90)\n",
    "plt.show()"
   ]
  },
  {
   "cell_type": "markdown",
   "metadata": {},
   "source": [
    "#### 모델 저장"
   ]
  },
  {
   "cell_type": "code",
   "execution_count": null,
   "metadata": {},
   "outputs": [],
   "source": [
    "import pickle #파이썬에 등장하는 모든 클래스를 원본형태로 저장"
   ]
  },
  {
   "cell_type": "code",
   "execution_count": null,
   "metadata": {},
   "outputs": [],
   "source": [
    "with open('korean_movie_sentiment_model.pkl','wb') as f:\n",
    "    pickle.dump(naver_movie_pipe,f)\n",
    "#파일 input,output을 할수 있는 함수\n",
    "#저장 위치는 현재 주피터 파일들이 있는 곳\n",
    "#wb : 바이너리 모드로 쓰겠다. rb:바이너리 모드를 읽겠다."
   ]
  },
  {
   "cell_type": "code",
   "execution_count": null,
   "metadata": {},
   "outputs": [],
   "source": []
  }
 ],
 "metadata": {
  "kernelspec": {
   "display_name": "Python 3",
   "language": "python",
   "name": "python3"
  },
  "language_info": {
   "codemirror_mode": {
    "name": "ipython",
    "version": 3
   },
   "file_extension": ".py",
   "mimetype": "text/x-python",
   "name": "python",
   "nbconvert_exporter": "python",
   "pygments_lexer": "ipython3",
   "version": "3.6.12"
  }
 },
 "nbformat": 4,
 "nbformat_minor": 4
}
