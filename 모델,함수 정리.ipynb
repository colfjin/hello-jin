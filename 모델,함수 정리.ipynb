{
 "cells": [
  {
   "cell_type": "code",
   "execution_count": 2,
   "id": "dedicated-kruger",
   "metadata": {},
   "outputs": [],
   "source": [
    "from sklearn.preprocessing import LabelEncoder\n",
    "import pandas as pd\n",
    "import seaborn as sns\n",
    "import matplotlib.pyplot as plt\n",
    "import numpy as np\n",
    "import tensorflow as tf\n",
    "import re\n",
    "from hanspell import spell_checker\n",
    "import konlpy\n",
    "from konlpy.tag import Okt\n",
    "from keras_preprocessing.text import Tokenizer\n",
    "from tensorflow.keras.layers import Embedding, Dense, LSTM\n",
    "from tensorflow.keras.models import Sequential\n",
    "from keras_preprocessing.sequence import pad_sequences\n",
    "from tensorflow.keras.callbacks import ModelCheckpoint,EarlyStopping\n",
    "from tensorflow.keras.layers import Dropout\n",
    "import math\n",
    "okt=Okt()\n",
    "import cx_Oracle\n",
    "import os\n",
    "#한글 지원 방법\n",
    "os.putenv(\"NLS_LANG\",\".UTF8\")"
   ]
  },
  {
   "cell_type": "markdown",
   "id": "tight-holmes",
   "metadata": {},
   "source": [
    "### db에서 내용 소환"
   ]
  },
  {
   "cell_type": "code",
   "execution_count": 3,
   "id": "corresponding-terminology",
   "metadata": {},
   "outputs": [],
   "source": [
    "def makeDictFactory(cursor) :\n",
    "    columnNames = [d[0] for d in cursor.description]\n",
    " \n",
    " \n",
    "    def createRow(*args):\n",
    "        return dict(zip(columnNames, args))\n",
    " \n",
    "    return createRow\n",
    "\n",
    "\n",
    "\n",
    "\n",
    "def sel_prof_sql(iD) : # select\n",
    "    with cx_Oracle.connect(\"hr/hr@localhost:1521/xe\") as conn:\n",
    "        conn = cx_Oracle.connect('hr/hr@localhost:1521/xe')\n",
    "        db = conn.cursor()\n",
    "        sql = ''' \n",
    "            select * from member_profile\n",
    "                where ID=(:n)\n",
    "                \n",
    "        '''\n",
    "        db.execute(sql, n=iD)\n",
    "        conn.commit()\n",
    "        \n",
    "        db.rowfactory = makeDictFactory(db)\n",
    "        \n",
    "        rows = db.fetchall()\n",
    "        conn.close()\n",
    "        return rows\n",
    "\n",
    "def sel_info_sql(iD) : # select\n",
    "    with cx_Oracle.connect(\"hr/hr@localhost:1521/xe\") as conn:\n",
    "        conn = cx_Oracle.connect('hr/hr@localhost:1521/xe')\n",
    "        db = conn.cursor()\n",
    "        sql = ''' \n",
    "            select * from member_info\n",
    "                where ID=(:n)\n",
    "                \n",
    "        '''\n",
    "        db.execute(sql, n=iD)\n",
    "        conn.commit()\n",
    "        \n",
    "        db.rowfactory = makeDictFactory(db)\n",
    "        \n",
    "        rows = db.fetchall()\n",
    "        conn.close()\n",
    "        return rows"
   ]
  },
  {
   "cell_type": "markdown",
   "id": "enclosed-parent",
   "metadata": {},
   "source": [
    "### 자기소개 점수 출력"
   ]
  },
  {
   "cell_type": "code",
   "execution_count": 170,
   "id": "annual-coalition",
   "metadata": {},
   "outputs": [],
   "source": [
    "from tensorflow.keras.models import load_model\n",
    "text_model=load_model('./text_model-01-0.6416.hdf5') #여기에 모델명만 같게해주면 됨"
   ]
  },
  {
   "cell_type": "code",
   "execution_count": 162,
   "id": "working-butterfly",
   "metadata": {},
   "outputs": [],
   "source": [
    "def processing(text):\n",
    "    spelled_sent = spell_checker.check(text)\n",
    "    hanspell_sent = spelled_sent.checked \n",
    "    return hanspell_sent\n",
    "\n",
    "def text_predict(sent):\n",
    "    sentence_before=[]\n",
    "    sentence_before.append(processing(sent))\n",
    "    sent_txt=[]\n",
    "    for sentence in sentence_before:\n",
    "        temp_X=[]\n",
    "        temp_X=okt.morphs(sentence)\n",
    "        sent_txt.append(temp_X)\n",
    "    \n",
    "    \n",
    "    \n",
    "    max_words=38330\n",
    "    tokenizer=Tokenizer(num_words=max_words)\n",
    "    tokenizer.fit_on_texts(sent_txt)\n",
    "    f_data=tokenizer.texts_to_sequences(sent_txt)\n",
    "    max_len=130\n",
    "    data_pad=pad_sequences(f_data,maxlen=max_len)\n",
    "    \n",
    "    import math\n",
    "    \n",
    "    score=text_model.predict(data_pad)[0][1]\n",
    "    #result=math.log(score*100)*21.71472409516259\n",
    "    #result_score=round(result,2)\n",
    "    \n",
    "    return score"
   ]
  },
  {
   "cell_type": "code",
   "execution_count": 91,
   "id": "detected-candidate",
   "metadata": {},
   "outputs": [],
   "source": [
    "def text_list(id):\n",
    "    text=[]\n",
    "    sentence=sel_prof_sql(id)[0][\"INTRODUCE\"]\n",
    "    text.append(sentence)\n",
    "    \n",
    "    return text"
   ]
  },
  {
   "cell_type": "code",
   "execution_count": 92,
   "id": "desperate-afternoon",
   "metadata": {},
   "outputs": [
    {
     "data": {
      "text/plain": [
       "['안녕하세요 친하게 지내요']"
      ]
     },
     "execution_count": 92,
     "metadata": {},
     "output_type": "execute_result"
    }
   ],
   "source": [
    "text_list('testid3')"
   ]
  },
  {
   "cell_type": "code",
   "execution_count": 89,
   "id": "balanced-malpractice",
   "metadata": {},
   "outputs": [],
   "source": [
    "Q=\"안녕하세요 잘부탁드립니다\""
   ]
  },
  {
   "cell_type": "code",
   "execution_count": 113,
   "id": "plain-status",
   "metadata": {},
   "outputs": [
    {
     "data": {
      "text/plain": [
       "74.41"
      ]
     },
     "execution_count": 113,
     "metadata": {},
     "output_type": "execute_result"
    }
   ],
   "source": [
    "text_predict(text_list('testid3')[0]) # 출력결과는 float형태(숫자)"
   ]
  },
  {
   "cell_type": "code",
   "execution_count": 163,
   "id": "unlikely-degree",
   "metadata": {},
   "outputs": [
    {
     "data": {
      "text/plain": [
       "0.21142806"
      ]
     },
     "execution_count": 163,
     "metadata": {},
     "output_type": "execute_result"
    }
   ],
   "source": [
    "text_predict(\"ㅁ\")"
   ]
  },
  {
   "cell_type": "code",
   "execution_count": 179,
   "id": "russian-musician",
   "metadata": {},
   "outputs": [],
   "source": [
    "self=\"안녕하세요. 성격은 평범하고 깔끔하고 지적인걸 좋아합니다. 같이 공연 보러다니면서 맛있는거 먹으러 다니는걸 좋아합니다. 음식은 가리는건 딱히 없습니다. 상대분은 다정다감 하셨으면 좋겠습니다. 좋은 인연 만나고 싶습니다.\""
   ]
  },
  {
   "cell_type": "code",
   "execution_count": 180,
   "id": "vocational-explanation",
   "metadata": {},
   "outputs": [
    {
     "data": {
      "text/plain": [
       "0.3923439"
      ]
     },
     "execution_count": 180,
     "metadata": {},
     "output_type": "execute_result"
    }
   ],
   "source": [
    "text_predict(self)"
   ]
  },
  {
   "cell_type": "code",
   "execution_count": 178,
   "id": "homeless-strain",
   "metadata": {},
   "outputs": [
    {
     "data": {
      "text/plain": [
       "0.3923439"
      ]
     },
     "execution_count": 178,
     "metadata": {},
     "output_type": "execute_result"
    }
   ],
   "source": [
    "text_predict(\"안녕하세요. 성격은 평범하고 깔끔하고 지적인걸 좋아합니다. 같이 공연 보러다니면서 맛있는거 먹으러 다니는걸 좋아합니다. 음식은 가리는건 딱히 없습니다. 상대분은 다정다감 하셨으면 좋겠습니다. 좋은 인연 만나고 싶습니다.\")"
   ]
  },
  {
   "cell_type": "markdown",
   "id": "advance-grace",
   "metadata": {},
   "source": [
    "### 가족소개 점수 출력"
   ]
  },
  {
   "cell_type": "code",
   "execution_count": 7,
   "id": "consolidated-phone",
   "metadata": {},
   "outputs": [],
   "source": [
    "family_model=load_model('./fam_text_model-01-0.6839.hdf5') #여기에 모델명만 같게해주면 됨"
   ]
  },
  {
   "cell_type": "code",
   "execution_count": 8,
   "id": "general-gender",
   "metadata": {},
   "outputs": [],
   "source": [
    "def family_predict(sent):\n",
    "    sentence_before=[]\n",
    "    sentence_before.append(sent)\n",
    "    sent_txt=[]\n",
    "    for sentence in sentence_before:\n",
    "        temp_X=[]\n",
    "        temp_X=okt.morphs(sentence)\n",
    "        sent_txt.append(temp_X)\n",
    "    \n",
    "    \n",
    "    \n",
    "    max_words=19300\n",
    "    tokenizer=Tokenizer(num_words=max_words)\n",
    "    tokenizer.fit_on_texts(sent_txt)\n",
    "    f_data=tokenizer.texts_to_sequences(sent_txt)\n",
    "    max_len=130\n",
    "    data_pad=pad_sequences(f_data,maxlen=max_len)\n",
    "    \n",
    "    import math\n",
    "    \n",
    "    p=family_model.predict(data_pad)[0][1]\n",
    "    \n",
    "    return p"
   ]
  },
  {
   "cell_type": "code",
   "execution_count": 9,
   "id": "traditional-stable",
   "metadata": {},
   "outputs": [],
   "source": [
    "F=\"부모님 두분과 같이 생활 하고 있습니다\""
   ]
  },
  {
   "cell_type": "code",
   "execution_count": 10,
   "id": "fifth-thought",
   "metadata": {},
   "outputs": [
    {
     "name": "stdout",
     "output_type": "stream",
     "text": [
      "WARNING:tensorflow:AutoGraph could not transform <function Model.make_predict_function.<locals>.predict_function at 0x000002395A2BA840> and will run it as-is.\n",
      "Please report this to the TensorFlow team. When filing the bug, set the verbosity to 10 (on Linux, `export AUTOGRAPH_VERBOSITY=10`) and attach the full output.\n",
      "Cause: 'arguments' object has no attribute 'posonlyargs'\n",
      "To silence this warning, decorate the function with @tf.autograph.experimental.do_not_convert\n",
      "WARNING: AutoGraph could not transform <function Model.make_predict_function.<locals>.predict_function at 0x000002395A2BA840> and will run it as-is.\n",
      "Please report this to the TensorFlow team. When filing the bug, set the verbosity to 10 (on Linux, `export AUTOGRAPH_VERBOSITY=10`) and attach the full output.\n",
      "Cause: 'arguments' object has no attribute 'posonlyargs'\n",
      "To silence this warning, decorate the function with @tf.autograph.experimental.do_not_convert\n"
     ]
    },
    {
     "data": {
      "text/plain": [
       "0.4602557"
      ]
     },
     "execution_count": 10,
     "metadata": {},
     "output_type": "execute_result"
    }
   ],
   "source": [
    "family_predict(F)# 출력결과는 float형태(숫자)"
   ]
  },
  {
   "cell_type": "markdown",
   "id": "universal-abortion",
   "metadata": {},
   "source": [
    "### 프로필 점수 출력"
   ]
  },
  {
   "cell_type": "code",
   "execution_count": 132,
   "id": "renewable-carol",
   "metadata": {},
   "outputs": [],
   "source": [
    "import pickle\n",
    "with open('profile_model.pkl','rb') as f: #모델명만 맞게 변환\n",
    "    profile_model = pickle.load(f)"
   ]
  },
  {
   "cell_type": "code",
   "execution_count": 106,
   "id": "premium-niger",
   "metadata": {},
   "outputs": [],
   "source": [
    "def make_list(id):\n",
    "    data_info=sel_info_sql(id)\n",
    "    data_profile=sel_prof_sql(id)\n",
    "    \n",
    "    list=[[data_profile[0][\"LOCATION\"],int(data_info[0][\"BIRTH\"][0:4]),\n",
    "          int(data_info[0][\"BIRTH\"][4:6]),data_profile[0][\"JOB\"],\n",
    "          data_profile[0][\"SALARY\"], data_profile[0][\"HEIGHT\"],\n",
    "          data_profile[0][\"WEIGHT\"], data_profile[0][\"BLOOD\"],\n",
    "          data_profile[0][\"RELIGION\"], data_profile[0][\"EDUCATION\"],\n",
    "          data_profile[0][\"PROPERTY\"],\n",
    "          data_profile[0][\"PARENTS\"],data_profile[0][\"SMOKE\"],\n",
    "          data_profile[0][\"DRINK\"],data_profile[0][\"MARRY_STATE\"]]]\n",
    "    \n",
    "    return list"
   ]
  },
  {
   "cell_type": "code",
   "execution_count": 166,
   "id": "imperial-retreat",
   "metadata": {},
   "outputs": [],
   "source": [
    "def profile_predict(list):   #입력값을 리스트로 묶어서 받음\n",
    "    data=pd.read_csv(\"profile2.csv\")\n",
    "    df=pd.DataFrame(list,columns=[\"mem_loc\",\"mem_birth_year\",\n",
    "                                 \"mem_birth_month\",\"mate_job\",\n",
    "                                 \"mate_ann_salary\",\"mate_height\",\n",
    "                                  \"mate_weight\",\"mate_blood\",\"mate_religion\",\n",
    "                                 \"mate_career\",\"possess_property\",\n",
    "                                 \"parents_slct\",\"smoke_slct\",\n",
    "                                 \"drink_slct\",\"mate_slct\"])\n",
    "    data1=data.append(df,ignore_index=True)\n",
    "    data1.reset_index(drop=True,inplace=True)\n",
    "    categorical_features=['mem_loc','mate_job','mate_ann_salary','mate_blood',\n",
    "                      'mate_religion','mate_career','possess_property',\n",
    "                      'parents_slct','smoke_slct','drink_slct','mate_slct']\n",
    "    for feature_name in categorical_features:\n",
    "        one_hot=pd.get_dummies(data1[feature_name],prefix=feature_name) #원핫인코딩\n",
    "        data1.drop(feature_name,axis=1,inplace=True) #기존 글자형태 컬럼 삭제\n",
    "        data1=pd.concat([data1, one_hot],axis=1) #기존 데이터에 원핫데이터 붙이기\n",
    "    \n",
    "    p=profile_model.predict_proba([data1.iloc[104]])[0][1]\n",
    "#     result=math.log(p*100)*21.71472409516259\n",
    "#     result_score=round(result,2)\n",
    "    \n",
    "    \n",
    "    return p"
   ]
  },
  {
   "cell_type": "code",
   "execution_count": 52,
   "id": "superb-frost",
   "metadata": {},
   "outputs": [
    {
     "data": {
      "text/html": [
       "<div>\n",
       "<style scoped>\n",
       "    .dataframe tbody tr th:only-of-type {\n",
       "        vertical-align: middle;\n",
       "    }\n",
       "\n",
       "    .dataframe tbody tr th {\n",
       "        vertical-align: top;\n",
       "    }\n",
       "\n",
       "    .dataframe thead th {\n",
       "        text-align: right;\n",
       "    }\n",
       "</style>\n",
       "<table border=\"1\" class=\"dataframe\">\n",
       "  <thead>\n",
       "    <tr style=\"text-align: right;\">\n",
       "      <th></th>\n",
       "      <th>mem_loc</th>\n",
       "      <th>mem_birth_year</th>\n",
       "      <th>mem_birth_month</th>\n",
       "      <th>mate_job</th>\n",
       "      <th>mate_ann_salary</th>\n",
       "      <th>mate_height</th>\n",
       "      <th>mate_weight</th>\n",
       "      <th>mate_blood</th>\n",
       "      <th>mate_religion</th>\n",
       "      <th>mate_career</th>\n",
       "      <th>wed_plan</th>\n",
       "      <th>possess_property</th>\n",
       "      <th>parents_slct</th>\n",
       "      <th>smoke_slct</th>\n",
       "      <th>drink_slct</th>\n",
       "      <th>mate_slct</th>\n",
       "    </tr>\n",
       "  </thead>\n",
       "  <tbody>\n",
       "    <tr>\n",
       "      <th>0</th>\n",
       "      <td>강원</td>\n",
       "      <td>1910</td>\n",
       "      <td>1</td>\n",
       "      <td>경영</td>\n",
       "      <td>2천대</td>\n",
       "      <td>150</td>\n",
       "      <td>50</td>\n",
       "      <td>A</td>\n",
       "      <td>기타</td>\n",
       "      <td>초,중졸</td>\n",
       "      <td>언제든지</td>\n",
       "      <td>3천미만</td>\n",
       "      <td>모두</td>\n",
       "      <td>Y</td>\n",
       "      <td>Y</td>\n",
       "      <td>Y</td>\n",
       "    </tr>\n",
       "    <tr>\n",
       "      <th>1</th>\n",
       "      <td>경기</td>\n",
       "      <td>1910</td>\n",
       "      <td>2</td>\n",
       "      <td>마케팅</td>\n",
       "      <td>3천대</td>\n",
       "      <td>160</td>\n",
       "      <td>60</td>\n",
       "      <td>B</td>\n",
       "      <td>기독교</td>\n",
       "      <td>고졸</td>\n",
       "      <td>6달</td>\n",
       "      <td>3천/7천</td>\n",
       "      <td>아버지만</td>\n",
       "      <td>N</td>\n",
       "      <td>N</td>\n",
       "      <td>N</td>\n",
       "    </tr>\n",
       "    <tr>\n",
       "      <th>2</th>\n",
       "      <td>경남</td>\n",
       "      <td>1910</td>\n",
       "      <td>3</td>\n",
       "      <td>무역</td>\n",
       "      <td>4천대</td>\n",
       "      <td>170</td>\n",
       "      <td>70</td>\n",
       "      <td>AB</td>\n",
       "      <td>불교</td>\n",
       "      <td>대학2졸</td>\n",
       "      <td>1년</td>\n",
       "      <td>7천/1억</td>\n",
       "      <td>어머니만</td>\n",
       "      <td>Y</td>\n",
       "      <td>Y</td>\n",
       "      <td>Y</td>\n",
       "    </tr>\n",
       "    <tr>\n",
       "      <th>3</th>\n",
       "      <td>경북</td>\n",
       "      <td>1910</td>\n",
       "      <td>4</td>\n",
       "      <td>유통</td>\n",
       "      <td>5천대</td>\n",
       "      <td>180</td>\n",
       "      <td>80</td>\n",
       "      <td>O</td>\n",
       "      <td>천주교</td>\n",
       "      <td>대학3졸</td>\n",
       "      <td>3달</td>\n",
       "      <td>1억/3억</td>\n",
       "      <td>작고</td>\n",
       "      <td>N</td>\n",
       "      <td>N</td>\n",
       "      <td>N</td>\n",
       "    </tr>\n",
       "    <tr>\n",
       "      <th>4</th>\n",
       "      <td>광주</td>\n",
       "      <td>1910</td>\n",
       "      <td>5</td>\n",
       "      <td>연구/개발</td>\n",
       "      <td>6천대</td>\n",
       "      <td>190</td>\n",
       "      <td>90</td>\n",
       "      <td>A</td>\n",
       "      <td>원불교</td>\n",
       "      <td>대학4졸</td>\n",
       "      <td>1달</td>\n",
       "      <td>3억/5억</td>\n",
       "      <td>고아</td>\n",
       "      <td>Y</td>\n",
       "      <td>Y</td>\n",
       "      <td>Y</td>\n",
       "    </tr>\n",
       "    <tr>\n",
       "      <th>...</th>\n",
       "      <td>...</td>\n",
       "      <td>...</td>\n",
       "      <td>...</td>\n",
       "      <td>...</td>\n",
       "      <td>...</td>\n",
       "      <td>...</td>\n",
       "      <td>...</td>\n",
       "      <td>...</td>\n",
       "      <td>...</td>\n",
       "      <td>...</td>\n",
       "      <td>...</td>\n",
       "      <td>...</td>\n",
       "      <td>...</td>\n",
       "      <td>...</td>\n",
       "      <td>...</td>\n",
       "      <td>...</td>\n",
       "    </tr>\n",
       "    <tr>\n",
       "      <th>98</th>\n",
       "      <td>경북</td>\n",
       "      <td>1910</td>\n",
       "      <td>9</td>\n",
       "      <td>축산업</td>\n",
       "      <td>1억/3억</td>\n",
       "      <td>180</td>\n",
       "      <td>70</td>\n",
       "      <td>AB</td>\n",
       "      <td>이슬람교</td>\n",
       "      <td>대학원졸</td>\n",
       "      <td>3달</td>\n",
       "      <td>30억/50억</td>\n",
       "      <td>작고</td>\n",
       "      <td>Y</td>\n",
       "      <td>Y</td>\n",
       "      <td>Y</td>\n",
       "    </tr>\n",
       "    <tr>\n",
       "      <th>99</th>\n",
       "      <td>광주</td>\n",
       "      <td>1910</td>\n",
       "      <td>10</td>\n",
       "      <td>임업</td>\n",
       "      <td>2천미만</td>\n",
       "      <td>190</td>\n",
       "      <td>80</td>\n",
       "      <td>O</td>\n",
       "      <td>힌두교</td>\n",
       "      <td>대학원재학</td>\n",
       "      <td>1달</td>\n",
       "      <td>50억/100억</td>\n",
       "      <td>고아</td>\n",
       "      <td>N</td>\n",
       "      <td>N</td>\n",
       "      <td>N</td>\n",
       "    </tr>\n",
       "    <tr>\n",
       "      <th>100</th>\n",
       "      <td>대구</td>\n",
       "      <td>1910</td>\n",
       "      <td>11</td>\n",
       "      <td>광산업</td>\n",
       "      <td>3억/5억</td>\n",
       "      <td>150</td>\n",
       "      <td>90</td>\n",
       "      <td>B</td>\n",
       "      <td>도교</td>\n",
       "      <td>대학원중퇴</td>\n",
       "      <td>1년</td>\n",
       "      <td>100억/300억</td>\n",
       "      <td>어머니만</td>\n",
       "      <td>Y</td>\n",
       "      <td>Y</td>\n",
       "      <td>Y</td>\n",
       "    </tr>\n",
       "    <tr>\n",
       "      <th>101</th>\n",
       "      <td>대전</td>\n",
       "      <td>1910</td>\n",
       "      <td>12</td>\n",
       "      <td>빅데이터</td>\n",
       "      <td>5억/10억</td>\n",
       "      <td>160</td>\n",
       "      <td>100</td>\n",
       "      <td>AB</td>\n",
       "      <td>이슬람교</td>\n",
       "      <td>박사학위</td>\n",
       "      <td>3달</td>\n",
       "      <td>300억/500억</td>\n",
       "      <td>작고</td>\n",
       "      <td>N</td>\n",
       "      <td>N</td>\n",
       "      <td>N</td>\n",
       "    </tr>\n",
       "    <tr>\n",
       "      <th>102</th>\n",
       "      <td>부산</td>\n",
       "      <td>1910</td>\n",
       "      <td>12</td>\n",
       "      <td>낙농업</td>\n",
       "      <td>10억/20억</td>\n",
       "      <td>170</td>\n",
       "      <td>67</td>\n",
       "      <td>O</td>\n",
       "      <td>힌두교</td>\n",
       "      <td>박사과정</td>\n",
       "      <td>1달</td>\n",
       "      <td>500억이상</td>\n",
       "      <td>고아</td>\n",
       "      <td>Y</td>\n",
       "      <td>Y</td>\n",
       "      <td>Y</td>\n",
       "    </tr>\n",
       "  </tbody>\n",
       "</table>\n",
       "<p>103 rows × 16 columns</p>\n",
       "</div>"
      ],
      "text/plain": [
       "    mem_loc  mem_birth_year  mem_birth_month mate_job mate_ann_salary  \\\n",
       "0        강원            1910                1       경영             2천대   \n",
       "1        경기            1910                2      마케팅             3천대   \n",
       "2        경남            1910                3       무역             4천대   \n",
       "3        경북            1910                4       유통             5천대   \n",
       "4        광주            1910                5    연구/개발             6천대   \n",
       "..      ...             ...              ...      ...             ...   \n",
       "98       경북            1910                9      축산업           1억/3억   \n",
       "99       광주            1910               10       임업            2천미만   \n",
       "100      대구            1910               11      광산업           3억/5억   \n",
       "101      대전            1910               12     빅데이터          5억/10억   \n",
       "102      부산            1910               12      낙농업         10억/20억   \n",
       "\n",
       "     mate_height  mate_weight mate_blood mate_religion mate_career wed_plan  \\\n",
       "0            150           50          A            기타        초,중졸     언제든지   \n",
       "1            160           60          B           기독교          고졸       6달   \n",
       "2            170           70         AB            불교        대학2졸       1년   \n",
       "3            180           80          O           천주교        대학3졸       3달   \n",
       "4            190           90          A           원불교        대학4졸       1달   \n",
       "..           ...          ...        ...           ...         ...      ...   \n",
       "98           180           70         AB          이슬람교        대학원졸       3달   \n",
       "99           190           80          O           힌두교       대학원재학       1달   \n",
       "100          150           90          B            도교       대학원중퇴       1년   \n",
       "101          160          100         AB          이슬람교        박사학위       3달   \n",
       "102          170           67          O           힌두교        박사과정       1달   \n",
       "\n",
       "    possess_property parents_slct smoke_slct drink_slct mate_slct  \n",
       "0               3천미만           모두          Y          Y         Y  \n",
       "1              3천/7천         아버지만          N          N         N  \n",
       "2              7천/1억         어머니만          Y          Y         Y  \n",
       "3              1억/3억           작고          N          N         N  \n",
       "4              3억/5억           고아          Y          Y         Y  \n",
       "..               ...          ...        ...        ...       ...  \n",
       "98           30억/50억           작고          Y          Y         Y  \n",
       "99          50억/100억           고아          N          N         N  \n",
       "100        100억/300억         어머니만          Y          Y         Y  \n",
       "101        300억/500억           작고          N          N         N  \n",
       "102           500억이상           고아          Y          Y         Y  \n",
       "\n",
       "[103 rows x 16 columns]"
      ]
     },
     "execution_count": 52,
     "metadata": {},
     "output_type": "execute_result"
    }
   ],
   "source": [
    "pd.read_csv(\"profile_data3.csv\")"
   ]
  },
  {
   "cell_type": "code",
   "execution_count": 168,
   "id": "addressed-phone",
   "metadata": {},
   "outputs": [],
   "source": [
    "test_list2=[[\"광주\",1990,5,\"유통/무역\",\"3천만원대\",178,80,\"B형\",\"무교\",\"대학(4년)졸\",\n",
    "     \"3천~7천 미만\",\"두분 모두 계심\",\"N\",\"N\",\"N\"]]"
   ]
  },
  {
   "cell_type": "code",
   "execution_count": 164,
   "id": "static-davis",
   "metadata": {},
   "outputs": [],
   "source": [
    "test_list=[[\"서울\",1980,1,\"경영/사무\",\"5천만원대\",172,60,\"B형\",\"무교\",\"대학(2,3년)졸\",\n",
    "     \"1억~3억 미만\",\"두분 모두 계심\",\"N\",\"N\",\"N\"]]"
   ]
  },
  {
   "cell_type": "code",
   "execution_count": 127,
   "id": "casual-bangkok",
   "metadata": {},
   "outputs": [
    {
     "data": {
      "text/plain": [
       "[{'ID': 'testid4',\n",
       "  'PW': 'pwtest4',\n",
       "  'NAME': 'nametest2',\n",
       "  'BIRTH': '19940502',\n",
       "  'GENDER': 'm',\n",
       "  'TEL': '010-1112-2423'}]"
      ]
     },
     "execution_count": 127,
     "metadata": {},
     "output_type": "execute_result"
    }
   ],
   "source": [
    "sel_info_sql('testid4')"
   ]
  },
  {
   "cell_type": "code",
   "execution_count": 21,
   "id": "monthly-place",
   "metadata": {},
   "outputs": [
    {
     "data": {
      "text/plain": [
       "[['광주',\n",
       "  1990,\n",
       "  5,\n",
       "  'it',\n",
       "  '2천미만',\n",
       "  178,\n",
       "  80,\n",
       "  'B',\n",
       "  '무교',\n",
       "  '대학4졸',\n",
       "  '언제든지',\n",
       "  '3천미만',\n",
       "  '모두',\n",
       "  'N',\n",
       "  'N',\n",
       "  'N']]"
      ]
     },
     "execution_count": 21,
     "metadata": {},
     "output_type": "execute_result"
    }
   ],
   "source": [
    "test_list"
   ]
  },
  {
   "cell_type": "code",
   "execution_count": 10,
   "id": "clinical-processing",
   "metadata": {},
   "outputs": [
    {
     "data": {
      "text/plain": [
       "16"
      ]
     },
     "execution_count": 10,
     "metadata": {},
     "output_type": "execute_result"
    }
   ],
   "source": [
    "len(test_list[0])"
   ]
  },
  {
   "cell_type": "code",
   "execution_count": 142,
   "id": "aerial-installation",
   "metadata": {
    "scrolled": false
   },
   "outputs": [
    {
     "data": {
      "text/plain": [
       "89.2"
      ]
     },
     "execution_count": 142,
     "metadata": {},
     "output_type": "execute_result"
    }
   ],
   "source": [
    "profile_predict(test_list)  #결과 숫자로 반환"
   ]
  },
  {
   "cell_type": "code",
   "execution_count": 177,
   "id": "generic-induction",
   "metadata": {},
   "outputs": [
    {
     "name": "stdout",
     "output_type": "stream",
     "text": [
      "[['서울', 1994, 5, '유통/무역', '3천만원대', '176', '70', 'A형', '무교', '고졸', '3천~7천 미만', '두분 모두 계심', 'N', 'Y', 'N']] "
     ]
    }
   ],
   "source": [
    "make_list('testid4')\n",
    "print(make_list(\"testid4\"),end=\" \")"
   ]
  },
  {
   "cell_type": "code",
   "execution_count": 138,
   "id": "disturbed-procurement",
   "metadata": {},
   "outputs": [
    {
     "data": {
      "text/plain": [
       "[['광주',\n",
       "  1990,\n",
       "  5,\n",
       "  '유통/무역',\n",
       "  '3천만원대',\n",
       "  178,\n",
       "  80,\n",
       "  'B',\n",
       "  '무교',\n",
       "  '대학4졸',\n",
       "  '3천~7천 미만',\n",
       "  '두분 모두 계심',\n",
       "  'N',\n",
       "  'N',\n",
       "  'N']]"
      ]
     },
     "execution_count": 138,
     "metadata": {},
     "output_type": "execute_result"
    }
   ],
   "source": [
    "test_list"
   ]
  },
  {
   "cell_type": "code",
   "execution_count": 154,
   "id": "broad-switch",
   "metadata": {
    "scrolled": true
   },
   "outputs": [
    {
     "data": {
      "text/plain": [
       "95.49"
      ]
     },
     "execution_count": 154,
     "metadata": {},
     "output_type": "execute_result"
    }
   ],
   "source": [
    "profile_predict(make_list('testid4'))"
   ]
  },
  {
   "cell_type": "code",
   "execution_count": 165,
   "id": "technical-comfort",
   "metadata": {},
   "outputs": [
    {
     "data": {
      "text/plain": [
       "72.83"
      ]
     },
     "execution_count": 165,
     "metadata": {},
     "output_type": "execute_result"
    }
   ],
   "source": [
    "profile_predict(test_list)"
   ]
  },
  {
   "cell_type": "markdown",
   "id": "destroyed-people",
   "metadata": {},
   "source": [
    "### 자기소개 글만 따로 빼오기"
   ]
  },
  {
   "cell_type": "code",
   "execution_count": null,
   "id": "fitted-hello",
   "metadata": {},
   "outputs": [],
   "source": []
  },
  {
   "cell_type": "markdown",
   "id": "polished-wholesale",
   "metadata": {},
   "source": [
    "### 프로필 매력도(총 점수 계산)"
   ]
  },
  {
   "cell_type": "code",
   "execution_count": 29,
   "id": "fixed-symbol",
   "metadata": {},
   "outputs": [],
   "source": [
    "def charming_score(sent,list):\n",
    "    score1=text_predict(sent)\n",
    "    score2=profile_predict(list)\n",
    "    result=score1*0.5+score2*0.5\n",
    "    score=math.log(result*100)*21.71472409516259\n",
    "    result_score=round(score,2)\n",
    "    \n",
    "    return result_score"
   ]
  },
  {
   "cell_type": "code",
   "execution_count": 14,
   "id": "romance-visiting",
   "metadata": {},
   "outputs": [
    {
     "name": "stdout",
     "output_type": "stream",
     "text": [
      "WARNING:tensorflow:AutoGraph could not transform <function Model.make_predict_function.<locals>.predict_function at 0x000001F236EB6D08> and will run it as-is.\n",
      "Please report this to the TensorFlow team. When filing the bug, set the verbosity to 10 (on Linux, `export AUTOGRAPH_VERBOSITY=10`) and attach the full output.\n",
      "Cause: 'arguments' object has no attribute 'posonlyargs'\n",
      "To silence this warning, decorate the function with @tf.autograph.experimental.do_not_convert\n",
      "WARNING: AutoGraph could not transform <function Model.make_predict_function.<locals>.predict_function at 0x000001F236EB6D08> and will run it as-is.\n",
      "Please report this to the TensorFlow team. When filing the bug, set the verbosity to 10 (on Linux, `export AUTOGRAPH_VERBOSITY=10`) and attach the full output.\n",
      "Cause: 'arguments' object has no attribute 'posonlyargs'\n",
      "To silence this warning, decorate the function with @tf.autograph.experimental.do_not_convert\n"
     ]
    },
    {
     "data": {
      "text/plain": [
       "81.44"
      ]
     },
     "execution_count": 14,
     "metadata": {},
     "output_type": "execute_result"
    }
   ],
   "source": [
    "charming_score(Q,test_list)"
   ]
  },
  {
   "cell_type": "code",
   "execution_count": 172,
   "id": "featured-ceramic",
   "metadata": {},
   "outputs": [
    {
     "data": {
      "text/plain": [
       "76.64"
      ]
     },
     "execution_count": 172,
     "metadata": {},
     "output_type": "execute_result"
    }
   ],
   "source": [
    "charming_score(\"ㅁ\",test_list)"
   ]
  },
  {
   "cell_type": "code",
   "execution_count": 171,
   "id": "nutritional-harvard",
   "metadata": {},
   "outputs": [
    {
     "name": "stdout",
     "output_type": "stream",
     "text": [
      "WARNING:tensorflow:AutoGraph could not transform <function Model.make_predict_function.<locals>.predict_function at 0x000001F22F737A60> and will run it as-is.\n",
      "Please report this to the TensorFlow team. When filing the bug, set the verbosity to 10 (on Linux, `export AUTOGRAPH_VERBOSITY=10`) and attach the full output.\n",
      "Cause: 'arguments' object has no attribute 'posonlyargs'\n",
      "To silence this warning, decorate the function with @tf.autograph.experimental.do_not_convert\n",
      "WARNING: AutoGraph could not transform <function Model.make_predict_function.<locals>.predict_function at 0x000001F22F737A60> and will run it as-is.\n",
      "Please report this to the TensorFlow team. When filing the bug, set the verbosity to 10 (on Linux, `export AUTOGRAPH_VERBOSITY=10`) and attach the full output.\n",
      "Cause: 'arguments' object has no attribute 'posonlyargs'\n",
      "To silence this warning, decorate the function with @tf.autograph.experimental.do_not_convert\n"
     ]
    },
    {
     "data": {
      "text/plain": [
       "85.04"
      ]
     },
     "execution_count": 171,
     "metadata": {},
     "output_type": "execute_result"
    }
   ],
   "source": [
    "charming_score(\"안녕하세요\",test_list2)"
   ]
  },
  {
   "cell_type": "code",
   "execution_count": 70,
   "id": "muslim-reception",
   "metadata": {},
   "outputs": [
    {
     "data": {
      "text/plain": [
       "'안녕하세요 친하게 지내요'"
      ]
     },
     "execution_count": 70,
     "metadata": {},
     "output_type": "execute_result"
    }
   ],
   "source": [
    "sel_prof_sql('testid2')[0][\"INTRODUCE\"]"
   ]
  },
  {
   "cell_type": "code",
   "execution_count": 100,
   "id": "starting-watch",
   "metadata": {
    "scrolled": true
   },
   "outputs": [
    {
     "data": {
      "text/plain": [
       "[['서울',\n",
       "  1994,\n",
       "  5,\n",
       "  '유통/무역',\n",
       "  '3천만원대',\n",
       "  '176',\n",
       "  '70',\n",
       "  'A형',\n",
       "  '무교',\n",
       "  '고졸',\n",
       "  '3천~7천 미만',\n",
       "  '두분 모두 계심',\n",
       "  'N',\n",
       "  'Y',\n",
       "  'N']]"
      ]
     },
     "execution_count": 100,
     "metadata": {},
     "output_type": "execute_result"
    }
   ],
   "source": [
    "make_list('testid4')"
   ]
  },
  {
   "cell_type": "code",
   "execution_count": 20,
   "id": "elect-works",
   "metadata": {},
   "outputs": [
    {
     "data": {
      "text/plain": [
       "16"
      ]
     },
     "execution_count": 20,
     "metadata": {},
     "output_type": "execute_result"
    }
   ],
   "source": [
    "len(make_list('testid2')[0])"
   ]
  },
  {
   "cell_type": "code",
   "execution_count": 75,
   "id": "conservative-acoustic",
   "metadata": {
    "scrolled": true
   },
   "outputs": [
    {
     "data": {
      "text/plain": [
       "80.36"
      ]
     },
     "execution_count": 75,
     "metadata": {},
     "output_type": "execute_result"
    }
   ],
   "source": [
    "charming_score('안녕하세요 친하게 지내요',test_list)"
   ]
  },
  {
   "cell_type": "code",
   "execution_count": 68,
   "id": "golden-cricket",
   "metadata": {},
   "outputs": [],
   "source": [
    "def profile_result(id):\n",
    "    test=make_list(id)\n",
    "    sentence=sel_prof_sql(id)[0][\"INTRODUCE\"]\n",
    "    \n",
    "    result=charming_score(sentence,test)\n",
    "    \n",
    "    return result"
   ]
  },
  {
   "cell_type": "code",
   "execution_count": 79,
   "id": "optical-nature",
   "metadata": {
    "scrolled": true
   },
   "outputs": [
    {
     "data": {
      "text/plain": [
       "70.96"
      ]
     },
     "execution_count": 79,
     "metadata": {},
     "output_type": "execute_result"
    }
   ],
   "source": [
    "charming_score('안녕하세요 친하게 지내요',make_list('testid3'))"
   ]
  },
  {
   "cell_type": "code",
   "execution_count": 80,
   "id": "micro-wagon",
   "metadata": {
    "scrolled": true
   },
   "outputs": [
    {
     "data": {
      "text/plain": [
       "70.96"
      ]
     },
     "execution_count": 80,
     "metadata": {},
     "output_type": "execute_result"
    }
   ],
   "source": [
    "profile_result('testid3')"
   ]
  },
  {
   "cell_type": "code",
   "execution_count": 81,
   "id": "metric-venue",
   "metadata": {
    "scrolled": true
   },
   "outputs": [
    {
     "data": {
      "text/plain": [
       "70.96"
      ]
     },
     "execution_count": 81,
     "metadata": {},
     "output_type": "execute_result"
    }
   ],
   "source": [
    "charming_score(sel_prof_sql('testid3')[0][\"INTRODUCE\"],make_list('testid3'))"
   ]
  },
  {
   "cell_type": "markdown",
   "id": "super-clothing",
   "metadata": {},
   "source": [
    "### 관상"
   ]
  },
  {
   "cell_type": "code",
   "execution_count": 144,
   "id": "announced-pharmaceutical",
   "metadata": {},
   "outputs": [],
   "source": [
    "from collections import OrderedDict\n",
    "import numpy as np\n",
    "import cv2\n",
    "import argparse\n",
    "import dlib\n",
    "import imutils\n",
    "import math"
   ]
  },
  {
   "cell_type": "code",
   "execution_count": 157,
   "id": "satisfactory-mailman",
   "metadata": {},
   "outputs": [],
   "source": [
    "facial_features_cordinates={}\n",
    "\n",
    "FACIAL_LANDMARKS_INDEXES = OrderedDict([\n",
    "    (\"Mouth\", (48, 68)),\n",
    "    (\"Right_Eyebrow\", (17, 22)),\n",
    "    (\"Left_Eyebrow\", (22, 27)),\n",
    "    (\"Right_Eye\", (36, 42)),\n",
    "    (\"Left_Eye\", (42, 48)),\n",
    "    (\"Nose\", (27, 36)),\n",
    "    (\"Jaw\", (0, 17))\n",
    "])\n",
    "\n",
    "\n",
    "def shape_to_numpy_array(shape, dtype=\"int\"):\n",
    "    \n",
    "\n",
    "    # initialize the list of (x, y)-coordinates\n",
    "    coordinates = np.zeros((68, 2), dtype=dtype)\n",
    "\n",
    "    # loop over the 68 facial landmarks and convert them\n",
    "    # to a 2-tuple of (x, y)-coordinates\n",
    "    for i in range(0, 68):\n",
    "        coordinates[i] = (shape.part(i).x, shape.part(i).y)\n",
    "\n",
    "    \n",
    "\n",
    "    # return the list of (x, y)-coordinates\n",
    "    return coordinates\n",
    "\n",
    "def visualize_facial_landmarks(image, shape, colors=None, alpha=0.75):\n",
    "\n",
    "    \n",
    "\n",
    "    # create two copies of the input image -- one for the\n",
    "    # overlay and one for the final output image\n",
    "    overlay = image.copy()\n",
    "    output = image.copy()\n",
    "\n",
    "    \n",
    "\n",
    "    # if the colors list is None, initialize it with a unique\n",
    "\n",
    "    # color for each facial landmark region\n",
    "    if colors is None:\n",
    "        colors = [(19, 199, 109), (79, 76, 240), (230, 159, 23),\n",
    "                  (168, 100, 168), (158, 163, 32),\n",
    "                  (163, 38, 32), (180, 42, 220)]\n",
    "\n",
    "    \n",
    "\n",
    "    # loop over the facial landmark regions individually\n",
    "    for (i, name) in enumerate(FACIAL_LANDMARKS_INDEXES.keys()):\n",
    "        \n",
    "\n",
    "        # grab the (x, y)-coordinates associated with the\n",
    "        # face landmark\n",
    "        (j, k) = FACIAL_LANDMARKS_INDEXES[name]\n",
    "\n",
    "        \n",
    "\n",
    "        pts = shape[j:k]\n",
    "        facial_features_cordinates[name] = pts\n",
    "\n",
    "        \n",
    "\n",
    "    # apply the transparent overlay\n",
    "    cv2.addWeighted(overlay, alpha, output, 1 - alpha, 0, output)\n",
    "\n",
    "    # return the output image\n",
    "    #print(facial_features_cordinates)\n",
    "    return output\n",
    "\n",
    "def __angle_between(p1,p2): #두점 사이의 각도:(getAngle3P계산용) 시계방향으로 계산.P1-(0,0)\n",
    "    ang1=np.arctan2(*p1[::-1])\n",
    "    ang2=np.arctan2(*p2[::-1])\n",
    "    res=np.rad2deg((ang1-ang2)%(2*np.pi))\n",
    "    return res\n",
    "\n",
    "def getAngle4P(p1, p2, p3, p4, direction=\"CW\"): # 네점 사이의 각도 4-3 / 2-1: 1->2-> .... 4->3 으로 그려지는 각도\n",
    "        pt1 = (p1[0] - p2[0], p1[1] - p2[1])              # 3 <- 4 <- V <-2<-1 으로 그려지는 각도\n",
    "        pt2 = (p3[0] - p4[0], p3[1] - p4[1])        \n",
    "        res = __angle_between(pt1, pt2)\n",
    "        res = (res + 360) % 360\n",
    "        if direction == \"CCW\":    #반시계방향\n",
    "            res = (360 - res) % 360\n",
    "        return res\n",
    "    \n",
    "def do_guansang(address):\n",
    "    detector = dlib.get_frontal_face_detector()\n",
    "    predictor = dlib.shape_predictor('shape_predictor_68_face_landmarks.dat')\n",
    "    #이미지 입력(주소 받아서)\n",
    "    image = cv2.imread(address)\n",
    "\n",
    "    image = imutils.resize(image, width=500)\n",
    "    gray = cv2.cvtColor(image, cv2.COLOR_BGR2GRAY)\n",
    "    \n",
    "    rects = detector(gray, 1)\n",
    "    #얼굴에 특징 점 지정작업\n",
    "    for (i, rect) in enumerate(rects):\n",
    "    \n",
    "\n",
    "    # determine the facial landmarks for the face region, then\n",
    "    # convert the landmark (x, y)-coordinates to a NumPy array\n",
    "        shape = predictor(gray, rect)\n",
    "        shape = shape_to_numpy_array(shape)\n",
    "\n",
    "    \n",
    "\n",
    "        output = visualize_facial_landmarks(image, shape)\n",
    "    \n",
    "    #턱밑각 추출 \n",
    "    jaw=facial_features_cordinates[\"Jaw\"]\n",
    "    \n",
    "    point1=jaw[5]\n",
    "    point2=jaw[6]\n",
    "    point3=jaw[10]\n",
    "    point4=jaw[11]\n",
    "    \n",
    "    face_angle=getAngle4P((point1[1],point1[0]),(point2[1],point2[0]),(point4[1],point4[0]),(point3[1],point3[0]),\"CW\")\n",
    "    \n",
    "    jaw_angle=(180-face_angle)/2 \n",
    "    \n",
    "    if jaw_angle<38:\n",
    "        jaw_result=\"각진형\"\n",
    "    elif jaw_angle<43:\n",
    "        jaw_result=\"역삼각형\"\n",
    "    elif jaw_angle<46:\n",
    "        jaw_result=\"둥근형\"\n",
    "    else:\n",
    "        jaw_result=\"각진형\"\n",
    "    \n",
    "    #눈,코 비율\n",
    "    right_Eye=facial_features_cordinates[\"Right_Eye\"]\n",
    "    left_Eye=facial_features_cordinates[\"Left_Eye\"]\n",
    "    nose=facial_features_cordinates[\"Nose\"]\n",
    "    \n",
    "    left_h_rate=(jaw[8][1]-left_Eye[5][1])/(jaw[8][1]-left_Eye[2][1])\n",
    "    left_w_rate=(jaw[8][0]-left_Eye[0][0])/(jaw[8][0]-left_Eye[3][0])\n",
    "    right_h_rate=(jaw[8][1]-right_Eye[5][1])/(jaw[8][1]-right_Eye[2][1])\n",
    "    right_w_rate=(right_Eye[3][0]-jaw[8][0])/(right_Eye[0][0]-jaw[8][0])\n",
    "    nose_h_rate=(jaw[8][1]-nose[6][1])/(jaw[8][1]-nose[0][1])\n",
    "    nose_w_rate=(nose[4][0]-jaw[0][0])/(nose[8][0]-jaw[0][0])\n",
    "    \n",
    "#     print(jaw_angle)\n",
    "#     print(left_h_rate*left_w_rate)\n",
    "#     print(right_h_rate*right_w_rate)\n",
    "#     print(nose_h_rate*nose_w_rate)\n",
    "    \n",
    "    \n",
    "    \n",
    "#     if left_h_rate*left_w_rate<0.3804347826086956:\n",
    "#         left_rate=\"LA\"\n",
    "#     elif left_h_rate*left_w_rate<0.41143423661599465:\n",
    "#         left_rate=\"LB\"\n",
    "#     elif left_h_rate*left_w_rate<0.4394907407407408:\n",
    "#         left_rate=\"LC\"\n",
    "#     else :\n",
    "#         left_rate=\"LD\"\n",
    "        \n",
    "#     if right_h_rate*right_w_rate<0.3975054020682204:\n",
    "#         right_rate=\"RA\"\n",
    "#     elif right_h_rate*right_w_rate<0.4238095238095238:\n",
    "#         right_rate=\"RB\"\n",
    "#     elif right_h_rate*right_w_rate<0.45063550673930786:\n",
    "#         right_rate=\"RC\"\n",
    "#     else :\n",
    "#         right_rate=\"RD\"\n",
    "    \n",
    "    #눈 1사분면 기준:(0.3804347826086956+0.3975054020682204)/2, 0.38043478\n",
    "    #눈 2사분면 기준:(0.41143423661599465+0.4238095238095238)/2, 0.41762185\n",
    "    #눈 3사분면 기준:(0.4394907407407408+0.45063550673930786)/2, 0.4450631\n",
    "    G_eye=(left_h_rate*left_w_rate+right_h_rate*right_w_rate)/2\n",
    "    \n",
    "    #결과는 G_eye*100로\n",
    "    if G_eye<0.38043478:\n",
    "        eye_degree=\"EA\"\n",
    "    elif G_eye<41762185:\n",
    "        eye_degree=\"EB\"\n",
    "    elif G_eye<0.4450631:\n",
    "        eye_degree=\"EC\"\n",
    "    else:\n",
    "        eye_degree=\"ED\"\n",
    "    \n",
    "    \n",
    "#     if nose_h_rate*nose_w_rate<0.38380308536864305:\n",
    "#         nose_rate=\"NA\"\n",
    "#     elif nose_h_rate*nose_w_rate<0.40012702445220705:\n",
    "#         nose_rate=\"NB\"\n",
    "#     elif nose_h_rate*nose_w_rate<0.4150151153383838:\n",
    "#         nose_rate=\"NC\"\n",
    "#     else:\n",
    "#         nose_rate=\"ND\"\n",
    "    if nose_h_rate*nose_w_rate<0.38380308536864305:\n",
    "        nose_degree=\"NA\"\n",
    "    elif nose_h_rate*nose_w_rate<0.40012702445220705:\n",
    "        nose_degree=\"NB\"\n",
    "    elif nose_h_rate*nose_w_rate<0.4150151153383838:\n",
    "        nose_degree=\"NC\"\n",
    "    else:\n",
    "        nose_degree=\"ND\"\n",
    "    G_nose=nose_h_rate*nose_w_rate\n",
    "    \n",
    "    \n",
    "    if left_Eye[3][1]>left_Eye[0][1]:\n",
    "        eye_position=\"올라간 눈매\"\n",
    "    else:\n",
    "        eye_position=\"내려간 눈매\"\n",
    "    \n",
    "    #result=[jaw_result,left_rate,right_rate,nose_rate,eye_position]\n",
    "    result=[jaw_result,G_eye,G_nose,eye_position,eye_degree,nose_degree]\n",
    "    \n",
    "    \n",
    "    return result\n",
    "\n",
    "def matching(adress1,adress2):\n",
    "    \n",
    "    result=[]\n",
    "    result.append(do_guansang(adress1))\n",
    "    result.append(do_guansang(adress2))\n",
    "    \n",
    "    return result\n",
    "\n",
    "def g_count(man_adress1,female_adress2):\n",
    "    result=matching(man_adress1,female_adress2)\n",
    "    \n",
    "    #턱\n",
    "    if result[0][0]==\"역삼각형\" and result[1][0]==\"둥근형\":\n",
    "        count1=100\n",
    "    elif result[0][0]==\"역삼각형\" and result[1][0]==\"각진형\":\n",
    "        count1=50\n",
    "    elif result[0][0]==\"각진형\" and result[1][0]==\"둥근형\":\n",
    "        count1=50\n",
    "    elif result[0][0]==\"각진형\" and result[1][0]==\"역삼각형\":\n",
    "        count1=50\n",
    "    elif result[0][0]==\"각진형\" and result[1][0]==\"각진형\":\n",
    "        count1=50\n",
    "    elif result[0][0]==\"둥근형\" and result[1][0]==\"각진형\":\n",
    "        count1=50\n",
    "    elif result[0][0]==\"둥근형\" and result[1][0]==\"역삼각형\":\n",
    "        count1=50\n",
    "    else:\n",
    "        count1=30\n",
    "    \n",
    "#     #왼눈 10,40,70,100\n",
    "#     if result[0][1]==\"LA\" and result[1][1]==\"LA\":\n",
    "#         count2=10\n",
    "#     elif result[0][1]==\"LA\" and result[1][1]==\"LB\":\n",
    "#         count2=40\n",
    "#     elif result[0][1]==\"LA\" and result[1][1]==\"LC\":\n",
    "#         count2=70\n",
    "#     elif result[0][1]==\"LA\" and result[1][1]==\"LD\":\n",
    "#         count2=100\n",
    "#     elif result[0][1]==\"LB\" and result[1][1]==\"LA\":\n",
    "#         count2=40\n",
    "#     elif result[0][1]==\"LB\" and result[1][1]==\"LB\":\n",
    "#         count2=10\n",
    "#     elif result[0][1]==\"LB\" and result[1][1]==\"LC\":\n",
    "#         count2=40\n",
    "#     elif result[0][1]==\"LB\" and result[1][1]==\"LD\":\n",
    "#         count2=70\n",
    "#     elif result[0][1]==\"LC\" and result[1][1]==\"LA\":\n",
    "#         count2=70\n",
    "#     elif result[0][1]==\"LC\" and result[1][1]==\"LB\":\n",
    "#         count2=40\n",
    "#     elif result[0][1]==\"LC\" and result[1][1]==\"LC\":\n",
    "#         count2=10\n",
    "#     elif result[0][1]==\"LC\" and result[1][1]==\"LD\":\n",
    "#         count2=40\n",
    "#     elif result[0][1]==\"LD\" and result[1][1]==\"LA\":\n",
    "#         count2=100\n",
    "#     elif result[0][1]==\"LD\" and result[1][1]==\"LB\":\n",
    "#         count2=70\n",
    "#     elif result[0][1]==\"LD\" and result[1][1]==\"LC\":\n",
    "#         count2=40\n",
    "#     elif result[0][1]==\"LD\" and result[1][1]==\"LD\":\n",
    "#         count2=10\n",
    "    \n",
    "#     #오눈\n",
    "#     if result[0][2]==\"RA\" and result[1][2]==\"RA\":\n",
    "#         count3=10\n",
    "#     elif result[0][2]==\"RA\" and result[1][2]==\"RB\":\n",
    "#         count3=40\n",
    "#     elif result[0][2]==\"RA\" and result[1][2]==\"RC\":\n",
    "#         count3=70\n",
    "#     elif result[0][2]==\"RA\" and result[1][2]==\"RD\":\n",
    "#         count3=100\n",
    "#     elif result[0][2]==\"RB\" and result[1][2]==\"RA\":\n",
    "#         count3=40\n",
    "#     elif result[0][2]==\"RB\" and result[1][2]==\"RB\":\n",
    "#         count3=10\n",
    "#     elif result[0][2]==\"RB\" and result[1][2]==\"RC\":\n",
    "#         count3=40\n",
    "#     elif result[0][2]==\"RB\" and result[1][2]==\"RD\":\n",
    "#         count3=70\n",
    "#     elif result[0][2]==\"RC\" and result[1][2]==\"RA\":\n",
    "#         count3=70\n",
    "#     elif result[0][2]==\"RC\" and result[1][2]==\"RB\":\n",
    "#         count3=40\n",
    "#     elif result[0][2]==\"RC\" and result[1][2]==\"RC\":\n",
    "#         count3=10\n",
    "#     elif result[0][2]==\"RC\" and result[1][2]==\"RD\":\n",
    "#         count3=40\n",
    "#     elif result[0][2]==\"RD\" and result[1][2]==\"RA\":\n",
    "#         count3=100\n",
    "#     elif result[0][2]==\"RD\" and result[1][2]==\"RB\":\n",
    "#         count3=70\n",
    "#     elif result[0][2]==\"RD\" and result[1][2]==\"RC\":\n",
    "#         count3=40\n",
    "#     elif result[0][2]==\"RD\" and result[1][2]==\"RD\":\n",
    "#         count3=10\n",
    "    if result[0][4]==\"EA\" and result[1][4]==\"EA\":\n",
    "        count2=10\n",
    "    elif result[0][4]==\"EA\" and result[1][4]==\"EB\":\n",
    "        count2=40\n",
    "    elif result[0][4]==\"EA\" and result[1][4]==\"EC\":\n",
    "        count2=70\n",
    "    elif result[0][4]==\"EA\" and result[1][4]==\"ED\":\n",
    "        count2=100\n",
    "    elif result[0][4]==\"EB\" and result[1][4]==\"EA\":\n",
    "        count2=40\n",
    "    elif result[0][4]==\"EB\" and result[1][4]==\"EB\":\n",
    "        count2=10\n",
    "    elif result[0][4]==\"EB\" and result[1][4]==\"EC\":\n",
    "        count2=40\n",
    "    elif result[0][4]==\"EB\" and result[1][4]==\"ED\":\n",
    "        count2=70\n",
    "    elif result[0][4]==\"EC\" and result[1][4]==\"EA\":\n",
    "        count2=70\n",
    "    elif result[0][4]==\"EC\" and result[1][4]==\"EB\":\n",
    "        count2=40\n",
    "    elif result[0][4]==\"EC\" and result[1][4]==\"EC\":\n",
    "        count2=10\n",
    "    elif result[0][4]==\"EC\" and result[1][4]==\"ED\":\n",
    "        count2=40\n",
    "    elif result[0][4]==\"ED\" and result[1][4]==\"EA\":\n",
    "        count2=100\n",
    "    elif result[0][4]==\"ED\" and result[1][4]==\"EB\":\n",
    "        count2=70\n",
    "    elif result[0][4]==\"ED\" and result[1][4]==\"EC\":\n",
    "        count2=40\n",
    "    elif result[0][4]==\"ED\" and result[1][4]==\"ED\":\n",
    "        count2=10\n",
    "\n",
    "\n",
    "\n",
    "    #코\n",
    "#     if result[0][3]==\"NA\" and result[1][3]==\"NA\":\n",
    "#         count4=10\n",
    "#     elif result[0][3]==\"NA\" and result[1][3]==\"NB\":\n",
    "#         count4=40\n",
    "#     elif result[0][3]==\"NA\" and result[1][3]==\"NC\":\n",
    "#         count4=70\n",
    "#     elif result[0][3]==\"NA\" and result[1][3]==\"ND\":\n",
    "#         count4=100\n",
    "#     elif result[0][3]==\"NB\" and result[1][3]==\"NA\":\n",
    "#         count4=40\n",
    "#     elif result[0][3]==\"NB\" and result[1][3]==\"NB\":\n",
    "#         count4=10\n",
    "#     elif result[0][3]==\"NB\" and result[1][3]==\"NC\":\n",
    "#         count4=40\n",
    "#     elif result[0][3]==\"NB\" and result[1][3]==\"ND\":\n",
    "#         count4=70\n",
    "#     elif result[0][3]==\"NC\" and result[1][3]==\"NA\":\n",
    "#         count4=70\n",
    "#     elif result[0][3]==\"NC\" and result[1][3]==\"NB\":\n",
    "#         count4=40\n",
    "#     elif result[0][3]==\"NC\" and result[1][3]==\"NC\":\n",
    "#         count4=10\n",
    "#     elif result[0][3]==\"NC\" and result[1][3]==\"ND\":\n",
    "#         count4=40\n",
    "#     elif result[0][3]==\"ND\" and result[1][3]==\"NA\":\n",
    "#         count4=100\n",
    "#     elif result[0][3]==\"ND\" and result[1][3]==\"NB\":\n",
    "#         count4=70\n",
    "#     elif result[0][3]==\"ND\" and result[1][3]==\"NC\":\n",
    "#         count4=40\n",
    "#     elif result[0][3]==\"ND\" and result[1][3]==\"ND\":\n",
    "#         count4=10\n",
    "    if result[0][5]==\"NA\" and result[1][5]==\"NA\":\n",
    "        count3=10\n",
    "    elif result[0][5]==\"NA\" and result[1][5]==\"NB\":\n",
    "        count3=40\n",
    "    elif result[0][5]==\"NA\" and result[1][5]==\"NC\":\n",
    "        count3=70\n",
    "    elif result[0][5]==\"NA\" and result[1][5]==\"ND\":\n",
    "        count3=100\n",
    "    elif result[0][5]==\"NB\" and result[1][5]==\"NA\":\n",
    "        count3=40\n",
    "    elif result[0][5]==\"NB\" and result[1][5]==\"NB\":\n",
    "        count3=10\n",
    "    elif result[0][5]==\"NB\" and result[1][5]==\"NC\":\n",
    "        count3=40\n",
    "    elif result[0][5]==\"NB\" and result[1][5]==\"ND\":\n",
    "        count3=70\n",
    "    elif result[0][5]==\"NC\" and result[1][5]==\"NA\":\n",
    "        count3=70\n",
    "    elif result[0][5]==\"NC\" and result[1][5]==\"NB\":\n",
    "        count3=40\n",
    "    elif result[0][5]==\"NC\" and result[1][5]==\"NC\":\n",
    "        count3=10\n",
    "    elif result[0][5]==\"NC\" and result[1][5]==\"ND\":\n",
    "        count3=40\n",
    "    elif result[0][5]==\"ND\" and result[1][5]==\"NA\":\n",
    "        count3=100\n",
    "    elif result[0][5]==\"ND\" and result[1][5]==\"NB\":\n",
    "        count3=70\n",
    "    elif result[0][5]==\"ND\" and result[1][5]==\"NC\":\n",
    "        count3=40\n",
    "    elif result[0][5]==\"ND\" and result[1][5]==\"ND\":\n",
    "        count3=10\n",
    "    \n",
    "    \n",
    "    #눈꼬리\n",
    "    if result[0][3]==\"올라간 눈매\" and result[1][3]==\"내려간 눈매\":\n",
    "        count4=100\n",
    "    elif result[0][3]==\"내려간 눈매\" and result[1][3]==\"올라간 눈매\":\n",
    "        count4=100\n",
    "    else:\n",
    "        count4=10\n",
    "    \n",
    "    #점수합산\n",
    "    #before_result=count1*0.4+count2*0.125+count3*0.125+count4*0.25+count5*0.1\n",
    "    before_result=count1*0.4+count2*0.25+count3*0.25+count4*0.1\n",
    "    before_number=math.log(before_result)*21.71472409516259\n",
    "    result_number=round(before_number)\n",
    "    #순서 남자얼굴형,남자눈크기,남자코크기,남자눈매,여자얼굴형,여자눈크기,여자코크기,여자눈매,점수\n",
    "    \n",
    "    if result[0][4]==\"EA\":\n",
    "        Eye_result_m=\"상위 25%\"\n",
    "    elif result[0][4]==\"EB\":\n",
    "        Eye_result_m=\"상위 50%\"\n",
    "    elif result[0][4]==\"EC\":\n",
    "        Eye_result_m=\"하위 50%\"\n",
    "    else:\n",
    "        Eye_result_m=\"하위 25%\"\n",
    "        \n",
    "    if result[1][4]==\"EA\":\n",
    "        Eye_result_f=\"상위 25%\"\n",
    "    elif result[1][4]==\"EB\":\n",
    "        Eye_result_f=\"상위 50%\"\n",
    "    elif result[1][4]==\"EC\":\n",
    "        Eye_result_f=\"하위 50%\"\n",
    "    else:\n",
    "        Eye_result_f=\"하위 25%\"\n",
    "    \n",
    "    if result[0][5]==\"EA\":\n",
    "        Nose_result_m=\"상위 25%\"\n",
    "    elif result[0][5]==\"EB\":\n",
    "        Nose_result_m=\"상위 50%\"\n",
    "    elif result[0][5]==\"EC\":\n",
    "        Nose_result_m=\"하위 50%\"\n",
    "    else:\n",
    "        Nose_result_m=\"하위 25%\"\n",
    "        \n",
    "    if result[1][5]==\"EA\":\n",
    "        Nose_result_f=\"상위 25%\"\n",
    "    elif result[1][5]==\"EB\":\n",
    "        Nose_result_f=\"상위 50%\"\n",
    "    elif result[1][5]==\"EC\":\n",
    "        Nose_result_f=\"하위 50%\"\n",
    "    else:\n",
    "        Nose_result_f=\"하위 25%\"\n",
    "    \n",
    "    \n",
    "    \n",
    "    final_list=[result[0][0],Eye_result_m,Nose_result_m,result[0][3],result[1][0],Eye_result_f,Nose_result_m,result[1][3],result_number]\n",
    "    \n",
    "    return final_list"
   ]
  },
  {
   "cell_type": "code",
   "execution_count": 158,
   "id": "compound-facial",
   "metadata": {},
   "outputs": [
    {
     "data": {
      "text/plain": [
       "['둥근형', '상위 25%', '하위 25%', '올라간 눈매', '역삼각형', '상위 25%', '하위 25%', '올라간 눈매', 71]"
      ]
     },
     "execution_count": 158,
     "metadata": {},
     "output_type": "execute_result"
    }
   ],
   "source": [
    "g_count(\"s1.png\",\"s2.png\")  #결과값 float(숫자)"
   ]
  },
  {
   "cell_type": "code",
   "execution_count": 159,
   "id": "great-invalid",
   "metadata": {},
   "outputs": [
    {
     "data": {
      "text/plain": [
       "['역삼각형', '상위 50%', '하위 25%', '내려간 눈매', '각진형', '상위 50%', '하위 25%', '내려간 눈매', 84]"
      ]
     },
     "execution_count": 159,
     "metadata": {},
     "output_type": "execute_result"
    }
   ],
   "source": [
    "g_count(\"insung.jfif\",\"mrim.jpg\")"
   ]
  },
  {
   "cell_type": "code",
   "execution_count": 174,
   "id": "emotional-identifier",
   "metadata": {},
   "outputs": [
    {
     "data": {
      "text/plain": [
       "['각진형', '상위 50%', '하위 25%', '내려간 눈매', '각진형', '상위 25%', '하위 25%', '내려간 눈매', 81]"
      ]
     },
     "execution_count": 174,
     "metadata": {},
     "output_type": "execute_result"
    }
   ],
   "source": [
    "g_count(\"ys.jpg\",\"seo.jpg\")"
   ]
  },
  {
   "cell_type": "code",
   "execution_count": 175,
   "id": "official-consultation",
   "metadata": {},
   "outputs": [
    {
     "data": {
      "text/plain": [
       "['각진형', '상위 50%', '하위 25%', '내려간 눈매', '둥근형', '상위 50%', '하위 25%', '내려간 눈매', 71]"
      ]
     },
     "execution_count": 175,
     "metadata": {},
     "output_type": "execute_result"
    }
   ],
   "source": [
    "g_count(\"ys.jpg\",\"gain.jfif\")"
   ]
  },
  {
   "cell_type": "code",
   "execution_count": 20,
   "id": "statutory-release",
   "metadata": {},
   "outputs": [],
   "source": [
    "self=text_predict(Q)\n",
    "family=family_predict(F)\n",
    "profile=profile_predict(test_list)\n",
    "sum_num=self*0.4+family*0.4+profile*0.2"
   ]
  },
  {
   "cell_type": "code",
   "execution_count": 26,
   "id": "suited-copying",
   "metadata": {},
   "outputs": [
    {
     "name": "stdout",
     "output_type": "stream",
     "text": [
      "0.307799\n",
      "0.4602557\n",
      "0.5388518232359533\n"
     ]
    }
   ],
   "source": [
    "print(self)\n",
    "print(family)\n",
    "print(profile)"
   ]
  },
  {
   "cell_type": "code",
   "execution_count": 21,
   "id": "stable-journalism",
   "metadata": {},
   "outputs": [
    {
     "data": {
      "text/plain": [
       "0.41499225414304025"
      ]
     },
     "execution_count": 21,
     "metadata": {},
     "output_type": "execute_result"
    }
   ],
   "source": [
    "sum_num"
   ]
  },
  {
   "cell_type": "code",
   "execution_count": 22,
   "id": "velvet-jefferson",
   "metadata": {},
   "outputs": [],
   "source": [
    "result_sum=math.log(sum_num)*21.71472409516259"
   ]
  },
  {
   "cell_type": "code",
   "execution_count": 23,
   "id": "likely-rings",
   "metadata": {},
   "outputs": [
    {
     "data": {
      "text/plain": [
       "-19.09800046732663"
      ]
     },
     "execution_count": 23,
     "metadata": {},
     "output_type": "execute_result"
    }
   ],
   "source": [
    "result_sum"
   ]
  },
  {
   "cell_type": "code",
   "execution_count": 31,
   "id": "religious-organ",
   "metadata": {},
   "outputs": [],
   "source": [
    "result_sum=math.log(sum_num*100)*21.71472409516259"
   ]
  },
  {
   "cell_type": "code",
   "execution_count": 32,
   "id": "metric-provincial",
   "metadata": {},
   "outputs": [
    {
     "data": {
      "text/plain": [
       "80.90199953267337"
      ]
     },
     "execution_count": 32,
     "metadata": {},
     "output_type": "execute_result"
    }
   ],
   "source": [
    "result_sum"
   ]
  },
  {
   "cell_type": "code",
   "execution_count": 27,
   "id": "answering-aruba",
   "metadata": {},
   "outputs": [],
   "source": [
    "sum_num1=self*0.2+family*0.2+profile*0.1"
   ]
  },
  {
   "cell_type": "code",
   "execution_count": 28,
   "id": "decreased-parameter",
   "metadata": {},
   "outputs": [
    {
     "data": {
      "text/plain": [
       "10.857362047581296"
      ]
     },
     "execution_count": 28,
     "metadata": {},
     "output_type": "execute_result"
    }
   ],
   "source": [
    "21.71472409516259/2"
   ]
  },
  {
   "cell_type": "code",
   "execution_count": 35,
   "id": "received-patch",
   "metadata": {},
   "outputs": [],
   "source": [
    "result_sum1=math.log(sum_num*100)"
   ]
  },
  {
   "cell_type": "code",
   "execution_count": 36,
   "id": "mediterranean-vegetable",
   "metadata": {},
   "outputs": [
    {
     "data": {
      "text/plain": [
       "3.725674762346899"
      ]
     },
     "execution_count": 36,
     "metadata": {},
     "output_type": "execute_result"
    }
   ],
   "source": [
    "result_sum1"
   ]
  },
  {
   "cell_type": "code",
   "execution_count": 37,
   "id": "annual-sensitivity",
   "metadata": {},
   "outputs": [
    {
     "data": {
      "text/plain": [
       "65.05149978319906"
      ]
     },
     "execution_count": 37,
     "metadata": {},
     "output_type": "execute_result"
    }
   ],
   "source": [
    "math.log(8+8+4)*21.71472409516259"
   ]
  },
  {
   "cell_type": "code",
   "execution_count": 38,
   "id": "understanding-stress",
   "metadata": {},
   "outputs": [
    {
     "data": {
      "text/plain": [
       "50.00000000000001"
      ]
     },
     "execution_count": 38,
     "metadata": {},
     "output_type": "execute_result"
    }
   ],
   "source": [
    "math.log(4+4+2)*21.71472409516259"
   ]
  },
  {
   "cell_type": "code",
   "execution_count": 39,
   "id": "metric-transfer",
   "metadata": {},
   "outputs": [
    {
     "ename": "ValueError",
     "evalue": "math domain error",
     "output_type": "error",
     "traceback": [
      "\u001b[1;31m---------------------------------------------------------------------------\u001b[0m",
      "\u001b[1;31mValueError\u001b[0m                                Traceback (most recent call last)",
      "\u001b[1;32m<ipython-input-39-9999d411c17b>\u001b[0m in \u001b[0;36m<module>\u001b[1;34m\u001b[0m\n\u001b[1;32m----> 1\u001b[1;33m \u001b[0mmath\u001b[0m\u001b[1;33m.\u001b[0m\u001b[0mlog\u001b[0m\u001b[1;33m(\u001b[0m\u001b[1;36m0\u001b[0m\u001b[1;33m)\u001b[0m\u001b[1;33m*\u001b[0m\u001b[1;36m21.71472409516259\u001b[0m\u001b[1;33m\u001b[0m\u001b[1;33m\u001b[0m\u001b[0m\n\u001b[0m",
      "\u001b[1;31mValueError\u001b[0m: math domain error"
     ]
    }
   ],
   "source": [
    "math.log(0)*21.71472409516259"
   ]
  },
  {
   "cell_type": "code",
   "execution_count": null,
   "id": "respiratory-defensive",
   "metadata": {},
   "outputs": [],
   "source": [
    "for i in range(len(not_merry[\"wed_plan\"][i])):\n",
    "    if not_merry[\"wed_plan\"][i]=='a':\n",
    "            not_merry[\"wed_plan\"][i]=\"언제든지\"\n",
    "    elif not_merry[\"wed_plan\"][i]=='6m':\n",
    "            not_merry[\"wed_plan\"][i]=\"6달\"\n",
    "    elif not_merry[\"wed_plan\"][i]=='1y':\n",
    "            not_merry[\"wed_plan\"][i]=\"1년\"\n",
    "    elif not_merry[\"wed_plan\"][i]=='3m':\n",
    "            not_merry[\"wed_plan\"][i]=\"3달\"\n",
    "    elif not_merry[\"wed_plan\"][i]=='1m':\n",
    "            not_merry[\"wed_plan\"][i]=\"1달\"\n",
    "            \n",
    "# plan(결혼계획)"
   ]
  },
  {
   "cell_type": "code",
   "execution_count": null,
   "id": "christian-copyright",
   "metadata": {},
   "outputs": [],
   "source": [
    "for i in range(len(not_merry[\"marry_state\"][i])):\n",
    "    if not_merry[\"marry_state\"][i]==\"w\":\n",
    "            not_merry[\"marry_state\"][i]=\"N\"\n",
    "    elif not_merry[\"marry_state\"][i]=='r':\n",
    "            not_merry[\"marry_state\"][i]=\"Y\"\n",
    "\n",
    "# marry_state(초혼인지 재혼인지)"
   ]
  },
  {
   "cell_type": "code",
   "execution_count": null,
   "id": "twelve-physics",
   "metadata": {},
   "outputs": [],
   "source": [
    "for i in range(len(not_merry[\"mem_loc\"][i])):\n",
    "    if not_merry[\"mem_loc\"][i]=='a':\n",
    "        not_merry[\"mem_loc\"][i]=\"강원\"\n",
    "    elif not_merry[\"mem_loc\"][i]=='b':\n",
    "        not_merry[\"mem_loc\"][i]=\"경기\"\n",
    "    elif not_merry[\"mem_loc\"][i]=='c':\n",
    "        not_merry[\"mem_loc\"][i]=\"경남\"\n",
    "    elif not_merry[\"mem_loc\"][i]=='d':\n",
    "        not_merry[\"mem_loc\"][i]=\"경북\"\n",
    "    elif not_merry[\"mem_loc\"][i]=='e':\n",
    "        not_merry[\"mem_loc\"][i]=\"광주\"\n",
    "    elif not_merry[\"mem_loc\"][i]=='f':\n",
    "        not_merry[\"mem_loc\"][i]=\"대구\"\n",
    "    elif not_merry[\"mem_loc\"][i]=='g':\n",
    "        not_merry[\"mem_loc\"][i]=\"대전\"\n",
    "    elif not_merry[\"mem_loc\"][i]=='h':\n",
    "        not_merry[\"mem_loc\"][i]=\"부산\"\n",
    "    elif not_merry[\"mem_loc\"][i]=='i':\n",
    "        not_merry[\"mem_loc\"][i]=\"서울\"\n",
    "    elif not_merry[\"mem_loc\"][i]=='z':\n",
    "        not_merry[\"mem_loc\"][i]=\"세종\"\n",
    "    elif not_merry[\"mem_loc\"][i]=='j':\n",
    "        not_merry[\"mem_loc\"][i]=\"울산\"\n",
    "    elif not_merry[\"mem_loc\"][i]=='k':\n",
    "        not_merry[\"mem_loc\"][i]=\"인천\"\n",
    "    elif not_merry[\"mem_loc\"][i]=='l':\n",
    "        not_merry[\"mem_loc\"][i]=\"전남\"\n",
    "    elif not_merry[\"mem_loc\"][i]=='n':\n",
    "        not_merry[\"mem_loc\"][i]=\"전북\"\n",
    "    elif not_merry[\"mem_loc\"][i]=='m':\n",
    "        not_merry[\"mem_loc\"][i]=\"제주\"\n",
    "    elif not_merry[\"mem_loc\"][i]=='o':\n",
    "        not_merry[\"mem_loc\"][i]=\"충남\"\n",
    "    elif not_merry[\"mem_loc\"][i]=='p':\n",
    "        not_merry[\"mem_loc\"][i]=\"충북\"\n",
    "    elif not_merry[\"mem_loc\"][i]=='q':\n",
    "        not_merry[\"mem_loc\"][i]=\"해외\"\n",
    "    elif not_merry[\"mem_loc\"][i]=='y':\n",
    "        not_merry[\"mem_loc\"][i]=\"북한\""
   ]
  },
  {
   "cell_type": "code",
   "execution_count": null,
   "id": "sitting-worship",
   "metadata": {},
   "outputs": [],
   "source": [
    "for k in range(len(not_merry['mate_job'][i])):\n",
    "    if not_merry[\"mate_job\"][i]==0:\n",
    "        not_merry[\"mate_job\"][i]=\"기타\"\n",
    "    elif not_merry[\"mate_job\"][i]==1:\n",
    "        not_merry[\"mate_job\"][i]=\"경영\"\n",
    "    elif not_merry[\"mate_job\"][i]==2:\n",
    "        not_merry[\"mate_job\"][i]=\"마케팅\"\n",
    "    elif not_merry[\"mate_job\"][i]==3:\n",
    "        not_merry[\"mate_job\"][i]=\"무역\"\n",
    "    elif not_merry[\"mate_job\"][i]==4:\n",
    "        not_merry[\"mate_job\"][i]=\"유통\"\n",
    "    elif not_merry[\"mate_job\"][i]==5:\n",
    "        not_merry[\"mate_job\"][i]=\"연구/개발\"\n",
    "    elif not_merry[\"mate_job\"][i]==6:\n",
    "        not_merry[\"mate_job\"][i]=\"기계\"\n",
    "    elif not_merry[\"mate_job\"][i]==7:\n",
    "        not_merry[\"mate_job\"][i]=\"전기\"\n",
    "    elif not_merry[\"mate_job\"][i]==8:\n",
    "        not_merry[\"mate_job\"][i]=\"자동차\"\n",
    "    elif not_merry[\"mate_job\"][i]==9:\n",
    "        not_merry[\"mate_job\"][i]=\"서비스\"\n",
    "    elif not_merry[\"mate_job\"][i]==10:\n",
    "        not_merry[\"mate_job\"][i]=\"교육\"\n",
    "    elif not_merry[\"mate_job\"][i]==11:\n",
    "        not_merry[\"mate_job\"][i]=\"금융\"\n",
    "    elif not_merry[\"mate_job\"][i]==12:\n",
    "        not_merry[\"mate_job\"][i]=\"영업\"\n",
    "    elif not_merry[\"mate_job\"][i]==13:\n",
    "        not_merry[\"mate_job\"][i]=\"문화/예술\"\n",
    "    elif not_merry[\"mate_job\"][i]==14:\n",
    "        not_merry[\"mate_job\"][i]=\"방송\"\n",
    "    elif not_merry[\"mate_job\"][i]==15:\n",
    "        not_merry[\"mate_job\"][i]=\"연극/영화\"\n",
    "    elif not_merry[\"mate_job\"][i]==16:\n",
    "        not_merry[\"mate_job\"][i]=\"it\"\n",
    "    elif not_merry[\"mate_job\"][i]==17:\n",
    "        not_merry[\"mate_job\"][i]=\"인터넷\"\n",
    "    elif not_merry[\"mate_job\"][i]==18:\n",
    "        not_merry[\"mate_job\"][i]=\"디자인\"\n",
    "    elif not_merry[\"mate_job\"][i]==19:\n",
    "        not_merry[\"mate_job\"][i]=\"건설\"\n",
    "    elif not_merry[\"mate_job\"][i]==20:\n",
    "        not_merry[\"mate_job\"][i]=\"의료/보건\"\n",
    "    elif not_merry[\"mate_job\"][i]==21:\n",
    "        not_merry[\"mate_job\"][i]=\"정부행정\"\n",
    "    elif not_merry[\"mate_job\"][i]==22:\n",
    "        not_merry[\"mate_job\"][i]=\"농업\"\n",
    "    elif not_merry[\"mate_job\"][i]==23:\n",
    "        not_merry[\"mate_job\"][i]=\"자영업\"\n",
    "    elif not_merry[\"mate_job\"][i]==24:\n",
    "        not_merry[\"mate_job\"][i]=\"전문직/특수직\"\n",
    "    elif not_merry[\"mate_job\"][i]==25:\n",
    "        not_merry[\"mate_job\"][i]=\"취업준비\"\n",
    "    elif not_merry[\"mate_job\"][i]==26:\n",
    "        not_merry[\"mate_job\"][i]=\"창업준비\"\n",
    "    elif not_merry[\"mate_job\"][i]==27:\n",
    "        not_merry[\"mate_job\"][i]=\"프리랜서\"\n",
    "    elif not_merry[\"mate_job\"][i]==28:\n",
    "        not_merry[\"mate_job\"][i]=\"아르바이트\"\n",
    "    elif not_merry[\"mate_job\"][i]==29:\n",
    "        not_merry[\"mate_job\"][i]=\"학생\"\n",
    "    elif not_merry[\"mate_job\"][i]==30:\n",
    "        not_merry[\"mate_job\"][i]=\"법률\"\n",
    "    elif not_merry[\"mate_job\"][i]==31:\n",
    "        not_merry[\"mate_job\"][i]=\"공기업/기관\"\n",
    "    elif not_merry[\"mate_job\"][i]==32:\n",
    "        not_merry[\"mate_job\"][i]=\"군인/군무원\"\n",
    "    elif not_merry[\"mate_job\"][i]==33:\n",
    "        not_merry[\"mate_job\"][i]=\"스포츠\"\n",
    "    elif not_merry[\"mate_job\"][i]==34:\n",
    "        not_merry[\"mate_job\"][i]=\"사회복지\"\n",
    "    elif not_merry[\"mate_job\"][i]==35:\n",
    "        not_merry[\"mate_job\"][i]=\"운송\"\n",
    "    elif not_merry[\"mate_job\"][i]==36:\n",
    "        not_merry[\"mate_job\"][i]=\"물류/배송\"\n",
    "    elif not_merry[\"mate_job\"][i]==37:\n",
    "        not_merry[\"mate_job\"][i]=\"설치\"\n",
    "    elif not_merry[\"mate_job\"][i]==38:\n",
    "        not_merry[\"mate_job\"][i]=\"외국어/번역\"\n",
    "    elif not_merry[\"mate_job\"][i]==39:\n",
    "        not_merry[\"mate_job\"][i]=\"보안/경비/경호\"\n",
    "    elif not_merry[\"mate_job\"][i]==40:\n",
    "        not_merry[\"mate_job\"][i]=\"뷰티\"\n",
    "    elif not_merry[\"mate_job\"][i]==41:\n",
    "        not_merry[\"mate_job\"][i]=\"외식\"\n",
    "    elif not_merry[\"mate_job\"][i]==42:\n",
    "        not_merry[\"mate_job\"][i]=\"숙박\"\n",
    "    elif not_merry[\"mate_job\"][i]==43:\n",
    "        not_merry[\"mate_job\"][i]=\"조선\"\n",
    "    elif not_merry[\"mate_job\"][i]==44:\n",
    "        not_merry[\"mate_job\"][i]=\"판매\"\n",
    "    elif not_merry[\"mate_job\"][i]==45:\n",
    "        not_merry[\"mate_job\"][i]=\"증권\"\n",
    "    elif not_merry[\"mate_job\"][i]==46:\n",
    "        not_merry[\"mate_job\"][i]=\"회계/세무\"\n",
    "    elif not_merry[\"mate_job\"][i]==47:\n",
    "        not_merry[\"mate_job\"][i]=\"고객상담\"\n",
    "    elif not_merry[\"mate_job\"][i]==48:\n",
    "        not_merry[\"mate_job\"][i]=\"부동산/임대\"\n",
    "    elif not_merry[\"mate_job\"][i]==49:\n",
    "        not_merry[\"mate_job\"][i]=\"신문/잡지\"\n",
    "    elif not_merry[\"mate_job\"][i]==50:\n",
    "        not_merry[\"mate_job\"][i]=\"기획\"\n",
    "    elif not_merry[\"mate_job\"][i]==51:\n",
    "        not_merry[\"mate_job\"][i]=\"사무/관리\"\n",
    "    elif not_merry[\"mate_job\"][i]==52:\n",
    "        not_merry[\"mate_job\"][i]=\"홍보/광고\"\n",
    "    elif not_merry[\"mate_job\"][i]==53:\n",
    "        not_merry[\"mate_job\"][i]=\"정비/as\"\n",
    "    elif not_merry[\"mate_job\"][i]==54:\n",
    "        not_merry[\"mate_job\"][i]=\"미용/이용\"\n",
    "    elif not_merry[\"mate_job\"][i]==55:\n",
    "        not_merry[\"mate_job\"][i]=\"예식\"\n",
    "    elif not_merry[\"mate_job\"][i]==56:\n",
    "        not_merry[\"mate_job\"][i]=\"장례\"\n",
    "    elif not_merry[\"mate_job\"][i]==57:\n",
    "        not_merry[\"mate_job\"][i]=\"프랜차이즈\"\n",
    "    elif not_merry[\"mate_job\"][i]==58:\n",
    "        not_merry[\"mate_job\"][i]=\"여행\"\n",
    "    elif not_merry[\"mate_job\"][i]==59:\n",
    "        not_merry[\"mate_job\"][i]=\"생산/제조\"\n",
    "    elif not_merry[\"mate_job\"][i]==60:\n",
    "        not_merry[\"mate_job\"][i]=\"전자\"\n",
    "    elif not_merry[\"mate_job\"][i]==61:\n",
    "        not_merry[\"mate_job\"][i]=\"가스/수도\"\n",
    "    elif not_merry[\"mate_job\"][i]==62:\n",
    "        not_merry[\"mate_job\"][i]=\"금속/재료\"\n",
    "    elif not_merry[\"mate_job\"][i]==63:\n",
    "        not_merry[\"mate_job\"][i]=\"섬유화학\"\n",
    "    elif not_merry[\"mate_job\"][i]==64:\n",
    "        not_merry[\"mate_job\"][i]=\"석유화학\"\n",
    "    elif not_merry[\"mate_job\"][i]==65:\n",
    "        not_merry[\"mate_job\"][i]=\"정유\"\n",
    "    elif not_merry[\"mate_job\"][i]==66:\n",
    "        not_merry[\"mate_job\"][i]=\"식품공학\"\n",
    "    elif not_merry[\"mate_job\"][i]==67:\n",
    "        not_merry[\"mate_job\"][i]=\"식품가공/제조\"\n",
    "    elif not_merry[\"mate_job\"][i]==68:\n",
    "        not_merry[\"mate_job\"][i]=\"의류\"\n",
    "    elif not_merry[\"mate_job\"][i]==69:\n",
    "        not_merry[\"mate_job\"][i]=\"유아/완구\"\n",
    "    elif not_merry[\"mate_job\"][i]==70:\n",
    "        not_merry[\"mate_job\"][i]=\"투자\"\n",
    "    elif not_merry[\"mate_job\"][i]==71:\n",
    "        not_merry[\"mate_job\"][i]=\"보험\"\n",
    "    elif not_merry[\"mate_job\"][i]==72:\n",
    "        not_merry[\"mate_job\"][i]=\"공연\"\n",
    "    elif not_merry[\"mate_job\"][i]==73:\n",
    "        not_merry[\"mate_job\"][i]=\"공예\"\n",
    "    elif not_merry[\"mate_job\"][i]==74:\n",
    "        not_merry[\"mate_job\"][i]=\"도서/출판\"\n",
    "    elif not_merry[\"mate_job\"][i]==75:\n",
    "        not_merry[\"mate_job\"][i]=\"사진\"\n",
    "    elif not_merry[\"mate_job\"][i]==76:\n",
    "        not_merry[\"mate_job\"][i]=\"인쇄/인화\"\n",
    "    elif not_merry[\"mate_job\"][i]==77:\n",
    "        not_merry[\"mate_job\"][i]=\"음악/악기\"\n",
    "    elif not_merry[\"mate_job\"][i]==78:\n",
    "        not_merry[\"mate_job\"][i]=\"엔터테인먼트\"\n",
    "    elif not_merry[\"mate_job\"][i]==79:\n",
    "        not_merry[\"mate_job\"][i]=\"게임\"\n",
    "    elif not_merry[\"mate_job\"][i]==80:\n",
    "        not_merry[\"mate_job\"][i]=\"만화/웹툰\"\n",
    "    elif not_merry[\"mate_job\"][i]==81:\n",
    "        not_merry[\"mate_job\"][i]=\"통신\"\n",
    "    elif not_merry[\"mate_job\"][i]==82:\n",
    "        not_merry[\"mate_job\"][i]=\"ict\"\n",
    "    elif not_merry[\"mate_job\"][i]==83:\n",
    "        not_merry[\"mate_job\"][i]=\"반도체\"\n",
    "    elif not_merry[\"mate_job\"][i]==84:\n",
    "        not_merry[\"mate_job\"][i]=\"led/광산업\"\n",
    "    elif not_merry[\"mate_job\"][i]==85:\n",
    "        not_merry[\"mate_job\"][i]=\"환경\"\n",
    "    elif not_merry[\"mate_job\"][i]==86:\n",
    "        not_merry[\"mate_job\"][i]=\"모바일\"\n",
    "    elif not_merry[\"mate_job\"][i]==87:\n",
    "        not_merry[\"mate_job\"][i]=\"로봇\"\n",
    "    elif not_merry[\"mate_job\"][i]==88:\n",
    "        not_merry[\"mate_job\"][i]=\"나노\"\n",
    "    elif not_merry[\"mate_job\"][i]==89:\n",
    "        not_merry[\"mate_job\"][i]=\"바이오\"\n",
    "    elif not_merry[\"mate_job\"][i]==90:\n",
    "        not_merry[\"mate_job\"][i]=\"신소재\"\n",
    "    elif not_merry[\"mate_job\"][i]==91:\n",
    "        not_merry[\"mate_job\"][i]=\"신재생에너지\"\n",
    "    elif not_merry[\"mate_job\"][i]==92:\n",
    "        not_merry[\"mate_job\"][i]=\"우주/항공\"\n",
    "    elif not_merry[\"mate_job\"][i]==93:\n",
    "        not_merry[\"mate_job\"][i]=\"인테리어\"\n",
    "    elif not_merry[\"mate_job\"][i]==94:\n",
    "        not_merry[\"mate_job\"][i]=\"토목\"\n",
    "    elif not_merry[\"mate_job\"][i]==95:\n",
    "        not_merry[\"mate_job\"][i]=\"설계\"\n",
    "    elif not_merry[\"mate_job\"][i]==96:\n",
    "        not_merry[\"mate_job\"][i]=\"제약\"\n",
    "    elif not_merry[\"mate_job\"][i]==97:\n",
    "        not_merry[\"mate_job\"][i]=\"종교\"\n",
    "    elif not_merry[\"mate_job\"][i]==98:\n",
    "        not_merry[\"mate_job\"][i]=\"어업\"\n",
    "    elif not_merry[\"mate_job\"][i]==99:\n",
    "        not_merry[\"mate_job\"][i]=\"축산업\"\n",
    "    elif not_merry[\"mate_job\"][i]==100:\n",
    "        not_merry[\"mate_job\"][i]=\"임업\"\n",
    "    elif not_merry[\"mate_job\"][i]==101:\n",
    "        not_merry[\"mate_job\"][i]=\"광산업\"\n",
    "    elif not_merry[\"mate_job\"][i]==102:\n",
    "        not_merry[\"mate_job\"][i]=\"빅데이터\"\n",
    "    elif not_merry[\"mate_job\"][i]==103:\n",
    "        not_merry[\"mate_job\"][i]=\"낙농업\"\n",
    "        \n",
    "# job(직업)"
   ]
  },
  {
   "cell_type": "code",
   "execution_count": null,
   "id": "worst-brother",
   "metadata": {},
   "outputs": [],
   "source": [
    "for k in range(len(not_merry['salary'][i])):\n",
    "    if not_merry[\"salary\"][i]==2:\n",
    "        not_merry[\"salary\"][i]=\"2천대\"\n",
    "    elif not_merry[\"salary\"][i]==3:\n",
    "        not_merry[\"salary\"][i]=\"3천대\"\n",
    "    elif not_merry[\"salary\"][i]==4:\n",
    "        not_merry[\"salary\"][i]=\"4천대\"\n",
    "    elif not_merry[\"salary\"][i]==5:\n",
    "        not_merry[\"salary\"][i]=\"5천대\"\n",
    "    elif not_merry[\"salary\"][i]==6:\n",
    "        not_merry[\"salary\"][i]=\"6천대\"\n",
    "    elif not_merry[\"salary\"][i]==7:\n",
    "        not_merry[\"salary\"][i]=\"7천대\"\n",
    "    elif not_merry[\"salary\"][i]==8:\n",
    "        not_merry[\"salary\"][i]=\"8천대\"\n",
    "    elif not_merry[\"salary\"][i]==9:\n",
    "        not_merry[\"salary\"][i]=\"9천대\"\n",
    "    elif not_merry[\"salary\"][i]==10:\n",
    "        not_merry[\"salary\"][i]=\"1억/3억\"\n",
    "    elif not_merry[\"salary\"][i]==12:\n",
    "        not_merry[\"salary\"][i]=\"2천미만\"\n",
    "    elif not_merry[\"salary\"][i]==13:\n",
    "        not_merry[\"salary\"][i]=\"3억/5억\"\n",
    "    elif not_merry[\"salary\"][i]==14:\n",
    "        not_merry[\"salary\"][i]=\"5억/10억\"\n",
    "    elif not_merry[\"salary\"][i]==15:\n",
    "        not_merry[\"salary\"][i]=\"10억/20억\"\n",
    "    elif not_merry[\"salary\"][i]==16:\n",
    "        not_merry[\"salary\"][i]=\"30억이상\"\n",
    "    elif not_merry[\"salary\"][i]==18:\n",
    "        not_merry[\"salary\"][i]=\"20억/30억\"\n",
    "        \n",
    "#salary (연봉)"
   ]
  },
  {
   "cell_type": "code",
   "execution_count": null,
   "id": "international-diameter",
   "metadata": {},
   "outputs": [],
   "source": [
    "for i in range(len(not_merry[\"property\"][i])):\n",
    "    if not_merry[\"property\"][i]=='b':\n",
    "        not_merry[\"property\"][i]=\"3천미만\"\n",
    "    elif not_merry[\"property\"][i]=='c':\n",
    "        not_merry[\"property\"][i]=\"3천/7천\"\n",
    "    elif not_merry[\"property\"][i]=='d':\n",
    "        not_merry[\"property\"][i]=\"7천/1억\"\n",
    "    elif not_merry[\"property\"][i]=='e':\n",
    "        not_merry[\"property\"][i]=\"1억/3억\"\n",
    "    elif not_merry[\"property\"][i]=='f':\n",
    "        not_merry[\"property\"][i]=\"3억/5억\"\n",
    "    elif not_merry[\"property\"][i]=='g':\n",
    "        not_merry[\"property\"][i]=\"5억/10억\"\n",
    "    elif not_merry[\"property\"][i]=='h':\n",
    "        not_merry[\"property\"][i]=\"10억/20억\"\n",
    "    elif not_merry[\"property\"][i]=='i':\n",
    "        not_merry[\"property\"][i]=\"30억/50억\"\n",
    "    elif not_merry[\"property\"][i]=='j':\n",
    "        not_merry[\"property\"][i]=\"50억/100억\"\n",
    "    elif not_merry[\"property\"][i]=='k':\n",
    "        not_merry[\"property\"][i]=\"100억/300억\"\n",
    "    elif not_merry[\"property\"][i]=='l':\n",
    "        not_merry[\"property\"][i]=\"300억/500억\"\n",
    "    elif not_merry[\"property\"][i]=='n':\n",
    "        not_merry[\"property\"][i]=\"500억이상\"\n",
    "    elif not_merry[\"property\"][i]=='m':\n",
    "        not_merry[\"property\"][i]=\"20억/30억\"\n",
    "        \n",
    "#property(보유재산)"
   ]
  },
  {
   "cell_type": "code",
   "execution_count": null,
   "id": "saving-clear",
   "metadata": {},
   "outputs": [],
   "source": [
    "for i in range(len(not_merry[\"parents\"][i])):\n",
    "    if not_merry[\"parents\"][i]=='a':\n",
    "        not_merry[\"parents\"][i]=\"모두\"\n",
    "    elif not_merry[\"parents\"][i]=='b':\n",
    "        not_merry[\"parents\"][i]=\"아버지만\"\n",
    "    elif not_merry[\"parents\"][i]=='c':\n",
    "        not_merry[\"parents\"][i]=\"어머니만\"\n",
    "    elif not_merry[\"parents\"][i]=='d':\n",
    "        not_merry[\"parents\"][i]=\"작고\"\n",
    "    elif not_merry[\"parents\"][i]=='z':\n",
    "        not_merry[\"parents\"][i]=\"고아\"\n",
    "#부모님"
   ]
  },
  {
   "cell_type": "code",
   "execution_count": null,
   "id": "fiscal-latvia",
   "metadata": {},
   "outputs": [],
   "source": []
  }
 ],
 "metadata": {
  "kernelspec": {
   "display_name": "Python 3",
   "language": "python",
   "name": "python3"
  },
  "language_info": {
   "codemirror_mode": {
    "name": "ipython",
    "version": 3
   },
   "file_extension": ".py",
   "mimetype": "text/x-python",
   "name": "python",
   "nbconvert_exporter": "python",
   "pygments_lexer": "ipython3",
   "version": "3.6.12"
  }
 },
 "nbformat": 4,
 "nbformat_minor": 5
}
