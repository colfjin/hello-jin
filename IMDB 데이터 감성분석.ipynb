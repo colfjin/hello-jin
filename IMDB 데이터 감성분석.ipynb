{
 "cells": [
  {
   "cell_type": "markdown",
   "id": "least-gauge",
   "metadata": {},
   "source": [
    "IMDB 데이터 셋\n",
    "- 영어로 된 영화 리뷰에 대한 긍정(1)/부정(0) 데이터(25000개로 구성)\n",
    "- 사전에 전처리가 된 데이터 (토큰화, 인코딩)"
   ]
  },
  {
   "cell_type": "code",
   "execution_count": 1,
   "id": "unknown-panic",
   "metadata": {},
   "outputs": [],
   "source": [
    "from tensorflow.keras.datasets import imdb\n",
    "\n",
    "#학습에 사용할 단어의 수(특징의 수)\n",
    "max_features=10000\n",
    "\n",
    "(X_train, y_train), (X_test, y_test)= imdb.load_data(num_words=max_features)"
   ]
  },
  {
   "cell_type": "code",
   "execution_count": 2,
   "id": "still-iraqi",
   "metadata": {},
   "outputs": [
    {
     "data": {
      "text/plain": [
       "((25000,), (25000,), (25000,), (25000,))"
      ]
     },
     "execution_count": 2,
     "metadata": {},
     "output_type": "execute_result"
    }
   ],
   "source": [
    "X_train.shape, y_train.shape, X_test.shape, y_test.shape"
   ]
  },
  {
   "cell_type": "code",
   "execution_count": 3,
   "id": "silent-interpretation",
   "metadata": {},
   "outputs": [],
   "source": [
    "#초기화 설정\n",
    "import numpy as np\n",
    "import tensorflow as tf\n",
    "\n",
    "seed=9\n",
    "np.random.seed(seed)\n",
    "tf.random.set_seed(seed)"
   ]
  },
  {
   "cell_type": "code",
   "execution_count": 4,
   "id": "alpha-jenny",
   "metadata": {},
   "outputs": [
    {
     "data": {
      "text/plain": [
       "array([1, 0], dtype=int64)"
      ]
     },
     "execution_count": 4,
     "metadata": {},
     "output_type": "execute_result"
    }
   ],
   "source": [
    "import pandas as pd\n",
    "pd.Series(y_train).unique()"
   ]
  },
  {
   "cell_type": "code",
   "execution_count": 5,
   "id": "coastal-convert",
   "metadata": {},
   "outputs": [
    {
     "name": "stdout",
     "output_type": "stream",
     "text": [
      "[1, 14, 22, 16, 43, 530, 973, 1622, 1385, 65, 458, 4468, 66, 3941, 4, 173, 36, 256, 5, 25, 100, 43, 838, 112, 50, 670, 2, 9, 35, 480, 284, 5, 150, 4, 172, 112, 167, 2, 336, 385, 39, 4, 172, 4536, 1111, 17, 546, 38, 13, 447, 4, 192, 50, 16, 6, 147, 2025, 19, 14, 22, 4, 1920, 4613, 469, 4, 22, 71, 87, 12, 16, 43, 530, 38, 76, 15, 13, 1247, 4, 22, 17, 515, 17, 12, 16, 626, 18, 2, 5, 62, 386, 12, 8, 316, 8, 106, 5, 4, 2223, 5244, 16, 480, 66, 3785, 33, 4, 130, 12, 16, 38, 619, 5, 25, 124, 51, 36, 135, 48, 25, 1415, 33, 6, 22, 12, 215, 28, 77, 52, 5, 14, 407, 16, 82, 2, 8, 4, 107, 117, 5952, 15, 256, 4, 2, 7, 3766, 5, 723, 36, 71, 43, 530, 476, 26, 400, 317, 46, 7, 4, 2, 1029, 13, 104, 88, 4, 381, 15, 297, 98, 32, 2071, 56, 26, 141, 6, 194, 7486, 18, 4, 226, 22, 21, 134, 476, 26, 480, 5, 144, 30, 5535, 18, 51, 36, 28, 224, 92, 25, 104, 4, 226, 65, 16, 38, 1334, 88, 12, 16, 283, 5, 16, 4472, 113, 103, 32, 15, 16, 5345, 19, 178, 32]\n",
      "1\n"
     ]
    }
   ],
   "source": [
    "# 첫 번째 응답의 인덱스\n",
    "print(X_train[0])\n",
    "print(y_train[0])"
   ]
  },
  {
   "cell_type": "code",
   "execution_count": 6,
   "id": "common-nickel",
   "metadata": {},
   "outputs": [
    {
     "data": {
      "text/plain": [
       "1    12500\n",
       "0    12500\n",
       "dtype: int64"
      ]
     },
     "execution_count": 6,
     "metadata": {},
     "output_type": "execute_result"
    }
   ],
   "source": [
    "# y의 라벨의 개수\n",
    "pd.Series(y_train).value_counts()"
   ]
  },
  {
   "cell_type": "code",
   "execution_count": 7,
   "id": "finite-religion",
   "metadata": {},
   "outputs": [],
   "source": [
    "from tensorflow.keras.preprocessing import sequence\n",
    "# 신경망에 텍스트 데이터 넣기 위해 같은 길이로 잘라줌\n",
    "# 사용할 문자의 수(댓글의 길이)\n",
    "len_word=500\n",
    "\n",
    "#댓글을 len_word 길이로 잘라줌\n",
    "X_train_seq = sequence.pad_sequences(X_train,maxlen=len_word)\n",
    "X_test_seq = sequence.pad_sequences(X_test,maxlen=len_word)"
   ]
  },
  {
   "cell_type": "code",
   "execution_count": 8,
   "id": "extreme-failing",
   "metadata": {},
   "outputs": [
    {
     "data": {
      "text/plain": [
       "((25000, 500), (25000, 500))"
      ]
     },
     "execution_count": 8,
     "metadata": {},
     "output_type": "execute_result"
    }
   ],
   "source": [
    "X_train_seq.shape, X_test_seq.shape"
   ]
  },
  {
   "cell_type": "markdown",
   "id": "baking-transportation",
   "metadata": {},
   "source": [
    "Embedding 층 : 텍스트를 다차원 벡터 공간상에 배치하는 기능(단어 사전을 만듬)"
   ]
  },
  {
   "cell_type": "code",
   "execution_count": 9,
   "id": "governing-massachusetts",
   "metadata": {},
   "outputs": [
    {
     "name": "stdout",
     "output_type": "stream",
     "text": [
      "Model: \"sequential\"\n",
      "_________________________________________________________________\n",
      "Layer (type)                 Output Shape              Param #   \n",
      "=================================================================\n",
      "embedding (Embedding)        (None, 500, 32)           320000    \n",
      "_________________________________________________________________\n",
      "flatten (Flatten)            (None, 16000)             0         \n",
      "_________________________________________________________________\n",
      "dense (Dense)                (None, 32)                512032    \n",
      "_________________________________________________________________\n",
      "dense_1 (Dense)              (None, 1)                 33        \n",
      "=================================================================\n",
      "Total params: 832,065\n",
      "Trainable params: 832,065\n",
      "Non-trainable params: 0\n",
      "_________________________________________________________________\n"
     ]
    }
   ],
   "source": [
    "from tensorflow.keras.models import Sequential\n",
    "from tensorflow.keras.layers import Dense,Dropout,Embedding,Flatten\n",
    "\n",
    "model=Sequential()\n",
    "\n",
    "#Embedding(단어사전의 크기(전체단어수,출력수),\n",
    "#          embedding차원(단어가 몇개의 단어와 연결되는지 설정), \n",
    "#          입력문자수(입력크기))\n",
    "model.add(Embedding(max_features,32,input_length=len_word))\n",
    "\n",
    "model.add(Flatten())\n",
    "\n",
    "model.add(Dense(32,activation=\"relu\"))\n",
    "\n",
    "model.add(Dense(1,activation=\"sigmoid\"))\n",
    "\n",
    "model.summary()"
   ]
  },
  {
   "cell_type": "code",
   "execution_count": 10,
   "id": "pointed-allocation",
   "metadata": {},
   "outputs": [],
   "source": [
    "model.compile(loss=\"binary_crossentropy\",\n",
    "             optimizer=\"adam\",\n",
    "             metrics=[\"acc\"])"
   ]
  },
  {
   "cell_type": "code",
   "execution_count": 11,
   "id": "israeli-latin",
   "metadata": {
    "scrolled": true
   },
   "outputs": [
    {
     "name": "stdout",
     "output_type": "stream",
     "text": [
      "Epoch 1/10\n",
      "WARNING:tensorflow:AutoGraph could not transform <function Model.make_train_function.<locals>.train_function at 0x0000024486048598> and will run it as-is.\n",
      "Please report this to the TensorFlow team. When filing the bug, set the verbosity to 10 (on Linux, `export AUTOGRAPH_VERBOSITY=10`) and attach the full output.\n",
      "Cause: 'arguments' object has no attribute 'posonlyargs'\n",
      "To silence this warning, decorate the function with @tf.autograph.experimental.do_not_convert\n",
      "WARNING: AutoGraph could not transform <function Model.make_train_function.<locals>.train_function at 0x0000024486048598> and will run it as-is.\n",
      "Please report this to the TensorFlow team. When filing the bug, set the verbosity to 10 (on Linux, `export AUTOGRAPH_VERBOSITY=10`) and attach the full output.\n",
      "Cause: 'arguments' object has no attribute 'posonlyargs'\n",
      "To silence this warning, decorate the function with @tf.autograph.experimental.do_not_convert\n",
      "493/500 [============================>.] - ETA: 0s - loss: 0.4695 - acc: 0.7338WARNING:tensorflow:AutoGraph could not transform <function Model.make_test_function.<locals>.test_function at 0x00000244874767B8> and will run it as-is.\n",
      "Please report this to the TensorFlow team. When filing the bug, set the verbosity to 10 (on Linux, `export AUTOGRAPH_VERBOSITY=10`) and attach the full output.\n",
      "Cause: 'arguments' object has no attribute 'posonlyargs'\n",
      "To silence this warning, decorate the function with @tf.autograph.experimental.do_not_convert\n",
      "WARNING: AutoGraph could not transform <function Model.make_test_function.<locals>.test_function at 0x00000244874767B8> and will run it as-is.\n",
      "Please report this to the TensorFlow team. When filing the bug, set the verbosity to 10 (on Linux, `export AUTOGRAPH_VERBOSITY=10`) and attach the full output.\n",
      "Cause: 'arguments' object has no attribute 'posonlyargs'\n",
      "To silence this warning, decorate the function with @tf.autograph.experimental.do_not_convert\n",
      "500/500 [==============================] - 4s 8ms/step - loss: 0.4667 - acc: 0.7361 - val_loss: 0.3021 - val_acc: 0.8718\n",
      "Epoch 2/10\n",
      "500/500 [==============================] - 4s 8ms/step - loss: 0.1515 - acc: 0.9446 - val_loss: 0.3183 - val_acc: 0.8703\n",
      "Epoch 3/10\n",
      "500/500 [==============================] - 4s 8ms/step - loss: 0.0321 - acc: 0.9933 - val_loss: 0.4197 - val_acc: 0.8602\n",
      "Epoch 4/10\n",
      "500/500 [==============================] - 4s 8ms/step - loss: 0.0053 - acc: 0.9994 - val_loss: 0.4568 - val_acc: 0.8657\n",
      "Epoch 5/10\n",
      "500/500 [==============================] - 4s 8ms/step - loss: 0.0012 - acc: 1.0000 - val_loss: 0.4938 - val_acc: 0.8669\n",
      "Epoch 6/10\n",
      "500/500 [==============================] - 4s 8ms/step - loss: 5.4532e-04 - acc: 1.0000 - val_loss: 0.5176 - val_acc: 0.8691\n",
      "Epoch 7/10\n",
      "500/500 [==============================] - 4s 8ms/step - loss: 3.1999e-04 - acc: 1.0000 - val_loss: 0.5397 - val_acc: 0.8702\n",
      "Epoch 8/10\n",
      "500/500 [==============================] - 4s 8ms/step - loss: 2.0326e-04 - acc: 1.0000 - val_loss: 0.5596 - val_acc: 0.8705\n",
      "Epoch 9/10\n",
      "500/500 [==============================] - 4s 8ms/step - loss: 1.3765e-04 - acc: 1.0000 - val_loss: 0.5781 - val_acc: 0.8702\n",
      "Epoch 10/10\n",
      "500/500 [==============================] - 4s 8ms/step - loss: 9.3924e-05 - acc: 1.0000 - val_loss: 0.5953 - val_acc: 0.8709\n"
     ]
    }
   ],
   "source": [
    "h=model.fit(X_train_seq,y_train,epochs=10,batch_size=50,\n",
    "           validation_data=(X_test_seq,y_test))"
   ]
  },
  {
   "cell_type": "code",
   "execution_count": 12,
   "id": "universal-comparison",
   "metadata": {},
   "outputs": [
    {
     "data": {
      "text/plain": [
       "<matplotlib.legend.Legend at 0x2448ba9c4e0>"
      ]
     },
     "execution_count": 12,
     "metadata": {},
     "output_type": "execute_result"
    },
    {
     "data": {
      "image/png": "[encoded data removed]",
      "text/plain": [
       "<Figure size 432x288 with 1 Axes>"
      ]
     },
     "metadata": {
      "needs_background": "light"
     },
     "output_type": "display_data"
    }
   ],
   "source": [
    "import matplotlib.pyplot as plt\n",
    "epoch=range(1,11)\n",
    "\n",
    "plt.plot(epoch,h.history[\"acc\"],label=\"Train acc\")\n",
    "plt.plot(epoch,h.history[\"val_acc\"],label=\"Test acc\")\n",
    "plt.legend()"
   ]
  },
  {
   "cell_type": "code",
   "execution_count": 14,
   "id": "universal-muslim",
   "metadata": {},
   "outputs": [
    {
     "name": "stdout",
     "output_type": "stream",
     "text": [
      "Model: \"sequential_1\"\n",
      "_________________________________________________________________\n",
      "Layer (type)                 Output Shape              Param #   \n",
      "=================================================================\n",
      "embedding_1 (Embedding)      (None, 500, 32)           320000    \n",
      "_________________________________________________________________\n",
      "simple_rnn (SimpleRNN)       (None, 32)                2080      \n",
      "_________________________________________________________________\n",
      "dense_2 (Dense)              (None, 32)                1056      \n",
      "_________________________________________________________________\n",
      "dense_3 (Dense)              (None, 1)                 33        \n",
      "=================================================================\n",
      "Total params: 323,169\n",
      "Trainable params: 323,169\n",
      "Non-trainable params: 0\n",
      "_________________________________________________________________\n"
     ]
    }
   ],
   "source": [
    "from tensorflow.keras.models import Sequential\n",
    "from tensorflow.keras.layers import Dense,Dropout,Embedding,Flatten,SimpleRNN\n",
    "\n",
    "model2=Sequential()\n",
    "\n",
    "#Embedding(단어사전의 크기(전체단어수,출력수),\n",
    "#          embedding차원(단어가 몇개의 단어와 연결되는지 설정), \n",
    "#          입력문자수(입력크기))\n",
    "model2.add(Embedding(max_features,32,input_length=len_word))\n",
    "\n",
    "model2.add(SimpleRNN(32))\n",
    "\n",
    "#RNN은 출력이 1차원으로 나오므로 Flatten()이 필요없다\n",
    "model2.add(Dense(32,activation=\"relu\"))\n",
    "\n",
    "model2.add(Dense(1,activation=\"sigmoid\"))\n",
    "\n",
    "model2.summary()"
   ]
  },
  {
   "cell_type": "code",
   "execution_count": 16,
   "id": "fresh-celtic",
   "metadata": {},
   "outputs": [],
   "source": [
    "model2.compile(loss=\"binary_crossentropy\",\n",
    "             optimizer=\"adam\",\n",
    "             metrics=[\"acc\"])"
   ]
  },
  {
   "cell_type": "code",
   "execution_count": 17,
   "id": "isolated-metallic",
   "metadata": {
    "scrolled": true
   },
   "outputs": [
    {
     "name": "stdout",
     "output_type": "stream",
     "text": [
      "Epoch 1/10\n",
      "WARNING:tensorflow:AutoGraph could not transform <function Model.make_train_function.<locals>.train_function at 0x00000244C4CE7620> and will run it as-is.\n",
      "Please report this to the TensorFlow team. When filing the bug, set the verbosity to 10 (on Linux, `export AUTOGRAPH_VERBOSITY=10`) and attach the full output.\n",
      "Cause: 'arguments' object has no attribute 'posonlyargs'\n",
      "To silence this warning, decorate the function with @tf.autograph.experimental.do_not_convert\n",
      "WARNING: AutoGraph could not transform <function Model.make_train_function.<locals>.train_function at 0x00000244C4CE7620> and will run it as-is.\n",
      "Please report this to the TensorFlow team. When filing the bug, set the verbosity to 10 (on Linux, `export AUTOGRAPH_VERBOSITY=10`) and attach the full output.\n",
      "Cause: 'arguments' object has no attribute 'posonlyargs'\n",
      "To silence this warning, decorate the function with @tf.autograph.experimental.do_not_convert\n",
      "500/500 [==============================] - ETA: 0s - loss: 0.6004 - acc: 0.6420WARNING:tensorflow:AutoGraph could not transform <function Model.make_test_function.<locals>.test_function at 0x00000244BDEB2048> and will run it as-is.\n",
      "Please report this to the TensorFlow team. When filing the bug, set the verbosity to 10 (on Linux, `export AUTOGRAPH_VERBOSITY=10`) and attach the full output.\n",
      "Cause: 'arguments' object has no attribute 'posonlyargs'\n",
      "To silence this warning, decorate the function with @tf.autograph.experimental.do_not_convert\n",
      "WARNING: AutoGraph could not transform <function Model.make_test_function.<locals>.test_function at 0x00000244BDEB2048> and will run it as-is.\n",
      "Please report this to the TensorFlow team. When filing the bug, set the verbosity to 10 (on Linux, `export AUTOGRAPH_VERBOSITY=10`) and attach the full output.\n",
      "Cause: 'arguments' object has no attribute 'posonlyargs'\n",
      "To silence this warning, decorate the function with @tf.autograph.experimental.do_not_convert\n",
      "500/500 [==============================] - 86s 172ms/step - loss: 0.6004 - acc: 0.6420 - val_loss: 0.4688 - val_acc: 0.7838\n",
      "Epoch 2/10\n",
      "500/500 [==============================] - 83s 166ms/step - loss: 0.4406 - acc: 0.7927 - val_loss: 0.6590 - val_acc: 0.5799\n",
      "Epoch 3/10\n",
      "500/500 [==============================] - 83s 165ms/step - loss: 0.3417 - acc: 0.8508 - val_loss: 0.4388 - val_acc: 0.8191\n",
      "Epoch 4/10\n",
      "500/500 [==============================] - 84s 168ms/step - loss: 0.1905 - acc: 0.9254 - val_loss: 0.4794 - val_acc: 0.8006\n",
      "Epoch 5/10\n",
      "500/500 [==============================] - 84s 167ms/step - loss: 0.1021 - acc: 0.9644 - val_loss: 0.6748 - val_acc: 0.7863\n",
      "Epoch 6/10\n",
      "500/500 [==============================] - 84s 167ms/step - loss: 0.0671 - acc: 0.9766 - val_loss: 0.7807 - val_acc: 0.7906\n",
      "Epoch 7/10\n",
      "500/500 [==============================] - 83s 167ms/step - loss: 0.0347 - acc: 0.9884 - val_loss: 0.8713 - val_acc: 0.8052\n",
      "Epoch 8/10\n",
      "500/500 [==============================] - 83s 166ms/step - loss: 0.0463 - acc: 0.9843 - val_loss: 1.1171 - val_acc: 0.7200\n",
      "Epoch 9/10\n",
      "500/500 [==============================] - 83s 166ms/step - loss: 0.0288 - acc: 0.9908 - val_loss: 1.0870 - val_acc: 0.7661\n",
      "Epoch 10/10\n",
      "500/500 [==============================] - 83s 166ms/step - loss: 0.0133 - acc: 0.9957 - val_loss: 1.1498 - val_acc: 0.7744\n"
     ]
    }
   ],
   "source": [
    "h2=model2.fit(X_train_seq,y_train,epochs=10,batch_size=50,\n",
    "           validation_data=(X_test_seq,y_test))"
   ]
  },
  {
   "cell_type": "code",
   "execution_count": 18,
   "id": "stopped-devon",
   "metadata": {},
   "outputs": [
    {
     "data": {
      "text/plain": [
       "<matplotlib.legend.Legend at 0x244b303ee48>"
      ]
     },
     "execution_count": 18,
     "metadata": {},
     "output_type": "execute_result"
    },
    {
     "data": {
      "image/png": "[encoded data removed]",
      "text/plain": [
       "<Figure size 432x288 with 1 Axes>"
      ]
     },
     "metadata": {
      "needs_background": "light"
     },
     "output_type": "display_data"
    }
   ],
   "source": [
    "import matplotlib.pyplot as plt\n",
    "epoch=range(1,11)\n",
    "\n",
    "plt.plot(epoch,h2.history[\"acc\"],label=\"Train acc\")\n",
    "plt.plot(epoch,h2.history[\"val_acc\"],label=\"Test acc\")\n",
    "plt.legend()"
   ]
  },
  {
   "cell_type": "code",
   "execution_count": 23,
   "id": "signed-watershed",
   "metadata": {},
   "outputs": [
    {
     "name": "stdout",
     "output_type": "stream",
     "text": [
      "Model: \"sequential_3\"\n",
      "_________________________________________________________________\n",
      "Layer (type)                 Output Shape              Param #   \n",
      "=================================================================\n",
      "embedding_3 (Embedding)      (None, 500, 32)           320000    \n",
      "_________________________________________________________________\n",
      "lstm_1 (LSTM)                (None, 32)                8320      \n",
      "_________________________________________________________________\n",
      "dropout (Dropout)            (None, 32)                0         \n",
      "_________________________________________________________________\n",
      "dense_6 (Dense)              (None, 32)                1056      \n",
      "_________________________________________________________________\n",
      "dropout_1 (Dropout)          (None, 32)                0         \n",
      "_________________________________________________________________\n",
      "dense_7 (Dense)              (None, 1)                 33        \n",
      "=================================================================\n",
      "Total params: 329,409\n",
      "Trainable params: 329,409\n",
      "Non-trainable params: 0\n",
      "_________________________________________________________________\n"
     ]
    }
   ],
   "source": [
    "from tensorflow.keras.models import Sequential\n",
    "from tensorflow.keras.layers import Dense,Dropout,Embedding,Flatten,LSTM\n",
    "model3=Sequential()\n",
    "\n",
    "#Embedding(단어사전의 크기(전체단어수,출력수),\n",
    "#          embedding차원(단어가 몇개의 단어와 연결되는지 설정), \n",
    "#          입력문자수(입력크기))\n",
    "model3.add(Embedding(max_features,32,input_length=len_word))\n",
    "\n",
    "model3.add(LSTM(32))\n",
    "#RNN은 출력이 1차원으로 나오므로 Flatten()이 필요없다\n",
    "model3.add(Dense(32,activation=\"relu\"))\n",
    "model3.add(Dense(1,activation=\"sigmoid\"))\n",
    "\n",
    "model3.summary()"
   ]
  },
  {
   "cell_type": "code",
   "execution_count": 24,
   "id": "adult-packing",
   "metadata": {},
   "outputs": [],
   "source": [
    "model3.compile(loss=\"binary_crossentropy\",\n",
    "             optimizer=\"adam\",\n",
    "             metrics=[\"acc\"])"
   ]
  },
  {
   "cell_type": "code",
   "execution_count": 25,
   "id": "honest-accountability",
   "metadata": {
    "scrolled": true
   },
   "outputs": [
    {
     "name": "stdout",
     "output_type": "stream",
     "text": [
      "Epoch 1/10\n",
      "WARNING:tensorflow:AutoGraph could not transform <function Model.make_train_function.<locals>.train_function at 0x00000244AD431488> and will run it as-is.\n",
      "Please report this to the TensorFlow team. When filing the bug, set the verbosity to 10 (on Linux, `export AUTOGRAPH_VERBOSITY=10`) and attach the full output.\n",
      "Cause: 'arguments' object has no attribute 'posonlyargs'\n",
      "To silence this warning, decorate the function with @tf.autograph.experimental.do_not_convert\n",
      "WARNING: AutoGraph could not transform <function Model.make_train_function.<locals>.train_function at 0x00000244AD431488> and will run it as-is.\n",
      "Please report this to the TensorFlow team. When filing the bug, set the verbosity to 10 (on Linux, `export AUTOGRAPH_VERBOSITY=10`) and attach the full output.\n",
      "Cause: 'arguments' object has no attribute 'posonlyargs'\n",
      "To silence this warning, decorate the function with @tf.autograph.experimental.do_not_convert\n",
      "499/500 [============================>.] - ETA: 0s - loss: 0.4313 - acc: 0.7953WARNING:tensorflow:AutoGraph could not transform <function Model.make_test_function.<locals>.test_function at 0x00000244AD609488> and will run it as-is.\n",
      "Please report this to the TensorFlow team. When filing the bug, set the verbosity to 10 (on Linux, `export AUTOGRAPH_VERBOSITY=10`) and attach the full output.\n",
      "Cause: 'arguments' object has no attribute 'posonlyargs'\n",
      "To silence this warning, decorate the function with @tf.autograph.experimental.do_not_convert\n",
      "WARNING: AutoGraph could not transform <function Model.make_test_function.<locals>.test_function at 0x00000244AD609488> and will run it as-is.\n",
      "Please report this to the TensorFlow team. When filing the bug, set the verbosity to 10 (on Linux, `export AUTOGRAPH_VERBOSITY=10`) and attach the full output.\n",
      "Cause: 'arguments' object has no attribute 'posonlyargs'\n",
      "To silence this warning, decorate the function with @tf.autograph.experimental.do_not_convert\n",
      "500/500 [==============================] - 16s 33ms/step - loss: 0.4309 - acc: 0.7955 - val_loss: 0.3113 - val_acc: 0.8687\n",
      "Epoch 2/10\n",
      "500/500 [==============================] - 16s 32ms/step - loss: 0.2467 - acc: 0.9065 - val_loss: 0.3054 - val_acc: 0.8714\n",
      "Epoch 3/10\n",
      "500/500 [==============================] - 16s 33ms/step - loss: 0.1819 - acc: 0.9343 - val_loss: 0.3110 - val_acc: 0.8704\n",
      "Epoch 4/10\n",
      "500/500 [==============================] - 16s 33ms/step - loss: 0.1585 - acc: 0.9433 - val_loss: 0.3712 - val_acc: 0.8663\n",
      "Epoch 5/10\n",
      "500/500 [==============================] - 16s 33ms/step - loss: 0.1219 - acc: 0.9586 - val_loss: 0.4835 - val_acc: 0.8593\n",
      "Epoch 6/10\n",
      "500/500 [==============================] - 16s 33ms/step - loss: 0.1171 - acc: 0.9584 - val_loss: 0.4828 - val_acc: 0.8621\n",
      "Epoch 7/10\n",
      "500/500 [==============================] - 16s 32ms/step - loss: 0.0856 - acc: 0.9708 - val_loss: 0.6442 - val_acc: 0.8521\n",
      "Epoch 8/10\n",
      "500/500 [==============================] - 16s 32ms/step - loss: 0.1441 - acc: 0.9437 - val_loss: 0.4886 - val_acc: 0.8552\n",
      "Epoch 9/10\n",
      "500/500 [==============================] - 16s 33ms/step - loss: 0.0679 - acc: 0.9774 - val_loss: 0.6262 - val_acc: 0.8529\n",
      "Epoch 10/10\n",
      "500/500 [==============================] - 16s 32ms/step - loss: 0.0487 - acc: 0.9854 - val_loss: 0.5723 - val_acc: 0.8501\n"
     ]
    }
   ],
   "source": [
    "h3=model3.fit(X_train_seq,y_train,epochs=10,batch_size=50,\n",
    "           validation_data=(X_test_seq,y_test))"
   ]
  },
  {
   "cell_type": "code",
   "execution_count": 26,
   "id": "alternate-despite",
   "metadata": {},
   "outputs": [
    {
     "data": {
      "text/plain": [
       "<matplotlib.legend.Legend at 0x244ad7348d0>"
      ]
     },
     "execution_count": 26,
     "metadata": {},
     "output_type": "execute_result"
    },
    {
     "data": {
      "image/png": "[encoded data removed]",
      "text/plain": [
       "<Figure size 432x288 with 1 Axes>"
      ]
     },
     "metadata": {
      "needs_background": "light"
     },
     "output_type": "display_data"
    }
   ],
   "source": [
    "import matplotlib.pyplot as plt\n",
    "epoch=range(1,11)\n",
    "\n",
    "plt.plot(epoch,h3.history[\"acc\"],label=\"Train acc\")\n",
    "plt.plot(epoch,h3.history[\"val_acc\"],label=\"Test acc\")\n",
    "plt.legend()"
   ]
  },
  {
   "cell_type": "code",
   "execution_count": null,
   "id": "weird-bunch",
   "metadata": {},
   "outputs": [],
   "source": []
  }
 ],
 "metadata": {
  "kernelspec": {
   "display_name": "Python 3",
   "language": "python",
   "name": "python3"
  },
  "language_info": {
   "codemirror_mode": {
    "name": "ipython",
    "version": 3
   },
   "file_extension": ".py",
   "mimetype": "text/x-python",
   "name": "python",
   "nbconvert_exporter": "python",
   "pygments_lexer": "ipython3",
   "version": "3.6.12"
  }
 },
 "nbformat": 4,
 "nbformat_minor": 5
}
